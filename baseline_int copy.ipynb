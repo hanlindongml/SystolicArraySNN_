{
 "cells": [
  {
   "cell_type": "markdown",
   "metadata": {},
   "source": [
    "## Imports"
   ]
  },
  {
   "cell_type": "code",
   "execution_count": 1,
   "metadata": {
    "ExecuteTime": {
     "end_time": "2024-11-27T08:57:36.970981Z",
     "start_time": "2024-11-27T08:57:35.762557Z"
    },
    "metadata": {}
   },
   "outputs": [],
   "source": [
    "%reset -f\n",
    "import pandas\n",
    "import configparser\n",
    "import os\n",
    "import numpy as np\n",
    "# %load_ext autoreload\n",
    "# %autoreload 2\n",
    "import sys\n",
    "# sys.path.append('/home')\n",
    "\n",
    "import logging\n",
    "# 设置日志记录器的级别为 WARNING（大于或等于WARNING的日志会显示）\n",
    "logging.basicConfig(level=logging.WARNING)\n",
    "\n",
    "from baseline_int.graph_plot.barchart import BarChart\n",
    "\n",
    "%matplotlib inline\n",
    "import matplotlib\n",
    "import re\n",
    "from itertools import product\n",
    "\n",
    "import warnings\n",
    "warnings.filterwarnings('ignore')\n",
    "\n",
    "import baseline_int.src.benchmarks.benchmarks as benchmarks\n",
    "from baseline_int.src.simulator.stats import Stats\n",
    "from baseline_int.src.simulator.simulator import Simulator\n",
    "from baseline_int.src.sweep.sweep import SimulatorSweep, check_pandas_or_run\n",
    "from baseline_int.src.utils.utils import *\n",
    "from baseline_int.src.optimizer.optimizer import optimize_for_order, get_stats_fast\n",
    "\n",
    "import dnnweaver2\n",
    "\n",
    "from collections import defaultdict\n",
    "import numpy as np\n",
    "import pandas as pd\n",
    "import matplotlib.pyplot as plt\n",
    "from matplotlib.ticker import FuncFormatter\n",
    "import math\n",
    "import tqdm\n",
    "plt.rcParams['font.family'] = ['serif']\n",
    "plt.rcParams['font.serif'] = ['Times New Roman']\n",
    "font = { 'size'   : 18}\n",
    "plt.rc('font', **font)\n",
    "color_bar1 = [\"#7CBD3D\", \"#33B7FF\", \"#FF6F66\", \"#E3A735\", \"#E96A66\", \"#457B9D\", \"#66AB9E\"]\n",
    "color_bar2 = [\"#2a9d8f\", \"#F6BD60\", \"#457b9d\", \"#F07167\", \"#BFA6A2\", \"#A1CD5A\", \"#ED7D31\"]\n",
    "color_bar4 = [\"#d6d6d7\", \"#b9b9b9\", \"#848484\", \"#50595a\", \"#383838\", \"#a31f33\"]\n",
    "# hatches = ['//', 'xx', '..', '\\\\', '|', '-', '+', 'x', 'o', 'O', '.', '*']\n",
    "hatches = ['//', 'xx', '\\\\', '-', '+', 'x', 'o', 'O', '.', '*']"
   ]
  },
  {
   "cell_type": "code",
   "execution_count": 2,
   "metadata": {
    "ExecuteTime": {
     "end_time": "2024-11-27T08:57:36.986819Z",
     "start_time": "2024-11-27T08:57:36.972698Z"
    },
    "metadata": {}
   },
   "outputs": [],
   "source": [
    "# dataframe转换到仿真器状态stats\n",
    "def df_to_stats(df):\n",
    "    stats = Stats()\n",
    "    stats.total_cycles = float(df['Cycles'])\n",
    "    stats.ptb_cycles = float(df['PTB-Cycles'])\n",
    "    stats.ps5_cycles = float(df['PS5-Cycles'])\n",
    "    stats.mem_stall_cycles = float(df['Memory wait cycles'])\n",
    "    stats.reads['act'] = float(df['IBUF Read'])\n",
    "    stats.reads['out'] = float(df['OBUF Read'])\n",
    "    stats.reads['wgt'] = float(df['WBUF Read'])\n",
    "    stats.reads['dram'] = float(df['DRAM Read'])\n",
    "    stats.writes['act'] = float(df['IBUF Write'])\n",
    "    stats.writes['out'] = float(df['OBUF Write'])\n",
    "    stats.writes['wgt'] = float(df['WBUF Write'])\n",
    "    stats.writes['dram'] = float(df['DRAM Write'])\n",
    "    return stats"
   ]
  },
  {
   "cell_type": "code",
   "execution_count": 3,
   "metadata": {
    "ExecuteTime": {
     "end_time": "2024-11-27T08:57:37.002415Z",
     "start_time": "2024-11-27T08:57:36.988327Z"
    },
    "metadata": {}
   },
   "outputs": [],
   "source": [
    "results_dir = './results'\n",
    "if not os.path.exists(results_dir):\n",
    "    os.makedirs(results_dir)\n",
    "\n",
    "fig_dir = './fig'\n",
    "if not os.path.exists(fig_dir):\n",
    "    os.makedirs(fig_dir)"
   ]
  },
  {
   "cell_type": "markdown",
   "metadata": {},
   "source": [
    "### Create a simulator object using the configuration from PS4-Eyeriss (ps4_e_conf.ini)"
   ]
  },
  {
   "cell_type": "code",
   "execution_count": 4,
   "metadata": {
    "ExecuteTime": {
     "end_time": "2024-11-27T08:57:37.017924Z",
     "start_time": "2024-11-27T08:57:37.003922Z"
    },
    "metadata": {}
   },
   "outputs": [],
   "source": [
    "# 定义模拟器中需要扫描的列\n",
    "sim_sweep_columns = ['N', 'M',\n",
    "        'Max Precision (bits)', 'Min Precision (bits)',\n",
    "        'Network', 'Layer',\n",
    "        'Cycles', 'Memory wait cycles',\n",
    "        'WBUF Read', 'WBUF Write',\n",
    "        'OBUF Read', 'OBUF Write',\n",
    "        'IBUF Read', 'IBUF Write',\n",
    "        'DRAM Read', 'DRAM Write',\n",
    "        'Bandwidth (bits/cycle)',\n",
    "        'WBUF Size (bits)', 'OBUF Size (bits)', 'IBUF Size (bits)',\n",
    "        'Timesteps', 'in_sparsity_util', 'out_sparsity_util', 'TW', 'Speed']\n",
    "\n",
    "# 参数替换\n",
    "def replace_in_config_file(config_file, key, val):\n",
    "    with open(config_file, 'r') as f:\n",
    "        content = f.read()\n",
    "    content = re.sub(r'^{} = (\\d+)'.format(key), '{} = {}'.format(key, val), content, flags=re.MULTILINE)\n",
    "    with open(config_file, 'w') as f:\n",
    "        f.write(content)\n",
    "\n",
    "# 仿真过程。\n",
    "def sim(TW, N, M, Speed=True):\n",
    "    # Speed 变量控制是否对时间窗做加速\n",
    "    # BitFusion configuration file\n",
    "    config_file = 'ps5_e_conf_test.ini'\n",
    "    # replace \"a = (\\d+)\"\" in config_file to \"a = N\"\n",
    "    replace_in_config_file(config_file=config_file, key='a', val=N)  # 以a输出N，以c输出M\n",
    "    replace_in_config_file(config_file=config_file, key='c', val=M)\n",
    "\n",
    "    timesteps = 100\n",
    "\n",
    "    syn_fn = 'systolic_array_synth_snn.csv'  # 脉动阵列仿真文件\n",
    "\n",
    "    # Create simulator object\n",
    "    verbose = False  # 设置输出信息类型\n",
    "    ps5_e_sim = Simulator(config_file, verbose)  # 建立仿真器\n",
    "    # ps5_e_energy_costs = ps5_e_sim.get_energy_cost(syn_fn)  # 计算能耗\n",
    "    # print(ps5_e_sim)\n",
    "\n",
    "    ps5_e_sim_sweep_csv = os.path.join(results_dir, 'ps5-sim-sweep-test.csv')  # 扫描结果文件\n",
    "    # if os.path.exists(ps4_e_sim_sweep_csv):\n",
    "    #     os.remove(ps4_e_sim_sweep_csv)\n",
    "    if os.path.exists(ps5_e_sim_sweep_csv):  # 读取文件 或 新建\n",
    "        ps5_e_sim_sweep_df = pandas.read_csv(ps5_e_sim_sweep_csv)\n",
    "    else:\n",
    "        ps5_e_sim_sweep_df = pandas.DataFrame(columns=sim_sweep_columns)\n",
    "    print('Got BitFusion Eyeriss, Numbers')\n",
    "\n",
    "    ps5_e_results = check_pandas_or_run(ps5_e_sim, ps5_e_sim_sweep_df,\n",
    "            ps5_e_sim_sweep_csv, batch_size=timesteps, config_file=config_file, TW=TW, list_bench=benchmarks.snn_benchlist, Speed=Speed)  # 运行仿真\n",
    "    return ps5_e_results\n",
    "\n",
    "\n",
    "def generate_col_row_pairs(PE_number):\n",
    "    result = []\n",
    "    max_pow = 12  # 因为 2^12 = 4096 是最大符合要求的 PE_number\n",
    "\n",
    "    for col_exp in range(max_pow + 1):\n",
    "        for row_exp in range(max_pow + 1):\n",
    "            col_number = 2 ** col_exp\n",
    "            row_number = 2 ** row_exp\n",
    "            if col_number * row_number <= PE_number:\n",
    "                result.append([col_number, row_number])\n",
    "    \n",
    "    # sim_stop_list = [[1, 1], [1, 2], [2, 1], [2, 2], [1, 4], [1, 8], [1, 16], [1, 32], [2, 4], [2, 8], [2, 16], [4, 1], [4, 2], [4, 4], \n",
    "    #                 [4, 8], [8, 1], [8, 2], [8, 4], [16, 1], [16, 2], [32, 1], [1, 1024], [1, 2048], [1, 4096], [2, 512], [2, 1024], \n",
    "    #                 [2, 2048], [4, 256], [4, 512], [4, 1024], [8, 128], [8, 256], [8, 512], [16, 64], [16, 128], [16, 256], [32, 64], \n",
    "    #                 [32, 128], [64, 16], [64, 32], [128, 8], [128, 16], [128, 32], [256, 4], [256, 8], [256, 16], [512, 1], [512, 2], \n",
    "    #                 [512, 4], [512, 8], [1024, 1], [1024, 2], [1024, 4], [2048, 1], [2048, 2], [4096, 1]]\n",
    "    sim_stop_list = []\n",
    "    filtered_result = [elem for elem in result if elem not in sim_stop_list]\n",
    "\n",
    "    sim_append_list = [[64, 64], [128, 128], [256, 256]]\n",
    "\n",
    "    filtered_result.extend(sim_append_list)\n",
    "\n",
    "    return filtered_result"
   ]
  },
  {
   "cell_type": "code",
   "execution_count": 5,
   "metadata": {},
   "outputs": [],
   "source": [
    "def generate_col_row_pairs(PE_number):\n",
    "    result = []\n",
    "    for M in [1, 2, 4, 8, 16, 32, 64, 128, 256]:\n",
    "        for N in [1, 2, 4, 8, 16, 32, 64, 128, 256]:\n",
    "            result.append([M, N])\n",
    "    return result"
   ]
  },
  {
   "cell_type": "code",
   "execution_count": 6,
   "metadata": {
    "ExecuteTime": {
     "end_time": "2024-11-27T08:57:37.033879Z",
     "start_time": "2024-11-27T08:57:37.018881Z"
    },
    "metadata": {}
   },
   "outputs": [],
   "source": [
    "total_PE_number = 2048\n",
    "TW = 8\n",
    "col_row_combine = generate_col_row_pairs(total_PE_number)"
   ]
  },
  {
   "cell_type": "code",
   "execution_count": 7,
   "metadata": {
    "ExecuteTime": {
     "end_time": "2024-11-27T08:57:53.908399Z",
     "start_time": "2024-11-27T08:57:39.074936Z"
    }
   },
   "outputs": [
    {
     "name": "stdout",
     "output_type": "stream",
     "text": [
      "Got BitFusion Eyeriss, Numbers\n"
     ]
    },
    {
     "name": "stderr",
     "output_type": "stream",
     "text": [
      "INFO:baseline_int.src.sweep.sweep.Simulator:Simulating Benchmark: CIFAR10SNN\n",
      "INFO:baseline_int.src.sweep.sweep.Simulator:N x M = 32 x 32\n",
      "INFO:baseline_int.src.sweep.sweep.Simulator:Max Precision (bits): 8\n",
      "INFO:baseline_int.src.sweep.sweep.Simulator:Min Precision (bits): 8\n",
      "INFO:baseline_int.src.sweep.sweep.Simulator:Batch size: 100\n",
      "INFO:baseline_int.src.sweep.sweep.Simulator:Bandwidth (bits/cycle): 1024\n",
      "INFO:baseline_int.src.sweep.sweep.Simulator:Simulating Benchmark: DVS128Gesture\n",
      "INFO:baseline_int.src.sweep.sweep.Simulator:N x M = 32 x 32\n",
      "INFO:baseline_int.src.sweep.sweep.Simulator:Max Precision (bits): 8\n",
      "INFO:baseline_int.src.sweep.sweep.Simulator:Min Precision (bits): 8\n",
      "INFO:baseline_int.src.sweep.sweep.Simulator:Batch size: 100\n",
      "INFO:baseline_int.src.sweep.sweep.Simulator:Bandwidth (bits/cycle): 1024\n",
      "INFO:baseline_int.src.sweep.sweep.Simulator:Simulating Benchmark: ImageNetSNN\n",
      "INFO:baseline_int.src.sweep.sweep.Simulator:N x M = 32 x 32\n",
      "INFO:baseline_int.src.sweep.sweep.Simulator:Max Precision (bits): 8\n",
      "INFO:baseline_int.src.sweep.sweep.Simulator:Min Precision (bits): 8\n",
      "INFO:baseline_int.src.sweep.sweep.Simulator:Batch size: 100\n",
      "INFO:baseline_int.src.sweep.sweep.Simulator:Bandwidth (bits/cycle): 1024\n"
     ]
    }
   ],
   "source": [
    "sim_result = sim(TW, 32, 32)\n",
    "sim_result.to_csv('baseline_test_test.csv', index=False)"
   ]
  },
  {
   "cell_type": "code",
   "execution_count": 8,
   "metadata": {
    "metadata": {}
   },
   "outputs": [
    {
     "name": "stdout",
     "output_type": "stream",
     "text": [
      "Got BitFusion Eyeriss, Numbers\n"
     ]
    },
    {
     "name": "stderr",
     "output_type": "stream",
     "text": [
      "INFO:baseline_int.src.sweep.sweep.Simulator:Simulating Benchmark: CIFAR10SNN\n",
      "INFO:baseline_int.src.sweep.sweep.Simulator:N x M = 1 x 1\n",
      "INFO:baseline_int.src.sweep.sweep.Simulator:Max Precision (bits): 8\n",
      "INFO:baseline_int.src.sweep.sweep.Simulator:Min Precision (bits): 8\n",
      "INFO:baseline_int.src.sweep.sweep.Simulator:Batch size: 100\n",
      "INFO:baseline_int.src.sweep.sweep.Simulator:Bandwidth (bits/cycle): 1024\n",
      "INFO:baseline_int.src.sweep.sweep.Simulator:Simulating Benchmark: DVS128Gesture\n",
      "INFO:baseline_int.src.sweep.sweep.Simulator:N x M = 1 x 1\n",
      "INFO:baseline_int.src.sweep.sweep.Simulator:Max Precision (bits): 8\n",
      "INFO:baseline_int.src.sweep.sweep.Simulator:Min Precision (bits): 8\n",
      "INFO:baseline_int.src.sweep.sweep.Simulator:Batch size: 100\n",
      "INFO:baseline_int.src.sweep.sweep.Simulator:Bandwidth (bits/cycle): 1024\n",
      "INFO:baseline_int.src.sweep.sweep.Simulator:Simulating Benchmark: ImageNetSNN\n",
      "INFO:baseline_int.src.sweep.sweep.Simulator:N x M = 1 x 1\n",
      "INFO:baseline_int.src.sweep.sweep.Simulator:Max Precision (bits): 8\n",
      "INFO:baseline_int.src.sweep.sweep.Simulator:Min Precision (bits): 8\n",
      "INFO:baseline_int.src.sweep.sweep.Simulator:Batch size: 100\n",
      "INFO:baseline_int.src.sweep.sweep.Simulator:Bandwidth (bits/cycle): 1024\n",
      "  0%|          | 0/80 [00:00<?, ?it/s]"
     ]
    },
    {
     "name": "stdout",
     "output_type": "stream",
     "text": [
      "Got BitFusion Eyeriss, Numbers\n"
     ]
    },
    {
     "name": "stderr",
     "output_type": "stream",
     "text": [
      "INFO:baseline_int.src.sweep.sweep.Simulator:Simulating Benchmark: CIFAR10SNN\n",
      "INFO:baseline_int.src.sweep.sweep.Simulator:N x M = 2 x 1\n",
      "INFO:baseline_int.src.sweep.sweep.Simulator:Max Precision (bits): 8\n",
      "INFO:baseline_int.src.sweep.sweep.Simulator:Min Precision (bits): 8\n",
      "INFO:baseline_int.src.sweep.sweep.Simulator:Batch size: 100\n",
      "INFO:baseline_int.src.sweep.sweep.Simulator:Bandwidth (bits/cycle): 1024\n",
      "INFO:baseline_int.src.sweep.sweep.Simulator:Simulating Benchmark: DVS128Gesture\n",
      "INFO:baseline_int.src.sweep.sweep.Simulator:N x M = 2 x 1\n",
      "INFO:baseline_int.src.sweep.sweep.Simulator:Max Precision (bits): 8\n",
      "INFO:baseline_int.src.sweep.sweep.Simulator:Min Precision (bits): 8\n",
      "INFO:baseline_int.src.sweep.sweep.Simulator:Batch size: 100\n",
      "INFO:baseline_int.src.sweep.sweep.Simulator:Bandwidth (bits/cycle): 1024\n",
      "INFO:baseline_int.src.sweep.sweep.Simulator:Simulating Benchmark: ImageNetSNN\n",
      "INFO:baseline_int.src.sweep.sweep.Simulator:N x M = 2 x 1\n",
      "INFO:baseline_int.src.sweep.sweep.Simulator:Max Precision (bits): 8\n",
      "INFO:baseline_int.src.sweep.sweep.Simulator:Min Precision (bits): 8\n",
      "INFO:baseline_int.src.sweep.sweep.Simulator:Batch size: 100\n",
      "INFO:baseline_int.src.sweep.sweep.Simulator:Bandwidth (bits/cycle): 1024\n",
      "  1%|▏         | 1/80 [00:59<1:18:58, 59.98s/it]"
     ]
    },
    {
     "name": "stdout",
     "output_type": "stream",
     "text": [
      "Got BitFusion Eyeriss, Numbers\n"
     ]
    },
    {
     "name": "stderr",
     "output_type": "stream",
     "text": [
      "INFO:baseline_int.src.sweep.sweep.Simulator:Simulating Benchmark: CIFAR10SNN\n",
      "INFO:baseline_int.src.sweep.sweep.Simulator:N x M = 4 x 1\n",
      "INFO:baseline_int.src.sweep.sweep.Simulator:Max Precision (bits): 8\n",
      "INFO:baseline_int.src.sweep.sweep.Simulator:Min Precision (bits): 8\n",
      "INFO:baseline_int.src.sweep.sweep.Simulator:Batch size: 100\n",
      "INFO:baseline_int.src.sweep.sweep.Simulator:Bandwidth (bits/cycle): 1024\n",
      "INFO:baseline_int.src.sweep.sweep.Simulator:Simulating Benchmark: DVS128Gesture\n",
      "INFO:baseline_int.src.sweep.sweep.Simulator:N x M = 4 x 1\n",
      "INFO:baseline_int.src.sweep.sweep.Simulator:Max Precision (bits): 8\n",
      "INFO:baseline_int.src.sweep.sweep.Simulator:Min Precision (bits): 8\n",
      "INFO:baseline_int.src.sweep.sweep.Simulator:Batch size: 100\n",
      "INFO:baseline_int.src.sweep.sweep.Simulator:Bandwidth (bits/cycle): 1024\n",
      "INFO:baseline_int.src.sweep.sweep.Simulator:Simulating Benchmark: ImageNetSNN\n",
      "INFO:baseline_int.src.sweep.sweep.Simulator:N x M = 4 x 1\n",
      "INFO:baseline_int.src.sweep.sweep.Simulator:Max Precision (bits): 8\n",
      "INFO:baseline_int.src.sweep.sweep.Simulator:Min Precision (bits): 8\n",
      "INFO:baseline_int.src.sweep.sweep.Simulator:Batch size: 100\n",
      "INFO:baseline_int.src.sweep.sweep.Simulator:Bandwidth (bits/cycle): 1024\n",
      "  2%|▎         | 2/80 [01:59<1:17:37, 59.72s/it]"
     ]
    },
    {
     "name": "stdout",
     "output_type": "stream",
     "text": [
      "Got BitFusion Eyeriss, Numbers\n"
     ]
    },
    {
     "name": "stderr",
     "output_type": "stream",
     "text": [
      "INFO:baseline_int.src.sweep.sweep.Simulator:Simulating Benchmark: CIFAR10SNN\n",
      "INFO:baseline_int.src.sweep.sweep.Simulator:N x M = 8 x 1\n",
      "INFO:baseline_int.src.sweep.sweep.Simulator:Max Precision (bits): 8\n",
      "INFO:baseline_int.src.sweep.sweep.Simulator:Min Precision (bits): 8\n",
      "INFO:baseline_int.src.sweep.sweep.Simulator:Batch size: 100\n",
      "INFO:baseline_int.src.sweep.sweep.Simulator:Bandwidth (bits/cycle): 1024\n",
      "INFO:baseline_int.src.sweep.sweep.Simulator:Simulating Benchmark: DVS128Gesture\n",
      "INFO:baseline_int.src.sweep.sweep.Simulator:N x M = 8 x 1\n",
      "INFO:baseline_int.src.sweep.sweep.Simulator:Max Precision (bits): 8\n",
      "INFO:baseline_int.src.sweep.sweep.Simulator:Min Precision (bits): 8\n",
      "INFO:baseline_int.src.sweep.sweep.Simulator:Batch size: 100\n",
      "INFO:baseline_int.src.sweep.sweep.Simulator:Bandwidth (bits/cycle): 1024\n",
      "INFO:baseline_int.src.sweep.sweep.Simulator:Simulating Benchmark: ImageNetSNN\n",
      "INFO:baseline_int.src.sweep.sweep.Simulator:N x M = 8 x 1\n",
      "INFO:baseline_int.src.sweep.sweep.Simulator:Max Precision (bits): 8\n",
      "INFO:baseline_int.src.sweep.sweep.Simulator:Min Precision (bits): 8\n",
      "INFO:baseline_int.src.sweep.sweep.Simulator:Batch size: 100\n",
      "INFO:baseline_int.src.sweep.sweep.Simulator:Bandwidth (bits/cycle): 1024\n",
      "  4%|▍         | 3/80 [02:57<1:15:32, 58.87s/it]"
     ]
    },
    {
     "name": "stdout",
     "output_type": "stream",
     "text": [
      "Got BitFusion Eyeriss, Numbers\n"
     ]
    },
    {
     "name": "stderr",
     "output_type": "stream",
     "text": [
      "INFO:baseline_int.src.sweep.sweep.Simulator:Simulating Benchmark: CIFAR10SNN\n",
      "INFO:baseline_int.src.sweep.sweep.Simulator:N x M = 16 x 1\n",
      "INFO:baseline_int.src.sweep.sweep.Simulator:Max Precision (bits): 8\n",
      "INFO:baseline_int.src.sweep.sweep.Simulator:Min Precision (bits): 8\n",
      "INFO:baseline_int.src.sweep.sweep.Simulator:Batch size: 100\n",
      "INFO:baseline_int.src.sweep.sweep.Simulator:Bandwidth (bits/cycle): 1024\n",
      "INFO:baseline_int.src.sweep.sweep.Simulator:Simulating Benchmark: DVS128Gesture\n",
      "INFO:baseline_int.src.sweep.sweep.Simulator:N x M = 16 x 1\n",
      "INFO:baseline_int.src.sweep.sweep.Simulator:Max Precision (bits): 8\n",
      "INFO:baseline_int.src.sweep.sweep.Simulator:Min Precision (bits): 8\n",
      "INFO:baseline_int.src.sweep.sweep.Simulator:Batch size: 100\n",
      "INFO:baseline_int.src.sweep.sweep.Simulator:Bandwidth (bits/cycle): 1024\n",
      "INFO:baseline_int.src.sweep.sweep.Simulator:Simulating Benchmark: ImageNetSNN\n",
      "INFO:baseline_int.src.sweep.sweep.Simulator:N x M = 16 x 1\n",
      "INFO:baseline_int.src.sweep.sweep.Simulator:Max Precision (bits): 8\n",
      "INFO:baseline_int.src.sweep.sweep.Simulator:Min Precision (bits): 8\n",
      "INFO:baseline_int.src.sweep.sweep.Simulator:Batch size: 100\n",
      "INFO:baseline_int.src.sweep.sweep.Simulator:Bandwidth (bits/cycle): 1024\n",
      "  5%|▌         | 4/80 [03:54<1:13:49, 58.29s/it]"
     ]
    },
    {
     "name": "stdout",
     "output_type": "stream",
     "text": [
      "Got BitFusion Eyeriss, Numbers\n"
     ]
    },
    {
     "name": "stderr",
     "output_type": "stream",
     "text": [
      "INFO:baseline_int.src.sweep.sweep.Simulator:Simulating Benchmark: CIFAR10SNN\n",
      "INFO:baseline_int.src.sweep.sweep.Simulator:N x M = 32 x 1\n",
      "INFO:baseline_int.src.sweep.sweep.Simulator:Max Precision (bits): 8\n",
      "INFO:baseline_int.src.sweep.sweep.Simulator:Min Precision (bits): 8\n",
      "INFO:baseline_int.src.sweep.sweep.Simulator:Batch size: 100\n",
      "INFO:baseline_int.src.sweep.sweep.Simulator:Bandwidth (bits/cycle): 1024\n",
      "INFO:baseline_int.src.sweep.sweep.Simulator:Simulating Benchmark: DVS128Gesture\n",
      "INFO:baseline_int.src.sweep.sweep.Simulator:N x M = 32 x 1\n",
      "INFO:baseline_int.src.sweep.sweep.Simulator:Max Precision (bits): 8\n",
      "INFO:baseline_int.src.sweep.sweep.Simulator:Min Precision (bits): 8\n",
      "INFO:baseline_int.src.sweep.sweep.Simulator:Batch size: 100\n",
      "INFO:baseline_int.src.sweep.sweep.Simulator:Bandwidth (bits/cycle): 1024\n",
      "INFO:baseline_int.src.sweep.sweep.Simulator:Simulating Benchmark: ImageNetSNN\n",
      "INFO:baseline_int.src.sweep.sweep.Simulator:N x M = 32 x 1\n",
      "INFO:baseline_int.src.sweep.sweep.Simulator:Max Precision (bits): 8\n",
      "INFO:baseline_int.src.sweep.sweep.Simulator:Min Precision (bits): 8\n",
      "INFO:baseline_int.src.sweep.sweep.Simulator:Batch size: 100\n",
      "INFO:baseline_int.src.sweep.sweep.Simulator:Bandwidth (bits/cycle): 1024\n",
      "  6%|▋         | 5/80 [04:47<1:10:23, 56.31s/it]"
     ]
    },
    {
     "name": "stdout",
     "output_type": "stream",
     "text": [
      "Got BitFusion Eyeriss, Numbers\n"
     ]
    },
    {
     "name": "stderr",
     "output_type": "stream",
     "text": [
      "INFO:baseline_int.src.sweep.sweep.Simulator:Simulating Benchmark: CIFAR10SNN\n",
      "INFO:baseline_int.src.sweep.sweep.Simulator:N x M = 64 x 1\n",
      "INFO:baseline_int.src.sweep.sweep.Simulator:Max Precision (bits): 8\n",
      "INFO:baseline_int.src.sweep.sweep.Simulator:Min Precision (bits): 8\n",
      "INFO:baseline_int.src.sweep.sweep.Simulator:Batch size: 100\n",
      "INFO:baseline_int.src.sweep.sweep.Simulator:Bandwidth (bits/cycle): 1024\n",
      "INFO:baseline_int.src.sweep.sweep.Simulator:Simulating Benchmark: DVS128Gesture\n",
      "INFO:baseline_int.src.sweep.sweep.Simulator:N x M = 64 x 1\n",
      "INFO:baseline_int.src.sweep.sweep.Simulator:Max Precision (bits): 8\n",
      "INFO:baseline_int.src.sweep.sweep.Simulator:Min Precision (bits): 8\n",
      "INFO:baseline_int.src.sweep.sweep.Simulator:Batch size: 100\n",
      "INFO:baseline_int.src.sweep.sweep.Simulator:Bandwidth (bits/cycle): 1024\n",
      "INFO:baseline_int.src.sweep.sweep.Simulator:Simulating Benchmark: ImageNetSNN\n",
      "INFO:baseline_int.src.sweep.sweep.Simulator:N x M = 64 x 1\n",
      "INFO:baseline_int.src.sweep.sweep.Simulator:Max Precision (bits): 8\n",
      "INFO:baseline_int.src.sweep.sweep.Simulator:Min Precision (bits): 8\n",
      "INFO:baseline_int.src.sweep.sweep.Simulator:Batch size: 100\n",
      "INFO:baseline_int.src.sweep.sweep.Simulator:Bandwidth (bits/cycle): 1024\n",
      "  8%|▊         | 6/80 [05:36<1:06:22, 53.81s/it]"
     ]
    },
    {
     "name": "stdout",
     "output_type": "stream",
     "text": [
      "Got BitFusion Eyeriss, Numbers\n"
     ]
    },
    {
     "name": "stderr",
     "output_type": "stream",
     "text": [
      "INFO:baseline_int.src.sweep.sweep.Simulator:Simulating Benchmark: CIFAR10SNN\n",
      "INFO:baseline_int.src.sweep.sweep.Simulator:N x M = 128 x 1\n",
      "INFO:baseline_int.src.sweep.sweep.Simulator:Max Precision (bits): 8\n",
      "INFO:baseline_int.src.sweep.sweep.Simulator:Min Precision (bits): 8\n",
      "INFO:baseline_int.src.sweep.sweep.Simulator:Batch size: 100\n",
      "INFO:baseline_int.src.sweep.sweep.Simulator:Bandwidth (bits/cycle): 1024\n",
      "INFO:baseline_int.src.sweep.sweep.Simulator:Simulating Benchmark: DVS128Gesture\n",
      "INFO:baseline_int.src.sweep.sweep.Simulator:N x M = 128 x 1\n",
      "INFO:baseline_int.src.sweep.sweep.Simulator:Max Precision (bits): 8\n",
      "INFO:baseline_int.src.sweep.sweep.Simulator:Min Precision (bits): 8\n",
      "INFO:baseline_int.src.sweep.sweep.Simulator:Batch size: 100\n",
      "INFO:baseline_int.src.sweep.sweep.Simulator:Bandwidth (bits/cycle): 1024\n",
      "INFO:baseline_int.src.sweep.sweep.Simulator:Simulating Benchmark: ImageNetSNN\n",
      "INFO:baseline_int.src.sweep.sweep.Simulator:N x M = 128 x 1\n",
      "INFO:baseline_int.src.sweep.sweep.Simulator:Max Precision (bits): 8\n",
      "INFO:baseline_int.src.sweep.sweep.Simulator:Min Precision (bits): 8\n",
      "INFO:baseline_int.src.sweep.sweep.Simulator:Batch size: 100\n",
      "INFO:baseline_int.src.sweep.sweep.Simulator:Bandwidth (bits/cycle): 1024\n",
      "  9%|▉         | 7/80 [06:24<1:03:19, 52.05s/it]"
     ]
    },
    {
     "name": "stdout",
     "output_type": "stream",
     "text": [
      "Got BitFusion Eyeriss, Numbers\n"
     ]
    },
    {
     "name": "stderr",
     "output_type": "stream",
     "text": [
      "INFO:baseline_int.src.sweep.sweep.Simulator:Simulating Benchmark: CIFAR10SNN\n",
      "INFO:baseline_int.src.sweep.sweep.Simulator:N x M = 256 x 1\n",
      "INFO:baseline_int.src.sweep.sweep.Simulator:Max Precision (bits): 8\n",
      "INFO:baseline_int.src.sweep.sweep.Simulator:Min Precision (bits): 8\n",
      "INFO:baseline_int.src.sweep.sweep.Simulator:Batch size: 100\n",
      "INFO:baseline_int.src.sweep.sweep.Simulator:Bandwidth (bits/cycle): 1024\n",
      "INFO:baseline_int.src.sweep.sweep.Simulator:Simulating Benchmark: DVS128Gesture\n",
      "INFO:baseline_int.src.sweep.sweep.Simulator:N x M = 256 x 1\n",
      "INFO:baseline_int.src.sweep.sweep.Simulator:Max Precision (bits): 8\n",
      "INFO:baseline_int.src.sweep.sweep.Simulator:Min Precision (bits): 8\n",
      "INFO:baseline_int.src.sweep.sweep.Simulator:Batch size: 100\n",
      "INFO:baseline_int.src.sweep.sweep.Simulator:Bandwidth (bits/cycle): 1024\n",
      "INFO:baseline_int.src.sweep.sweep.Simulator:Simulating Benchmark: ImageNetSNN\n",
      "INFO:baseline_int.src.sweep.sweep.Simulator:N x M = 256 x 1\n",
      "INFO:baseline_int.src.sweep.sweep.Simulator:Max Precision (bits): 8\n",
      "INFO:baseline_int.src.sweep.sweep.Simulator:Min Precision (bits): 8\n",
      "INFO:baseline_int.src.sweep.sweep.Simulator:Batch size: 100\n",
      "INFO:baseline_int.src.sweep.sweep.Simulator:Bandwidth (bits/cycle): 1024\n",
      " 10%|█         | 8/80 [07:10<59:50, 49.86s/it]  "
     ]
    },
    {
     "name": "stdout",
     "output_type": "stream",
     "text": [
      "Got BitFusion Eyeriss, Numbers\n"
     ]
    },
    {
     "name": "stderr",
     "output_type": "stream",
     "text": [
      "INFO:baseline_int.src.sweep.sweep.Simulator:Simulating Benchmark: CIFAR10SNN\n",
      "INFO:baseline_int.src.sweep.sweep.Simulator:N x M = 1 x 2\n",
      "INFO:baseline_int.src.sweep.sweep.Simulator:Max Precision (bits): 8\n",
      "INFO:baseline_int.src.sweep.sweep.Simulator:Min Precision (bits): 8\n",
      "INFO:baseline_int.src.sweep.sweep.Simulator:Batch size: 100\n",
      "INFO:baseline_int.src.sweep.sweep.Simulator:Bandwidth (bits/cycle): 1024\n"
     ]
    },
    {
     "name": "stdout",
     "output_type": "stream",
     "text": [
      "No entry found in /root/code/baseline_int/sram/cacti-master/cacti_sweep.csv, running cacti\n",
      "Current folder: /root/code\n",
      "/root/code/baseline_int/sram/cacti-master/cacti\n",
      "Running cacti with args: ('./cacti', '-infile', 'sweep.cfg')\n",
      "No entry found in /root/code/baseline_int/sram/cacti-master/cacti_sweep.csv, running cacti\n",
      "Current folder: /root/code\n",
      "/root/code/baseline_int/sram/cacti-master/cacti\n",
      "Running cacti with args: ('./cacti', '-infile', 'sweep.cfg')\n"
     ]
    },
    {
     "name": "stderr",
     "output_type": "stream",
     "text": [
      "INFO:baseline_int.src.sweep.sweep.Simulator:Simulating Benchmark: DVS128Gesture\n",
      "INFO:baseline_int.src.sweep.sweep.Simulator:N x M = 1 x 2\n",
      "INFO:baseline_int.src.sweep.sweep.Simulator:Max Precision (bits): 8\n",
      "INFO:baseline_int.src.sweep.sweep.Simulator:Min Precision (bits): 8\n",
      "INFO:baseline_int.src.sweep.sweep.Simulator:Batch size: 100\n",
      "INFO:baseline_int.src.sweep.sweep.Simulator:Bandwidth (bits/cycle): 1024\n",
      "INFO:baseline_int.src.sweep.sweep.Simulator:Simulating Benchmark: ImageNetSNN\n",
      "INFO:baseline_int.src.sweep.sweep.Simulator:N x M = 1 x 2\n",
      "INFO:baseline_int.src.sweep.sweep.Simulator:Max Precision (bits): 8\n",
      "INFO:baseline_int.src.sweep.sweep.Simulator:Min Precision (bits): 8\n",
      "INFO:baseline_int.src.sweep.sweep.Simulator:Batch size: 100\n",
      "INFO:baseline_int.src.sweep.sweep.Simulator:Bandwidth (bits/cycle): 1024\n",
      " 11%|█▏        | 9/80 [08:11<1:03:20, 53.53s/it]"
     ]
    },
    {
     "name": "stdout",
     "output_type": "stream",
     "text": [
      "Got BitFusion Eyeriss, Numbers\n"
     ]
    },
    {
     "name": "stderr",
     "output_type": "stream",
     "text": [
      "INFO:baseline_int.src.sweep.sweep.Simulator:Simulating Benchmark: CIFAR10SNN\n",
      "INFO:baseline_int.src.sweep.sweep.Simulator:N x M = 2 x 2\n",
      "INFO:baseline_int.src.sweep.sweep.Simulator:Max Precision (bits): 8\n",
      "INFO:baseline_int.src.sweep.sweep.Simulator:Min Precision (bits): 8\n",
      "INFO:baseline_int.src.sweep.sweep.Simulator:Batch size: 100\n",
      "INFO:baseline_int.src.sweep.sweep.Simulator:Bandwidth (bits/cycle): 1024\n"
     ]
    },
    {
     "name": "stdout",
     "output_type": "stream",
     "text": [
      "No entry found in /root/code/baseline_int/sram/cacti-master/cacti_sweep.csv, running cacti\n",
      "Current folder: /root/code\n",
      "/root/code/baseline_int/sram/cacti-master/cacti\n",
      "Running cacti with args: ('./cacti', '-infile', 'sweep.cfg')\n"
     ]
    },
    {
     "name": "stderr",
     "output_type": "stream",
     "text": [
      "INFO:baseline_int.src.sweep.sweep.Simulator:Simulating Benchmark: DVS128Gesture\n",
      "INFO:baseline_int.src.sweep.sweep.Simulator:N x M = 2 x 2\n",
      "INFO:baseline_int.src.sweep.sweep.Simulator:Max Precision (bits): 8\n",
      "INFO:baseline_int.src.sweep.sweep.Simulator:Min Precision (bits): 8\n",
      "INFO:baseline_int.src.sweep.sweep.Simulator:Batch size: 100\n",
      "INFO:baseline_int.src.sweep.sweep.Simulator:Bandwidth (bits/cycle): 1024\n",
      "INFO:baseline_int.src.sweep.sweep.Simulator:Simulating Benchmark: ImageNetSNN\n",
      "INFO:baseline_int.src.sweep.sweep.Simulator:N x M = 2 x 2\n",
      "INFO:baseline_int.src.sweep.sweep.Simulator:Max Precision (bits): 8\n",
      "INFO:baseline_int.src.sweep.sweep.Simulator:Min Precision (bits): 8\n",
      "INFO:baseline_int.src.sweep.sweep.Simulator:Batch size: 100\n",
      "INFO:baseline_int.src.sweep.sweep.Simulator:Bandwidth (bits/cycle): 1024\n",
      " 12%|█▎        | 10/80 [09:14<1:05:38, 56.27s/it]"
     ]
    },
    {
     "name": "stdout",
     "output_type": "stream",
     "text": [
      "Got BitFusion Eyeriss, Numbers\n"
     ]
    },
    {
     "name": "stderr",
     "output_type": "stream",
     "text": [
      "INFO:baseline_int.src.sweep.sweep.Simulator:Simulating Benchmark: CIFAR10SNN\n",
      "INFO:baseline_int.src.sweep.sweep.Simulator:N x M = 4 x 2\n",
      "INFO:baseline_int.src.sweep.sweep.Simulator:Max Precision (bits): 8\n",
      "INFO:baseline_int.src.sweep.sweep.Simulator:Min Precision (bits): 8\n",
      "INFO:baseline_int.src.sweep.sweep.Simulator:Batch size: 100\n",
      "INFO:baseline_int.src.sweep.sweep.Simulator:Bandwidth (bits/cycle): 1024\n"
     ]
    },
    {
     "name": "stdout",
     "output_type": "stream",
     "text": [
      "No entry found in /root/code/baseline_int/sram/cacti-master/cacti_sweep.csv, running cacti\n",
      "Current folder: /root/code\n",
      "/root/code/baseline_int/sram/cacti-master/cacti\n",
      "Running cacti with args: ('./cacti', '-infile', 'sweep.cfg')\n"
     ]
    },
    {
     "name": "stderr",
     "output_type": "stream",
     "text": [
      "INFO:baseline_int.src.sweep.sweep.Simulator:Simulating Benchmark: DVS128Gesture\n",
      "INFO:baseline_int.src.sweep.sweep.Simulator:N x M = 4 x 2\n",
      "INFO:baseline_int.src.sweep.sweep.Simulator:Max Precision (bits): 8\n",
      "INFO:baseline_int.src.sweep.sweep.Simulator:Min Precision (bits): 8\n",
      "INFO:baseline_int.src.sweep.sweep.Simulator:Batch size: 100\n",
      "INFO:baseline_int.src.sweep.sweep.Simulator:Bandwidth (bits/cycle): 1024\n",
      "INFO:baseline_int.src.sweep.sweep.Simulator:Simulating Benchmark: ImageNetSNN\n",
      "INFO:baseline_int.src.sweep.sweep.Simulator:N x M = 4 x 2\n",
      "INFO:baseline_int.src.sweep.sweep.Simulator:Max Precision (bits): 8\n",
      "INFO:baseline_int.src.sweep.sweep.Simulator:Min Precision (bits): 8\n",
      "INFO:baseline_int.src.sweep.sweep.Simulator:Batch size: 100\n",
      "INFO:baseline_int.src.sweep.sweep.Simulator:Bandwidth (bits/cycle): 1024\n",
      " 14%|█▍        | 11/80 [10:15<1:06:39, 57.96s/it]"
     ]
    },
    {
     "name": "stdout",
     "output_type": "stream",
     "text": [
      "Got BitFusion Eyeriss, Numbers\n"
     ]
    },
    {
     "name": "stderr",
     "output_type": "stream",
     "text": [
      "INFO:baseline_int.src.sweep.sweep.Simulator:Simulating Benchmark: CIFAR10SNN\n",
      "INFO:baseline_int.src.sweep.sweep.Simulator:N x M = 8 x 2\n",
      "INFO:baseline_int.src.sweep.sweep.Simulator:Max Precision (bits): 8\n",
      "INFO:baseline_int.src.sweep.sweep.Simulator:Min Precision (bits): 8\n",
      "INFO:baseline_int.src.sweep.sweep.Simulator:Batch size: 100\n",
      "INFO:baseline_int.src.sweep.sweep.Simulator:Bandwidth (bits/cycle): 1024\n",
      "INFO:baseline_int.src.sweep.sweep.Simulator:Simulating Benchmark: DVS128Gesture\n",
      "INFO:baseline_int.src.sweep.sweep.Simulator:N x M = 8 x 2\n",
      "INFO:baseline_int.src.sweep.sweep.Simulator:Max Precision (bits): 8\n",
      "INFO:baseline_int.src.sweep.sweep.Simulator:Min Precision (bits): 8\n",
      "INFO:baseline_int.src.sweep.sweep.Simulator:Batch size: 100\n",
      "INFO:baseline_int.src.sweep.sweep.Simulator:Bandwidth (bits/cycle): 1024\n",
      "INFO:baseline_int.src.sweep.sweep.Simulator:Simulating Benchmark: ImageNetSNN\n",
      "INFO:baseline_int.src.sweep.sweep.Simulator:N x M = 8 x 2\n",
      "INFO:baseline_int.src.sweep.sweep.Simulator:Max Precision (bits): 8\n",
      "INFO:baseline_int.src.sweep.sweep.Simulator:Min Precision (bits): 8\n",
      "INFO:baseline_int.src.sweep.sweep.Simulator:Batch size: 100\n",
      "INFO:baseline_int.src.sweep.sweep.Simulator:Bandwidth (bits/cycle): 1024\n",
      " 15%|█▌        | 12/80 [11:16<1:06:30, 58.68s/it]"
     ]
    },
    {
     "name": "stdout",
     "output_type": "stream",
     "text": [
      "Got BitFusion Eyeriss, Numbers\n"
     ]
    },
    {
     "name": "stderr",
     "output_type": "stream",
     "text": [
      "INFO:baseline_int.src.sweep.sweep.Simulator:Simulating Benchmark: CIFAR10SNN\n",
      "INFO:baseline_int.src.sweep.sweep.Simulator:N x M = 16 x 2\n",
      "INFO:baseline_int.src.sweep.sweep.Simulator:Max Precision (bits): 8\n",
      "INFO:baseline_int.src.sweep.sweep.Simulator:Min Precision (bits): 8\n",
      "INFO:baseline_int.src.sweep.sweep.Simulator:Batch size: 100\n",
      "INFO:baseline_int.src.sweep.sweep.Simulator:Bandwidth (bits/cycle): 1024\n",
      "INFO:baseline_int.src.sweep.sweep.Simulator:Simulating Benchmark: DVS128Gesture\n",
      "INFO:baseline_int.src.sweep.sweep.Simulator:N x M = 16 x 2\n",
      "INFO:baseline_int.src.sweep.sweep.Simulator:Max Precision (bits): 8\n",
      "INFO:baseline_int.src.sweep.sweep.Simulator:Min Precision (bits): 8\n",
      "INFO:baseline_int.src.sweep.sweep.Simulator:Batch size: 100\n",
      "INFO:baseline_int.src.sweep.sweep.Simulator:Bandwidth (bits/cycle): 1024\n",
      "INFO:baseline_int.src.sweep.sweep.Simulator:Simulating Benchmark: ImageNetSNN\n",
      "INFO:baseline_int.src.sweep.sweep.Simulator:N x M = 16 x 2\n",
      "INFO:baseline_int.src.sweep.sweep.Simulator:Max Precision (bits): 8\n",
      "INFO:baseline_int.src.sweep.sweep.Simulator:Min Precision (bits): 8\n",
      "INFO:baseline_int.src.sweep.sweep.Simulator:Batch size: 100\n",
      "INFO:baseline_int.src.sweep.sweep.Simulator:Bandwidth (bits/cycle): 1024\n",
      " 16%|█▋        | 13/80 [12:15<1:05:35, 58.73s/it]"
     ]
    },
    {
     "name": "stdout",
     "output_type": "stream",
     "text": [
      "Got BitFusion Eyeriss, Numbers\n"
     ]
    },
    {
     "name": "stderr",
     "output_type": "stream",
     "text": [
      "INFO:baseline_int.src.sweep.sweep.Simulator:Simulating Benchmark: CIFAR10SNN\n",
      "INFO:baseline_int.src.sweep.sweep.Simulator:N x M = 32 x 2\n",
      "INFO:baseline_int.src.sweep.sweep.Simulator:Max Precision (bits): 8\n",
      "INFO:baseline_int.src.sweep.sweep.Simulator:Min Precision (bits): 8\n",
      "INFO:baseline_int.src.sweep.sweep.Simulator:Batch size: 100\n",
      "INFO:baseline_int.src.sweep.sweep.Simulator:Bandwidth (bits/cycle): 1024\n",
      "INFO:baseline_int.src.sweep.sweep.Simulator:Simulating Benchmark: DVS128Gesture\n",
      "INFO:baseline_int.src.sweep.sweep.Simulator:N x M = 32 x 2\n",
      "INFO:baseline_int.src.sweep.sweep.Simulator:Max Precision (bits): 8\n",
      "INFO:baseline_int.src.sweep.sweep.Simulator:Min Precision (bits): 8\n",
      "INFO:baseline_int.src.sweep.sweep.Simulator:Batch size: 100\n",
      "INFO:baseline_int.src.sweep.sweep.Simulator:Bandwidth (bits/cycle): 1024\n",
      "INFO:baseline_int.src.sweep.sweep.Simulator:Simulating Benchmark: ImageNetSNN\n",
      "INFO:baseline_int.src.sweep.sweep.Simulator:N x M = 32 x 2\n",
      "INFO:baseline_int.src.sweep.sweep.Simulator:Max Precision (bits): 8\n",
      "INFO:baseline_int.src.sweep.sweep.Simulator:Min Precision (bits): 8\n",
      "INFO:baseline_int.src.sweep.sweep.Simulator:Batch size: 100\n",
      "INFO:baseline_int.src.sweep.sweep.Simulator:Bandwidth (bits/cycle): 1024\n",
      " 18%|█▊        | 14/80 [13:09<1:03:05, 57.36s/it]"
     ]
    },
    {
     "name": "stdout",
     "output_type": "stream",
     "text": [
      "Got BitFusion Eyeriss, Numbers\n"
     ]
    },
    {
     "name": "stderr",
     "output_type": "stream",
     "text": [
      "INFO:baseline_int.src.sweep.sweep.Simulator:Simulating Benchmark: CIFAR10SNN\n",
      "INFO:baseline_int.src.sweep.sweep.Simulator:N x M = 64 x 2\n",
      "INFO:baseline_int.src.sweep.sweep.Simulator:Max Precision (bits): 8\n",
      "INFO:baseline_int.src.sweep.sweep.Simulator:Min Precision (bits): 8\n",
      "INFO:baseline_int.src.sweep.sweep.Simulator:Batch size: 100\n",
      "INFO:baseline_int.src.sweep.sweep.Simulator:Bandwidth (bits/cycle): 1024\n"
     ]
    },
    {
     "name": "stdout",
     "output_type": "stream",
     "text": [
      "No entry found in /root/code/baseline_int/sram/cacti-master/cacti_sweep.csv, running cacti\n",
      "Current folder: /root/code\n",
      "/root/code/baseline_int/sram/cacti-master/cacti\n",
      "Running cacti with args: ('./cacti', '-infile', 'sweep.cfg')\n"
     ]
    },
    {
     "name": "stderr",
     "output_type": "stream",
     "text": [
      "INFO:baseline_int.src.sweep.sweep.Simulator:Simulating Benchmark: DVS128Gesture\n",
      "INFO:baseline_int.src.sweep.sweep.Simulator:N x M = 64 x 2\n",
      "INFO:baseline_int.src.sweep.sweep.Simulator:Max Precision (bits): 8\n",
      "INFO:baseline_int.src.sweep.sweep.Simulator:Min Precision (bits): 8\n",
      "INFO:baseline_int.src.sweep.sweep.Simulator:Batch size: 100\n",
      "INFO:baseline_int.src.sweep.sweep.Simulator:Bandwidth (bits/cycle): 1024\n",
      "INFO:baseline_int.src.sweep.sweep.Simulator:Simulating Benchmark: ImageNetSNN\n",
      "INFO:baseline_int.src.sweep.sweep.Simulator:N x M = 64 x 2\n",
      "INFO:baseline_int.src.sweep.sweep.Simulator:Max Precision (bits): 8\n",
      "INFO:baseline_int.src.sweep.sweep.Simulator:Min Precision (bits): 8\n",
      "INFO:baseline_int.src.sweep.sweep.Simulator:Batch size: 100\n",
      "INFO:baseline_int.src.sweep.sweep.Simulator:Bandwidth (bits/cycle): 1024\n",
      " 19%|█▉        | 15/80 [14:01<1:00:20, 55.70s/it]"
     ]
    },
    {
     "name": "stdout",
     "output_type": "stream",
     "text": [
      "Got BitFusion Eyeriss, Numbers\n"
     ]
    },
    {
     "name": "stderr",
     "output_type": "stream",
     "text": [
      "INFO:baseline_int.src.sweep.sweep.Simulator:Simulating Benchmark: CIFAR10SNN\n",
      "INFO:baseline_int.src.sweep.sweep.Simulator:N x M = 128 x 2\n",
      "INFO:baseline_int.src.sweep.sweep.Simulator:Max Precision (bits): 8\n",
      "INFO:baseline_int.src.sweep.sweep.Simulator:Min Precision (bits): 8\n",
      "INFO:baseline_int.src.sweep.sweep.Simulator:Batch size: 100\n",
      "INFO:baseline_int.src.sweep.sweep.Simulator:Bandwidth (bits/cycle): 1024\n"
     ]
    },
    {
     "name": "stdout",
     "output_type": "stream",
     "text": [
      "No entry found in /root/code/baseline_int/sram/cacti-master/cacti_sweep.csv, running cacti\n",
      "Current folder: /root/code\n",
      "/root/code/baseline_int/sram/cacti-master/cacti\n",
      "Running cacti with args: ('./cacti', '-infile', 'sweep.cfg')\n"
     ]
    },
    {
     "name": "stderr",
     "output_type": "stream",
     "text": [
      "INFO:baseline_int.src.sweep.sweep.Simulator:Simulating Benchmark: DVS128Gesture\n",
      "INFO:baseline_int.src.sweep.sweep.Simulator:N x M = 128 x 2\n",
      "INFO:baseline_int.src.sweep.sweep.Simulator:Max Precision (bits): 8\n",
      "INFO:baseline_int.src.sweep.sweep.Simulator:Min Precision (bits): 8\n",
      "INFO:baseline_int.src.sweep.sweep.Simulator:Batch size: 100\n",
      "INFO:baseline_int.src.sweep.sweep.Simulator:Bandwidth (bits/cycle): 1024\n",
      "INFO:baseline_int.src.sweep.sweep.Simulator:Simulating Benchmark: ImageNetSNN\n",
      "INFO:baseline_int.src.sweep.sweep.Simulator:N x M = 128 x 2\n",
      "INFO:baseline_int.src.sweep.sweep.Simulator:Max Precision (bits): 8\n",
      "INFO:baseline_int.src.sweep.sweep.Simulator:Min Precision (bits): 8\n",
      "INFO:baseline_int.src.sweep.sweep.Simulator:Batch size: 100\n",
      "INFO:baseline_int.src.sweep.sweep.Simulator:Bandwidth (bits/cycle): 1024\n",
      " 20%|██        | 16/80 [14:48<56:48, 53.26s/it]  "
     ]
    },
    {
     "name": "stdout",
     "output_type": "stream",
     "text": [
      "Got BitFusion Eyeriss, Numbers\n"
     ]
    },
    {
     "name": "stderr",
     "output_type": "stream",
     "text": [
      "INFO:baseline_int.src.sweep.sweep.Simulator:Simulating Benchmark: CIFAR10SNN\n",
      "INFO:baseline_int.src.sweep.sweep.Simulator:N x M = 256 x 2\n",
      "INFO:baseline_int.src.sweep.sweep.Simulator:Max Precision (bits): 8\n",
      "INFO:baseline_int.src.sweep.sweep.Simulator:Min Precision (bits): 8\n",
      "INFO:baseline_int.src.sweep.sweep.Simulator:Batch size: 100\n",
      "INFO:baseline_int.src.sweep.sweep.Simulator:Bandwidth (bits/cycle): 1024\n"
     ]
    },
    {
     "name": "stdout",
     "output_type": "stream",
     "text": [
      "No entry found in /root/code/baseline_int/sram/cacti-master/cacti_sweep.csv, running cacti\n",
      "Current folder: /root/code\n",
      "/root/code/baseline_int/sram/cacti-master/cacti\n",
      "Running cacti with args: ('./cacti', '-infile', 'sweep.cfg')\n"
     ]
    },
    {
     "name": "stderr",
     "output_type": "stream",
     "text": [
      "INFO:baseline_int.src.sweep.sweep.Simulator:Simulating Benchmark: DVS128Gesture\n",
      "INFO:baseline_int.src.sweep.sweep.Simulator:N x M = 256 x 2\n",
      "INFO:baseline_int.src.sweep.sweep.Simulator:Max Precision (bits): 8\n",
      "INFO:baseline_int.src.sweep.sweep.Simulator:Min Precision (bits): 8\n",
      "INFO:baseline_int.src.sweep.sweep.Simulator:Batch size: 100\n",
      "INFO:baseline_int.src.sweep.sweep.Simulator:Bandwidth (bits/cycle): 1024\n",
      "INFO:baseline_int.src.sweep.sweep.Simulator:Simulating Benchmark: ImageNetSNN\n",
      "INFO:baseline_int.src.sweep.sweep.Simulator:N x M = 256 x 2\n",
      "INFO:baseline_int.src.sweep.sweep.Simulator:Max Precision (bits): 8\n",
      "INFO:baseline_int.src.sweep.sweep.Simulator:Min Precision (bits): 8\n",
      "INFO:baseline_int.src.sweep.sweep.Simulator:Batch size: 100\n",
      "INFO:baseline_int.src.sweep.sweep.Simulator:Bandwidth (bits/cycle): 1024\n",
      " 21%|██▏       | 17/80 [15:33<53:16, 50.74s/it]"
     ]
    },
    {
     "name": "stdout",
     "output_type": "stream",
     "text": [
      "Got BitFusion Eyeriss, Numbers\n"
     ]
    },
    {
     "name": "stderr",
     "output_type": "stream",
     "text": [
      "INFO:baseline_int.src.sweep.sweep.Simulator:Simulating Benchmark: CIFAR10SNN\n",
      "INFO:baseline_int.src.sweep.sweep.Simulator:N x M = 1 x 4\n",
      "INFO:baseline_int.src.sweep.sweep.Simulator:Max Precision (bits): 8\n",
      "INFO:baseline_int.src.sweep.sweep.Simulator:Min Precision (bits): 8\n",
      "INFO:baseline_int.src.sweep.sweep.Simulator:Batch size: 100\n",
      "INFO:baseline_int.src.sweep.sweep.Simulator:Bandwidth (bits/cycle): 1024\n"
     ]
    },
    {
     "name": "stdout",
     "output_type": "stream",
     "text": [
      "No entry found in /root/code/baseline_int/sram/cacti-master/cacti_sweep.csv, running cacti\n",
      "Current folder: /root/code\n",
      "/root/code/baseline_int/sram/cacti-master/cacti\n",
      "Running cacti with args: ('./cacti', '-infile', 'sweep.cfg')\n"
     ]
    },
    {
     "name": "stderr",
     "output_type": "stream",
     "text": [
      "INFO:baseline_int.src.sweep.sweep.Simulator:Simulating Benchmark: DVS128Gesture\n",
      "INFO:baseline_int.src.sweep.sweep.Simulator:N x M = 1 x 4\n",
      "INFO:baseline_int.src.sweep.sweep.Simulator:Max Precision (bits): 8\n",
      "INFO:baseline_int.src.sweep.sweep.Simulator:Min Precision (bits): 8\n",
      "INFO:baseline_int.src.sweep.sweep.Simulator:Batch size: 100\n",
      "INFO:baseline_int.src.sweep.sweep.Simulator:Bandwidth (bits/cycle): 1024\n",
      "INFO:baseline_int.src.sweep.sweep.Simulator:Simulating Benchmark: ImageNetSNN\n",
      "INFO:baseline_int.src.sweep.sweep.Simulator:N x M = 1 x 4\n",
      "INFO:baseline_int.src.sweep.sweep.Simulator:Max Precision (bits): 8\n",
      "INFO:baseline_int.src.sweep.sweep.Simulator:Min Precision (bits): 8\n",
      "INFO:baseline_int.src.sweep.sweep.Simulator:Batch size: 100\n",
      "INFO:baseline_int.src.sweep.sweep.Simulator:Bandwidth (bits/cycle): 1024\n",
      " 22%|██▎       | 18/80 [16:31<54:46, 53.01s/it]"
     ]
    },
    {
     "name": "stdout",
     "output_type": "stream",
     "text": [
      "Got BitFusion Eyeriss, Numbers\n"
     ]
    },
    {
     "name": "stderr",
     "output_type": "stream",
     "text": [
      "INFO:baseline_int.src.sweep.sweep.Simulator:Simulating Benchmark: CIFAR10SNN\n",
      "INFO:baseline_int.src.sweep.sweep.Simulator:N x M = 2 x 4\n",
      "INFO:baseline_int.src.sweep.sweep.Simulator:Max Precision (bits): 8\n",
      "INFO:baseline_int.src.sweep.sweep.Simulator:Min Precision (bits): 8\n",
      "INFO:baseline_int.src.sweep.sweep.Simulator:Batch size: 100\n",
      "INFO:baseline_int.src.sweep.sweep.Simulator:Bandwidth (bits/cycle): 1024\n",
      "INFO:baseline_int.src.sweep.sweep.Simulator:Simulating Benchmark: DVS128Gesture\n",
      "INFO:baseline_int.src.sweep.sweep.Simulator:N x M = 2 x 4\n",
      "INFO:baseline_int.src.sweep.sweep.Simulator:Max Precision (bits): 8\n",
      "INFO:baseline_int.src.sweep.sweep.Simulator:Min Precision (bits): 8\n",
      "INFO:baseline_int.src.sweep.sweep.Simulator:Batch size: 100\n",
      "INFO:baseline_int.src.sweep.sweep.Simulator:Bandwidth (bits/cycle): 1024\n",
      "INFO:baseline_int.src.sweep.sweep.Simulator:Simulating Benchmark: ImageNetSNN\n",
      "INFO:baseline_int.src.sweep.sweep.Simulator:N x M = 2 x 4\n",
      "INFO:baseline_int.src.sweep.sweep.Simulator:Max Precision (bits): 8\n",
      "INFO:baseline_int.src.sweep.sweep.Simulator:Min Precision (bits): 8\n",
      "INFO:baseline_int.src.sweep.sweep.Simulator:Batch size: 100\n",
      "INFO:baseline_int.src.sweep.sweep.Simulator:Bandwidth (bits/cycle): 1024\n",
      " 24%|██▍       | 19/80 [17:29<55:22, 54.47s/it]"
     ]
    },
    {
     "name": "stdout",
     "output_type": "stream",
     "text": [
      "Got BitFusion Eyeriss, Numbers\n"
     ]
    },
    {
     "name": "stderr",
     "output_type": "stream",
     "text": [
      "INFO:baseline_int.src.sweep.sweep.Simulator:Simulating Benchmark: CIFAR10SNN\n",
      "INFO:baseline_int.src.sweep.sweep.Simulator:N x M = 4 x 4\n",
      "INFO:baseline_int.src.sweep.sweep.Simulator:Max Precision (bits): 8\n",
      "INFO:baseline_int.src.sweep.sweep.Simulator:Min Precision (bits): 8\n",
      "INFO:baseline_int.src.sweep.sweep.Simulator:Batch size: 100\n",
      "INFO:baseline_int.src.sweep.sweep.Simulator:Bandwidth (bits/cycle): 1024\n",
      "INFO:baseline_int.src.sweep.sweep.Simulator:Simulating Benchmark: DVS128Gesture\n",
      "INFO:baseline_int.src.sweep.sweep.Simulator:N x M = 4 x 4\n",
      "INFO:baseline_int.src.sweep.sweep.Simulator:Max Precision (bits): 8\n",
      "INFO:baseline_int.src.sweep.sweep.Simulator:Min Precision (bits): 8\n",
      "INFO:baseline_int.src.sweep.sweep.Simulator:Batch size: 100\n",
      "INFO:baseline_int.src.sweep.sweep.Simulator:Bandwidth (bits/cycle): 1024\n",
      "INFO:baseline_int.src.sweep.sweep.Simulator:Simulating Benchmark: ImageNetSNN\n",
      "INFO:baseline_int.src.sweep.sweep.Simulator:N x M = 4 x 4\n",
      "INFO:baseline_int.src.sweep.sweep.Simulator:Max Precision (bits): 8\n",
      "INFO:baseline_int.src.sweep.sweep.Simulator:Min Precision (bits): 8\n",
      "INFO:baseline_int.src.sweep.sweep.Simulator:Batch size: 100\n",
      "INFO:baseline_int.src.sweep.sweep.Simulator:Bandwidth (bits/cycle): 1024\n",
      " 25%|██▌       | 20/80 [18:27<55:20, 55.34s/it]"
     ]
    },
    {
     "name": "stdout",
     "output_type": "stream",
     "text": [
      "Got BitFusion Eyeriss, Numbers\n"
     ]
    },
    {
     "name": "stderr",
     "output_type": "stream",
     "text": [
      "INFO:baseline_int.src.sweep.sweep.Simulator:Simulating Benchmark: CIFAR10SNN\n",
      "INFO:baseline_int.src.sweep.sweep.Simulator:N x M = 8 x 4\n",
      "INFO:baseline_int.src.sweep.sweep.Simulator:Max Precision (bits): 8\n",
      "INFO:baseline_int.src.sweep.sweep.Simulator:Min Precision (bits): 8\n",
      "INFO:baseline_int.src.sweep.sweep.Simulator:Batch size: 100\n",
      "INFO:baseline_int.src.sweep.sweep.Simulator:Bandwidth (bits/cycle): 1024\n",
      "INFO:baseline_int.src.sweep.sweep.Simulator:Simulating Benchmark: DVS128Gesture\n",
      "INFO:baseline_int.src.sweep.sweep.Simulator:N x M = 8 x 4\n",
      "INFO:baseline_int.src.sweep.sweep.Simulator:Max Precision (bits): 8\n",
      "INFO:baseline_int.src.sweep.sweep.Simulator:Min Precision (bits): 8\n",
      "INFO:baseline_int.src.sweep.sweep.Simulator:Batch size: 100\n",
      "INFO:baseline_int.src.sweep.sweep.Simulator:Bandwidth (bits/cycle): 1024\n",
      "INFO:baseline_int.src.sweep.sweep.Simulator:Simulating Benchmark: ImageNetSNN\n",
      "INFO:baseline_int.src.sweep.sweep.Simulator:N x M = 8 x 4\n",
      "INFO:baseline_int.src.sweep.sweep.Simulator:Max Precision (bits): 8\n",
      "INFO:baseline_int.src.sweep.sweep.Simulator:Min Precision (bits): 8\n",
      "INFO:baseline_int.src.sweep.sweep.Simulator:Batch size: 100\n",
      "INFO:baseline_int.src.sweep.sweep.Simulator:Bandwidth (bits/cycle): 1024\n",
      " 26%|██▋       | 21/80 [19:23<54:51, 55.78s/it]"
     ]
    },
    {
     "name": "stdout",
     "output_type": "stream",
     "text": [
      "Got BitFusion Eyeriss, Numbers\n"
     ]
    },
    {
     "name": "stderr",
     "output_type": "stream",
     "text": [
      "INFO:baseline_int.src.sweep.sweep.Simulator:Simulating Benchmark: CIFAR10SNN\n",
      "INFO:baseline_int.src.sweep.sweep.Simulator:N x M = 16 x 4\n",
      "INFO:baseline_int.src.sweep.sweep.Simulator:Max Precision (bits): 8\n",
      "INFO:baseline_int.src.sweep.sweep.Simulator:Min Precision (bits): 8\n",
      "INFO:baseline_int.src.sweep.sweep.Simulator:Batch size: 100\n",
      "INFO:baseline_int.src.sweep.sweep.Simulator:Bandwidth (bits/cycle): 1024\n",
      "INFO:baseline_int.src.sweep.sweep.Simulator:Simulating Benchmark: DVS128Gesture\n",
      "INFO:baseline_int.src.sweep.sweep.Simulator:N x M = 16 x 4\n",
      "INFO:baseline_int.src.sweep.sweep.Simulator:Max Precision (bits): 8\n",
      "INFO:baseline_int.src.sweep.sweep.Simulator:Min Precision (bits): 8\n",
      "INFO:baseline_int.src.sweep.sweep.Simulator:Batch size: 100\n",
      "INFO:baseline_int.src.sweep.sweep.Simulator:Bandwidth (bits/cycle): 1024\n",
      "INFO:baseline_int.src.sweep.sweep.Simulator:Simulating Benchmark: ImageNetSNN\n",
      "INFO:baseline_int.src.sweep.sweep.Simulator:N x M = 16 x 4\n",
      "INFO:baseline_int.src.sweep.sweep.Simulator:Max Precision (bits): 8\n",
      "INFO:baseline_int.src.sweep.sweep.Simulator:Min Precision (bits): 8\n",
      "INFO:baseline_int.src.sweep.sweep.Simulator:Batch size: 100\n",
      "INFO:baseline_int.src.sweep.sweep.Simulator:Bandwidth (bits/cycle): 1024\n",
      " 28%|██▊       | 22/80 [20:19<53:44, 55.60s/it]"
     ]
    },
    {
     "name": "stdout",
     "output_type": "stream",
     "text": [
      "Got BitFusion Eyeriss, Numbers\n"
     ]
    },
    {
     "name": "stderr",
     "output_type": "stream",
     "text": [
      "INFO:baseline_int.src.sweep.sweep.Simulator:Simulating Benchmark: CIFAR10SNN\n",
      "INFO:baseline_int.src.sweep.sweep.Simulator:N x M = 32 x 4\n",
      "INFO:baseline_int.src.sweep.sweep.Simulator:Max Precision (bits): 8\n",
      "INFO:baseline_int.src.sweep.sweep.Simulator:Min Precision (bits): 8\n",
      "INFO:baseline_int.src.sweep.sweep.Simulator:Batch size: 100\n",
      "INFO:baseline_int.src.sweep.sweep.Simulator:Bandwidth (bits/cycle): 1024\n",
      "INFO:baseline_int.src.sweep.sweep.Simulator:Simulating Benchmark: DVS128Gesture\n",
      "INFO:baseline_int.src.sweep.sweep.Simulator:N x M = 32 x 4\n",
      "INFO:baseline_int.src.sweep.sweep.Simulator:Max Precision (bits): 8\n",
      "INFO:baseline_int.src.sweep.sweep.Simulator:Min Precision (bits): 8\n",
      "INFO:baseline_int.src.sweep.sweep.Simulator:Batch size: 100\n",
      "INFO:baseline_int.src.sweep.sweep.Simulator:Bandwidth (bits/cycle): 1024\n",
      "INFO:baseline_int.src.sweep.sweep.Simulator:Simulating Benchmark: ImageNetSNN\n",
      "INFO:baseline_int.src.sweep.sweep.Simulator:N x M = 32 x 4\n",
      "INFO:baseline_int.src.sweep.sweep.Simulator:Max Precision (bits): 8\n",
      "INFO:baseline_int.src.sweep.sweep.Simulator:Min Precision (bits): 8\n",
      "INFO:baseline_int.src.sweep.sweep.Simulator:Batch size: 100\n",
      "INFO:baseline_int.src.sweep.sweep.Simulator:Bandwidth (bits/cycle): 1024\n",
      " 29%|██▉       | 23/80 [21:11<51:48, 54.53s/it]"
     ]
    },
    {
     "name": "stdout",
     "output_type": "stream",
     "text": [
      "Got BitFusion Eyeriss, Numbers\n"
     ]
    },
    {
     "name": "stderr",
     "output_type": "stream",
     "text": [
      "INFO:baseline_int.src.sweep.sweep.Simulator:Simulating Benchmark: CIFAR10SNN\n",
      "INFO:baseline_int.src.sweep.sweep.Simulator:N x M = 64 x 4\n",
      "INFO:baseline_int.src.sweep.sweep.Simulator:Max Precision (bits): 8\n",
      "INFO:baseline_int.src.sweep.sweep.Simulator:Min Precision (bits): 8\n",
      "INFO:baseline_int.src.sweep.sweep.Simulator:Batch size: 100\n",
      "INFO:baseline_int.src.sweep.sweep.Simulator:Bandwidth (bits/cycle): 1024\n",
      "INFO:baseline_int.src.sweep.sweep.Simulator:Simulating Benchmark: DVS128Gesture\n",
      "INFO:baseline_int.src.sweep.sweep.Simulator:N x M = 64 x 4\n",
      "INFO:baseline_int.src.sweep.sweep.Simulator:Max Precision (bits): 8\n",
      "INFO:baseline_int.src.sweep.sweep.Simulator:Min Precision (bits): 8\n",
      "INFO:baseline_int.src.sweep.sweep.Simulator:Batch size: 100\n",
      "INFO:baseline_int.src.sweep.sweep.Simulator:Bandwidth (bits/cycle): 1024\n",
      "INFO:baseline_int.src.sweep.sweep.Simulator:Simulating Benchmark: ImageNetSNN\n",
      "INFO:baseline_int.src.sweep.sweep.Simulator:N x M = 64 x 4\n",
      "INFO:baseline_int.src.sweep.sweep.Simulator:Max Precision (bits): 8\n",
      "INFO:baseline_int.src.sweep.sweep.Simulator:Min Precision (bits): 8\n",
      "INFO:baseline_int.src.sweep.sweep.Simulator:Batch size: 100\n",
      "INFO:baseline_int.src.sweep.sweep.Simulator:Bandwidth (bits/cycle): 1024\n",
      " 30%|███       | 24/80 [22:00<49:21, 52.88s/it]"
     ]
    },
    {
     "name": "stdout",
     "output_type": "stream",
     "text": [
      "Got BitFusion Eyeriss, Numbers\n"
     ]
    },
    {
     "name": "stderr",
     "output_type": "stream",
     "text": [
      "INFO:baseline_int.src.sweep.sweep.Simulator:Simulating Benchmark: CIFAR10SNN\n",
      "INFO:baseline_int.src.sweep.sweep.Simulator:N x M = 128 x 4\n",
      "INFO:baseline_int.src.sweep.sweep.Simulator:Max Precision (bits): 8\n",
      "INFO:baseline_int.src.sweep.sweep.Simulator:Min Precision (bits): 8\n",
      "INFO:baseline_int.src.sweep.sweep.Simulator:Batch size: 100\n",
      "INFO:baseline_int.src.sweep.sweep.Simulator:Bandwidth (bits/cycle): 1024\n",
      "INFO:baseline_int.src.sweep.sweep.Simulator:Simulating Benchmark: DVS128Gesture\n",
      "INFO:baseline_int.src.sweep.sweep.Simulator:N x M = 128 x 4\n",
      "INFO:baseline_int.src.sweep.sweep.Simulator:Max Precision (bits): 8\n",
      "INFO:baseline_int.src.sweep.sweep.Simulator:Min Precision (bits): 8\n",
      "INFO:baseline_int.src.sweep.sweep.Simulator:Batch size: 100\n",
      "INFO:baseline_int.src.sweep.sweep.Simulator:Bandwidth (bits/cycle): 1024\n",
      "INFO:baseline_int.src.sweep.sweep.Simulator:Simulating Benchmark: ImageNetSNN\n",
      "INFO:baseline_int.src.sweep.sweep.Simulator:N x M = 128 x 4\n",
      "INFO:baseline_int.src.sweep.sweep.Simulator:Max Precision (bits): 8\n",
      "INFO:baseline_int.src.sweep.sweep.Simulator:Min Precision (bits): 8\n",
      "INFO:baseline_int.src.sweep.sweep.Simulator:Batch size: 100\n",
      "INFO:baseline_int.src.sweep.sweep.Simulator:Bandwidth (bits/cycle): 1024\n",
      " 31%|███▏      | 25/80 [22:46<46:36, 50.85s/it]"
     ]
    },
    {
     "name": "stdout",
     "output_type": "stream",
     "text": [
      "Got BitFusion Eyeriss, Numbers\n"
     ]
    },
    {
     "name": "stderr",
     "output_type": "stream",
     "text": [
      "INFO:baseline_int.src.sweep.sweep.Simulator:Simulating Benchmark: CIFAR10SNN\n",
      "INFO:baseline_int.src.sweep.sweep.Simulator:N x M = 256 x 4\n",
      "INFO:baseline_int.src.sweep.sweep.Simulator:Max Precision (bits): 8\n",
      "INFO:baseline_int.src.sweep.sweep.Simulator:Min Precision (bits): 8\n",
      "INFO:baseline_int.src.sweep.sweep.Simulator:Batch size: 100\n",
      "INFO:baseline_int.src.sweep.sweep.Simulator:Bandwidth (bits/cycle): 1024\n",
      "INFO:baseline_int.src.sweep.sweep.Simulator:Simulating Benchmark: DVS128Gesture\n",
      "INFO:baseline_int.src.sweep.sweep.Simulator:N x M = 256 x 4\n",
      "INFO:baseline_int.src.sweep.sweep.Simulator:Max Precision (bits): 8\n",
      "INFO:baseline_int.src.sweep.sweep.Simulator:Min Precision (bits): 8\n",
      "INFO:baseline_int.src.sweep.sweep.Simulator:Batch size: 100\n",
      "INFO:baseline_int.src.sweep.sweep.Simulator:Bandwidth (bits/cycle): 1024\n",
      "INFO:baseline_int.src.sweep.sweep.Simulator:Simulating Benchmark: ImageNetSNN\n",
      "INFO:baseline_int.src.sweep.sweep.Simulator:N x M = 256 x 4\n",
      "INFO:baseline_int.src.sweep.sweep.Simulator:Max Precision (bits): 8\n",
      "INFO:baseline_int.src.sweep.sweep.Simulator:Min Precision (bits): 8\n",
      "INFO:baseline_int.src.sweep.sweep.Simulator:Batch size: 100\n",
      "INFO:baseline_int.src.sweep.sweep.Simulator:Bandwidth (bits/cycle): 1024\n",
      " 32%|███▎      | 26/80 [23:29<43:37, 48.48s/it]"
     ]
    },
    {
     "name": "stdout",
     "output_type": "stream",
     "text": [
      "Got BitFusion Eyeriss, Numbers\n"
     ]
    },
    {
     "name": "stderr",
     "output_type": "stream",
     "text": [
      "INFO:baseline_int.src.sweep.sweep.Simulator:Simulating Benchmark: CIFAR10SNN\n",
      "INFO:baseline_int.src.sweep.sweep.Simulator:N x M = 1 x 8\n",
      "INFO:baseline_int.src.sweep.sweep.Simulator:Max Precision (bits): 8\n",
      "INFO:baseline_int.src.sweep.sweep.Simulator:Min Precision (bits): 8\n",
      "INFO:baseline_int.src.sweep.sweep.Simulator:Batch size: 100\n",
      "INFO:baseline_int.src.sweep.sweep.Simulator:Bandwidth (bits/cycle): 1024\n"
     ]
    },
    {
     "name": "stdout",
     "output_type": "stream",
     "text": [
      "No entry found in /root/code/baseline_int/sram/cacti-master/cacti_sweep.csv, running cacti\n",
      "Current folder: /root/code\n",
      "/root/code/baseline_int/sram/cacti-master/cacti\n",
      "Running cacti with args: ('./cacti', '-infile', 'sweep.cfg')\n"
     ]
    },
    {
     "name": "stderr",
     "output_type": "stream",
     "text": [
      "INFO:baseline_int.src.sweep.sweep.Simulator:Simulating Benchmark: DVS128Gesture\n",
      "INFO:baseline_int.src.sweep.sweep.Simulator:N x M = 1 x 8\n",
      "INFO:baseline_int.src.sweep.sweep.Simulator:Max Precision (bits): 8\n",
      "INFO:baseline_int.src.sweep.sweep.Simulator:Min Precision (bits): 8\n",
      "INFO:baseline_int.src.sweep.sweep.Simulator:Batch size: 100\n",
      "INFO:baseline_int.src.sweep.sweep.Simulator:Bandwidth (bits/cycle): 1024\n",
      "INFO:baseline_int.src.sweep.sweep.Simulator:Simulating Benchmark: ImageNetSNN\n",
      "INFO:baseline_int.src.sweep.sweep.Simulator:N x M = 1 x 8\n",
      "INFO:baseline_int.src.sweep.sweep.Simulator:Max Precision (bits): 8\n",
      "INFO:baseline_int.src.sweep.sweep.Simulator:Min Precision (bits): 8\n",
      "INFO:baseline_int.src.sweep.sweep.Simulator:Batch size: 100\n",
      "INFO:baseline_int.src.sweep.sweep.Simulator:Bandwidth (bits/cycle): 1024\n",
      " 34%|███▍      | 27/80 [24:23<44:17, 50.14s/it]"
     ]
    },
    {
     "name": "stdout",
     "output_type": "stream",
     "text": [
      "Got BitFusion Eyeriss, Numbers\n"
     ]
    },
    {
     "name": "stderr",
     "output_type": "stream",
     "text": [
      "INFO:baseline_int.src.sweep.sweep.Simulator:Simulating Benchmark: CIFAR10SNN\n",
      "INFO:baseline_int.src.sweep.sweep.Simulator:N x M = 2 x 8\n",
      "INFO:baseline_int.src.sweep.sweep.Simulator:Max Precision (bits): 8\n",
      "INFO:baseline_int.src.sweep.sweep.Simulator:Min Precision (bits): 8\n",
      "INFO:baseline_int.src.sweep.sweep.Simulator:Batch size: 100\n",
      "INFO:baseline_int.src.sweep.sweep.Simulator:Bandwidth (bits/cycle): 1024\n",
      "INFO:baseline_int.src.sweep.sweep.Simulator:Simulating Benchmark: DVS128Gesture\n",
      "INFO:baseline_int.src.sweep.sweep.Simulator:N x M = 2 x 8\n",
      "INFO:baseline_int.src.sweep.sweep.Simulator:Max Precision (bits): 8\n",
      "INFO:baseline_int.src.sweep.sweep.Simulator:Min Precision (bits): 8\n",
      "INFO:baseline_int.src.sweep.sweep.Simulator:Batch size: 100\n",
      "INFO:baseline_int.src.sweep.sweep.Simulator:Bandwidth (bits/cycle): 1024\n",
      "INFO:baseline_int.src.sweep.sweep.Simulator:Simulating Benchmark: ImageNetSNN\n",
      "INFO:baseline_int.src.sweep.sweep.Simulator:N x M = 2 x 8\n",
      "INFO:baseline_int.src.sweep.sweep.Simulator:Max Precision (bits): 8\n",
      "INFO:baseline_int.src.sweep.sweep.Simulator:Min Precision (bits): 8\n",
      "INFO:baseline_int.src.sweep.sweep.Simulator:Batch size: 100\n",
      "INFO:baseline_int.src.sweep.sweep.Simulator:Bandwidth (bits/cycle): 1024\n",
      " 35%|███▌      | 28/80 [25:17<44:26, 51.28s/it]"
     ]
    },
    {
     "name": "stdout",
     "output_type": "stream",
     "text": [
      "Got BitFusion Eyeriss, Numbers\n"
     ]
    },
    {
     "name": "stderr",
     "output_type": "stream",
     "text": [
      "INFO:baseline_int.src.sweep.sweep.Simulator:Simulating Benchmark: CIFAR10SNN\n",
      "INFO:baseline_int.src.sweep.sweep.Simulator:N x M = 4 x 8\n",
      "INFO:baseline_int.src.sweep.sweep.Simulator:Max Precision (bits): 8\n",
      "INFO:baseline_int.src.sweep.sweep.Simulator:Min Precision (bits): 8\n",
      "INFO:baseline_int.src.sweep.sweep.Simulator:Batch size: 100\n",
      "INFO:baseline_int.src.sweep.sweep.Simulator:Bandwidth (bits/cycle): 1024\n",
      "INFO:baseline_int.src.sweep.sweep.Simulator:Simulating Benchmark: DVS128Gesture\n",
      "INFO:baseline_int.src.sweep.sweep.Simulator:N x M = 4 x 8\n",
      "INFO:baseline_int.src.sweep.sweep.Simulator:Max Precision (bits): 8\n",
      "INFO:baseline_int.src.sweep.sweep.Simulator:Min Precision (bits): 8\n",
      "INFO:baseline_int.src.sweep.sweep.Simulator:Batch size: 100\n",
      "INFO:baseline_int.src.sweep.sweep.Simulator:Bandwidth (bits/cycle): 1024\n",
      "INFO:baseline_int.src.sweep.sweep.Simulator:Simulating Benchmark: ImageNetSNN\n",
      "INFO:baseline_int.src.sweep.sweep.Simulator:N x M = 4 x 8\n",
      "INFO:baseline_int.src.sweep.sweep.Simulator:Max Precision (bits): 8\n",
      "INFO:baseline_int.src.sweep.sweep.Simulator:Min Precision (bits): 8\n",
      "INFO:baseline_int.src.sweep.sweep.Simulator:Batch size: 100\n",
      "INFO:baseline_int.src.sweep.sweep.Simulator:Bandwidth (bits/cycle): 1024\n",
      " 36%|███▋      | 29/80 [26:10<44:10, 51.97s/it]"
     ]
    },
    {
     "name": "stdout",
     "output_type": "stream",
     "text": [
      "Got BitFusion Eyeriss, Numbers\n"
     ]
    },
    {
     "name": "stderr",
     "output_type": "stream",
     "text": [
      "INFO:baseline_int.src.sweep.sweep.Simulator:Simulating Benchmark: CIFAR10SNN\n",
      "INFO:baseline_int.src.sweep.sweep.Simulator:N x M = 8 x 8\n",
      "INFO:baseline_int.src.sweep.sweep.Simulator:Max Precision (bits): 8\n",
      "INFO:baseline_int.src.sweep.sweep.Simulator:Min Precision (bits): 8\n",
      "INFO:baseline_int.src.sweep.sweep.Simulator:Batch size: 100\n",
      "INFO:baseline_int.src.sweep.sweep.Simulator:Bandwidth (bits/cycle): 1024\n",
      "INFO:baseline_int.src.sweep.sweep.Simulator:Simulating Benchmark: DVS128Gesture\n",
      "INFO:baseline_int.src.sweep.sweep.Simulator:N x M = 8 x 8\n",
      "INFO:baseline_int.src.sweep.sweep.Simulator:Max Precision (bits): 8\n",
      "INFO:baseline_int.src.sweep.sweep.Simulator:Min Precision (bits): 8\n",
      "INFO:baseline_int.src.sweep.sweep.Simulator:Batch size: 100\n",
      "INFO:baseline_int.src.sweep.sweep.Simulator:Bandwidth (bits/cycle): 1024\n",
      "INFO:baseline_int.src.sweep.sweep.Simulator:Simulating Benchmark: ImageNetSNN\n",
      "INFO:baseline_int.src.sweep.sweep.Simulator:N x M = 8 x 8\n",
      "INFO:baseline_int.src.sweep.sweep.Simulator:Max Precision (bits): 8\n",
      "INFO:baseline_int.src.sweep.sweep.Simulator:Min Precision (bits): 8\n",
      "INFO:baseline_int.src.sweep.sweep.Simulator:Batch size: 100\n",
      "INFO:baseline_int.src.sweep.sweep.Simulator:Bandwidth (bits/cycle): 1024\n",
      " 38%|███▊      | 30/80 [27:03<43:35, 52.31s/it]"
     ]
    },
    {
     "name": "stdout",
     "output_type": "stream",
     "text": [
      "Got BitFusion Eyeriss, Numbers\n"
     ]
    },
    {
     "name": "stderr",
     "output_type": "stream",
     "text": [
      "INFO:baseline_int.src.sweep.sweep.Simulator:Simulating Benchmark: CIFAR10SNN\n",
      "INFO:baseline_int.src.sweep.sweep.Simulator:N x M = 16 x 8\n",
      "INFO:baseline_int.src.sweep.sweep.Simulator:Max Precision (bits): 8\n",
      "INFO:baseline_int.src.sweep.sweep.Simulator:Min Precision (bits): 8\n",
      "INFO:baseline_int.src.sweep.sweep.Simulator:Batch size: 100\n",
      "INFO:baseline_int.src.sweep.sweep.Simulator:Bandwidth (bits/cycle): 1024\n",
      "INFO:baseline_int.src.sweep.sweep.Simulator:Simulating Benchmark: DVS128Gesture\n",
      "INFO:baseline_int.src.sweep.sweep.Simulator:N x M = 16 x 8\n",
      "INFO:baseline_int.src.sweep.sweep.Simulator:Max Precision (bits): 8\n",
      "INFO:baseline_int.src.sweep.sweep.Simulator:Min Precision (bits): 8\n",
      "INFO:baseline_int.src.sweep.sweep.Simulator:Batch size: 100\n",
      "INFO:baseline_int.src.sweep.sweep.Simulator:Bandwidth (bits/cycle): 1024\n",
      "INFO:baseline_int.src.sweep.sweep.Simulator:Simulating Benchmark: ImageNetSNN\n",
      "INFO:baseline_int.src.sweep.sweep.Simulator:N x M = 16 x 8\n",
      "INFO:baseline_int.src.sweep.sweep.Simulator:Max Precision (bits): 8\n",
      "INFO:baseline_int.src.sweep.sweep.Simulator:Min Precision (bits): 8\n",
      "INFO:baseline_int.src.sweep.sweep.Simulator:Batch size: 100\n",
      "INFO:baseline_int.src.sweep.sweep.Simulator:Bandwidth (bits/cycle): 1024\n",
      " 39%|███▉      | 31/80 [27:55<42:28, 52.01s/it]"
     ]
    },
    {
     "name": "stdout",
     "output_type": "stream",
     "text": [
      "Got BitFusion Eyeriss, Numbers\n"
     ]
    },
    {
     "name": "stderr",
     "output_type": "stream",
     "text": [
      "INFO:baseline_int.src.sweep.sweep.Simulator:Simulating Benchmark: CIFAR10SNN\n",
      "INFO:baseline_int.src.sweep.sweep.Simulator:N x M = 32 x 8\n",
      "INFO:baseline_int.src.sweep.sweep.Simulator:Max Precision (bits): 8\n",
      "INFO:baseline_int.src.sweep.sweep.Simulator:Min Precision (bits): 8\n",
      "INFO:baseline_int.src.sweep.sweep.Simulator:Batch size: 100\n",
      "INFO:baseline_int.src.sweep.sweep.Simulator:Bandwidth (bits/cycle): 1024\n",
      "INFO:baseline_int.src.sweep.sweep.Simulator:Simulating Benchmark: DVS128Gesture\n",
      "INFO:baseline_int.src.sweep.sweep.Simulator:N x M = 32 x 8\n",
      "INFO:baseline_int.src.sweep.sweep.Simulator:Max Precision (bits): 8\n",
      "INFO:baseline_int.src.sweep.sweep.Simulator:Min Precision (bits): 8\n",
      "INFO:baseline_int.src.sweep.sweep.Simulator:Batch size: 100\n",
      "INFO:baseline_int.src.sweep.sweep.Simulator:Bandwidth (bits/cycle): 1024\n",
      "INFO:baseline_int.src.sweep.sweep.Simulator:Simulating Benchmark: ImageNetSNN\n",
      "INFO:baseline_int.src.sweep.sweep.Simulator:N x M = 32 x 8\n",
      "INFO:baseline_int.src.sweep.sweep.Simulator:Max Precision (bits): 8\n",
      "INFO:baseline_int.src.sweep.sweep.Simulator:Min Precision (bits): 8\n",
      "INFO:baseline_int.src.sweep.sweep.Simulator:Batch size: 100\n",
      "INFO:baseline_int.src.sweep.sweep.Simulator:Bandwidth (bits/cycle): 1024\n",
      " 40%|████      | 32/80 [28:44<40:56, 51.18s/it]"
     ]
    },
    {
     "name": "stdout",
     "output_type": "stream",
     "text": [
      "Got BitFusion Eyeriss, Numbers\n"
     ]
    },
    {
     "name": "stderr",
     "output_type": "stream",
     "text": [
      "INFO:baseline_int.src.sweep.sweep.Simulator:Simulating Benchmark: CIFAR10SNN\n",
      "INFO:baseline_int.src.sweep.sweep.Simulator:N x M = 64 x 8\n",
      "INFO:baseline_int.src.sweep.sweep.Simulator:Max Precision (bits): 8\n",
      "INFO:baseline_int.src.sweep.sweep.Simulator:Min Precision (bits): 8\n",
      "INFO:baseline_int.src.sweep.sweep.Simulator:Batch size: 100\n",
      "INFO:baseline_int.src.sweep.sweep.Simulator:Bandwidth (bits/cycle): 1024\n",
      "INFO:baseline_int.src.sweep.sweep.Simulator:Simulating Benchmark: DVS128Gesture\n",
      "INFO:baseline_int.src.sweep.sweep.Simulator:N x M = 64 x 8\n",
      "INFO:baseline_int.src.sweep.sweep.Simulator:Max Precision (bits): 8\n",
      "INFO:baseline_int.src.sweep.sweep.Simulator:Min Precision (bits): 8\n",
      "INFO:baseline_int.src.sweep.sweep.Simulator:Batch size: 100\n",
      "INFO:baseline_int.src.sweep.sweep.Simulator:Bandwidth (bits/cycle): 1024\n",
      "INFO:baseline_int.src.sweep.sweep.Simulator:Simulating Benchmark: ImageNetSNN\n",
      "INFO:baseline_int.src.sweep.sweep.Simulator:N x M = 64 x 8\n",
      "INFO:baseline_int.src.sweep.sweep.Simulator:Max Precision (bits): 8\n",
      "INFO:baseline_int.src.sweep.sweep.Simulator:Min Precision (bits): 8\n",
      "INFO:baseline_int.src.sweep.sweep.Simulator:Batch size: 100\n",
      "INFO:baseline_int.src.sweep.sweep.Simulator:Bandwidth (bits/cycle): 1024\n",
      " 41%|████▏     | 33/80 [29:30<38:58, 49.76s/it]"
     ]
    },
    {
     "name": "stdout",
     "output_type": "stream",
     "text": [
      "Got BitFusion Eyeriss, Numbers\n"
     ]
    },
    {
     "name": "stderr",
     "output_type": "stream",
     "text": [
      "INFO:baseline_int.src.sweep.sweep.Simulator:Simulating Benchmark: CIFAR10SNN\n",
      "INFO:baseline_int.src.sweep.sweep.Simulator:N x M = 128 x 8\n",
      "INFO:baseline_int.src.sweep.sweep.Simulator:Max Precision (bits): 8\n",
      "INFO:baseline_int.src.sweep.sweep.Simulator:Min Precision (bits): 8\n",
      "INFO:baseline_int.src.sweep.sweep.Simulator:Batch size: 100\n",
      "INFO:baseline_int.src.sweep.sweep.Simulator:Bandwidth (bits/cycle): 1024\n",
      "INFO:baseline_int.src.sweep.sweep.Simulator:Simulating Benchmark: DVS128Gesture\n",
      "INFO:baseline_int.src.sweep.sweep.Simulator:N x M = 128 x 8\n",
      "INFO:baseline_int.src.sweep.sweep.Simulator:Max Precision (bits): 8\n",
      "INFO:baseline_int.src.sweep.sweep.Simulator:Min Precision (bits): 8\n",
      "INFO:baseline_int.src.sweep.sweep.Simulator:Batch size: 100\n",
      "INFO:baseline_int.src.sweep.sweep.Simulator:Bandwidth (bits/cycle): 1024\n",
      "INFO:baseline_int.src.sweep.sweep.Simulator:Simulating Benchmark: ImageNetSNN\n",
      "INFO:baseline_int.src.sweep.sweep.Simulator:N x M = 128 x 8\n",
      "INFO:baseline_int.src.sweep.sweep.Simulator:Max Precision (bits): 8\n",
      "INFO:baseline_int.src.sweep.sweep.Simulator:Min Precision (bits): 8\n",
      "INFO:baseline_int.src.sweep.sweep.Simulator:Batch size: 100\n",
      "INFO:baseline_int.src.sweep.sweep.Simulator:Bandwidth (bits/cycle): 1024\n",
      " 42%|████▎     | 34/80 [30:13<36:34, 47.72s/it]"
     ]
    },
    {
     "name": "stdout",
     "output_type": "stream",
     "text": [
      "Got BitFusion Eyeriss, Numbers\n"
     ]
    },
    {
     "name": "stderr",
     "output_type": "stream",
     "text": [
      "INFO:baseline_int.src.sweep.sweep.Simulator:Simulating Benchmark: CIFAR10SNN\n",
      "INFO:baseline_int.src.sweep.sweep.Simulator:N x M = 256 x 8\n",
      "INFO:baseline_int.src.sweep.sweep.Simulator:Max Precision (bits): 8\n",
      "INFO:baseline_int.src.sweep.sweep.Simulator:Min Precision (bits): 8\n",
      "INFO:baseline_int.src.sweep.sweep.Simulator:Batch size: 100\n",
      "INFO:baseline_int.src.sweep.sweep.Simulator:Bandwidth (bits/cycle): 1024\n"
     ]
    },
    {
     "name": "stdout",
     "output_type": "stream",
     "text": [
      "No entry found in /root/code/baseline_int/sram/cacti-master/cacti_sweep.csv, running cacti\n",
      "Current folder: /root/code\n",
      "/root/code/baseline_int/sram/cacti-master/cacti\n",
      "Running cacti with args: ('./cacti', '-infile', 'sweep.cfg')\n"
     ]
    },
    {
     "name": "stderr",
     "output_type": "stream",
     "text": [
      "Cache size must >=64\n",
      "INFO:baseline_int.src.sweep.sweep.Simulator:Simulating Benchmark: DVS128Gesture\n",
      "INFO:baseline_int.src.sweep.sweep.Simulator:N x M = 256 x 8\n",
      "INFO:baseline_int.src.sweep.sweep.Simulator:Max Precision (bits): 8\n",
      "INFO:baseline_int.src.sweep.sweep.Simulator:Min Precision (bits): 8\n",
      "INFO:baseline_int.src.sweep.sweep.Simulator:Batch size: 100\n",
      "INFO:baseline_int.src.sweep.sweep.Simulator:Bandwidth (bits/cycle): 1024\n",
      "INFO:baseline_int.src.sweep.sweep.Simulator:Simulating Benchmark: ImageNetSNN\n",
      "INFO:baseline_int.src.sweep.sweep.Simulator:N x M = 256 x 8\n",
      "INFO:baseline_int.src.sweep.sweep.Simulator:Max Precision (bits): 8\n",
      "INFO:baseline_int.src.sweep.sweep.Simulator:Min Precision (bits): 8\n",
      "INFO:baseline_int.src.sweep.sweep.Simulator:Batch size: 100\n",
      "INFO:baseline_int.src.sweep.sweep.Simulator:Bandwidth (bits/cycle): 1024\n",
      " 44%|████▍     | 35/80 [30:54<34:15, 45.68s/it]"
     ]
    },
    {
     "name": "stdout",
     "output_type": "stream",
     "text": [
      "Got BitFusion Eyeriss, Numbers\n"
     ]
    },
    {
     "name": "stderr",
     "output_type": "stream",
     "text": [
      "INFO:baseline_int.src.sweep.sweep.Simulator:Simulating Benchmark: CIFAR10SNN\n",
      "INFO:baseline_int.src.sweep.sweep.Simulator:N x M = 1 x 16\n",
      "INFO:baseline_int.src.sweep.sweep.Simulator:Max Precision (bits): 8\n",
      "INFO:baseline_int.src.sweep.sweep.Simulator:Min Precision (bits): 8\n",
      "INFO:baseline_int.src.sweep.sweep.Simulator:Batch size: 100\n",
      "INFO:baseline_int.src.sweep.sweep.Simulator:Bandwidth (bits/cycle): 1024\n"
     ]
    },
    {
     "name": "stdout",
     "output_type": "stream",
     "text": [
      "No entry found in /root/code/baseline_int/sram/cacti-master/cacti_sweep.csv, running cacti\n",
      "Current folder: /root/code\n",
      "/root/code/baseline_int/sram/cacti-master/cacti\n",
      "Running cacti with args: ('./cacti', '-infile', 'sweep.cfg')\n"
     ]
    },
    {
     "name": "stderr",
     "output_type": "stream",
     "text": [
      "INFO:baseline_int.src.sweep.sweep.Simulator:Simulating Benchmark: DVS128Gesture\n",
      "INFO:baseline_int.src.sweep.sweep.Simulator:N x M = 1 x 16\n",
      "INFO:baseline_int.src.sweep.sweep.Simulator:Max Precision (bits): 8\n",
      "INFO:baseline_int.src.sweep.sweep.Simulator:Min Precision (bits): 8\n",
      "INFO:baseline_int.src.sweep.sweep.Simulator:Batch size: 100\n",
      "INFO:baseline_int.src.sweep.sweep.Simulator:Bandwidth (bits/cycle): 1024\n",
      "INFO:baseline_int.src.sweep.sweep.Simulator:Simulating Benchmark: ImageNetSNN\n",
      "INFO:baseline_int.src.sweep.sweep.Simulator:N x M = 1 x 16\n",
      "INFO:baseline_int.src.sweep.sweep.Simulator:Max Precision (bits): 8\n",
      "INFO:baseline_int.src.sweep.sweep.Simulator:Min Precision (bits): 8\n",
      "INFO:baseline_int.src.sweep.sweep.Simulator:Batch size: 100\n",
      "INFO:baseline_int.src.sweep.sweep.Simulator:Bandwidth (bits/cycle): 1024\n",
      " 45%|████▌     | 36/80 [31:44<34:16, 46.74s/it]"
     ]
    },
    {
     "name": "stdout",
     "output_type": "stream",
     "text": [
      "Got BitFusion Eyeriss, Numbers\n"
     ]
    },
    {
     "name": "stderr",
     "output_type": "stream",
     "text": [
      "INFO:baseline_int.src.sweep.sweep.Simulator:Simulating Benchmark: CIFAR10SNN\n",
      "INFO:baseline_int.src.sweep.sweep.Simulator:N x M = 2 x 16\n",
      "INFO:baseline_int.src.sweep.sweep.Simulator:Max Precision (bits): 8\n",
      "INFO:baseline_int.src.sweep.sweep.Simulator:Min Precision (bits): 8\n",
      "INFO:baseline_int.src.sweep.sweep.Simulator:Batch size: 100\n",
      "INFO:baseline_int.src.sweep.sweep.Simulator:Bandwidth (bits/cycle): 1024\n",
      "INFO:baseline_int.src.sweep.sweep.Simulator:Simulating Benchmark: DVS128Gesture\n",
      "INFO:baseline_int.src.sweep.sweep.Simulator:N x M = 2 x 16\n",
      "INFO:baseline_int.src.sweep.sweep.Simulator:Max Precision (bits): 8\n",
      "INFO:baseline_int.src.sweep.sweep.Simulator:Min Precision (bits): 8\n",
      "INFO:baseline_int.src.sweep.sweep.Simulator:Batch size: 100\n",
      "INFO:baseline_int.src.sweep.sweep.Simulator:Bandwidth (bits/cycle): 1024\n",
      "INFO:baseline_int.src.sweep.sweep.Simulator:Simulating Benchmark: ImageNetSNN\n",
      "INFO:baseline_int.src.sweep.sweep.Simulator:N x M = 2 x 16\n",
      "INFO:baseline_int.src.sweep.sweep.Simulator:Max Precision (bits): 8\n",
      "INFO:baseline_int.src.sweep.sweep.Simulator:Min Precision (bits): 8\n",
      "INFO:baseline_int.src.sweep.sweep.Simulator:Batch size: 100\n",
      "INFO:baseline_int.src.sweep.sweep.Simulator:Bandwidth (bits/cycle): 1024\n",
      " 46%|████▋     | 37/80 [32:33<33:58, 47.42s/it]"
     ]
    },
    {
     "name": "stdout",
     "output_type": "stream",
     "text": [
      "Got BitFusion Eyeriss, Numbers\n"
     ]
    },
    {
     "name": "stderr",
     "output_type": "stream",
     "text": [
      "INFO:baseline_int.src.sweep.sweep.Simulator:Simulating Benchmark: CIFAR10SNN\n",
      "INFO:baseline_int.src.sweep.sweep.Simulator:N x M = 4 x 16\n",
      "INFO:baseline_int.src.sweep.sweep.Simulator:Max Precision (bits): 8\n",
      "INFO:baseline_int.src.sweep.sweep.Simulator:Min Precision (bits): 8\n",
      "INFO:baseline_int.src.sweep.sweep.Simulator:Batch size: 100\n",
      "INFO:baseline_int.src.sweep.sweep.Simulator:Bandwidth (bits/cycle): 1024\n",
      "INFO:baseline_int.src.sweep.sweep.Simulator:Simulating Benchmark: DVS128Gesture\n",
      "INFO:baseline_int.src.sweep.sweep.Simulator:N x M = 4 x 16\n",
      "INFO:baseline_int.src.sweep.sweep.Simulator:Max Precision (bits): 8\n",
      "INFO:baseline_int.src.sweep.sweep.Simulator:Min Precision (bits): 8\n",
      "INFO:baseline_int.src.sweep.sweep.Simulator:Batch size: 100\n",
      "INFO:baseline_int.src.sweep.sweep.Simulator:Bandwidth (bits/cycle): 1024\n",
      "INFO:baseline_int.src.sweep.sweep.Simulator:Simulating Benchmark: ImageNetSNN\n",
      "INFO:baseline_int.src.sweep.sweep.Simulator:N x M = 4 x 16\n",
      "INFO:baseline_int.src.sweep.sweep.Simulator:Max Precision (bits): 8\n",
      "INFO:baseline_int.src.sweep.sweep.Simulator:Min Precision (bits): 8\n",
      "INFO:baseline_int.src.sweep.sweep.Simulator:Batch size: 100\n",
      "INFO:baseline_int.src.sweep.sweep.Simulator:Bandwidth (bits/cycle): 1024\n",
      " 48%|████▊     | 38/80 [33:22<33:31, 47.90s/it]"
     ]
    },
    {
     "name": "stdout",
     "output_type": "stream",
     "text": [
      "Got BitFusion Eyeriss, Numbers\n"
     ]
    },
    {
     "name": "stderr",
     "output_type": "stream",
     "text": [
      "INFO:baseline_int.src.sweep.sweep.Simulator:Simulating Benchmark: CIFAR10SNN\n",
      "INFO:baseline_int.src.sweep.sweep.Simulator:N x M = 8 x 16\n",
      "INFO:baseline_int.src.sweep.sweep.Simulator:Max Precision (bits): 8\n",
      "INFO:baseline_int.src.sweep.sweep.Simulator:Min Precision (bits): 8\n",
      "INFO:baseline_int.src.sweep.sweep.Simulator:Batch size: 100\n",
      "INFO:baseline_int.src.sweep.sweep.Simulator:Bandwidth (bits/cycle): 1024\n",
      "INFO:baseline_int.src.sweep.sweep.Simulator:Simulating Benchmark: DVS128Gesture\n",
      "INFO:baseline_int.src.sweep.sweep.Simulator:N x M = 8 x 16\n",
      "INFO:baseline_int.src.sweep.sweep.Simulator:Max Precision (bits): 8\n",
      "INFO:baseline_int.src.sweep.sweep.Simulator:Min Precision (bits): 8\n",
      "INFO:baseline_int.src.sweep.sweep.Simulator:Batch size: 100\n",
      "INFO:baseline_int.src.sweep.sweep.Simulator:Bandwidth (bits/cycle): 1024\n",
      "INFO:baseline_int.src.sweep.sweep.Simulator:Simulating Benchmark: ImageNetSNN\n",
      "INFO:baseline_int.src.sweep.sweep.Simulator:N x M = 8 x 16\n",
      "INFO:baseline_int.src.sweep.sweep.Simulator:Max Precision (bits): 8\n",
      "INFO:baseline_int.src.sweep.sweep.Simulator:Min Precision (bits): 8\n",
      "INFO:baseline_int.src.sweep.sweep.Simulator:Batch size: 100\n",
      "INFO:baseline_int.src.sweep.sweep.Simulator:Bandwidth (bits/cycle): 1024\n",
      " 49%|████▉     | 39/80 [34:10<32:49, 48.05s/it]"
     ]
    },
    {
     "name": "stdout",
     "output_type": "stream",
     "text": [
      "Got BitFusion Eyeriss, Numbers\n"
     ]
    },
    {
     "name": "stderr",
     "output_type": "stream",
     "text": [
      "INFO:baseline_int.src.sweep.sweep.Simulator:Simulating Benchmark: CIFAR10SNN\n",
      "INFO:baseline_int.src.sweep.sweep.Simulator:N x M = 16 x 16\n",
      "INFO:baseline_int.src.sweep.sweep.Simulator:Max Precision (bits): 8\n",
      "INFO:baseline_int.src.sweep.sweep.Simulator:Min Precision (bits): 8\n",
      "INFO:baseline_int.src.sweep.sweep.Simulator:Batch size: 100\n",
      "INFO:baseline_int.src.sweep.sweep.Simulator:Bandwidth (bits/cycle): 1024\n",
      "INFO:baseline_int.src.sweep.sweep.Simulator:Simulating Benchmark: DVS128Gesture\n",
      "INFO:baseline_int.src.sweep.sweep.Simulator:N x M = 16 x 16\n",
      "INFO:baseline_int.src.sweep.sweep.Simulator:Max Precision (bits): 8\n",
      "INFO:baseline_int.src.sweep.sweep.Simulator:Min Precision (bits): 8\n",
      "INFO:baseline_int.src.sweep.sweep.Simulator:Batch size: 100\n",
      "INFO:baseline_int.src.sweep.sweep.Simulator:Bandwidth (bits/cycle): 1024\n",
      "INFO:baseline_int.src.sweep.sweep.Simulator:Simulating Benchmark: ImageNetSNN\n",
      "INFO:baseline_int.src.sweep.sweep.Simulator:N x M = 16 x 16\n",
      "INFO:baseline_int.src.sweep.sweep.Simulator:Max Precision (bits): 8\n",
      "INFO:baseline_int.src.sweep.sweep.Simulator:Min Precision (bits): 8\n",
      "INFO:baseline_int.src.sweep.sweep.Simulator:Batch size: 100\n",
      "INFO:baseline_int.src.sweep.sweep.Simulator:Bandwidth (bits/cycle): 1024\n",
      " 50%|█████     | 40/80 [34:57<31:54, 47.87s/it]"
     ]
    },
    {
     "name": "stdout",
     "output_type": "stream",
     "text": [
      "Got BitFusion Eyeriss, Numbers\n"
     ]
    },
    {
     "name": "stderr",
     "output_type": "stream",
     "text": [
      "INFO:baseline_int.src.sweep.sweep.Simulator:Simulating Benchmark: CIFAR10SNN\n",
      "INFO:baseline_int.src.sweep.sweep.Simulator:N x M = 32 x 16\n",
      "INFO:baseline_int.src.sweep.sweep.Simulator:Max Precision (bits): 8\n",
      "INFO:baseline_int.src.sweep.sweep.Simulator:Min Precision (bits): 8\n",
      "INFO:baseline_int.src.sweep.sweep.Simulator:Batch size: 100\n",
      "INFO:baseline_int.src.sweep.sweep.Simulator:Bandwidth (bits/cycle): 1024\n",
      "INFO:baseline_int.src.sweep.sweep.Simulator:Simulating Benchmark: DVS128Gesture\n",
      "INFO:baseline_int.src.sweep.sweep.Simulator:N x M = 32 x 16\n",
      "INFO:baseline_int.src.sweep.sweep.Simulator:Max Precision (bits): 8\n",
      "INFO:baseline_int.src.sweep.sweep.Simulator:Min Precision (bits): 8\n",
      "INFO:baseline_int.src.sweep.sweep.Simulator:Batch size: 100\n",
      "INFO:baseline_int.src.sweep.sweep.Simulator:Bandwidth (bits/cycle): 1024\n",
      "INFO:baseline_int.src.sweep.sweep.Simulator:Simulating Benchmark: ImageNetSNN\n",
      "INFO:baseline_int.src.sweep.sweep.Simulator:N x M = 32 x 16\n",
      "INFO:baseline_int.src.sweep.sweep.Simulator:Max Precision (bits): 8\n",
      "INFO:baseline_int.src.sweep.sweep.Simulator:Min Precision (bits): 8\n",
      "INFO:baseline_int.src.sweep.sweep.Simulator:Batch size: 100\n",
      "INFO:baseline_int.src.sweep.sweep.Simulator:Bandwidth (bits/cycle): 1024\n",
      " 51%|█████▏    | 41/80 [35:42<30:34, 47.04s/it]"
     ]
    },
    {
     "name": "stdout",
     "output_type": "stream",
     "text": [
      "Got BitFusion Eyeriss, Numbers\n"
     ]
    },
    {
     "name": "stderr",
     "output_type": "stream",
     "text": [
      "INFO:baseline_int.src.sweep.sweep.Simulator:Simulating Benchmark: CIFAR10SNN\n",
      "INFO:baseline_int.src.sweep.sweep.Simulator:N x M = 64 x 16\n",
      "INFO:baseline_int.src.sweep.sweep.Simulator:Max Precision (bits): 8\n",
      "INFO:baseline_int.src.sweep.sweep.Simulator:Min Precision (bits): 8\n",
      "INFO:baseline_int.src.sweep.sweep.Simulator:Batch size: 100\n",
      "INFO:baseline_int.src.sweep.sweep.Simulator:Bandwidth (bits/cycle): 1024\n",
      "INFO:baseline_int.src.sweep.sweep.Simulator:Simulating Benchmark: DVS128Gesture\n",
      "INFO:baseline_int.src.sweep.sweep.Simulator:N x M = 64 x 16\n",
      "INFO:baseline_int.src.sweep.sweep.Simulator:Max Precision (bits): 8\n",
      "INFO:baseline_int.src.sweep.sweep.Simulator:Min Precision (bits): 8\n",
      "INFO:baseline_int.src.sweep.sweep.Simulator:Batch size: 100\n",
      "INFO:baseline_int.src.sweep.sweep.Simulator:Bandwidth (bits/cycle): 1024\n",
      "INFO:baseline_int.src.sweep.sweep.Simulator:Simulating Benchmark: ImageNetSNN\n",
      "INFO:baseline_int.src.sweep.sweep.Simulator:N x M = 64 x 16\n",
      "INFO:baseline_int.src.sweep.sweep.Simulator:Max Precision (bits): 8\n",
      "INFO:baseline_int.src.sweep.sweep.Simulator:Min Precision (bits): 8\n",
      "INFO:baseline_int.src.sweep.sweep.Simulator:Batch size: 100\n",
      "INFO:baseline_int.src.sweep.sweep.Simulator:Bandwidth (bits/cycle): 1024\n",
      " 52%|█████▎    | 42/80 [36:26<29:03, 45.88s/it]"
     ]
    },
    {
     "name": "stdout",
     "output_type": "stream",
     "text": [
      "Got BitFusion Eyeriss, Numbers\n"
     ]
    },
    {
     "name": "stderr",
     "output_type": "stream",
     "text": [
      "INFO:baseline_int.src.sweep.sweep.Simulator:Simulating Benchmark: CIFAR10SNN\n",
      "INFO:baseline_int.src.sweep.sweep.Simulator:N x M = 128 x 16\n",
      "INFO:baseline_int.src.sweep.sweep.Simulator:Max Precision (bits): 8\n",
      "INFO:baseline_int.src.sweep.sweep.Simulator:Min Precision (bits): 8\n",
      "INFO:baseline_int.src.sweep.sweep.Simulator:Batch size: 100\n",
      "INFO:baseline_int.src.sweep.sweep.Simulator:Bandwidth (bits/cycle): 1024\n",
      "INFO:baseline_int.src.sweep.sweep.Simulator:Simulating Benchmark: DVS128Gesture\n",
      "INFO:baseline_int.src.sweep.sweep.Simulator:N x M = 128 x 16\n",
      "INFO:baseline_int.src.sweep.sweep.Simulator:Max Precision (bits): 8\n",
      "INFO:baseline_int.src.sweep.sweep.Simulator:Min Precision (bits): 8\n",
      "INFO:baseline_int.src.sweep.sweep.Simulator:Batch size: 100\n",
      "INFO:baseline_int.src.sweep.sweep.Simulator:Bandwidth (bits/cycle): 1024\n",
      "INFO:baseline_int.src.sweep.sweep.Simulator:Simulating Benchmark: ImageNetSNN\n",
      "INFO:baseline_int.src.sweep.sweep.Simulator:N x M = 128 x 16\n",
      "INFO:baseline_int.src.sweep.sweep.Simulator:Max Precision (bits): 8\n",
      "INFO:baseline_int.src.sweep.sweep.Simulator:Min Precision (bits): 8\n",
      "INFO:baseline_int.src.sweep.sweep.Simulator:Batch size: 100\n",
      "INFO:baseline_int.src.sweep.sweep.Simulator:Bandwidth (bits/cycle): 1024\n",
      " 54%|█████▍    | 43/80 [37:06<27:18, 44.29s/it]"
     ]
    },
    {
     "name": "stdout",
     "output_type": "stream",
     "text": [
      "Got BitFusion Eyeriss, Numbers\n"
     ]
    },
    {
     "name": "stderr",
     "output_type": "stream",
     "text": [
      "INFO:baseline_int.src.sweep.sweep.Simulator:Simulating Benchmark: CIFAR10SNN\n",
      "INFO:baseline_int.src.sweep.sweep.Simulator:N x M = 256 x 16\n",
      "INFO:baseline_int.src.sweep.sweep.Simulator:Max Precision (bits): 8\n",
      "INFO:baseline_int.src.sweep.sweep.Simulator:Min Precision (bits): 8\n",
      "INFO:baseline_int.src.sweep.sweep.Simulator:Batch size: 100\n",
      "INFO:baseline_int.src.sweep.sweep.Simulator:Bandwidth (bits/cycle): 1024\n",
      "INFO:baseline_int.src.sweep.sweep.Simulator:Simulating Benchmark: DVS128Gesture\n",
      "INFO:baseline_int.src.sweep.sweep.Simulator:N x M = 256 x 16\n",
      "INFO:baseline_int.src.sweep.sweep.Simulator:Max Precision (bits): 8\n",
      "INFO:baseline_int.src.sweep.sweep.Simulator:Min Precision (bits): 8\n",
      "INFO:baseline_int.src.sweep.sweep.Simulator:Batch size: 100\n",
      "INFO:baseline_int.src.sweep.sweep.Simulator:Bandwidth (bits/cycle): 1024\n",
      "INFO:baseline_int.src.sweep.sweep.Simulator:Simulating Benchmark: ImageNetSNN\n",
      "INFO:baseline_int.src.sweep.sweep.Simulator:N x M = 256 x 16\n",
      "INFO:baseline_int.src.sweep.sweep.Simulator:Max Precision (bits): 8\n",
      "INFO:baseline_int.src.sweep.sweep.Simulator:Min Precision (bits): 8\n",
      "INFO:baseline_int.src.sweep.sweep.Simulator:Batch size: 100\n",
      "INFO:baseline_int.src.sweep.sweep.Simulator:Bandwidth (bits/cycle): 1024\n",
      " 55%|█████▌    | 44/80 [37:45<25:36, 42.68s/it]"
     ]
    },
    {
     "name": "stdout",
     "output_type": "stream",
     "text": [
      "Got BitFusion Eyeriss, Numbers\n"
     ]
    },
    {
     "name": "stderr",
     "output_type": "stream",
     "text": [
      "INFO:baseline_int.src.sweep.sweep.Simulator:Simulating Benchmark: CIFAR10SNN\n",
      "INFO:baseline_int.src.sweep.sweep.Simulator:N x M = 1 x 32\n",
      "INFO:baseline_int.src.sweep.sweep.Simulator:Max Precision (bits): 8\n",
      "INFO:baseline_int.src.sweep.sweep.Simulator:Min Precision (bits): 8\n",
      "INFO:baseline_int.src.sweep.sweep.Simulator:Batch size: 100\n",
      "INFO:baseline_int.src.sweep.sweep.Simulator:Bandwidth (bits/cycle): 1024\n",
      "INFO:baseline_int.src.sweep.sweep.Simulator:Simulating Benchmark: DVS128Gesture\n",
      "INFO:baseline_int.src.sweep.sweep.Simulator:N x M = 1 x 32\n",
      "INFO:baseline_int.src.sweep.sweep.Simulator:Max Precision (bits): 8\n",
      "INFO:baseline_int.src.sweep.sweep.Simulator:Min Precision (bits): 8\n",
      "INFO:baseline_int.src.sweep.sweep.Simulator:Batch size: 100\n",
      "INFO:baseline_int.src.sweep.sweep.Simulator:Bandwidth (bits/cycle): 1024\n",
      "INFO:baseline_int.src.sweep.sweep.Simulator:Simulating Benchmark: ImageNetSNN\n",
      "INFO:baseline_int.src.sweep.sweep.Simulator:N x M = 1 x 32\n",
      "INFO:baseline_int.src.sweep.sweep.Simulator:Max Precision (bits): 8\n",
      "INFO:baseline_int.src.sweep.sweep.Simulator:Min Precision (bits): 8\n",
      "INFO:baseline_int.src.sweep.sweep.Simulator:Batch size: 100\n",
      "INFO:baseline_int.src.sweep.sweep.Simulator:Bandwidth (bits/cycle): 1024\n",
      " 56%|█████▋    | 45/80 [38:30<25:16, 43.34s/it]"
     ]
    },
    {
     "name": "stdout",
     "output_type": "stream",
     "text": [
      "Got BitFusion Eyeriss, Numbers\n"
     ]
    },
    {
     "name": "stderr",
     "output_type": "stream",
     "text": [
      "INFO:baseline_int.src.sweep.sweep.Simulator:Simulating Benchmark: CIFAR10SNN\n",
      "INFO:baseline_int.src.sweep.sweep.Simulator:N x M = 2 x 32\n",
      "INFO:baseline_int.src.sweep.sweep.Simulator:Max Precision (bits): 8\n",
      "INFO:baseline_int.src.sweep.sweep.Simulator:Min Precision (bits): 8\n",
      "INFO:baseline_int.src.sweep.sweep.Simulator:Batch size: 100\n",
      "INFO:baseline_int.src.sweep.sweep.Simulator:Bandwidth (bits/cycle): 1024\n",
      "INFO:baseline_int.src.sweep.sweep.Simulator:Simulating Benchmark: DVS128Gesture\n",
      "INFO:baseline_int.src.sweep.sweep.Simulator:N x M = 2 x 32\n",
      "INFO:baseline_int.src.sweep.sweep.Simulator:Max Precision (bits): 8\n",
      "INFO:baseline_int.src.sweep.sweep.Simulator:Min Precision (bits): 8\n",
      "INFO:baseline_int.src.sweep.sweep.Simulator:Batch size: 100\n",
      "INFO:baseline_int.src.sweep.sweep.Simulator:Bandwidth (bits/cycle): 1024\n",
      "INFO:baseline_int.src.sweep.sweep.Simulator:Simulating Benchmark: ImageNetSNN\n",
      "INFO:baseline_int.src.sweep.sweep.Simulator:N x M = 2 x 32\n",
      "INFO:baseline_int.src.sweep.sweep.Simulator:Max Precision (bits): 8\n",
      "INFO:baseline_int.src.sweep.sweep.Simulator:Min Precision (bits): 8\n",
      "INFO:baseline_int.src.sweep.sweep.Simulator:Batch size: 100\n",
      "INFO:baseline_int.src.sweep.sweep.Simulator:Bandwidth (bits/cycle): 1024\n",
      " 57%|█████▊    | 46/80 [39:15<24:54, 43.97s/it]"
     ]
    },
    {
     "name": "stdout",
     "output_type": "stream",
     "text": [
      "Got BitFusion Eyeriss, Numbers\n"
     ]
    },
    {
     "name": "stderr",
     "output_type": "stream",
     "text": [
      "INFO:baseline_int.src.sweep.sweep.Simulator:Simulating Benchmark: CIFAR10SNN\n",
      "INFO:baseline_int.src.sweep.sweep.Simulator:N x M = 4 x 32\n",
      "INFO:baseline_int.src.sweep.sweep.Simulator:Max Precision (bits): 8\n",
      "INFO:baseline_int.src.sweep.sweep.Simulator:Min Precision (bits): 8\n",
      "INFO:baseline_int.src.sweep.sweep.Simulator:Batch size: 100\n",
      "INFO:baseline_int.src.sweep.sweep.Simulator:Bandwidth (bits/cycle): 1024\n",
      "INFO:baseline_int.src.sweep.sweep.Simulator:Simulating Benchmark: DVS128Gesture\n",
      "INFO:baseline_int.src.sweep.sweep.Simulator:N x M = 4 x 32\n",
      "INFO:baseline_int.src.sweep.sweep.Simulator:Max Precision (bits): 8\n",
      "INFO:baseline_int.src.sweep.sweep.Simulator:Min Precision (bits): 8\n",
      "INFO:baseline_int.src.sweep.sweep.Simulator:Batch size: 100\n",
      "INFO:baseline_int.src.sweep.sweep.Simulator:Bandwidth (bits/cycle): 1024\n",
      "INFO:baseline_int.src.sweep.sweep.Simulator:Simulating Benchmark: ImageNetSNN\n",
      "INFO:baseline_int.src.sweep.sweep.Simulator:N x M = 4 x 32\n",
      "INFO:baseline_int.src.sweep.sweep.Simulator:Max Precision (bits): 8\n",
      "INFO:baseline_int.src.sweep.sweep.Simulator:Min Precision (bits): 8\n",
      "INFO:baseline_int.src.sweep.sweep.Simulator:Batch size: 100\n",
      "INFO:baseline_int.src.sweep.sweep.Simulator:Bandwidth (bits/cycle): 1024\n",
      " 59%|█████▉    | 47/80 [40:01<24:25, 44.40s/it]"
     ]
    },
    {
     "name": "stdout",
     "output_type": "stream",
     "text": [
      "Got BitFusion Eyeriss, Numbers\n"
     ]
    },
    {
     "name": "stderr",
     "output_type": "stream",
     "text": [
      "INFO:baseline_int.src.sweep.sweep.Simulator:Simulating Benchmark: CIFAR10SNN\n",
      "INFO:baseline_int.src.sweep.sweep.Simulator:N x M = 8 x 32\n",
      "INFO:baseline_int.src.sweep.sweep.Simulator:Max Precision (bits): 8\n",
      "INFO:baseline_int.src.sweep.sweep.Simulator:Min Precision (bits): 8\n",
      "INFO:baseline_int.src.sweep.sweep.Simulator:Batch size: 100\n",
      "INFO:baseline_int.src.sweep.sweep.Simulator:Bandwidth (bits/cycle): 1024\n",
      "INFO:baseline_int.src.sweep.sweep.Simulator:Simulating Benchmark: DVS128Gesture\n",
      "INFO:baseline_int.src.sweep.sweep.Simulator:N x M = 8 x 32\n",
      "INFO:baseline_int.src.sweep.sweep.Simulator:Max Precision (bits): 8\n",
      "INFO:baseline_int.src.sweep.sweep.Simulator:Min Precision (bits): 8\n",
      "INFO:baseline_int.src.sweep.sweep.Simulator:Batch size: 100\n",
      "INFO:baseline_int.src.sweep.sweep.Simulator:Bandwidth (bits/cycle): 1024\n",
      "INFO:baseline_int.src.sweep.sweep.Simulator:Simulating Benchmark: ImageNetSNN\n",
      "INFO:baseline_int.src.sweep.sweep.Simulator:N x M = 8 x 32\n",
      "INFO:baseline_int.src.sweep.sweep.Simulator:Max Precision (bits): 8\n",
      "INFO:baseline_int.src.sweep.sweep.Simulator:Min Precision (bits): 8\n",
      "INFO:baseline_int.src.sweep.sweep.Simulator:Batch size: 100\n",
      "INFO:baseline_int.src.sweep.sweep.Simulator:Bandwidth (bits/cycle): 1024\n",
      " 60%|██████    | 48/80 [40:46<23:46, 44.58s/it]"
     ]
    },
    {
     "name": "stdout",
     "output_type": "stream",
     "text": [
      "Got BitFusion Eyeriss, Numbers\n"
     ]
    },
    {
     "name": "stderr",
     "output_type": "stream",
     "text": [
      "INFO:baseline_int.src.sweep.sweep.Simulator:Simulating Benchmark: CIFAR10SNN\n",
      "INFO:baseline_int.src.sweep.sweep.Simulator:N x M = 16 x 32\n",
      "INFO:baseline_int.src.sweep.sweep.Simulator:Max Precision (bits): 8\n",
      "INFO:baseline_int.src.sweep.sweep.Simulator:Min Precision (bits): 8\n",
      "INFO:baseline_int.src.sweep.sweep.Simulator:Batch size: 100\n",
      "INFO:baseline_int.src.sweep.sweep.Simulator:Bandwidth (bits/cycle): 1024\n",
      "INFO:baseline_int.src.sweep.sweep.Simulator:Simulating Benchmark: DVS128Gesture\n",
      "INFO:baseline_int.src.sweep.sweep.Simulator:N x M = 16 x 32\n",
      "INFO:baseline_int.src.sweep.sweep.Simulator:Max Precision (bits): 8\n",
      "INFO:baseline_int.src.sweep.sweep.Simulator:Min Precision (bits): 8\n",
      "INFO:baseline_int.src.sweep.sweep.Simulator:Batch size: 100\n",
      "INFO:baseline_int.src.sweep.sweep.Simulator:Bandwidth (bits/cycle): 1024\n",
      "INFO:baseline_int.src.sweep.sweep.Simulator:Simulating Benchmark: ImageNetSNN\n",
      "INFO:baseline_int.src.sweep.sweep.Simulator:N x M = 16 x 32\n",
      "INFO:baseline_int.src.sweep.sweep.Simulator:Max Precision (bits): 8\n",
      "INFO:baseline_int.src.sweep.sweep.Simulator:Min Precision (bits): 8\n",
      "INFO:baseline_int.src.sweep.sweep.Simulator:Batch size: 100\n",
      "INFO:baseline_int.src.sweep.sweep.Simulator:Bandwidth (bits/cycle): 1024\n",
      " 61%|██████▏   | 49/80 [41:30<23:00, 44.54s/it]"
     ]
    },
    {
     "name": "stdout",
     "output_type": "stream",
     "text": [
      "Got BitFusion Eyeriss, Numbers\n"
     ]
    },
    {
     "name": "stderr",
     "output_type": "stream",
     "text": [
      "INFO:baseline_int.src.sweep.sweep.Simulator:Simulating Benchmark: CIFAR10SNN\n",
      "INFO:baseline_int.src.sweep.sweep.Simulator:N x M = 32 x 32\n",
      "INFO:baseline_int.src.sweep.sweep.Simulator:Max Precision (bits): 8\n",
      "INFO:baseline_int.src.sweep.sweep.Simulator:Min Precision (bits): 8\n",
      "INFO:baseline_int.src.sweep.sweep.Simulator:Batch size: 100\n",
      "INFO:baseline_int.src.sweep.sweep.Simulator:Bandwidth (bits/cycle): 1024\n",
      "INFO:baseline_int.src.sweep.sweep.Simulator:Simulating Benchmark: DVS128Gesture\n",
      "INFO:baseline_int.src.sweep.sweep.Simulator:N x M = 32 x 32\n",
      "INFO:baseline_int.src.sweep.sweep.Simulator:Max Precision (bits): 8\n",
      "INFO:baseline_int.src.sweep.sweep.Simulator:Min Precision (bits): 8\n",
      "INFO:baseline_int.src.sweep.sweep.Simulator:Batch size: 100\n",
      "INFO:baseline_int.src.sweep.sweep.Simulator:Bandwidth (bits/cycle): 1024\n",
      "INFO:baseline_int.src.sweep.sweep.Simulator:Simulating Benchmark: ImageNetSNN\n",
      "INFO:baseline_int.src.sweep.sweep.Simulator:N x M = 32 x 32\n",
      "INFO:baseline_int.src.sweep.sweep.Simulator:Max Precision (bits): 8\n",
      "INFO:baseline_int.src.sweep.sweep.Simulator:Min Precision (bits): 8\n",
      "INFO:baseline_int.src.sweep.sweep.Simulator:Batch size: 100\n",
      "INFO:baseline_int.src.sweep.sweep.Simulator:Bandwidth (bits/cycle): 1024\n",
      " 62%|██████▎   | 50/80 [42:13<22:02, 44.09s/it]"
     ]
    },
    {
     "name": "stdout",
     "output_type": "stream",
     "text": [
      "Got BitFusion Eyeriss, Numbers\n"
     ]
    },
    {
     "name": "stderr",
     "output_type": "stream",
     "text": [
      "INFO:baseline_int.src.sweep.sweep.Simulator:Simulating Benchmark: CIFAR10SNN\n",
      "INFO:baseline_int.src.sweep.sweep.Simulator:N x M = 64 x 32\n",
      "INFO:baseline_int.src.sweep.sweep.Simulator:Max Precision (bits): 8\n",
      "INFO:baseline_int.src.sweep.sweep.Simulator:Min Precision (bits): 8\n",
      "INFO:baseline_int.src.sweep.sweep.Simulator:Batch size: 100\n",
      "INFO:baseline_int.src.sweep.sweep.Simulator:Bandwidth (bits/cycle): 1024\n",
      "INFO:baseline_int.src.sweep.sweep.Simulator:Simulating Benchmark: DVS128Gesture\n",
      "INFO:baseline_int.src.sweep.sweep.Simulator:N x M = 64 x 32\n",
      "INFO:baseline_int.src.sweep.sweep.Simulator:Max Precision (bits): 8\n",
      "INFO:baseline_int.src.sweep.sweep.Simulator:Min Precision (bits): 8\n",
      "INFO:baseline_int.src.sweep.sweep.Simulator:Batch size: 100\n",
      "INFO:baseline_int.src.sweep.sweep.Simulator:Bandwidth (bits/cycle): 1024\n",
      "INFO:baseline_int.src.sweep.sweep.Simulator:Simulating Benchmark: ImageNetSNN\n",
      "INFO:baseline_int.src.sweep.sweep.Simulator:N x M = 64 x 32\n",
      "INFO:baseline_int.src.sweep.sweep.Simulator:Max Precision (bits): 8\n",
      "INFO:baseline_int.src.sweep.sweep.Simulator:Min Precision (bits): 8\n",
      "INFO:baseline_int.src.sweep.sweep.Simulator:Batch size: 100\n",
      "INFO:baseline_int.src.sweep.sweep.Simulator:Bandwidth (bits/cycle): 1024\n",
      " 64%|██████▍   | 51/80 [42:55<20:53, 43.24s/it]"
     ]
    },
    {
     "name": "stdout",
     "output_type": "stream",
     "text": [
      "Got BitFusion Eyeriss, Numbers\n"
     ]
    },
    {
     "name": "stderr",
     "output_type": "stream",
     "text": [
      "INFO:baseline_int.src.sweep.sweep.Simulator:Simulating Benchmark: CIFAR10SNN\n",
      "INFO:baseline_int.src.sweep.sweep.Simulator:N x M = 128 x 32\n",
      "INFO:baseline_int.src.sweep.sweep.Simulator:Max Precision (bits): 8\n",
      "INFO:baseline_int.src.sweep.sweep.Simulator:Min Precision (bits): 8\n",
      "INFO:baseline_int.src.sweep.sweep.Simulator:Batch size: 100\n",
      "INFO:baseline_int.src.sweep.sweep.Simulator:Bandwidth (bits/cycle): 1024\n",
      "INFO:baseline_int.src.sweep.sweep.Simulator:Simulating Benchmark: DVS128Gesture\n",
      "INFO:baseline_int.src.sweep.sweep.Simulator:N x M = 128 x 32\n",
      "INFO:baseline_int.src.sweep.sweep.Simulator:Max Precision (bits): 8\n",
      "INFO:baseline_int.src.sweep.sweep.Simulator:Min Precision (bits): 8\n",
      "INFO:baseline_int.src.sweep.sweep.Simulator:Batch size: 100\n",
      "INFO:baseline_int.src.sweep.sweep.Simulator:Bandwidth (bits/cycle): 1024\n",
      "INFO:baseline_int.src.sweep.sweep.Simulator:Simulating Benchmark: ImageNetSNN\n",
      "INFO:baseline_int.src.sweep.sweep.Simulator:N x M = 128 x 32\n",
      "INFO:baseline_int.src.sweep.sweep.Simulator:Max Precision (bits): 8\n",
      "INFO:baseline_int.src.sweep.sweep.Simulator:Min Precision (bits): 8\n",
      "INFO:baseline_int.src.sweep.sweep.Simulator:Batch size: 100\n",
      "INFO:baseline_int.src.sweep.sweep.Simulator:Bandwidth (bits/cycle): 1024\n",
      " 65%|██████▌   | 52/80 [43:34<19:35, 41.99s/it]"
     ]
    },
    {
     "name": "stdout",
     "output_type": "stream",
     "text": [
      "Got BitFusion Eyeriss, Numbers\n"
     ]
    },
    {
     "name": "stderr",
     "output_type": "stream",
     "text": [
      "INFO:baseline_int.src.sweep.sweep.Simulator:Simulating Benchmark: CIFAR10SNN\n",
      "INFO:baseline_int.src.sweep.sweep.Simulator:N x M = 256 x 32\n",
      "INFO:baseline_int.src.sweep.sweep.Simulator:Max Precision (bits): 8\n",
      "INFO:baseline_int.src.sweep.sweep.Simulator:Min Precision (bits): 8\n",
      "INFO:baseline_int.src.sweep.sweep.Simulator:Batch size: 100\n",
      "INFO:baseline_int.src.sweep.sweep.Simulator:Bandwidth (bits/cycle): 1024\n"
     ]
    },
    {
     "name": "stdout",
     "output_type": "stream",
     "text": [
      "No entry found in /root/code/baseline_int/sram/cacti-master/cacti_sweep.csv, running cacti\n",
      "Current folder: /root/code\n",
      "/root/code/baseline_int/sram/cacti-master/cacti\n",
      "Running cacti with args: ('./cacti', '-infile', 'sweep.cfg')\n"
     ]
    },
    {
     "name": "stderr",
     "output_type": "stream",
     "text": [
      "Cache size must >=64\n",
      "INFO:baseline_int.src.sweep.sweep.Simulator:Simulating Benchmark: DVS128Gesture\n",
      "INFO:baseline_int.src.sweep.sweep.Simulator:N x M = 256 x 32\n",
      "INFO:baseline_int.src.sweep.sweep.Simulator:Max Precision (bits): 8\n",
      "INFO:baseline_int.src.sweep.sweep.Simulator:Min Precision (bits): 8\n",
      "INFO:baseline_int.src.sweep.sweep.Simulator:Batch size: 100\n",
      "INFO:baseline_int.src.sweep.sweep.Simulator:Bandwidth (bits/cycle): 1024\n",
      "INFO:baseline_int.src.sweep.sweep.Simulator:Simulating Benchmark: ImageNetSNN\n",
      "INFO:baseline_int.src.sweep.sweep.Simulator:N x M = 256 x 32\n",
      "INFO:baseline_int.src.sweep.sweep.Simulator:Max Precision (bits): 8\n",
      "INFO:baseline_int.src.sweep.sweep.Simulator:Min Precision (bits): 8\n",
      "INFO:baseline_int.src.sweep.sweep.Simulator:Batch size: 100\n",
      "INFO:baseline_int.src.sweep.sweep.Simulator:Bandwidth (bits/cycle): 1024\n",
      " 66%|██████▋   | 53/80 [44:11<18:14, 40.54s/it]"
     ]
    },
    {
     "name": "stdout",
     "output_type": "stream",
     "text": [
      "Got BitFusion Eyeriss, Numbers\n"
     ]
    },
    {
     "name": "stderr",
     "output_type": "stream",
     "text": [
      "INFO:baseline_int.src.sweep.sweep.Simulator:Simulating Benchmark: CIFAR10SNN\n",
      "INFO:baseline_int.src.sweep.sweep.Simulator:N x M = 1 x 64\n",
      "INFO:baseline_int.src.sweep.sweep.Simulator:Max Precision (bits): 8\n",
      "INFO:baseline_int.src.sweep.sweep.Simulator:Min Precision (bits): 8\n",
      "INFO:baseline_int.src.sweep.sweep.Simulator:Batch size: 100\n",
      "INFO:baseline_int.src.sweep.sweep.Simulator:Bandwidth (bits/cycle): 1024\n",
      "INFO:baseline_int.src.sweep.sweep.Simulator:Simulating Benchmark: DVS128Gesture\n",
      "INFO:baseline_int.src.sweep.sweep.Simulator:N x M = 1 x 64\n",
      "INFO:baseline_int.src.sweep.sweep.Simulator:Max Precision (bits): 8\n",
      "INFO:baseline_int.src.sweep.sweep.Simulator:Min Precision (bits): 8\n",
      "INFO:baseline_int.src.sweep.sweep.Simulator:Batch size: 100\n",
      "INFO:baseline_int.src.sweep.sweep.Simulator:Bandwidth (bits/cycle): 1024\n",
      "INFO:baseline_int.src.sweep.sweep.Simulator:Simulating Benchmark: ImageNetSNN\n",
      "INFO:baseline_int.src.sweep.sweep.Simulator:N x M = 1 x 64\n",
      "INFO:baseline_int.src.sweep.sweep.Simulator:Max Precision (bits): 8\n",
      "INFO:baseline_int.src.sweep.sweep.Simulator:Min Precision (bits): 8\n",
      "INFO:baseline_int.src.sweep.sweep.Simulator:Batch size: 100\n",
      "INFO:baseline_int.src.sweep.sweep.Simulator:Bandwidth (bits/cycle): 1024\n",
      " 68%|██████▊   | 54/80 [44:52<17:40, 40.80s/it]"
     ]
    },
    {
     "name": "stdout",
     "output_type": "stream",
     "text": [
      "Got BitFusion Eyeriss, Numbers\n"
     ]
    },
    {
     "name": "stderr",
     "output_type": "stream",
     "text": [
      "INFO:baseline_int.src.sweep.sweep.Simulator:Simulating Benchmark: CIFAR10SNN\n",
      "INFO:baseline_int.src.sweep.sweep.Simulator:N x M = 2 x 64\n",
      "INFO:baseline_int.src.sweep.sweep.Simulator:Max Precision (bits): 8\n",
      "INFO:baseline_int.src.sweep.sweep.Simulator:Min Precision (bits): 8\n",
      "INFO:baseline_int.src.sweep.sweep.Simulator:Batch size: 100\n",
      "INFO:baseline_int.src.sweep.sweep.Simulator:Bandwidth (bits/cycle): 1024\n",
      "INFO:baseline_int.src.sweep.sweep.Simulator:Simulating Benchmark: DVS128Gesture\n",
      "INFO:baseline_int.src.sweep.sweep.Simulator:N x M = 2 x 64\n",
      "INFO:baseline_int.src.sweep.sweep.Simulator:Max Precision (bits): 8\n",
      "INFO:baseline_int.src.sweep.sweep.Simulator:Min Precision (bits): 8\n",
      "INFO:baseline_int.src.sweep.sweep.Simulator:Batch size: 100\n",
      "INFO:baseline_int.src.sweep.sweep.Simulator:Bandwidth (bits/cycle): 1024\n",
      "INFO:baseline_int.src.sweep.sweep.Simulator:Simulating Benchmark: ImageNetSNN\n",
      "INFO:baseline_int.src.sweep.sweep.Simulator:N x M = 2 x 64\n",
      "INFO:baseline_int.src.sweep.sweep.Simulator:Max Precision (bits): 8\n",
      "INFO:baseline_int.src.sweep.sweep.Simulator:Min Precision (bits): 8\n",
      "INFO:baseline_int.src.sweep.sweep.Simulator:Batch size: 100\n",
      "INFO:baseline_int.src.sweep.sweep.Simulator:Bandwidth (bits/cycle): 1024\n",
      " 69%|██████▉   | 55/80 [45:34<17:07, 41.09s/it]"
     ]
    },
    {
     "name": "stdout",
     "output_type": "stream",
     "text": [
      "Got BitFusion Eyeriss, Numbers\n"
     ]
    },
    {
     "name": "stderr",
     "output_type": "stream",
     "text": [
      "INFO:baseline_int.src.sweep.sweep.Simulator:Simulating Benchmark: CIFAR10SNN\n",
      "INFO:baseline_int.src.sweep.sweep.Simulator:N x M = 4 x 64\n",
      "INFO:baseline_int.src.sweep.sweep.Simulator:Max Precision (bits): 8\n",
      "INFO:baseline_int.src.sweep.sweep.Simulator:Min Precision (bits): 8\n",
      "INFO:baseline_int.src.sweep.sweep.Simulator:Batch size: 100\n",
      "INFO:baseline_int.src.sweep.sweep.Simulator:Bandwidth (bits/cycle): 1024\n",
      "INFO:baseline_int.src.sweep.sweep.Simulator:Simulating Benchmark: DVS128Gesture\n",
      "INFO:baseline_int.src.sweep.sweep.Simulator:N x M = 4 x 64\n",
      "INFO:baseline_int.src.sweep.sweep.Simulator:Max Precision (bits): 8\n",
      "INFO:baseline_int.src.sweep.sweep.Simulator:Min Precision (bits): 8\n",
      "INFO:baseline_int.src.sweep.sweep.Simulator:Batch size: 100\n",
      "INFO:baseline_int.src.sweep.sweep.Simulator:Bandwidth (bits/cycle): 1024\n",
      "INFO:baseline_int.src.sweep.sweep.Simulator:Simulating Benchmark: ImageNetSNN\n",
      "INFO:baseline_int.src.sweep.sweep.Simulator:N x M = 4 x 64\n",
      "INFO:baseline_int.src.sweep.sweep.Simulator:Max Precision (bits): 8\n",
      "INFO:baseline_int.src.sweep.sweep.Simulator:Min Precision (bits): 8\n",
      "INFO:baseline_int.src.sweep.sweep.Simulator:Batch size: 100\n",
      "INFO:baseline_int.src.sweep.sweep.Simulator:Bandwidth (bits/cycle): 1024\n",
      " 70%|███████   | 56/80 [46:15<16:26, 41.12s/it]"
     ]
    },
    {
     "name": "stdout",
     "output_type": "stream",
     "text": [
      "Got BitFusion Eyeriss, Numbers\n"
     ]
    },
    {
     "name": "stderr",
     "output_type": "stream",
     "text": [
      "INFO:baseline_int.src.sweep.sweep.Simulator:Simulating Benchmark: CIFAR10SNN\n",
      "INFO:baseline_int.src.sweep.sweep.Simulator:N x M = 8 x 64\n",
      "INFO:baseline_int.src.sweep.sweep.Simulator:Max Precision (bits): 8\n",
      "INFO:baseline_int.src.sweep.sweep.Simulator:Min Precision (bits): 8\n",
      "INFO:baseline_int.src.sweep.sweep.Simulator:Batch size: 100\n",
      "INFO:baseline_int.src.sweep.sweep.Simulator:Bandwidth (bits/cycle): 1024\n",
      "INFO:baseline_int.src.sweep.sweep.Simulator:Simulating Benchmark: DVS128Gesture\n",
      "INFO:baseline_int.src.sweep.sweep.Simulator:N x M = 8 x 64\n",
      "INFO:baseline_int.src.sweep.sweep.Simulator:Max Precision (bits): 8\n",
      "INFO:baseline_int.src.sweep.sweep.Simulator:Min Precision (bits): 8\n",
      "INFO:baseline_int.src.sweep.sweep.Simulator:Batch size: 100\n",
      "INFO:baseline_int.src.sweep.sweep.Simulator:Bandwidth (bits/cycle): 1024\n",
      "INFO:baseline_int.src.sweep.sweep.Simulator:Simulating Benchmark: ImageNetSNN\n",
      "INFO:baseline_int.src.sweep.sweep.Simulator:N x M = 8 x 64\n",
      "INFO:baseline_int.src.sweep.sweep.Simulator:Max Precision (bits): 8\n",
      "INFO:baseline_int.src.sweep.sweep.Simulator:Min Precision (bits): 8\n",
      "INFO:baseline_int.src.sweep.sweep.Simulator:Batch size: 100\n",
      "INFO:baseline_int.src.sweep.sweep.Simulator:Bandwidth (bits/cycle): 1024\n",
      " 71%|███████▏  | 57/80 [46:56<15:46, 41.15s/it]"
     ]
    },
    {
     "name": "stdout",
     "output_type": "stream",
     "text": [
      "Got BitFusion Eyeriss, Numbers\n"
     ]
    },
    {
     "name": "stderr",
     "output_type": "stream",
     "text": [
      "INFO:baseline_int.src.sweep.sweep.Simulator:Simulating Benchmark: CIFAR10SNN\n",
      "INFO:baseline_int.src.sweep.sweep.Simulator:N x M = 16 x 64\n",
      "INFO:baseline_int.src.sweep.sweep.Simulator:Max Precision (bits): 8\n",
      "INFO:baseline_int.src.sweep.sweep.Simulator:Min Precision (bits): 8\n",
      "INFO:baseline_int.src.sweep.sweep.Simulator:Batch size: 100\n",
      "INFO:baseline_int.src.sweep.sweep.Simulator:Bandwidth (bits/cycle): 1024\n",
      "INFO:baseline_int.src.sweep.sweep.Simulator:Simulating Benchmark: DVS128Gesture\n",
      "INFO:baseline_int.src.sweep.sweep.Simulator:N x M = 16 x 64\n",
      "INFO:baseline_int.src.sweep.sweep.Simulator:Max Precision (bits): 8\n",
      "INFO:baseline_int.src.sweep.sweep.Simulator:Min Precision (bits): 8\n",
      "INFO:baseline_int.src.sweep.sweep.Simulator:Batch size: 100\n",
      "INFO:baseline_int.src.sweep.sweep.Simulator:Bandwidth (bits/cycle): 1024\n",
      "INFO:baseline_int.src.sweep.sweep.Simulator:Simulating Benchmark: ImageNetSNN\n",
      "INFO:baseline_int.src.sweep.sweep.Simulator:N x M = 16 x 64\n",
      "INFO:baseline_int.src.sweep.sweep.Simulator:Max Precision (bits): 8\n",
      "INFO:baseline_int.src.sweep.sweep.Simulator:Min Precision (bits): 8\n",
      "INFO:baseline_int.src.sweep.sweep.Simulator:Batch size: 100\n",
      "INFO:baseline_int.src.sweep.sweep.Simulator:Bandwidth (bits/cycle): 1024\n",
      " 72%|███████▎  | 58/80 [47:37<15:03, 41.08s/it]"
     ]
    },
    {
     "name": "stdout",
     "output_type": "stream",
     "text": [
      "Got BitFusion Eyeriss, Numbers\n"
     ]
    },
    {
     "name": "stderr",
     "output_type": "stream",
     "text": [
      "INFO:baseline_int.src.sweep.sweep.Simulator:Simulating Benchmark: CIFAR10SNN\n",
      "INFO:baseline_int.src.sweep.sweep.Simulator:N x M = 32 x 64\n",
      "INFO:baseline_int.src.sweep.sweep.Simulator:Max Precision (bits): 8\n",
      "INFO:baseline_int.src.sweep.sweep.Simulator:Min Precision (bits): 8\n",
      "INFO:baseline_int.src.sweep.sweep.Simulator:Batch size: 100\n",
      "INFO:baseline_int.src.sweep.sweep.Simulator:Bandwidth (bits/cycle): 1024\n",
      "INFO:baseline_int.src.sweep.sweep.Simulator:Simulating Benchmark: DVS128Gesture\n",
      "INFO:baseline_int.src.sweep.sweep.Simulator:N x M = 32 x 64\n",
      "INFO:baseline_int.src.sweep.sweep.Simulator:Max Precision (bits): 8\n",
      "INFO:baseline_int.src.sweep.sweep.Simulator:Min Precision (bits): 8\n",
      "INFO:baseline_int.src.sweep.sweep.Simulator:Batch size: 100\n",
      "INFO:baseline_int.src.sweep.sweep.Simulator:Bandwidth (bits/cycle): 1024\n",
      "INFO:baseline_int.src.sweep.sweep.Simulator:Simulating Benchmark: ImageNetSNN\n",
      "INFO:baseline_int.src.sweep.sweep.Simulator:N x M = 32 x 64\n",
      "INFO:baseline_int.src.sweep.sweep.Simulator:Max Precision (bits): 8\n",
      "INFO:baseline_int.src.sweep.sweep.Simulator:Min Precision (bits): 8\n",
      "INFO:baseline_int.src.sweep.sweep.Simulator:Batch size: 100\n",
      "INFO:baseline_int.src.sweep.sweep.Simulator:Bandwidth (bits/cycle): 1024\n",
      " 74%|███████▍  | 59/80 [48:17<14:13, 40.64s/it]"
     ]
    },
    {
     "name": "stdout",
     "output_type": "stream",
     "text": [
      "Got BitFusion Eyeriss, Numbers\n"
     ]
    },
    {
     "name": "stderr",
     "output_type": "stream",
     "text": [
      "INFO:baseline_int.src.sweep.sweep.Simulator:Simulating Benchmark: CIFAR10SNN\n",
      "INFO:baseline_int.src.sweep.sweep.Simulator:N x M = 64 x 64\n",
      "INFO:baseline_int.src.sweep.sweep.Simulator:Max Precision (bits): 8\n",
      "INFO:baseline_int.src.sweep.sweep.Simulator:Min Precision (bits): 8\n",
      "INFO:baseline_int.src.sweep.sweep.Simulator:Batch size: 100\n",
      "INFO:baseline_int.src.sweep.sweep.Simulator:Bandwidth (bits/cycle): 1024\n",
      "INFO:baseline_int.src.sweep.sweep.Simulator:Simulating Benchmark: DVS128Gesture\n",
      "INFO:baseline_int.src.sweep.sweep.Simulator:N x M = 64 x 64\n",
      "INFO:baseline_int.src.sweep.sweep.Simulator:Max Precision (bits): 8\n",
      "INFO:baseline_int.src.sweep.sweep.Simulator:Min Precision (bits): 8\n",
      "INFO:baseline_int.src.sweep.sweep.Simulator:Batch size: 100\n",
      "INFO:baseline_int.src.sweep.sweep.Simulator:Bandwidth (bits/cycle): 1024\n",
      "INFO:baseline_int.src.sweep.sweep.Simulator:Simulating Benchmark: ImageNetSNN\n",
      "INFO:baseline_int.src.sweep.sweep.Simulator:N x M = 64 x 64\n",
      "INFO:baseline_int.src.sweep.sweep.Simulator:Max Precision (bits): 8\n",
      "INFO:baseline_int.src.sweep.sweep.Simulator:Min Precision (bits): 8\n",
      "INFO:baseline_int.src.sweep.sweep.Simulator:Batch size: 100\n",
      "INFO:baseline_int.src.sweep.sweep.Simulator:Bandwidth (bits/cycle): 1024\n",
      " 75%|███████▌  | 60/80 [48:55<13:18, 39.92s/it]"
     ]
    },
    {
     "name": "stdout",
     "output_type": "stream",
     "text": [
      "Got BitFusion Eyeriss, Numbers\n"
     ]
    },
    {
     "name": "stderr",
     "output_type": "stream",
     "text": [
      "INFO:baseline_int.src.sweep.sweep.Simulator:Simulating Benchmark: CIFAR10SNN\n",
      "INFO:baseline_int.src.sweep.sweep.Simulator:N x M = 128 x 64\n",
      "INFO:baseline_int.src.sweep.sweep.Simulator:Max Precision (bits): 8\n",
      "INFO:baseline_int.src.sweep.sweep.Simulator:Min Precision (bits): 8\n",
      "INFO:baseline_int.src.sweep.sweep.Simulator:Batch size: 100\n",
      "INFO:baseline_int.src.sweep.sweep.Simulator:Bandwidth (bits/cycle): 1024\n",
      "INFO:baseline_int.src.sweep.sweep.Simulator:Simulating Benchmark: DVS128Gesture\n",
      "INFO:baseline_int.src.sweep.sweep.Simulator:N x M = 128 x 64\n",
      "INFO:baseline_int.src.sweep.sweep.Simulator:Max Precision (bits): 8\n",
      "INFO:baseline_int.src.sweep.sweep.Simulator:Min Precision (bits): 8\n",
      "INFO:baseline_int.src.sweep.sweep.Simulator:Batch size: 100\n",
      "INFO:baseline_int.src.sweep.sweep.Simulator:Bandwidth (bits/cycle): 1024\n",
      "INFO:baseline_int.src.sweep.sweep.Simulator:Simulating Benchmark: ImageNetSNN\n",
      "INFO:baseline_int.src.sweep.sweep.Simulator:N x M = 128 x 64\n",
      "INFO:baseline_int.src.sweep.sweep.Simulator:Max Precision (bits): 8\n",
      "INFO:baseline_int.src.sweep.sweep.Simulator:Min Precision (bits): 8\n",
      "INFO:baseline_int.src.sweep.sweep.Simulator:Batch size: 100\n",
      "INFO:baseline_int.src.sweep.sweep.Simulator:Bandwidth (bits/cycle): 1024\n",
      " 76%|███████▋  | 61/80 [49:31<12:17, 38.82s/it]"
     ]
    },
    {
     "name": "stdout",
     "output_type": "stream",
     "text": [
      "Got BitFusion Eyeriss, Numbers\n"
     ]
    },
    {
     "name": "stderr",
     "output_type": "stream",
     "text": [
      "INFO:baseline_int.src.sweep.sweep.Simulator:Simulating Benchmark: CIFAR10SNN\n",
      "INFO:baseline_int.src.sweep.sweep.Simulator:N x M = 256 x 64\n",
      "INFO:baseline_int.src.sweep.sweep.Simulator:Max Precision (bits): 8\n",
      "INFO:baseline_int.src.sweep.sweep.Simulator:Min Precision (bits): 8\n",
      "INFO:baseline_int.src.sweep.sweep.Simulator:Batch size: 100\n",
      "INFO:baseline_int.src.sweep.sweep.Simulator:Bandwidth (bits/cycle): 1024\n"
     ]
    },
    {
     "name": "stdout",
     "output_type": "stream",
     "text": [
      "Not found\n",
      "(<baseline_int.src.simulator.accelerator.Accelerator object at 0x7f26ea23c490>, 3, 128, 1, 2, 128, 100, 1, 8, True, 8, True, EnergyTuple(core_dynamic_energy=3.2110208, wbuf_read_energy=nan, wbuf_write_energy=nan, ibuf_read_energy=3.6938e-05, ibuf_write_energy=4.0747875e-05, obuf_read_energy=2.26818125e-05, obuf_write_energy=3.5384375e-05))\n",
      "Not found\n",
      "(<baseline_int.src.simulator.accelerator.Accelerator object at 0x7f26ea23c490>, 3, 128, 1, 2, 128, 100, 1, 8, True, 8, True, EnergyTuple(core_dynamic_energy=3.2110208, wbuf_read_energy=nan, wbuf_write_energy=nan, ibuf_read_energy=3.6938e-05, ibuf_write_energy=4.0747875e-05, obuf_read_energy=2.26818125e-05, obuf_write_energy=3.5384375e-05))\n",
      "Not found\n",
      "(<baseline_int.src.simulator.accelerator.Accelerator object at 0x7f26ea23c490>, 3, 128, 1, 2, 128, 100, 1, 8, True, 8, True, EnergyTuple(core_dynamic_energy=3.2110208, wbuf_read_energy=nan, wbuf_write_energy=nan, ibuf_read_energy=3.6938e-05, ibuf_write_energy=4.0747875e-05, obuf_read_energy=2.26818125e-05, obuf_write_energy=3.5384375e-05))\n",
      "Not found\n",
      "(<baseline_int.src.simulator.accelerator.Accelerator object at 0x7f26ea23c490>, 3, 128, 1, 2, 128, 100, 1, 8, True, 8, True, EnergyTuple(core_dynamic_energy=3.2110208, wbuf_read_energy=nan, wbuf_write_energy=nan, ibuf_read_energy=3.6938e-05, ibuf_write_energy=4.0747875e-05, obuf_read_energy=2.26818125e-05, obuf_write_energy=3.5384375e-05))\n",
      "Not found\n",
      "(<baseline_int.src.simulator.accelerator.Accelerator object at 0x7f26ea23c490>, 3, 128, 1, 2, 128, 100, 1, 8, True, 8, True, EnergyTuple(core_dynamic_energy=3.2110208, wbuf_read_energy=nan, wbuf_write_energy=nan, ibuf_read_energy=3.6938e-05, ibuf_write_energy=4.0747875e-05, obuf_read_energy=2.26818125e-05, obuf_write_energy=3.5384375e-05))\n",
      "Not found\n",
      "(<baseline_int.src.simulator.accelerator.Accelerator object at 0x7f26ea23c490>, 3, 128, 1, 2, 128, 100, 1, 8, True, 8, True, EnergyTuple(core_dynamic_energy=3.2110208, wbuf_read_energy=nan, wbuf_write_energy=nan, ibuf_read_energy=3.6938e-05, ibuf_write_energy=4.0747875e-05, obuf_read_energy=2.26818125e-05, obuf_write_energy=3.5384375e-05))\n",
      "Not found\n",
      "(<baseline_int.src.simulator.accelerator.Accelerator object at 0x7f26ea23c490>, 3, 128, 1, 2, 128, 100, 1, 8, True, 8, True, EnergyTuple(core_dynamic_energy=3.2110208, wbuf_read_energy=nan, wbuf_write_energy=nan, ibuf_read_energy=3.6938e-05, ibuf_write_energy=4.0747875e-05, obuf_read_energy=2.26818125e-05, obuf_write_energy=3.5384375e-05))\n",
      "Not found\n",
      "(<baseline_int.src.simulator.accelerator.Accelerator object at 0x7f26ea23c490>, 3, 128, 1, 2, 128, 100, 1, 8, True, 8, True, EnergyTuple(core_dynamic_energy=3.2110208, wbuf_read_energy=nan, wbuf_write_energy=nan, ibuf_read_energy=3.6938e-05, ibuf_write_energy=4.0747875e-05, obuf_read_energy=2.26818125e-05, obuf_write_energy=3.5384375e-05))\n",
      "Not found\n",
      "(<baseline_int.src.simulator.accelerator.Accelerator object at 0x7f26ea23c490>, 3, 128, 1, 2, 128, 100, 1, 8, True, 8, True, EnergyTuple(core_dynamic_energy=3.2110208, wbuf_read_energy=nan, wbuf_write_energy=nan, ibuf_read_energy=3.6938e-05, ibuf_write_energy=4.0747875e-05, obuf_read_energy=2.26818125e-05, obuf_write_energy=3.5384375e-05))\n",
      "Not found\n",
      "(<baseline_int.src.simulator.accelerator.Accelerator object at 0x7f26ea23c490>, 3, 128, 1, 2, 128, 100, 1, 8, True, 8, True, EnergyTuple(core_dynamic_energy=3.2110208, wbuf_read_energy=nan, wbuf_write_energy=nan, ibuf_read_energy=3.6938e-05, ibuf_write_energy=4.0747875e-05, obuf_read_energy=2.26818125e-05, obuf_write_energy=3.5384375e-05))\n",
      "Not found\n",
      "(<baseline_int.src.simulator.accelerator.Accelerator object at 0x7f26ea23c490>, 3, 128, 1, 2, 128, 100, 1, 8, True, 8, True, EnergyTuple(core_dynamic_energy=3.2110208, wbuf_read_energy=nan, wbuf_write_energy=nan, ibuf_read_energy=3.6938e-05, ibuf_write_energy=4.0747875e-05, obuf_read_energy=2.26818125e-05, obuf_write_energy=3.5384375e-05))\n",
      "Not found\n",
      "(<baseline_int.src.simulator.accelerator.Accelerator object at 0x7f26ea23c490>, 3, 128, 1, 2, 128, 100, 1, 8, True, 8, True, EnergyTuple(core_dynamic_energy=3.2110208, wbuf_read_energy=nan, wbuf_write_energy=nan, ibuf_read_energy=3.6938e-05, ibuf_write_energy=4.0747875e-05, obuf_read_energy=2.26818125e-05, obuf_write_energy=3.5384375e-05))\n",
      "Not found\n",
      "(<baseline_int.src.simulator.accelerator.Accelerator object at 0x7f26ea23c490>, 3, 128, 1, 2, 128, 100, 1, 8, True, 8, True, EnergyTuple(core_dynamic_energy=3.2110208, wbuf_read_energy=nan, wbuf_write_energy=nan, ibuf_read_energy=3.6938e-05, ibuf_write_energy=4.0747875e-05, obuf_read_energy=2.26818125e-05, obuf_write_energy=3.5384375e-05))\n",
      "Not found\n",
      "(<baseline_int.src.simulator.accelerator.Accelerator object at 0x7f26ea23c490>, 3, 128, 1, 2, 128, 100, 1, 8, True, 8, True, EnergyTuple(core_dynamic_energy=3.2110208, wbuf_read_energy=nan, wbuf_write_energy=nan, ibuf_read_energy=3.6938e-05, ibuf_write_energy=4.0747875e-05, obuf_read_energy=2.26818125e-05, obuf_write_energy=3.5384375e-05))\n",
      "Not found\n",
      "(<baseline_int.src.simulator.accelerator.Accelerator object at 0x7f26ea23c490>, 3, 128, 1, 2, 128, 100, 1, 8, True, 8, True, EnergyTuple(core_dynamic_energy=3.2110208, wbuf_read_energy=nan, wbuf_write_energy=nan, ibuf_read_energy=3.6938e-05, ibuf_write_energy=4.0747875e-05, obuf_read_energy=2.26818125e-05, obuf_write_energy=3.5384375e-05))\n",
      "Not found\n",
      "(<baseline_int.src.simulator.accelerator.Accelerator object at 0x7f26ea23c490>, 3, 128, 1, 2, 128, 100, 1, 8, True, 8, True, EnergyTuple(core_dynamic_energy=3.2110208, wbuf_read_energy=nan, wbuf_write_energy=nan, ibuf_read_energy=3.6938e-05, ibuf_write_energy=4.0747875e-05, obuf_read_energy=2.26818125e-05, obuf_write_energy=3.5384375e-05))\n",
      "Not found\n",
      "(<baseline_int.src.simulator.accelerator.Accelerator object at 0x7f26ea23c490>, 3, 128, 1, 2, 128, 100, 1, 8, True, 8, True, EnergyTuple(core_dynamic_energy=3.2110208, wbuf_read_energy=nan, wbuf_write_energy=nan, ibuf_read_energy=3.6938e-05, ibuf_write_energy=4.0747875e-05, obuf_read_energy=2.26818125e-05, obuf_write_energy=3.5384375e-05))\n",
      "Not found\n",
      "(<baseline_int.src.simulator.accelerator.Accelerator object at 0x7f26ea23c490>, 3, 128, 1, 2, 128, 100, 1, 8, True, 8, True, EnergyTuple(core_dynamic_energy=3.2110208, wbuf_read_energy=nan, wbuf_write_energy=nan, ibuf_read_energy=3.6938e-05, ibuf_write_energy=4.0747875e-05, obuf_read_energy=2.26818125e-05, obuf_write_energy=3.5384375e-05))\n",
      "Not found\n",
      "(<baseline_int.src.simulator.accelerator.Accelerator object at 0x7f26ea23c490>, 3, 128, 1, 2, 128, 100, 1, 8, True, 8, True, EnergyTuple(core_dynamic_energy=3.2110208, wbuf_read_energy=nan, wbuf_write_energy=nan, ibuf_read_energy=3.6938e-05, ibuf_write_energy=4.0747875e-05, obuf_read_energy=2.26818125e-05, obuf_write_energy=3.5384375e-05))\n",
      "Not found\n",
      "(<baseline_int.src.simulator.accelerator.Accelerator object at 0x7f26ea23c490>, 3, 128, 1, 2, 128, 100, 1, 8, True, 8, True, EnergyTuple(core_dynamic_energy=3.2110208, wbuf_read_energy=nan, wbuf_write_energy=nan, ibuf_read_energy=3.6938e-05, ibuf_write_energy=4.0747875e-05, obuf_read_energy=2.26818125e-05, obuf_write_energy=3.5384375e-05))\n",
      "Not found\n",
      "(<baseline_int.src.simulator.accelerator.Accelerator object at 0x7f26ea23c490>, 3, 128, 1, 2, 128, 100, 1, 8, True, 8, True, EnergyTuple(core_dynamic_energy=3.2110208, wbuf_read_energy=nan, wbuf_write_energy=nan, ibuf_read_energy=3.6938e-05, ibuf_write_energy=4.0747875e-05, obuf_read_energy=2.26818125e-05, obuf_write_energy=3.5384375e-05))\n",
      "Not found\n",
      "(<baseline_int.src.simulator.accelerator.Accelerator object at 0x7f26ea23c490>, 3, 128, 1, 2, 128, 100, 1, 8, True, 8, True, EnergyTuple(core_dynamic_energy=3.2110208, wbuf_read_energy=nan, wbuf_write_energy=nan, ibuf_read_energy=3.6938e-05, ibuf_write_energy=4.0747875e-05, obuf_read_energy=2.26818125e-05, obuf_write_energy=3.5384375e-05))\n",
      "Not found\n",
      "(<baseline_int.src.simulator.accelerator.Accelerator object at 0x7f26ea23c490>, 3, 128, 1, 2, 128, 100, 1, 8, True, 8, True, EnergyTuple(core_dynamic_energy=3.2110208, wbuf_read_energy=nan, wbuf_write_energy=nan, ibuf_read_energy=3.6938e-05, ibuf_write_energy=4.0747875e-05, obuf_read_energy=2.26818125e-05, obuf_write_energy=3.5384375e-05))\n",
      "Not found\n",
      "(<baseline_int.src.simulator.accelerator.Accelerator object at 0x7f26ea23c490>, 3, 128, 1, 2, 128, 100, 1, 8, True, 8, True, EnergyTuple(core_dynamic_energy=3.2110208, wbuf_read_energy=nan, wbuf_write_energy=nan, ibuf_read_energy=3.6938e-05, ibuf_write_energy=4.0747875e-05, obuf_read_energy=2.26818125e-05, obuf_write_energy=3.5384375e-05))\n",
      "Not found\n",
      "(<baseline_int.src.simulator.accelerator.Accelerator object at 0x7f26ea23c490>, 3, 128, 1, 2, 128, 100, 1, 8, True, 8, True, EnergyTuple(core_dynamic_energy=3.2110208, wbuf_read_energy=nan, wbuf_write_energy=nan, ibuf_read_energy=3.6938e-05, ibuf_write_energy=4.0747875e-05, obuf_read_energy=2.26818125e-05, obuf_write_energy=3.5384375e-05))\n",
      "Not found\n",
      "(<baseline_int.src.simulator.accelerator.Accelerator object at 0x7f26ea23c490>, 3, 128, 1, 2, 128, 100, 1, 8, True, 8, True, EnergyTuple(core_dynamic_energy=3.2110208, wbuf_read_energy=nan, wbuf_write_energy=nan, ibuf_read_energy=3.6938e-05, ibuf_write_energy=4.0747875e-05, obuf_read_energy=2.26818125e-05, obuf_write_energy=3.5384375e-05))\n",
      "Not found\n",
      "(<baseline_int.src.simulator.accelerator.Accelerator object at 0x7f26ea23c490>, 3, 128, 1, 2, 128, 100, 1, 8, True, 8, True, EnergyTuple(core_dynamic_energy=3.2110208, wbuf_read_energy=nan, wbuf_write_energy=nan, ibuf_read_energy=3.6938e-05, ibuf_write_energy=4.0747875e-05, obuf_read_energy=2.26818125e-05, obuf_write_energy=3.5384375e-05))\n",
      "Not found\n",
      "(<baseline_int.src.simulator.accelerator.Accelerator object at 0x7f26ea23c490>, 3, 128, 1, 2, 128, 100, 1, 8, True, 8, True, EnergyTuple(core_dynamic_energy=3.2110208, wbuf_read_energy=nan, wbuf_write_energy=nan, ibuf_read_energy=3.6938e-05, ibuf_write_energy=4.0747875e-05, obuf_read_energy=2.26818125e-05, obuf_write_energy=3.5384375e-05))\n",
      "Not found\n",
      "(<baseline_int.src.simulator.accelerator.Accelerator object at 0x7f26ea23c490>, 3, 128, 1, 2, 128, 100, 1, 8, True, 8, True, EnergyTuple(core_dynamic_energy=3.2110208, wbuf_read_energy=nan, wbuf_write_energy=nan, ibuf_read_energy=3.6938e-05, ibuf_write_energy=4.0747875e-05, obuf_read_energy=2.26818125e-05, obuf_write_energy=3.5384375e-05))\n",
      "Not found\n",
      "(<baseline_int.src.simulator.accelerator.Accelerator object at 0x7f26ea23c490>, 3, 128, 1, 2, 128, 100, 1, 8, True, 8, True, EnergyTuple(core_dynamic_energy=3.2110208, wbuf_read_energy=nan, wbuf_write_energy=nan, ibuf_read_energy=3.6938e-05, ibuf_write_energy=4.0747875e-05, obuf_read_energy=2.26818125e-05, obuf_write_energy=3.5384375e-05))\n",
      "Not found\n",
      "(<baseline_int.src.simulator.accelerator.Accelerator object at 0x7f26ea23c490>, 3, 128, 1, 2, 128, 100, 1, 8, True, 8, True, EnergyTuple(core_dynamic_energy=3.2110208, wbuf_read_energy=nan, wbuf_write_energy=nan, ibuf_read_energy=3.6938e-05, ibuf_write_energy=4.0747875e-05, obuf_read_energy=2.26818125e-05, obuf_write_energy=3.5384375e-05))\n",
      "Not found\n",
      "(<baseline_int.src.simulator.accelerator.Accelerator object at 0x7f26ea23c490>, 3, 128, 1, 2, 128, 100, 1, 8, True, 8, True, EnergyTuple(core_dynamic_energy=3.2110208, wbuf_read_energy=nan, wbuf_write_energy=nan, ibuf_read_energy=3.6938e-05, ibuf_write_energy=4.0747875e-05, obuf_read_energy=2.26818125e-05, obuf_write_energy=3.5384375e-05))\n",
      "Not found\n",
      "(<baseline_int.src.simulator.accelerator.Accelerator object at 0x7f26ea23c490>, 3, 128, 1, 2, 128, 100, 1, 8, True, 8, True, EnergyTuple(core_dynamic_energy=3.2110208, wbuf_read_energy=nan, wbuf_write_energy=nan, ibuf_read_energy=3.6938e-05, ibuf_write_energy=4.0747875e-05, obuf_read_energy=2.26818125e-05, obuf_write_energy=3.5384375e-05))\n",
      "Not found\n",
      "(<baseline_int.src.simulator.accelerator.Accelerator object at 0x7f26ea23c490>, 3, 128, 1, 2, 128, 100, 1, 8, True, 8, True, EnergyTuple(core_dynamic_energy=3.2110208, wbuf_read_energy=nan, wbuf_write_energy=nan, ibuf_read_energy=3.6938e-05, ibuf_write_energy=4.0747875e-05, obuf_read_energy=2.26818125e-05, obuf_write_energy=3.5384375e-05))\n",
      "Not found\n",
      "(<baseline_int.src.simulator.accelerator.Accelerator object at 0x7f26ea23c490>, 3, 128, 1, 2, 128, 100, 1, 8, True, 8, True, EnergyTuple(core_dynamic_energy=3.2110208, wbuf_read_energy=nan, wbuf_write_energy=nan, ibuf_read_energy=3.6938e-05, ibuf_write_energy=4.0747875e-05, obuf_read_energy=2.26818125e-05, obuf_write_energy=3.5384375e-05))\n",
      "Not found\n",
      "(<baseline_int.src.simulator.accelerator.Accelerator object at 0x7f26ea23c490>, 3, 128, 1, 2, 128, 100, 1, 8, True, 8, True, EnergyTuple(core_dynamic_energy=3.2110208, wbuf_read_energy=nan, wbuf_write_energy=nan, ibuf_read_energy=3.6938e-05, ibuf_write_energy=4.0747875e-05, obuf_read_energy=2.26818125e-05, obuf_write_energy=3.5384375e-05))\n",
      "Not found\n",
      "(<baseline_int.src.simulator.accelerator.Accelerator object at 0x7f26ea23c490>, 3, 128, 1, 2, 128, 100, 1, 8, True, 8, True, EnergyTuple(core_dynamic_energy=3.2110208, wbuf_read_energy=nan, wbuf_write_energy=nan, ibuf_read_energy=3.6938e-05, ibuf_write_energy=4.0747875e-05, obuf_read_energy=2.26818125e-05, obuf_write_energy=3.5384375e-05))\n",
      "Not found\n",
      "(<baseline_int.src.simulator.accelerator.Accelerator object at 0x7f26ea23c490>, 3, 128, 1, 2, 128, 100, 1, 8, True, 8, True, EnergyTuple(core_dynamic_energy=3.2110208, wbuf_read_energy=nan, wbuf_write_energy=nan, ibuf_read_energy=3.6938e-05, ibuf_write_energy=4.0747875e-05, obuf_read_energy=2.26818125e-05, obuf_write_energy=3.5384375e-05))\n",
      "Not found\n",
      "(<baseline_int.src.simulator.accelerator.Accelerator object at 0x7f26ea23c490>, 3, 128, 1, 2, 128, 100, 1, 8, True, 8, True, EnergyTuple(core_dynamic_energy=3.2110208, wbuf_read_energy=nan, wbuf_write_energy=nan, ibuf_read_energy=3.6938e-05, ibuf_write_energy=4.0747875e-05, obuf_read_energy=2.26818125e-05, obuf_write_energy=3.5384375e-05))\n",
      "Not found\n",
      "(<baseline_int.src.simulator.accelerator.Accelerator object at 0x7f26ea23c490>, 3, 128, 1, 2, 128, 100, 1, 8, True, 8, True, EnergyTuple(core_dynamic_energy=3.2110208, wbuf_read_energy=nan, wbuf_write_energy=nan, ibuf_read_energy=3.6938e-05, ibuf_write_energy=4.0747875e-05, obuf_read_energy=2.26818125e-05, obuf_write_energy=3.5384375e-05))\n",
      "Not found\n",
      "(<baseline_int.src.simulator.accelerator.Accelerator object at 0x7f26ea23c490>, 3, 128, 1, 2, 128, 100, 1, 8, True, 8, True, EnergyTuple(core_dynamic_energy=3.2110208, wbuf_read_energy=nan, wbuf_write_energy=nan, ibuf_read_energy=3.6938e-05, ibuf_write_energy=4.0747875e-05, obuf_read_energy=2.26818125e-05, obuf_write_energy=3.5384375e-05))\n",
      "Not found\n",
      "(<baseline_int.src.simulator.accelerator.Accelerator object at 0x7f26ea23c490>, 3, 128, 1, 2, 128, 100, 1, 8, True, 8, True, EnergyTuple(core_dynamic_energy=3.2110208, wbuf_read_energy=nan, wbuf_write_energy=nan, ibuf_read_energy=3.6938e-05, ibuf_write_energy=4.0747875e-05, obuf_read_energy=2.26818125e-05, obuf_write_energy=3.5384375e-05))\n",
      "Not found\n",
      "(<baseline_int.src.simulator.accelerator.Accelerator object at 0x7f26ea23c490>, 3, 128, 1, 2, 128, 100, 1, 8, True, 8, True, EnergyTuple(core_dynamic_energy=3.2110208, wbuf_read_energy=nan, wbuf_write_energy=nan, ibuf_read_energy=3.6938e-05, ibuf_write_energy=4.0747875e-05, obuf_read_energy=2.26818125e-05, obuf_write_energy=3.5384375e-05))\n",
      "Not found\n",
      "(<baseline_int.src.simulator.accelerator.Accelerator object at 0x7f26ea23c490>, 3, 128, 1, 2, 128, 100, 1, 8, True, 8, True, EnergyTuple(core_dynamic_energy=3.2110208, wbuf_read_energy=nan, wbuf_write_energy=nan, ibuf_read_energy=3.6938e-05, ibuf_write_energy=4.0747875e-05, obuf_read_energy=2.26818125e-05, obuf_write_energy=3.5384375e-05))\n",
      "Not found\n",
      "(<baseline_int.src.simulator.accelerator.Accelerator object at 0x7f26ea23c490>, 3, 128, 1, 2, 128, 100, 1, 8, True, 8, True, EnergyTuple(core_dynamic_energy=3.2110208, wbuf_read_energy=nan, wbuf_write_energy=nan, ibuf_read_energy=3.6938e-05, ibuf_write_energy=4.0747875e-05, obuf_read_energy=2.26818125e-05, obuf_write_energy=3.5384375e-05))\n",
      "Not found\n",
      "(<baseline_int.src.simulator.accelerator.Accelerator object at 0x7f26ea23c490>, 3, 128, 1, 2, 128, 100, 1, 8, True, 8, True, EnergyTuple(core_dynamic_energy=3.2110208, wbuf_read_energy=nan, wbuf_write_energy=nan, ibuf_read_energy=3.6938e-05, ibuf_write_energy=4.0747875e-05, obuf_read_energy=2.26818125e-05, obuf_write_energy=3.5384375e-05))\n",
      "Not found\n",
      "(<baseline_int.src.simulator.accelerator.Accelerator object at 0x7f26ea23c490>, 3, 128, 1, 2, 128, 100, 1, 8, True, 8, True, EnergyTuple(core_dynamic_energy=3.2110208, wbuf_read_energy=nan, wbuf_write_energy=nan, ibuf_read_energy=3.6938e-05, ibuf_write_energy=4.0747875e-05, obuf_read_energy=2.26818125e-05, obuf_write_energy=3.5384375e-05))\n",
      "Not found\n",
      "(<baseline_int.src.simulator.accelerator.Accelerator object at 0x7f26ea23c490>, 3, 128, 1, 2, 128, 100, 1, 8, True, 8, True, EnergyTuple(core_dynamic_energy=3.2110208, wbuf_read_energy=nan, wbuf_write_energy=nan, ibuf_read_energy=3.6938e-05, ibuf_write_energy=4.0747875e-05, obuf_read_energy=2.26818125e-05, obuf_write_energy=3.5384375e-05))\n",
      "Not found\n",
      "(<baseline_int.src.simulator.accelerator.Accelerator object at 0x7f26ea23c490>, 3, 128, 1, 2, 128, 100, 1, 8, True, 8, True, EnergyTuple(core_dynamic_energy=3.2110208, wbuf_read_energy=nan, wbuf_write_energy=nan, ibuf_read_energy=3.6938e-05, ibuf_write_energy=4.0747875e-05, obuf_read_energy=2.26818125e-05, obuf_write_energy=3.5384375e-05))\n",
      "Not found\n",
      "(<baseline_int.src.simulator.accelerator.Accelerator object at 0x7f26ea23c490>, 3, 128, 1, 2, 128, 100, 1, 8, True, 8, True, EnergyTuple(core_dynamic_energy=3.2110208, wbuf_read_energy=nan, wbuf_write_energy=nan, ibuf_read_energy=3.6938e-05, ibuf_write_energy=4.0747875e-05, obuf_read_energy=2.26818125e-05, obuf_write_energy=3.5384375e-05))\n",
      "Not found\n",
      "(<baseline_int.src.simulator.accelerator.Accelerator object at 0x7f26ea23c490>, 3, 128, 1, 2, 128, 100, 1, 8, True, 8, True, EnergyTuple(core_dynamic_energy=3.2110208, wbuf_read_energy=nan, wbuf_write_energy=nan, ibuf_read_energy=3.6938e-05, ibuf_write_energy=4.0747875e-05, obuf_read_energy=2.26818125e-05, obuf_write_energy=3.5384375e-05))\n",
      "Not found\n",
      "(<baseline_int.src.simulator.accelerator.Accelerator object at 0x7f26ea23c490>, 3, 128, 1, 2, 128, 100, 1, 8, True, 8, True, EnergyTuple(core_dynamic_energy=3.2110208, wbuf_read_energy=nan, wbuf_write_energy=nan, ibuf_read_energy=3.6938e-05, ibuf_write_energy=4.0747875e-05, obuf_read_energy=2.26818125e-05, obuf_write_energy=3.5384375e-05))\n",
      "Not found\n",
      "(<baseline_int.src.simulator.accelerator.Accelerator object at 0x7f26ea23c490>, 3, 128, 1, 2, 128, 100, 1, 8, True, 8, True, EnergyTuple(core_dynamic_energy=3.2110208, wbuf_read_energy=nan, wbuf_write_energy=nan, ibuf_read_energy=3.6938e-05, ibuf_write_energy=4.0747875e-05, obuf_read_energy=2.26818125e-05, obuf_write_energy=3.5384375e-05))\n",
      "Not found\n",
      "(<baseline_int.src.simulator.accelerator.Accelerator object at 0x7f26ea23c490>, 3, 128, 1, 2, 128, 100, 1, 8, True, 8, True, EnergyTuple(core_dynamic_energy=3.2110208, wbuf_read_energy=nan, wbuf_write_energy=nan, ibuf_read_energy=3.6938e-05, ibuf_write_energy=4.0747875e-05, obuf_read_energy=2.26818125e-05, obuf_write_energy=3.5384375e-05))\n",
      "Not found\n",
      "(<baseline_int.src.simulator.accelerator.Accelerator object at 0x7f26ea23c490>, 3, 128, 1, 2, 128, 100, 1, 8, True, 8, True, EnergyTuple(core_dynamic_energy=3.2110208, wbuf_read_energy=nan, wbuf_write_energy=nan, ibuf_read_energy=3.6938e-05, ibuf_write_energy=4.0747875e-05, obuf_read_energy=2.26818125e-05, obuf_write_energy=3.5384375e-05))\n",
      "Not found\n",
      "(<baseline_int.src.simulator.accelerator.Accelerator object at 0x7f26ea23c490>, 3, 128, 1, 2, 128, 100, 1, 8, True, 8, True, EnergyTuple(core_dynamic_energy=3.2110208, wbuf_read_energy=nan, wbuf_write_energy=nan, ibuf_read_energy=3.6938e-05, ibuf_write_energy=4.0747875e-05, obuf_read_energy=2.26818125e-05, obuf_write_energy=3.5384375e-05))\n",
      "Not found\n",
      "(<baseline_int.src.simulator.accelerator.Accelerator object at 0x7f26ea23c490>, 3, 128, 1, 2, 128, 100, 1, 8, True, 8, True, EnergyTuple(core_dynamic_energy=3.2110208, wbuf_read_energy=nan, wbuf_write_energy=nan, ibuf_read_energy=3.6938e-05, ibuf_write_energy=4.0747875e-05, obuf_read_energy=2.26818125e-05, obuf_write_energy=3.5384375e-05))\n",
      "Not found\n",
      "(<baseline_int.src.simulator.accelerator.Accelerator object at 0x7f26ea23c490>, 3, 128, 1, 2, 128, 100, 1, 8, True, 8, True, EnergyTuple(core_dynamic_energy=3.2110208, wbuf_read_energy=nan, wbuf_write_energy=nan, ibuf_read_energy=3.6938e-05, ibuf_write_energy=4.0747875e-05, obuf_read_energy=2.26818125e-05, obuf_write_energy=3.5384375e-05))\n",
      "Not found\n",
      "(<baseline_int.src.simulator.accelerator.Accelerator object at 0x7f26ea23c490>, 3, 128, 1, 2, 128, 100, 1, 8, True, 8, True, EnergyTuple(core_dynamic_energy=3.2110208, wbuf_read_energy=nan, wbuf_write_energy=nan, ibuf_read_energy=3.6938e-05, ibuf_write_energy=4.0747875e-05, obuf_read_energy=2.26818125e-05, obuf_write_energy=3.5384375e-05))\n",
      "Not found\n",
      "(<baseline_int.src.simulator.accelerator.Accelerator object at 0x7f26ea23c490>, 3, 128, 1, 2, 128, 100, 1, 8, True, 8, True, EnergyTuple(core_dynamic_energy=3.2110208, wbuf_read_energy=nan, wbuf_write_energy=nan, ibuf_read_energy=3.6938e-05, ibuf_write_energy=4.0747875e-05, obuf_read_energy=2.26818125e-05, obuf_write_energy=3.5384375e-05))\n"
     ]
    },
    {
     "name": "stderr",
     "output_type": "stream",
     "text": [
      " 76%|███████▋  | 61/80 [49:34<15:26, 48.76s/it]\n"
     ]
    },
    {
     "ename": "TypeError",
     "evalue": "'NoneType' object is not subscriptable",
     "output_type": "error",
     "traceback": [
      "\u001b[0;31m---------------------------------------------------------------------------\u001b[0m",
      "\u001b[0;31mTypeError\u001b[0m                                 Traceback (most recent call last)",
      "Cell \u001b[0;32mIn[8], line 5\u001b[0m\n\u001b[1;32m      3\u001b[0m     PE_column_number \u001b[38;5;241m=\u001b[39m combine[\u001b[38;5;241m0\u001b[39m]\n\u001b[1;32m      4\u001b[0m     PE_row_number \u001b[38;5;241m=\u001b[39m combine[\u001b[38;5;241m1\u001b[39m]\n\u001b[0;32m----> 5\u001b[0m     per_combine_sim_result \u001b[38;5;241m=\u001b[39m \u001b[43msim\u001b[49m\u001b[43m(\u001b[49m\u001b[43mTW\u001b[49m\u001b[43m,\u001b[49m\u001b[43m \u001b[49m\u001b[43mPE_row_number\u001b[49m\u001b[43m,\u001b[49m\u001b[43m \u001b[49m\u001b[43mPE_column_number\u001b[49m\u001b[43m)\u001b[49m\n\u001b[1;32m      6\u001b[0m     sim_result \u001b[38;5;241m=\u001b[39m pd\u001b[38;5;241m.\u001b[39mconcat([sim_result, per_combine_sim_result], axis\u001b[38;5;241m=\u001b[39m\u001b[38;5;241m0\u001b[39m)\n\u001b[1;32m      7\u001b[0m sim_result\u001b[38;5;241m.\u001b[39mto_csv(\u001b[38;5;124m'\u001b[39m\u001b[38;5;124mbaseline_test_dramre.csv\u001b[39m\u001b[38;5;124m'\u001b[39m, index\u001b[38;5;241m=\u001b[39m\u001b[38;5;28;01mFalse\u001b[39;00m)\n",
      "Cell \u001b[0;32mIn[4], line 50\u001b[0m, in \u001b[0;36msim\u001b[0;34m(TW, N, M, Speed)\u001b[0m\n\u001b[1;32m     47\u001b[0m     ps5_e_sim_sweep_df \u001b[38;5;241m=\u001b[39m pandas\u001b[38;5;241m.\u001b[39mDataFrame(columns\u001b[38;5;241m=\u001b[39msim_sweep_columns)\n\u001b[1;32m     48\u001b[0m \u001b[38;5;28mprint\u001b[39m(\u001b[38;5;124m'\u001b[39m\u001b[38;5;124mGot BitFusion Eyeriss, Numbers\u001b[39m\u001b[38;5;124m'\u001b[39m)\n\u001b[0;32m---> 50\u001b[0m ps5_e_results \u001b[38;5;241m=\u001b[39m \u001b[43mcheck_pandas_or_run\u001b[49m\u001b[43m(\u001b[49m\u001b[43mps5_e_sim\u001b[49m\u001b[43m,\u001b[49m\u001b[43m \u001b[49m\u001b[43mps5_e_sim_sweep_df\u001b[49m\u001b[43m,\u001b[49m\n\u001b[1;32m     51\u001b[0m \u001b[43m        \u001b[49m\u001b[43mps5_e_sim_sweep_csv\u001b[49m\u001b[43m,\u001b[49m\u001b[43m \u001b[49m\u001b[43mbatch_size\u001b[49m\u001b[38;5;241;43m=\u001b[39;49m\u001b[43mtimesteps\u001b[49m\u001b[43m,\u001b[49m\u001b[43m \u001b[49m\u001b[43mconfig_file\u001b[49m\u001b[38;5;241;43m=\u001b[39;49m\u001b[43mconfig_file\u001b[49m\u001b[43m,\u001b[49m\u001b[43m \u001b[49m\u001b[43mTW\u001b[49m\u001b[38;5;241;43m=\u001b[39;49m\u001b[43mTW\u001b[49m\u001b[43m,\u001b[49m\u001b[43m \u001b[49m\u001b[43mlist_bench\u001b[49m\u001b[38;5;241;43m=\u001b[39;49m\u001b[43mbenchmarks\u001b[49m\u001b[38;5;241;43m.\u001b[39;49m\u001b[43msnn_benchlist\u001b[49m\u001b[43m,\u001b[49m\u001b[43m \u001b[49m\u001b[43mSpeed\u001b[49m\u001b[38;5;241;43m=\u001b[39;49m\u001b[43mSpeed\u001b[49m\u001b[43m)\u001b[49m  \u001b[38;5;66;03m# 运行仿真\u001b[39;00m\n\u001b[1;32m     52\u001b[0m \u001b[38;5;28;01mreturn\u001b[39;00m ps5_e_results\n",
      "File \u001b[0;32m~/code/baseline_int/src/sweep/sweep.py:155\u001b[0m, in \u001b[0;36mcheck_pandas_or_run\u001b[0;34m(sim, dataframe, sim_sweep_csv, batch_size, config_file, list_bench, TW, Speed)\u001b[0m\n\u001b[1;32m    152\u001b[0m results \u001b[38;5;241m=\u001b[39m lookup_pandas_dataframe(dataframe, ld)  \u001b[38;5;66;03m# 尝试从['sim_sweep_columns']列中读取结果\u001b[39;00m\n\u001b[1;32m    154\u001b[0m sweep_obj \u001b[38;5;241m=\u001b[39m SimulatorSweep(sim_sweep_csv, config_file)  \u001b[38;5;66;03m# 根据conf.ini中的参数和csv存储文件创建sweep对象\u001b[39;00m\n\u001b[0;32m--> 155\u001b[0m dataframe \u001b[38;5;241m=\u001b[39m \u001b[43msweep_obj\u001b[49m\u001b[38;5;241;43m.\u001b[39;49m\u001b[43msweep\u001b[49m\u001b[43m(\u001b[49m\u001b[43msim\u001b[49m\u001b[43m,\u001b[49m\u001b[43m \u001b[49m\u001b[43mlist_batch\u001b[49m\u001b[38;5;241;43m=\u001b[39;49m\u001b[43m[\u001b[49m\u001b[43mbatch_size\u001b[49m\u001b[43m]\u001b[49m\u001b[43m,\u001b[49m\u001b[43m \u001b[49m\u001b[43mlist_bench\u001b[49m\u001b[38;5;241;43m=\u001b[39;49m\u001b[43mlist_bench\u001b[49m\u001b[43m,\u001b[49m\u001b[43m \u001b[49m\u001b[43mTW\u001b[49m\u001b[38;5;241;43m=\u001b[39;49m\u001b[43mTW\u001b[49m\u001b[43m,\u001b[49m\u001b[43m \u001b[49m\u001b[43mSpeed\u001b[49m\u001b[38;5;241;43m=\u001b[39;49m\u001b[43mSpeed\u001b[49m\u001b[43m)\u001b[49m\n\u001b[1;32m    156\u001b[0m \u001b[38;5;66;03m# dataframe.to_csv(sim_sweep_csv, index=False)  # 将扫描结果写回sim_sweep_csv\u001b[39;00m\n\u001b[1;32m    157\u001b[0m \u001b[38;5;28;01mreturn\u001b[39;00m lookup_pandas_dataframe(dataframe, ld)\n",
      "File \u001b[0;32m~/code/baseline_int/src/sweep/sweep.py:109\u001b[0m, in \u001b[0;36mSimulatorSweep.sweep\u001b[0;34m(self, sim_obj, TW, list_n, list_m, list_pmax, list_pmin, list_bw, list_bench, list_wbuf, list_ibuf, list_obuf, list_batch, Speed)\u001b[0m\n\u001b[1;32m    107\u001b[0m \u001b[38;5;28mself\u001b[39m\u001b[38;5;241m.\u001b[39mlogger\u001b[38;5;241m.\u001b[39minfo(\u001b[38;5;124m'\u001b[39m\u001b[38;5;124mBatch size: \u001b[39m\u001b[38;5;132;01m{}\u001b[39;00m\u001b[38;5;124m'\u001b[39m\u001b[38;5;241m.\u001b[39mformat(batch_size))\n\u001b[1;32m    108\u001b[0m \u001b[38;5;28mself\u001b[39m\u001b[38;5;241m.\u001b[39mlogger\u001b[38;5;241m.\u001b[39minfo(\u001b[38;5;124m'\u001b[39m\u001b[38;5;124mBandwidth (bits/cycle): \u001b[39m\u001b[38;5;132;01m{}\u001b[39;00m\u001b[38;5;124m'\u001b[39m\u001b[38;5;241m.\u001b[39mformat(bw))\n\u001b[0;32m--> 109\u001b[0m stats \u001b[38;5;241m=\u001b[39m \u001b[43mbenchmarks\u001b[49m\u001b[38;5;241;43m.\u001b[39;49m\u001b[43mget_bench_numbers\u001b[49m\u001b[43m(\u001b[49m\u001b[43mnn\u001b[49m\u001b[43m,\u001b[49m\u001b[43m \u001b[49m\u001b[43msim_obj\u001b[49m\u001b[43m,\u001b[49m\u001b[43m \u001b[49m\u001b[43mTW\u001b[49m\u001b[43m,\u001b[49m\u001b[43m \u001b[49m\u001b[43mSpeed\u001b[49m\u001b[43m)\u001b[49m  \u001b[38;5;66;03m# 获取性能基准\u001b[39;00m\n\u001b[1;32m    110\u001b[0m \u001b[38;5;28;01mfor\u001b[39;00m layer \u001b[38;5;129;01min\u001b[39;00m stats:\n\u001b[1;32m    111\u001b[0m     cycles \u001b[38;5;241m=\u001b[39m stats[layer]\u001b[38;5;241m.\u001b[39mtotal_cycles\n",
      "File \u001b[0;32m~/code/baseline_int/src/benchmarks/benchmarks.py:84\u001b[0m, in \u001b[0;36mget_bench_numbers\u001b[0;34m(graph, sim_obj, TW, Speed)\u001b[0m\n\u001b[1;32m     82\u001b[0m stats \u001b[38;5;241m=\u001b[39m {}\n\u001b[1;32m     83\u001b[0m \u001b[38;5;28;01mfor\u001b[39;00m opname, op \u001b[38;5;129;01min\u001b[39;00m graph\u001b[38;5;241m.\u001b[39mop_registry\u001b[38;5;241m.\u001b[39mitems():  \u001b[38;5;66;03m# 遍历神经网络算子的注册表（网络架构）\u001b[39;00m\n\u001b[0;32m---> 84\u001b[0m     out \u001b[38;5;241m=\u001b[39m \u001b[43msim_obj\u001b[49m\u001b[38;5;241;43m.\u001b[39;49m\u001b[43mget_cycles\u001b[49m\u001b[43m(\u001b[49m\u001b[43mop\u001b[49m\u001b[43m,\u001b[49m\u001b[43m \u001b[49m\u001b[43mTW\u001b[49m\u001b[43m,\u001b[49m\u001b[43m \u001b[49m\u001b[43mSpeed\u001b[49m\u001b[43m)\u001b[49m  \u001b[38;5;66;03m# 获取算子对应的时钟周期数\u001b[39;00m\n\u001b[1;32m     85\u001b[0m     \u001b[38;5;28;01mif\u001b[39;00m out \u001b[38;5;129;01mis\u001b[39;00m \u001b[38;5;129;01mnot\u001b[39;00m \u001b[38;5;28;01mNone\u001b[39;00m:\n\u001b[1;32m     86\u001b[0m         s, l \u001b[38;5;241m=\u001b[39m out\n",
      "File \u001b[0;32m~/code/baseline_int/src/simulator/simulator.py:498\u001b[0m, in \u001b[0;36mSimulator.get_cycles\u001b[0;34m(self, op, TW, Speed, im2col)\u001b[0m\n\u001b[1;32m    496\u001b[0m         im2col \u001b[38;5;241m=\u001b[39m \u001b[38;5;28;01mFalse\u001b[39;00m\n\u001b[1;32m    497\u001b[0m     \u001b[38;5;66;03m# img2col = True\u001b[39;00m\n\u001b[0;32m--> 498\u001b[0m     \u001b[38;5;28;01mreturn\u001b[39;00m \u001b[38;5;28;43mself\u001b[39;49m\u001b[38;5;241;43m.\u001b[39;49m\u001b[43mget_conv_cycles\u001b[49m\u001b[43m(\u001b[49m\u001b[43mK\u001b[49m\u001b[43m,\u001b[49m\n\u001b[1;32m    499\u001b[0m \u001b[43m                                \u001b[49m\u001b[43mO\u001b[49m\u001b[43m,\u001b[49m\n\u001b[1;32m    500\u001b[0m \u001b[43m                                \u001b[49m\u001b[43mS\u001b[49m\u001b[43m,\u001b[49m\n\u001b[1;32m    501\u001b[0m \u001b[43m                                \u001b[49m\u001b[43mIC\u001b[49m\u001b[43m,\u001b[49m\n\u001b[1;32m    502\u001b[0m \u001b[43m                                \u001b[49m\u001b[43mOC\u001b[49m\u001b[43m,\u001b[49m\n\u001b[1;32m    503\u001b[0m \u001b[43m                                \u001b[49m\u001b[43miprec\u001b[49m\u001b[43m,\u001b[49m\n\u001b[1;32m    504\u001b[0m \u001b[43m                                \u001b[49m\u001b[43mwprec\u001b[49m\u001b[43m,\u001b[49m\n\u001b[1;32m    505\u001b[0m \u001b[43m                                \u001b[49m\u001b[43mB\u001b[49m\u001b[43m,\u001b[49m\n\u001b[1;32m    506\u001b[0m \u001b[43m                                \u001b[49m\u001b[43mTW\u001b[49m\u001b[43m,\u001b[49m\n\u001b[1;32m    507\u001b[0m \u001b[43m                                \u001b[49m\u001b[43mim2col\u001b[49m\u001b[43m,\u001b[49m\n\u001b[1;32m    508\u001b[0m \u001b[43m                                \u001b[49m\u001b[43mSpeed\u001b[49m\n\u001b[1;32m    509\u001b[0m \u001b[43m                                \u001b[49m\u001b[43m)\u001b[49m\n\u001b[1;32m    510\u001b[0m \u001b[38;5;28;01melif\u001b[39;00m \u001b[38;5;28misinstance\u001b[39m(op, MatMul):\n\u001b[1;32m    511\u001b[0m     B \u001b[38;5;241m=\u001b[39m op\u001b[38;5;241m.\u001b[39mdata\u001b[38;5;241m.\u001b[39mshape[\u001b[38;5;241m0\u001b[39m]\n",
      "File \u001b[0;32m~/code/baseline_int/src/simulator/simulator.py:437\u001b[0m, in \u001b[0;36mSimulator.get_conv_cycles\u001b[0;34m(self, K, O, S, IC, OC, iprec, wprec, batch_size, TW, im2col, Speed)\u001b[0m\n\u001b[1;32m    435\u001b[0m best_instructions_dict \u001b[38;5;241m=\u001b[39m {}\n\u001b[1;32m    436\u001b[0m conv_params \u001b[38;5;241m=\u001b[39m \u001b[38;5;28mself\u001b[39m\u001b[38;5;241m.\u001b[39maccelerator, K, O, S, IC, OC, B, iprec, wprec, im2col, TW, Speed, \u001b[38;5;28mself\u001b[39m\u001b[38;5;241m.\u001b[39mget_energy_cost()\n\u001b[0;32m--> 437\u001b[0m best_instructions, best_tiling, best_order \u001b[38;5;241m=\u001b[39m \u001b[43moptimize_for_order\u001b[49m\u001b[43m(\u001b[49m\u001b[43mconv_params\u001b[49m\u001b[43m)\u001b[49m\n\u001b[1;32m    438\u001b[0m stats \u001b[38;5;241m=\u001b[39m get_stats_fast(conv_params, best_tiling, best_order, verbose\u001b[38;5;241m=\u001b[39m\u001b[38;5;28;01mFalse\u001b[39;00m)\n\u001b[1;32m    439\u001b[0m \u001b[38;5;66;03m# print('^'*50)\u001b[39;00m\n\u001b[1;32m    440\u001b[0m \u001b[38;5;66;03m# print(best_instructions)\u001b[39;00m\n\u001b[1;32m    441\u001b[0m \u001b[38;5;66;03m# print(best_tiling)\u001b[39;00m\n\u001b[1;32m    442\u001b[0m \u001b[38;5;66;03m# print('*'*50)\u001b[39;00m\n\u001b[1;32m    443\u001b[0m \u001b[38;5;66;03m# print(best_order)\u001b[39;00m\n\u001b[1;32m    444\u001b[0m \u001b[38;5;66;03m# print('v'*50)\u001b[39;00m\n",
      "File \u001b[0;32m~/code/baseline_int/src/optimizer/optimizer.py:315\u001b[0m, in \u001b[0;36moptimize_for_order\u001b[0;34m(conv_params)\u001b[0m\n\u001b[1;32m    313\u001b[0m             best_order \u001b[38;5;241m=\u001b[39m order_type\n\u001b[1;32m    314\u001b[0m     \u001b[38;5;66;03m# print('best tiling:', best_tiling)\u001b[39;00m\n\u001b[0;32m--> 315\u001b[0m     \u001b[38;5;28;01mreturn\u001b[39;00m \u001b[43mget_loop_instructions\u001b[49m\u001b[43m(\u001b[49m\u001b[43mconv_params\u001b[49m\u001b[43m,\u001b[49m\u001b[43m \u001b[49m\u001b[43mbest_tiling\u001b[49m\u001b[43m,\u001b[49m\u001b[43m \u001b[49m\u001b[43mbest_order\u001b[49m\u001b[43m)\u001b[49m, best_tiling, best_order\n\u001b[1;32m    317\u001b[0m \u001b[38;5;28;01mexcept\u001b[39;00m \u001b[38;5;167;01mKeyboardInterrupt\u001b[39;00m:\n\u001b[1;32m    318\u001b[0m     pool\u001b[38;5;241m.\u001b[39mterminate()\n",
      "File \u001b[0;32m~/code/baseline_int/src/optimizer/optimizer.py:327\u001b[0m, in \u001b[0;36mget_loop_instructions\u001b[0;34m(conv_params, tiling, order_type)\u001b[0m\n\u001b[1;32m    324\u001b[0m acc_obj, K, O, S, IC, OC, B, iprec, wprec, im2col, TW, Speed, energy_cost \u001b[38;5;241m=\u001b[39m conv_params\n\u001b[1;32m    325\u001b[0m I \u001b[38;5;241m=\u001b[39m (O \u001b[38;5;241m-\u001b[39m \u001b[38;5;241m1\u001b[39m) \u001b[38;5;241m*\u001b[39m S \u001b[38;5;241m+\u001b[39m K\n\u001b[0;32m--> 327\u001b[0m num_b, b \u001b[38;5;241m=\u001b[39m \u001b[43mtiling\u001b[49m\u001b[43m[\u001b[49m\u001b[38;5;124;43m'\u001b[39;49m\u001b[38;5;124;43mB/b\u001b[39;49m\u001b[38;5;124;43m'\u001b[39;49m\u001b[43m]\u001b[49m\n\u001b[1;32m    328\u001b[0m num_ow, ow \u001b[38;5;241m=\u001b[39m tiling[\u001b[38;5;124m'\u001b[39m\u001b[38;5;124mOW/ow\u001b[39m\u001b[38;5;124m'\u001b[39m]\n\u001b[1;32m    329\u001b[0m num_oh, oh \u001b[38;5;241m=\u001b[39m tiling[\u001b[38;5;124m'\u001b[39m\u001b[38;5;124mOH/oh\u001b[39m\u001b[38;5;124m'\u001b[39m]\n",
      "\u001b[0;31mTypeError\u001b[0m: 'NoneType' object is not subscriptable"
     ]
    }
   ],
   "source": [
    "sim_result = sim(TW, col_row_combine[0][1], col_row_combine[0][0])\n",
    "for combine in tqdm.tqdm(col_row_combine[1:]):\n",
    "    PE_column_number = combine[0]\n",
    "    PE_row_number = combine[1]\n",
    "    per_combine_sim_result = sim(TW, PE_row_number, PE_column_number)\n",
    "    sim_result = pd.concat([sim_result, per_combine_sim_result], axis=0)\n",
    "sim_result.to_csv('baseline_test_dramre.csv', index=False)"
   ]
  },
  {
   "cell_type": "code",
   "execution_count": null,
   "metadata": {},
   "outputs": [],
   "source": [
    "sim_result = sim(TW, col_row_combine[0][1], col_row_combine[0][0], False)\n",
    "for combine in tqdm.tqdm(col_row_combine[1:]):\n",
    "    PE_column_number = combine[0]\n",
    "    PE_row_number = combine[1]\n",
    "    per_combine_sim_result = sim(TW, PE_row_number, PE_column_number, False)\n",
    "    sim_result = pd.concat([sim_result, per_combine_sim_result], axis=0)\n",
    "sim_result.to_csv('baseline_dramre.csv', index=False)"
   ]
  },
  {
   "cell_type": "code",
   "execution_count": null,
   "metadata": {},
   "outputs": [],
   "source": [
    "sim_result = sim(TW, 64, 1, False)\n",
    "sim_result.to_csv('baseline.csv', index=False)"
   ]
  },
  {
   "cell_type": "code",
   "execution_count": null,
   "metadata": {},
   "outputs": [],
   "source": [
    "sim_result = sim(TW, 2, 256, False)\n",
    "sim_result.to_csv('baseline.csv', index=False)"
   ]
  },
  {
   "cell_type": "code",
   "execution_count": null,
   "metadata": {},
   "outputs": [],
   "source": [
    "TW = 1\n",
    "sim_result = sim(TW, col_row_combine[0][1], col_row_combine[0][0])\n",
    "for combine in tqdm.tqdm(col_row_combine[1:]):\n",
    "    PE_column_number = combine[0]\n",
    "    PE_row_number = combine[1]\n",
    "    per_combine_sim_result = sim(TW, PE_row_number, PE_column_number)\n",
    "    sim_result = pd.concat([sim_result, per_combine_sim_result], axis=0)\n",
    "sim_result.to_csv('baseline_sim_batch_tiling_allmodel_TW1.csv', index=False)"
   ]
  },
  {
   "cell_type": "markdown",
   "metadata": {},
   "source": [
    "## Performance Scaling\n",
    "\n",
    "以上实验结果获得了baseline的性能，下面粗略的通过稀疏率估计最终性能。\n",
    "\n",
    "通过读取trace文件获取每一层的input/output稀疏利用率，从而计算speedup和energy efficiency。\n",
    "\n",
    "TODO: 存在问题在于不同TW需要更多的on-chip buffer，这个暂时无法评估。"
   ]
  },
  {
   "cell_type": "markdown",
   "metadata": {},
   "source": [
    "### Input sparsity for PTB"
   ]
  },
  {
   "cell_type": "code",
   "execution_count": null,
   "metadata": {},
   "outputs": [],
   "source": [
    "# 定义ps4配置文件、batchsize、TW、脉动阵列配置文件\n",
    "config_file = 'ps5_e_conf_test.ini'\n",
    "batch_size = 100\n",
    "TW = 8\n",
    "syn_fn = 'systolic_array_synth_snn.csv'\n",
    "verbose = False\n",
    "\n",
    "# 根据ps4配置文件建立仿真器\n",
    "ps4_e_sim = Simulator(config_file, verbose)\n",
    "\n",
    "# 结合脉动阵列配置文件计算能耗\n",
    "ps4_e_energy_costs = ps4_e_sim.get_energy_cost(syn_fn)\n",
    "print(ps4_e_sim)\n",
    "\n",
    "# 输出能耗\n",
    "energy_tuple = ps4_e_energy_costs\n",
    "print('')\n",
    "print('*'*50)\n",
    "print(energy_tuple)\n",
    "\n",
    "# 创建结果保存文件，存放在不同PE配置下神经网络每一层的扫描结果\n",
    "ps4_e_sim_sweep_csv = os.path.join(results_dir, 'ps4-sim-sweep.csv')\n",
    "# if os.path.exists(ps4_e_sim_sweep_csv):\n",
    "#     os.remove(ps4_e_sim_sweep_csv)\n",
    "if os.path.exists(ps4_e_sim_sweep_csv):\n",
    "    ps4_e_sim_sweep_df = pandas.read_csv(ps4_e_sim_sweep_csv)\n",
    "else:\n",
    "    ps4_e_sim_sweep_df = pandas.DataFrame(columns=sim_sweep_columns)\n",
    "print('Got BitFusion Eyeriss, Numbers')\n",
    "\n",
    "# 执行仿真器的扫描\n",
    "ps4_e_results = check_pandas_or_run(ps4_e_sim, ps4_e_sim_sweep_df,\n",
    "        ps4_e_sim_sweep_csv, batch_size=TW, list_bench=benchmarks.snn_benchlist)"
   ]
  },
  {
   "cell_type": "code",
   "execution_count": null,
   "metadata": {},
   "outputs": [],
   "source": [
    "sim_sweep_columns = ['N', 'M',\n",
    "        'Max Precision (bits)', 'Min Precision (bits)',\n",
    "        'Network', 'Layer',\n",
    "        'Cycles', 'Memory wait cycles',\n",
    "        'WBUF Read', 'WBUF Write',\n",
    "        'OBUF Read', 'OBUF Write',\n",
    "        'IBUF Read', 'IBUF Write',\n",
    "        'DRAM Read', 'DRAM Write',\n",
    "        'Bandwidth (bits/cycle)',\n",
    "        'WBUF Size (bits)', 'OBUF Size (bits)', 'IBUF Size (bits)',\n",
    "        'Batch size', 'in_sparsity_util', 'out_sparsity_util']\n",
    "\n",
    "# 向PS4_e_results中插入PTB周期、PS4周期、PS4投机周期和PS4恢复周期\n",
    "# create a new column {valid_cycles} to store the df['Cycles'] * (1 - df['in_sparsity_util'])\n",
    "ps4_e_results.insert(2, 'PTB-Cycles', ps4_e_results['Cycles'] * (1 - ps4_e_results['in_sparsity_util']))\n",
    "# PTB-cycles = cycles * (1 - input_sparsity)\n",
    "ps4_e_results.insert(3, 'PS4-Cycles', ps4_e_results['Cycles'] * (1 - ps4_e_results['out_sparsity_util'] + ps4_e_results['Batch size'].apply(lambda x: math.log2(x) / x)))\n",
    "# PS4-cycles = cycles * (1 - output_sparsity + log(batch_size)/batch_size)\n",
    "ps4_e_results.insert(4, 'PS4-Spec-Cycles', ps4_e_results['Cycles'] * (ps4_e_results['Batch size'].apply(lambda x: math.log2(x) / x)))\n",
    "# PS4-speculative-sycles投机周期 = cycles * log(batch_size)/batch_size\n",
    "ps4_e_results.insert(5, 'PS4-Rec-Cycles', ps4_e_results['Cycles'] * (1 - ps4_e_results['out_sparsity_util']))\n",
    "# PS4-recovery-sycles恢复周期 = cycles * (1 - output_sparsity)\n",
    "ps4_e_results = ps4_e_results.groupby(['N', 'M', 'Batch size', 'Network'],as_index=False)\n",
    "# 将结果根据PE数、batchsize(TW)和网络类型合并整理"
   ]
  },
  {
   "cell_type": "code",
   "execution_count": null,
   "metadata": {},
   "outputs": [],
   "source": [
    "ps4_e_results.head()"
   ]
  },
  {
   "cell_type": "markdown",
   "metadata": {},
   "source": [
    "## Layer-wise analysis\n",
    "画出某个网络中不同层之间的投机周期数、恢复周期数、总周期数、稀疏率等"
   ]
  },
  {
   "cell_type": "code",
   "execution_count": null,
   "metadata": {},
   "outputs": [],
   "source": [
    "# df_imagenet = ps4_e_results.get_group((128, 2, TW, 'ImageNetSNN'))\n",
    "# 取结果中的一组数据\n",
    "df_imagenet = ps4_e_results.get_group((128, 2, TW, 'DVS128Gesture'))\n",
    "df_imagenet.head()"
   ]
  },
  {
   "cell_type": "code",
   "execution_count": null,
   "metadata": {},
   "outputs": [],
   "source": [
    "from cProfile import label\n",
    "from click import style\n",
    "from cv2 import rotate\n",
    "from matplotlib import markers\n",
    "from matplotlib.lines import lineStyles\n",
    "\n",
    "\n",
    "fig, ax = plt.subplots(figsize=(8, 4))\n",
    "ln1 = ax.plot(df_imagenet['Layer'].apply(lambda x: x.split('/')[0]).to_list() + ['Geomean'], (df_imagenet['Cycles'] / df_imagenet['Cycles']).to_list() + [np.mean(df_imagenet['Cycles'] / df_imagenet['Cycles'])], label='Baseline', marker='o', linestyle='-', color=color_bar1[0], markersize=8, linewidth=2)\n",
    "\n",
    "ln2 = ax.plot(df_imagenet['Layer'].apply(lambda x: x.split('/')[0]).to_list() + ['Geomean'], (df_imagenet['PS4-Spec-Cycles'] / df_imagenet['Cycles']).to_list() + [np.mean(df_imagenet['PS4-Spec-Cycles'] / df_imagenet['Cycles'])], label='SFF', marker='>', linestyle='-', color=color_bar1[1], markersize=8, linewidth=2)\n",
    "plt.text(.3+df_imagenet.shape[0], 0.03 + np.mean(df_imagenet['PS4-Spec-Cycles'] / df_imagenet['Cycles']), '{:.2%}'.format(np.mean(df_imagenet['PS4-Spec-Cycles'] / df_imagenet['Cycles'])), ha='right', va='center', color=color_bar1[1], fontsize=14)\n",
    "\n",
    "ln3 = ax.plot(df_imagenet['Layer'].apply(lambda x: x.split('/')[0]).to_list() + ['Geomean'], (df_imagenet['PS4-Rec-Cycles'] / df_imagenet['Cycles']).to_list() + [np.mean(df_imagenet['PS4-Rec-Cycles'] / df_imagenet['Cycles'])], label='ER', marker='<', linestyle='-', color=color_bar1[2], markersize=8, linewidth=2)\n",
    "plt.text(.3+df_imagenet.shape[0], 0.03 + np.mean(df_imagenet['PS4-Rec-Cycles'] / df_imagenet['Cycles']), '{:.2%}'.format(np.mean(df_imagenet['PS4-Rec-Cycles'] / df_imagenet['Cycles'])), ha='right', va='center', color=color_bar1[2], fontsize=14)\n",
    "\n",
    "ln4 = ax.plot(df_imagenet['Layer'].apply(lambda x: x.split('/')[0]).to_list() + ['Geomean'], (df_imagenet['PS4-Cycles'] / df_imagenet['Cycles']).to_list() + [np.mean(df_imagenet['PS4-Cycles'] / df_imagenet['Cycles'])], label='PS4', marker='*', linestyle='-', color=color_bar1[3], markersize=8, linewidth=2)\n",
    "plt.text(.3+df_imagenet.shape[0], 0.07 + np.mean(df_imagenet['PS4-Cycles'] / df_imagenet['Cycles']), '{:.2%}'.format(np.mean(df_imagenet['PS4-Cycles'] / df_imagenet['Cycles'])), ha='right', va='center', color=color_bar1[3], fontsize=14)\n",
    "\n",
    "plt.xticks(rotation=45)\n",
    "plt.ylabel('Normalized Cycles')\n",
    "plt.xlabel(\"Layers of DVS128Gesture\")\n",
    "ax.xaxis.set_label_coords(.5, -0.26)\n",
    "ax.yaxis.set_major_formatter(FuncFormatter(lambda y, _: '{:.0%}'.format(y))) \n",
    "ax2 = plt.twinx()\n",
    "ln5 = ax2.plot(df_imagenet['Layer'].apply(lambda x: x.split('/')[0]).to_list() + ['Geomean'], (df_imagenet['out_sparsity_util']).to_list() + [np.mean(df_imagenet['out_sparsity_util'])], label='sparsity_util', marker='+', linestyle='--', color='black', markersize=8, linewidth=2)\n",
    "\n",
    "print(np.mean(df_imagenet['out_sparsity_util']))\n",
    "# annotate mean out_sparsity_util\n",
    "plt.text(.3+df_imagenet.shape[0], -0.03 + np.mean(df_imagenet['out_sparsity_util']), '{:.2%}'.format(np.mean(df_imagenet['out_sparsity_util'])), ha='right', va='center', color='black', fontsize=14)\n",
    "ax2.set_ylabel('Output Sparsity Utilization')\n",
    "ax2.yaxis.set_major_formatter(FuncFormatter(lambda y, _: '{:.0%}'.format(y))) \n",
    "\n",
    "lns = ln1 + ln2 + ln3 + ln4 + ln5\n",
    "labels = [l.get_label() for l in lns]\n",
    "plt.legend(lns, labels, fontsize=14, loc='upper center', ncol=5, bbox_to_anchor=(0.5, 1.2), fancybox=True, shadow=True, labelspacing=0.2, handleheight=1.6, handlelength=1.2)\n",
    "plt.savefig(os.path.join(fig_dir, 'ImageNet-16-cyclesbrk.pdf'), bbox_inches='tight')"
   ]
  },
  {
   "cell_type": "markdown",
   "metadata": {},
   "source": [
    "==================================================================================================================="
   ]
  },
  {
   "cell_type": "code",
   "execution_count": null,
   "metadata": {},
   "outputs": [],
   "source": [
    "# 对结果的每一列进行求和\n",
    "ps4_e_results = ps4_e_results.agg(np.sum)"
   ]
  },
  {
   "cell_type": "code",
   "execution_count": null,
   "metadata": {},
   "outputs": [],
   "source": [
    "# 计算相较于PTB和baseline的加速比例（计算时钟周期）\n",
    "ps4_e_results.insert(6, 'speedup_vs_ptb', ps4_e_results['PTB-Cycles'] / ps4_e_results['PS4-Cycles'])\n",
    "ps4_e_results.insert(7, 'speedup_vs_base', ps4_e_results['Cycles'] / ps4_e_results['PS4-Cycles'])"
   ]
  },
  {
   "cell_type": "code",
   "execution_count": null,
   "metadata": {},
   "outputs": [],
   "source": [
    "ps4_e_results.head()"
   ]
  },
  {
   "cell_type": "markdown",
   "metadata": {},
   "source": [
    "## Speedup\n",
    "绘制加速比柱状图"
   ]
  },
  {
   "cell_type": "code",
   "execution_count": null,
   "metadata": {},
   "outputs": [],
   "source": [
    "fig, ax = plt.subplots(figsize=(8, 3))\n",
    "bar_width = 0.2\n",
    "index = np.arange(3)\n",
    "mode_indexes = []\n",
    "\n",
    "unique_mode = ['Baseline', 'PTB', 'PS4']\n",
    "\n",
    "speedup = []\n",
    "\n",
    "lns = []\n",
    "# mode: Baseline\n",
    "for idx, mode in enumerate(unique_mode):\n",
    "    if 'Speedup' in ps4_e_results.columns:  # 如果存在speedup列，删除\n",
    "        ps4_e_results.drop(columns=['Speedup'], inplace=True)\n",
    "    # 计算baseline与这三种模型比较的加速比\n",
    "    if mode == 'Baseline':\n",
    "        ps4_e_results.insert(0, 'Speedup', ps4_e_results['Cycles'] / ps4_e_results['Cycles'])\n",
    "    elif mode == 'PTB':\n",
    "        ps4_e_results.insert(0, 'Speedup', ps4_e_results['Cycles'] / ps4_e_results['PTB-Cycles'])\n",
    "    elif mode == 'PS4':\n",
    "        ps4_e_results.insert(0, 'Speedup', ps4_e_results['Cycles'] / ps4_e_results['PS4-Cycles'])\n",
    "        speedup = ps4_e_results['Speedup']\n",
    "    else:\n",
    "        raise ValueError('Invalid mode')\n",
    "    \n",
    "    # 以三个模型分组并绘制柱状图\n",
    "    res = ps4_e_results[['Network', 'Speedup']]\n",
    "    res.sort_values(by='Network', inplace=True)\n",
    "    bottom = np.zeros(3)\n",
    "    plt.bar(index + (idx - 1) * bar_width, res.iloc[:, 1], bar_width, bottom=bottom, label=mode)\n",
    "    bottom += res.iloc[:, 1]\n",
    "    mode_indexes.append(index + (idx - 1) * bar_width)\n",
    "\n",
    "plt.xticks([])\n",
    "plt.legend([\"Baseline\", \"PTB\", \"PS4\"], fontsize=14, loc='upper center', bbox_to_anchor=(0.5, 1.22),\n",
    "                 fancybox=True, shadow=True, ncol=3, labelspacing=1.0, handleheight=1.0, columnspacing=6)\n",
    "\n",
    "dataset_names = sorted(ps4_e_results['Network'].unique())\n",
    "# replace \"CIFAR10SNN\" with \"CIFAR10DVS\" in dataset_names\n",
    "# replace \"ImageNetSNN\" with \"ImageNet\" in dataset_names\n",
    "\n",
    "for i, dataset_name in enumerate(dataset_names):\n",
    "    if dataset_name == 'CIFAR10SNN':\n",
    "        dataset_name = 'CIFAR10DVS'\n",
    "    elif dataset_name == 'ImageNetSNN':\n",
    "        dataset_name = 'ImageNet'\n",
    "    plt.annotate(dataset_name, (index[i], 0), textcoords=\"offset points\", xytext=(0, -15), ha='center', fontsize=14)\n",
    "\n",
    "# plt.axhline(y=1, xmin=0.4, xmax=0.7, color='black', linestyle='--', linewidth=1)\n",
    "plt.axhline(speedup.iloc[1], xmin=0.4, xmax=0.6, color='black', linestyle='--', linewidth=1)\n",
    "plt.annotate(\"\", xy=(0.8, 1.02), xytext=(0.8, 1*speedup.iloc[1]), color=\"#a30b33\", arrowprops=dict(arrowstyle=\"<->\", color=\"#a30b33\", linewidth=2))\n",
    "plt.annotate(f\"{speedup.iloc[1]:.2f}x speedup\\nw.r.t Baseline\", xy=(0.9, 1.2), xytext=(0.9, 0.7*speedup.iloc[1]), color=\"#a30b33\", fontsize=14)\n",
    "\n",
    "plt.ylabel(\"Speedup\")\n",
    "ax.yaxis.set_major_formatter(FuncFormatter(lambda y, _: '{:.0%}'.format(y))) \n",
    "print(speedup)\n",
    "plt.savefig('fig/speedup.pdf', bbox_inches='tight')"
   ]
  },
  {
   "cell_type": "markdown",
   "metadata": {},
   "source": [
    "## Energy Efficiency"
   ]
  },
  {
   "cell_type": "code",
   "execution_count": null,
   "metadata": {},
   "outputs": [],
   "source": [
    "breakdown_dict = {}\n",
    "for mode in ['Baseline', 'PTB', 'PS4']:\n",
    "    breakdown_data = []     # ['core', 'buffer', 'dram', 'popcnt']\n",
    "    for bench in benchmarks.snn_benchlist:\n",
    "        ps4_e_stats = df_to_stats(ps4_e_results.loc[ps4_e_results['Network'] == bench])  # 转换到stats\n",
    "        ps4_breakdown = ps4_e_stats.get_energy_breakdown(ps4_e_sim.get_energy_cost(syn_fn), mode=mode)  # 获得每个功能部分的能耗\n",
    "        total = sum(ps4_breakdown)  # 求和\n",
    "        ps4_breakdown = [x / float(total) for x in ps4_breakdown]  # 计算占比\n",
    "\n",
    "        breakdown_data.append([mode, bench, total] + ps4_breakdown)\n",
    "    breakdown_dict[mode] = breakdown_data\n",
    "\n",
    "breakdown_dict.keys()\n"
   ]
  },
  {
   "cell_type": "code",
   "execution_count": null,
   "metadata": {},
   "outputs": [],
   "source": [
    "fig, ax = plt.subplots(figsize=(8, 3))\n",
    "bar_width = 0.2\n",
    "index = np.arange(3)\n",
    "mode_indexes = []\n",
    "\n",
    "unique_mode = ['Baseline', 'PTB', 'PS4']\n",
    "unique_energy_key = ['core', 'buffer', 'dram', 'popcnt']\n",
    "\n",
    "speedup = []\n",
    "\n",
    "lns = []\n",
    "# mode: Baseline\n",
    "for idx, mode in enumerate(unique_mode):\n",
    "    bottom = np.zeros(3)\n",
    "    # plot total energy for each mode, which normalized to Baseline\n",
    "    plt.bar(index + (idx - 1) * bar_width, np.array(breakdown_dict[mode])[:, 2].astype(float) / np.array(breakdown_dict['Baseline'])[:, 2].astype(float), bar_width, bottom=bottom, label=mode)\n",
    "    if mode == 'PS4':\n",
    "        ee = np.array(breakdown_dict[mode])[:, 2].astype(float) / np.array(breakdown_dict['Baseline'])[:, 2].astype(float)\n",
    "        plt.text(index[0] + (idx - 1) * bar_width, 0.9, f'{ee[0]:.2f}x', ha='center', va='bottom', fontsize=14)\n",
    "        plt.text(index[1] + (idx - 1) * bar_width, 0.9, f'{ee[1]:.2f}x', ha='center', va='bottom', fontsize=14)\n",
    "        plt.text(index[2] + (idx - 1) * bar_width, 0.9, f'{ee[2]:.2f}x', ha='center', va='bottom', fontsize=14)\n",
    "\n",
    "plt.xticks([])\n",
    "plt.legend([\"Baseline\", \"PTB\", \"PS4\"], fontsize=14, loc='upper center', bbox_to_anchor=(0.5, 1.22),\n",
    "                 fancybox=True, shadow=True, ncol=3, labelspacing=1.0, handleheight=1.0, columnspacing=6)\n",
    "\n",
    "dataset_names = sorted(ps4_e_results['Network'].unique())\n",
    "for i, dataset_name in enumerate(dataset_names):\n",
    "    if dataset_name == 'CIFAR10SNN':\n",
    "        dataset_name = 'CIFAR10DVS'\n",
    "    elif dataset_name == 'ImageNetSNN':\n",
    "        dataset_name = 'ImageNet'\n",
    "    plt.annotate(dataset_name, (index[i], 0), textcoords=\"offset points\", xytext=(0, -15), ha='center', fontsize=14)\n",
    "\n",
    "\n",
    "plt.ylabel(\"Energy Efficiency\")\n",
    "ax.yaxis.set_major_formatter(FuncFormatter(lambda y, _: '{:.0%}'.format(y))) \n",
    "plt.savefig('fig/energy_efficiency.pdf', bbox_inches='tight')"
   ]
  },
  {
   "cell_type": "markdown",
   "metadata": {},
   "source": [
    "## Energy Breakdown"
   ]
  },
  {
   "cell_type": "code",
   "execution_count": null,
   "metadata": {},
   "outputs": [],
   "source": [
    "fig, ax = plt.subplots(figsize=(8, 3))\n",
    "bar_width = 0.2\n",
    "index = np.arange(3)\n",
    "mode_indexes = []\n",
    "hatches = ['x', '..', '\\\\', '//', 'o', 'O', '.', 'x']\n",
    "unique_mode = ['Baseline', 'PTB', 'PS4']\n",
    "unique_energy_key = ['core', 'buffer', 'dram', 'popcnt']\n",
    "\n",
    "speedup = []\n",
    "\n",
    "lns = []\n",
    "# mode: Baseline\n",
    "for idx, mode in enumerate(unique_mode):\n",
    "    bottom = np.zeros(3)\n",
    "    print(breakdown_dict[mode])\n",
    "    for idk, unique_key in enumerate(unique_energy_key):\n",
    "        if idx == 0:\n",
    "            lns.append(plt.bar(index + (idx - 1) * bar_width, np.array(breakdown_dict[mode])[:, idk+3].astype(float), bar_width, bottom=bottom, label=unique_key, color=color_bar4[idx], hatch=hatches[idk], edgecolor='black'))\n",
    "        else:\n",
    "            plt.bar(index + (idx - 1) * bar_width, np.array(breakdown_dict[mode])[:, idk+3].astype(float), bar_width, bottom=bottom, color=color_bar4[idx], hatch=hatches[idk], edgecolor='black')\n",
    "        bottom += np.array(breakdown_dict[mode])[:, idk+3].astype(float)\n",
    "\n",
    "        if idk == 0:\n",
    "            mode_indexes.append(\n",
    "                index + (idx - (math.floor(3))/2)*bar_width)\n",
    "\n",
    "plt.xticks([])\n",
    "plt.xticks(list(np.array(mode_indexes).T.flatten()+0.1), unique_mode * 3, rotation=45, fontsize=14)\n",
    "labs = [l.get_label() for l in lns]\n",
    "plt.legend(lns, labs, fontsize=14, loc='upper center', bbox_to_anchor=(0.5, 1.22),\n",
    "                 fancybox=True, shadow=True, ncol=4, labelspacing=1.0, handleheight=1.0, columnspacing=3)\n",
    "\n",
    "\n",
    "dataset_names = sorted(ps4_e_results['Network'].unique())\n",
    "for i, dataset_name in enumerate(dataset_names):\n",
    "    if dataset_name == 'CIFAR10SNN':\n",
    "        dataset_name = 'CIFAR10DVS'\n",
    "    elif dataset_name == 'ImageNetSNN':\n",
    "        dataset_name = 'ImageNet'\n",
    "    plt.annotate(dataset_name, (index[i], 0), textcoords=\"offset points\", xytext=(0, -60), ha='center', fontsize=14)\n",
    "\n",
    "plt.ylabel(\"Energy Efficiency\")\n",
    "ax.yaxis.set_major_formatter(FuncFormatter(lambda y, _: '{:.0%}'.format(y))) \n",
    "plt.savefig('fig/energy_breakdown.pdf', bbox_inches='tight')"
   ]
  },
  {
   "cell_type": "markdown",
   "metadata": {},
   "source": [
    "## TW sensitivity analysis"
   ]
  },
  {
   "cell_type": "code",
   "execution_count": null,
   "metadata": {},
   "outputs": [],
   "source": [
    "df = pd.read_csv('results/ps4-sim-sweep.csv')\n",
    "df.head()"
   ]
  },
  {
   "cell_type": "code",
   "execution_count": null,
   "metadata": {},
   "outputs": [],
   "source": [
    "df.insert(3, 'PS4-Cycles', df['Cycles'] * (1 - df['out_sparsity_util'] + df['Batch size'].apply(lambda x: math.log2(x) / x)))\n",
    "df.insert(6, 'speedup_vs_base', df['Cycles'] / df['PS4-Cycles'])"
   ]
  },
  {
   "cell_type": "code",
   "execution_count": null,
   "metadata": {},
   "outputs": [],
   "source": [
    "df['Network'].unique()"
   ]
  },
  {
   "cell_type": "code",
   "execution_count": null,
   "metadata": {},
   "outputs": [],
   "source": [
    "df_grp = df.groupby(['N', 'M', 'Batch size', 'Network'],as_index=False)\n",
    "df_grp.head()"
   ]
  },
  {
   "cell_type": "code",
   "execution_count": null,
   "metadata": {},
   "outputs": [],
   "source": [
    "dataset = 'DVS128Gesture'\n",
    "df_grp.get_group((128, 2, 8, dataset))"
   ]
  },
  {
   "cell_type": "code",
   "execution_count": null,
   "metadata": {},
   "outputs": [],
   "source": [
    "N = df['N'].unique()\n",
    "M = df['M'].unique()\n",
    "TW = df['Batch size'].unique()\n",
    "# 遍历df groups\n",
    "print(len(list(product(zip(N, M), TW))))\n",
    "failed = 0\n",
    "for (n, m), tw in product(zip(N, M), TW):\n",
    "    try:\n",
    "        series = df_grp.get_group((n, m, tw, dataset))\n",
    "    except:\n",
    "        print(f\"n={n}, m={m}, tw={tw} not found\")\n",
    "        failed += 1\n",
    "print(failed)"
   ]
  },
  {
   "cell_type": "code",
   "execution_count": null,
   "metadata": {},
   "outputs": [],
   "source": [
    "speedup = [df_grp.get_group((128, 2, tw, dataset))['speedup_vs_base'].values[0] for tw in TW]\n",
    "out_sparsity_utils = [df_grp.get_group((128, 2, tw, dataset))['out_sparsity_util'].values[0] for tw in TW]"
   ]
  },
  {
   "cell_type": "code",
   "execution_count": null,
   "metadata": {},
   "outputs": [],
   "source": [
    "speedup"
   ]
  },
  {
   "cell_type": "code",
   "execution_count": null,
   "metadata": {},
   "outputs": [],
   "source": [
    "out_sparsity_utils"
   ]
  },
  {
   "cell_type": "code",
   "execution_count": null,
   "metadata": {},
   "outputs": [],
   "source": [
    "M"
   ]
  },
  {
   "cell_type": "code",
   "execution_count": null,
   "metadata": {},
   "outputs": [],
   "source": [
    "fig, ax = plt.subplots(figsize=(5, 3))\n",
    "bar_width = 0.3\n",
    "bottom = np.zeros(len(TW))\n",
    "index = np.arange(len(TW))\n",
    "ln1 = plt.bar(index, speedup, bar_width, bottom=bottom, label='Speedup', color=color_bar4[2])\n",
    "ax.yaxis.set_major_formatter(FuncFormatter(lambda y, _: '{:.0%}'.format(y))) \n",
    "plt.xlabel('TW', fontsize=14)\n",
    "plt.ylabel('Speedup')\n",
    "ymin, ymax = ax.get_ylim()\n",
    "ax.set_ylim(ymin, 4)\n",
    "ax2 = plt.twinx()\n",
    "ln2 = ax2.plot(index, out_sparsity_utils, label='out_sparsity_util', marker='o', linestyle='-', color=color_bar4[5], markersize=8, linewidth=2)\n",
    "ax2.yaxis.set_major_formatter(FuncFormatter(lambda y, _: '{:.0%}'.format(y))) \n",
    "plt.xticks(index, TW)\n",
    "plt.ylabel('Output Sparsity Util.')\n",
    "ax2.set_ylim(0.8, 1.0)\n",
    "# add legend for ax1 and ax2\n",
    "plt.legend([\"out_sparsity_util\"], fontsize=14, loc='upper center', bbox_to_anchor=(0.3, 1.0),\n",
    "                 fancybox=True, shadow=True, ncol=2, labelspacing=1.0, handleheight=0.8, columnspacing=6)\n",
    "plt.savefig('fig/TW_sensitivity.pdf', bbox_inches='tight')"
   ]
  },
  {
   "cell_type": "code",
   "execution_count": null,
   "metadata": {},
   "outputs": [],
   "source": [
    "# speedup = [df_grp.get_group((32, 32, tw, 'DVS128Gesture'))['speedup_vs_base'].values[0] for tw in TW]\n",
    "speedup = [df_grp.get_group((n, m, 8, dataset))['speedup_vs_base'].values[0] for n, m in zip(N, M)]\n",
    "out_sparsity_utils = [df_grp.get_group((n, m, 8, dataset))['out_sparsity_util'].values[0] for n, m in zip(N, M)]\n"
   ]
  },
  {
   "cell_type": "code",
   "execution_count": null,
   "metadata": {},
   "outputs": [],
   "source": [
    "speedup"
   ]
  },
  {
   "cell_type": "code",
   "execution_count": null,
   "metadata": {},
   "outputs": [],
   "source": [
    "out_sparsity_utils"
   ]
  },
  {
   "cell_type": "code",
   "execution_count": null,
   "metadata": {},
   "outputs": [],
   "source": [
    "fig, ax = plt.subplots(figsize=(5, 3))\n",
    "bar_width = 0.3\n",
    "bottom = np.zeros(len(M))\n",
    "index = np.arange(len(M))\n",
    "ln1 = plt.bar(index, speedup, bar_width, bottom=bottom, label='Speedup', color=color_bar4[2])\n",
    "ax.yaxis.set_major_formatter(FuncFormatter(lambda y, _: '{:.0%}'.format(y))) \n",
    "plt.xlabel('# of column', fontsize=14)\n",
    "plt.ylabel('Speedup')\n",
    "ax2 = plt.twinx()\n",
    "ln2 = ax2.plot(index, out_sparsity_utils, label='out_sparsity_util', marker='o', linestyle='-', color=color_bar4[5], markersize=8, linewidth=2)\n",
    "ax2.yaxis.set_major_formatter(FuncFormatter(lambda y, _: '{:.0%}'.format(y))) \n",
    "plt.xticks(index, M)\n",
    "plt.ylabel('Output Sparsity Util.')\n",
    "ymin, ymax = ax2.get_ylim()\n",
    "ax2.set_ylim(ymin, 1.0)\n",
    "# add legend for ax1 and ax2\n",
    "plt.legend([\"out_sparsity_util\"], fontsize=14, loc='upper center', bbox_to_anchor=(0.72, 1.1),\n",
    "                 fancybox=True, shadow=True, ncol=2, labelspacing=1.0, handleheight=0.8, columnspacing=6)\n",
    "plt.savefig('fig/col_sensitivity.pdf', bbox_inches='tight')"
   ]
  },
  {
   "cell_type": "code",
   "execution_count": null,
   "metadata": {},
   "outputs": [],
   "source": []
  },
  {
   "cell_type": "code",
   "execution_count": null,
   "metadata": {},
   "outputs": [],
   "source": [
    "config_file = 'ps4_e_conf_best.ini'\n",
    "\n",
    "batch_size = 100\n",
    "\n",
    "TW = 48\n",
    "\n",
    "syn_fn = 'systolic_array_synth_snn.csv'\n",
    "\n",
    "# Create simulator object\n",
    "verbose = False\n",
    "ps4_e_sim = Simulator(config_file, verbose)\n",
    "ps4_e_energy_costs = ps4_e_sim.get_energy_cost(syn_fn)\n",
    "# ps4_e_energy_costs = ps4_e_sim.get_energy_cost()\n",
    "print(ps4_e_sim)\n",
    "\n",
    "energy_tuple = ps4_e_energy_costs\n",
    "print('')\n",
    "print('*'*50)\n",
    "print(energy_tuple)\n",
    "\n",
    "ps4_e_sim_sweep_csv = os.path.join(results_dir, 'ps4-sim-sweep.csv')\n",
    "# if os.path.exists(ps4_e_sim_sweep_csv):\n",
    "#     os.remove(ps4_e_sim_sweep_csv)\n",
    "if os.path.exists(ps4_e_sim_sweep_csv):\n",
    "    ps4_e_sim_sweep_df = pandas.read_csv(ps4_e_sim_sweep_csv)\n",
    "else:\n",
    "    ps4_e_sim_sweep_df = pandas.DataFrame(columns=sim_sweep_columns)\n",
    "print('Got BitFusion Eyeriss, Numbers')\n",
    "\n",
    "ps4_e_results = check_pandas_or_run(ps4_e_sim, ps4_e_sim_sweep_df,\n",
    "        ps4_e_sim_sweep_csv, batch_size=TW, list_bench=benchmarks.snn_benchlist)\n",
    "\n",
    "ps4_e_results.insert(2, 'PTB-Cycles', ps4_e_results['Cycles'] * (1 - ps4_e_results['in_sparsity_util']))\n",
    "ps4_e_results.insert(3, 'PS4-Cycles', ps4_e_results['Cycles'] * (1 - ps4_e_results['out_sparsity_util'] + ps4_e_results['Batch size'].apply(lambda x: math.log2(x) / x)))\n",
    "ps4_e_results.insert(4, 'PS4-Spec-Cycles', ps4_e_results['Cycles'] * (ps4_e_results['Batch size'].apply(lambda x: math.log2(x) / x)))\n",
    "ps4_e_results.insert(5, 'PS4-Rec-Cycles', ps4_e_results['Cycles'] * (1 - ps4_e_results['out_sparsity_util']))\n",
    "\n",
    "ps4_e_results = ps4_e_results.groupby('Network',as_index=False).agg(np.sum)\n",
    "ps4_e_results.head()"
   ]
  },
  {
   "cell_type": "code",
   "execution_count": null,
   "metadata": {},
   "outputs": [],
   "source": [
    "ps4_e_results[\"Cycles\"]"
   ]
  },
  {
   "cell_type": "code",
   "execution_count": null,
   "metadata": {},
   "outputs": [],
   "source": [
    "breakdown_dict = {}\n",
    "for mode in ['Baseline', 'PTB', 'PS4']:\n",
    "    breakdown_data = []     # ['core', 'buffer', 'dram', 'popcnt']\n",
    "    for bench in benchmarks.snn_benchlist:\n",
    "        print(f\"{bench}\")\n",
    "        ps4_e_stats = df_to_stats(ps4_e_results.loc[ps4_e_results['Network'] == 'DVS128Gesture'])\n",
    "        ps4_breakdown = ps4_e_stats.get_energy_breakdown(ps4_e_sim.get_energy_cost(syn_fn), mode=mode)\n",
    "        total = sum(ps4_breakdown)\n",
    "        if mode == 'PS4':\n",
    "            print(f\"total energy = {total}\")\n",
    "        ps4_breakdown = [x / float(total) for x in ps4_breakdown]\n",
    "\n",
    "        breakdown_data.append([mode, bench, total] + ps4_breakdown)\n",
    "    breakdown_dict[mode] = breakdown_data\n",
    "\n",
    "breakdown_dict.keys()\n"
   ]
  },
  {
   "cell_type": "code",
   "execution_count": null,
   "metadata": {},
   "outputs": [],
   "source": []
  }
 ],
 "metadata": {
  "kernelspec": {
   "display_name": "base",
   "language": "python",
   "name": "python3"
  },
  "language_info": {
   "codemirror_mode": {
    "name": "ipython",
    "version": 3
   },
   "file_extension": ".py",
   "mimetype": "text/x-python",
   "name": "python",
   "nbconvert_exporter": "python",
   "pygments_lexer": "ipython3",
   "version": "3.10.12"
  }
 },
 "nbformat": 4,
 "nbformat_minor": 2
}
