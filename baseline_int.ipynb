{
 "cells": [
  {
   "cell_type": "markdown",
   "metadata": {},
   "source": [
    "## Imports"
   ]
  },
  {
   "cell_type": "code",
   "execution_count": 1,
   "metadata": {
    "ExecuteTime": {
     "end_time": "2024-11-27T08:57:36.970981Z",
     "start_time": "2024-11-27T08:57:35.762557Z"
    },
    "metadata": {}
   },
   "outputs": [],
   "source": [
    "%reset -f\n",
    "import pandas\n",
    "import configparser\n",
    "import os\n",
    "import numpy as np\n",
    "# %load_ext autoreload\n",
    "# %autoreload 2\n",
    "import sys\n",
    "# sys.path.append('/home')\n",
    "\n",
    "import logging\n",
    "# 设置日志记录器的级别为 WARNING（大于或等于WARNING的日志会显示）\n",
    "logging.basicConfig(level=logging.WARNING)\n",
    "\n",
    "from baseline_int.graph_plot.barchart import BarChart\n",
    "\n",
    "%matplotlib inline\n",
    "import matplotlib\n",
    "import re\n",
    "from itertools import product\n",
    "\n",
    "import warnings\n",
    "warnings.filterwarnings('ignore')\n",
    "\n",
    "import baseline_int.src.benchmarks.benchmarks as benchmarks\n",
    "from baseline_int.src.simulator.stats import Stats\n",
    "from baseline_int.src.simulator.simulator import Simulator\n",
    "from baseline_int.src.sweep.sweep import SimulatorSweep, check_pandas_or_run\n",
    "from baseline_int.src.utils.utils import *\n",
    "from baseline_int.src.optimizer.optimizer import optimize_for_order, get_stats_fast\n",
    "\n",
    "import dnnweaver2\n",
    "\n",
    "from collections import defaultdict\n",
    "import numpy as np\n",
    "import pandas as pd\n",
    "import matplotlib.pyplot as plt\n",
    "from matplotlib.ticker import FuncFormatter\n",
    "import math\n",
    "import tqdm\n",
    "plt.rcParams['font.family'] = ['serif']\n",
    "plt.rcParams['font.serif'] = ['Times New Roman']\n",
    "font = { 'size'   : 18}\n",
    "plt.rc('font', **font)\n",
    "color_bar1 = [\"#7CBD3D\", \"#33B7FF\", \"#FF6F66\", \"#E3A735\", \"#E96A66\", \"#457B9D\", \"#66AB9E\"]\n",
    "color_bar2 = [\"#2a9d8f\", \"#F6BD60\", \"#457b9d\", \"#F07167\", \"#BFA6A2\", \"#A1CD5A\", \"#ED7D31\"]\n",
    "color_bar4 = [\"#d6d6d7\", \"#b9b9b9\", \"#848484\", \"#50595a\", \"#383838\", \"#a31f33\"]\n",
    "# hatches = ['//', 'xx', '..', '\\\\', '|', '-', '+', 'x', 'o', 'O', '.', '*']\n",
    "hatches = ['//', 'xx', '\\\\', '-', '+', 'x', 'o', 'O', '.', '*']"
   ]
  },
  {
   "cell_type": "code",
   "execution_count": 2,
   "metadata": {
    "ExecuteTime": {
     "end_time": "2024-11-27T08:57:36.986819Z",
     "start_time": "2024-11-27T08:57:36.972698Z"
    },
    "metadata": {}
   },
   "outputs": [],
   "source": [
    "# dataframe转换到仿真器状态stats\n",
    "def df_to_stats(df):\n",
    "    stats = Stats()\n",
    "    stats.total_cycles = float(df['Cycles'])\n",
    "    stats.ptb_cycles = float(df['PTB-Cycles'])\n",
    "    stats.ps5_cycles = float(df['PS5-Cycles'])\n",
    "    stats.mem_stall_cycles = float(df['Memory wait cycles'])\n",
    "    stats.reads['act'] = float(df['IBUF Read'])\n",
    "    stats.reads['out'] = float(df['OBUF Read'])\n",
    "    stats.reads['wgt'] = float(df['WBUF Read'])\n",
    "    stats.reads['dram'] = float(df['DRAM Read'])\n",
    "    stats.writes['act'] = float(df['IBUF Write'])\n",
    "    stats.writes['out'] = float(df['OBUF Write'])\n",
    "    stats.writes['wgt'] = float(df['WBUF Write'])\n",
    "    stats.writes['dram'] = float(df['DRAM Write'])\n",
    "    return stats"
   ]
  },
  {
   "cell_type": "code",
   "execution_count": 3,
   "metadata": {
    "ExecuteTime": {
     "end_time": "2024-11-27T08:57:37.002415Z",
     "start_time": "2024-11-27T08:57:36.988327Z"
    },
    "metadata": {}
   },
   "outputs": [],
   "source": [
    "results_dir = './results'\n",
    "if not os.path.exists(results_dir):\n",
    "    os.makedirs(results_dir)\n",
    "\n",
    "fig_dir = './fig'\n",
    "if not os.path.exists(fig_dir):\n",
    "    os.makedirs(fig_dir)"
   ]
  },
  {
   "cell_type": "markdown",
   "metadata": {},
   "source": [
    "### Create a simulator object using the configuration from PS4-Eyeriss (ps4_e_conf.ini)"
   ]
  },
  {
   "cell_type": "code",
   "execution_count": 4,
   "metadata": {
    "ExecuteTime": {
     "end_time": "2024-11-27T08:57:37.017924Z",
     "start_time": "2024-11-27T08:57:37.003922Z"
    },
    "metadata": {}
   },
   "outputs": [],
   "source": [
    "# 定义模拟器中需要扫描的列\n",
    "sim_sweep_columns = ['N', 'M',\n",
    "        'Max Precision (bits)', 'Min Precision (bits)',\n",
    "        'Network', 'Layer',\n",
    "        'Cycles', 'Memory wait cycles',\n",
    "        'WBUF Read', 'WBUF Write',\n",
    "        'OBUF Read', 'OBUF Write',\n",
    "        'IBUF Read', 'IBUF Write',\n",
    "        'DRAM Read', 'DRAM Write',\n",
    "        'Bandwidth (bits/cycle)',\n",
    "        'WBUF Size (bits)', 'OBUF Size (bits)', 'IBUF Size (bits)',\n",
    "        'Timesteps', 'in_sparsity_util', 'out_sparsity_util', 'TW', 'Speed']\n",
    "\n",
    "# 参数替换\n",
    "def replace_in_config_file(config_file, key, val):\n",
    "    with open(config_file, 'r') as f:\n",
    "        content = f.read()\n",
    "    content = re.sub(r'^{} = (\\d+)'.format(key), '{} = {}'.format(key, val), content, flags=re.MULTILINE)\n",
    "    with open(config_file, 'w') as f:\n",
    "        f.write(content)\n",
    "\n",
    "# 仿真过程。\n",
    "def sim(TW, N, M, Speed=True):\n",
    "    # Speed 变量控制是否对时间窗做加速\n",
    "    # BitFusion configuration file\n",
    "    config_file = 'ps5_e_conf_test.ini'\n",
    "    # replace \"a = (\\d+)\"\" in config_file to \"a = N\"\n",
    "    replace_in_config_file(config_file=config_file, key='a', val=N)  # 以a输出N，以c输出M\n",
    "    replace_in_config_file(config_file=config_file, key='c', val=M)\n",
    "\n",
    "    timesteps = 100\n",
    "\n",
    "    syn_fn = 'systolic_array_synth_snn.csv'  # 脉动阵列仿真文件\n",
    "\n",
    "    # Create simulator object\n",
    "    verbose = False  # 设置输出信息类型\n",
    "    ps5_e_sim = Simulator(config_file, verbose)  # 建立仿真器\n",
    "    # ps5_e_energy_costs = ps5_e_sim.get_energy_cost(syn_fn)  # 计算能耗\n",
    "    # print(ps5_e_sim)\n",
    "\n",
    "    ps5_e_sim_sweep_csv = os.path.join(results_dir, 'ps5-sim-sweep-test.csv')  # 扫描结果文件\n",
    "    # if os.path.exists(ps4_e_sim_sweep_csv):\n",
    "    #     os.remove(ps4_e_sim_sweep_csv)\n",
    "    if os.path.exists(ps5_e_sim_sweep_csv):  # 读取文件 或 新建\n",
    "        ps5_e_sim_sweep_df = pandas.read_csv(ps5_e_sim_sweep_csv)\n",
    "    else:\n",
    "        ps5_e_sim_sweep_df = pandas.DataFrame(columns=sim_sweep_columns)\n",
    "    print('Got BitFusion Eyeriss, Numbers')\n",
    "\n",
    "    ps5_e_results = check_pandas_or_run(ps5_e_sim, ps5_e_sim_sweep_df,\n",
    "            ps5_e_sim_sweep_csv, batch_size=timesteps, config_file=config_file, TW=TW, list_bench=benchmarks.snn_benchlist, Speed=Speed)  # 运行仿真\n",
    "    return ps5_e_results\n",
    "\n",
    "\n",
    "def generate_col_row_pairs(PE_number):\n",
    "    result = []\n",
    "    max_pow = 12  # 因为 2^12 = 4096 是最大符合要求的 PE_number\n",
    "\n",
    "    for col_exp in range(max_pow + 1):\n",
    "        for row_exp in range(max_pow + 1):\n",
    "            col_number = 2 ** col_exp\n",
    "            row_number = 2 ** row_exp\n",
    "            if col_number * row_number <= PE_number:\n",
    "                result.append([col_number, row_number])\n",
    "    \n",
    "    # sim_stop_list = [[1, 1], [1, 2], [2, 1], [2, 2], [1, 4], [1, 8], [1, 16], [1, 32], [2, 4], [2, 8], [2, 16], [4, 1], [4, 2], [4, 4], \n",
    "    #                 [4, 8], [8, 1], [8, 2], [8, 4], [16, 1], [16, 2], [32, 1], [1, 1024], [1, 2048], [1, 4096], [2, 512], [2, 1024], \n",
    "    #                 [2, 2048], [4, 256], [4, 512], [4, 1024], [8, 128], [8, 256], [8, 512], [16, 64], [16, 128], [16, 256], [32, 64], \n",
    "    #                 [32, 128], [64, 16], [64, 32], [128, 8], [128, 16], [128, 32], [256, 4], [256, 8], [256, 16], [512, 1], [512, 2], \n",
    "    #                 [512, 4], [512, 8], [1024, 1], [1024, 2], [1024, 4], [2048, 1], [2048, 2], [4096, 1]]\n",
    "    sim_stop_list = []\n",
    "    filtered_result = [elem for elem in result if elem not in sim_stop_list]\n",
    "\n",
    "    sim_append_list = [[64, 64], [128, 128], [256, 256]]\n",
    "\n",
    "    filtered_result.extend(sim_append_list)\n",
    "\n",
    "    return filtered_result"
   ]
  },
  {
   "cell_type": "code",
   "execution_count": 5,
   "metadata": {},
   "outputs": [],
   "source": [
    "def generate_col_row_pairs(PE_number):\n",
    "    result = []\n",
    "    for M in [1, 2, 4, 8, 16, 32, 64, 128, 256]:\n",
    "        for N in [1, 2, 4, 8, 16, 32, 64, 128, 256]:\n",
    "            result.append([M, N])\n",
    "    return result"
   ]
  },
  {
   "cell_type": "code",
   "execution_count": 6,
   "metadata": {
    "ExecuteTime": {
     "end_time": "2024-11-27T08:57:37.033879Z",
     "start_time": "2024-11-27T08:57:37.018881Z"
    },
    "metadata": {}
   },
   "outputs": [],
   "source": [
    "total_PE_number = 2048\n",
    "TW = 8\n",
    "col_row_combine = generate_col_row_pairs(total_PE_number)"
   ]
  },
  {
   "cell_type": "code",
   "execution_count": 7,
   "metadata": {
    "metadata": {}
   },
   "outputs": [
    {
     "name": "stdout",
     "output_type": "stream",
     "text": [
      "Got BitFusion Eyeriss, Numbers\n"
     ]
    },
    {
     "name": "stderr",
     "output_type": "stream",
     "text": [
      "INFO:baseline_int.src.sweep.sweep.Simulator:Simulating Benchmark: CIFAR10SNN\n",
      "INFO:baseline_int.src.sweep.sweep.Simulator:N x M = 1 x 1\n",
      "INFO:baseline_int.src.sweep.sweep.Simulator:Max Precision (bits): 8\n",
      "INFO:baseline_int.src.sweep.sweep.Simulator:Min Precision (bits): 8\n",
      "INFO:baseline_int.src.sweep.sweep.Simulator:Batch size: 100\n",
      "INFO:baseline_int.src.sweep.sweep.Simulator:Bandwidth (bits/cycle): 1024\n",
      "INFO:baseline_int.src.sweep.sweep.Simulator:Simulating Benchmark: DVS128Gesture\n",
      "INFO:baseline_int.src.sweep.sweep.Simulator:N x M = 1 x 1\n",
      "INFO:baseline_int.src.sweep.sweep.Simulator:Max Precision (bits): 8\n",
      "INFO:baseline_int.src.sweep.sweep.Simulator:Min Precision (bits): 8\n",
      "INFO:baseline_int.src.sweep.sweep.Simulator:Batch size: 100\n",
      "INFO:baseline_int.src.sweep.sweep.Simulator:Bandwidth (bits/cycle): 1024\n",
      "INFO:baseline_int.src.sweep.sweep.Simulator:Simulating Benchmark: ImageNetSNN\n",
      "INFO:baseline_int.src.sweep.sweep.Simulator:N x M = 1 x 1\n",
      "INFO:baseline_int.src.sweep.sweep.Simulator:Max Precision (bits): 8\n",
      "INFO:baseline_int.src.sweep.sweep.Simulator:Min Precision (bits): 8\n",
      "INFO:baseline_int.src.sweep.sweep.Simulator:Batch size: 100\n",
      "INFO:baseline_int.src.sweep.sweep.Simulator:Bandwidth (bits/cycle): 1024\n",
      "  0%|          | 0/80 [00:00<?, ?it/s]"
     ]
    },
    {
     "name": "stdout",
     "output_type": "stream",
     "text": [
      "Got BitFusion Eyeriss, Numbers\n"
     ]
    },
    {
     "name": "stderr",
     "output_type": "stream",
     "text": [
      "INFO:baseline_int.src.sweep.sweep.Simulator:Simulating Benchmark: CIFAR10SNN\n",
      "INFO:baseline_int.src.sweep.sweep.Simulator:N x M = 2 x 1\n",
      "INFO:baseline_int.src.sweep.sweep.Simulator:Max Precision (bits): 8\n",
      "INFO:baseline_int.src.sweep.sweep.Simulator:Min Precision (bits): 8\n",
      "INFO:baseline_int.src.sweep.sweep.Simulator:Batch size: 100\n",
      "INFO:baseline_int.src.sweep.sweep.Simulator:Bandwidth (bits/cycle): 1024\n",
      "INFO:baseline_int.src.sweep.sweep.Simulator:Simulating Benchmark: DVS128Gesture\n",
      "INFO:baseline_int.src.sweep.sweep.Simulator:N x M = 2 x 1\n",
      "INFO:baseline_int.src.sweep.sweep.Simulator:Max Precision (bits): 8\n",
      "INFO:baseline_int.src.sweep.sweep.Simulator:Min Precision (bits): 8\n",
      "INFO:baseline_int.src.sweep.sweep.Simulator:Batch size: 100\n",
      "INFO:baseline_int.src.sweep.sweep.Simulator:Bandwidth (bits/cycle): 1024\n",
      "INFO:baseline_int.src.sweep.sweep.Simulator:Simulating Benchmark: ImageNetSNN\n",
      "INFO:baseline_int.src.sweep.sweep.Simulator:N x M = 2 x 1\n",
      "INFO:baseline_int.src.sweep.sweep.Simulator:Max Precision (bits): 8\n",
      "INFO:baseline_int.src.sweep.sweep.Simulator:Min Precision (bits): 8\n",
      "INFO:baseline_int.src.sweep.sweep.Simulator:Batch size: 100\n",
      "INFO:baseline_int.src.sweep.sweep.Simulator:Bandwidth (bits/cycle): 1024\n",
      "  1%|▏         | 1/80 [01:17<1:42:05, 77.53s/it]"
     ]
    },
    {
     "name": "stdout",
     "output_type": "stream",
     "text": [
      "Got BitFusion Eyeriss, Numbers\n"
     ]
    },
    {
     "name": "stderr",
     "output_type": "stream",
     "text": [
      "INFO:baseline_int.src.sweep.sweep.Simulator:Simulating Benchmark: CIFAR10SNN\n",
      "INFO:baseline_int.src.sweep.sweep.Simulator:N x M = 4 x 1\n",
      "INFO:baseline_int.src.sweep.sweep.Simulator:Max Precision (bits): 8\n",
      "INFO:baseline_int.src.sweep.sweep.Simulator:Min Precision (bits): 8\n",
      "INFO:baseline_int.src.sweep.sweep.Simulator:Batch size: 100\n",
      "INFO:baseline_int.src.sweep.sweep.Simulator:Bandwidth (bits/cycle): 1024\n",
      "INFO:baseline_int.src.sweep.sweep.Simulator:Simulating Benchmark: DVS128Gesture\n",
      "INFO:baseline_int.src.sweep.sweep.Simulator:N x M = 4 x 1\n",
      "INFO:baseline_int.src.sweep.sweep.Simulator:Max Precision (bits): 8\n",
      "INFO:baseline_int.src.sweep.sweep.Simulator:Min Precision (bits): 8\n",
      "INFO:baseline_int.src.sweep.sweep.Simulator:Batch size: 100\n",
      "INFO:baseline_int.src.sweep.sweep.Simulator:Bandwidth (bits/cycle): 1024\n",
      "INFO:baseline_int.src.sweep.sweep.Simulator:Simulating Benchmark: ImageNetSNN\n",
      "INFO:baseline_int.src.sweep.sweep.Simulator:N x M = 4 x 1\n",
      "INFO:baseline_int.src.sweep.sweep.Simulator:Max Precision (bits): 8\n",
      "INFO:baseline_int.src.sweep.sweep.Simulator:Min Precision (bits): 8\n",
      "INFO:baseline_int.src.sweep.sweep.Simulator:Batch size: 100\n",
      "INFO:baseline_int.src.sweep.sweep.Simulator:Bandwidth (bits/cycle): 1024\n",
      "  2%|▎         | 2/80 [02:35<1:40:51, 77.58s/it]"
     ]
    },
    {
     "name": "stdout",
     "output_type": "stream",
     "text": [
      "Got BitFusion Eyeriss, Numbers\n"
     ]
    },
    {
     "name": "stderr",
     "output_type": "stream",
     "text": [
      "INFO:baseline_int.src.sweep.sweep.Simulator:Simulating Benchmark: CIFAR10SNN\n",
      "INFO:baseline_int.src.sweep.sweep.Simulator:N x M = 8 x 1\n",
      "INFO:baseline_int.src.sweep.sweep.Simulator:Max Precision (bits): 8\n",
      "INFO:baseline_int.src.sweep.sweep.Simulator:Min Precision (bits): 8\n",
      "INFO:baseline_int.src.sweep.sweep.Simulator:Batch size: 100\n",
      "INFO:baseline_int.src.sweep.sweep.Simulator:Bandwidth (bits/cycle): 1024\n",
      "INFO:baseline_int.src.sweep.sweep.Simulator:Simulating Benchmark: DVS128Gesture\n",
      "INFO:baseline_int.src.sweep.sweep.Simulator:N x M = 8 x 1\n",
      "INFO:baseline_int.src.sweep.sweep.Simulator:Max Precision (bits): 8\n",
      "INFO:baseline_int.src.sweep.sweep.Simulator:Min Precision (bits): 8\n",
      "INFO:baseline_int.src.sweep.sweep.Simulator:Batch size: 100\n",
      "INFO:baseline_int.src.sweep.sweep.Simulator:Bandwidth (bits/cycle): 1024\n",
      "INFO:baseline_int.src.sweep.sweep.Simulator:Simulating Benchmark: ImageNetSNN\n",
      "INFO:baseline_int.src.sweep.sweep.Simulator:N x M = 8 x 1\n",
      "INFO:baseline_int.src.sweep.sweep.Simulator:Max Precision (bits): 8\n",
      "INFO:baseline_int.src.sweep.sweep.Simulator:Min Precision (bits): 8\n",
      "INFO:baseline_int.src.sweep.sweep.Simulator:Batch size: 100\n",
      "INFO:baseline_int.src.sweep.sweep.Simulator:Bandwidth (bits/cycle): 1024\n",
      "  4%|▍         | 3/80 [03:52<1:39:37, 77.63s/it]"
     ]
    },
    {
     "name": "stdout",
     "output_type": "stream",
     "text": [
      "Got BitFusion Eyeriss, Numbers\n"
     ]
    },
    {
     "name": "stderr",
     "output_type": "stream",
     "text": [
      "INFO:baseline_int.src.sweep.sweep.Simulator:Simulating Benchmark: CIFAR10SNN\n",
      "INFO:baseline_int.src.sweep.sweep.Simulator:N x M = 16 x 1\n",
      "INFO:baseline_int.src.sweep.sweep.Simulator:Max Precision (bits): 8\n",
      "INFO:baseline_int.src.sweep.sweep.Simulator:Min Precision (bits): 8\n",
      "INFO:baseline_int.src.sweep.sweep.Simulator:Batch size: 100\n",
      "INFO:baseline_int.src.sweep.sweep.Simulator:Bandwidth (bits/cycle): 1024\n",
      "INFO:baseline_int.src.sweep.sweep.Simulator:Simulating Benchmark: DVS128Gesture\n",
      "INFO:baseline_int.src.sweep.sweep.Simulator:N x M = 16 x 1\n",
      "INFO:baseline_int.src.sweep.sweep.Simulator:Max Precision (bits): 8\n",
      "INFO:baseline_int.src.sweep.sweep.Simulator:Min Precision (bits): 8\n",
      "INFO:baseline_int.src.sweep.sweep.Simulator:Batch size: 100\n",
      "INFO:baseline_int.src.sweep.sweep.Simulator:Bandwidth (bits/cycle): 1024\n",
      "INFO:baseline_int.src.sweep.sweep.Simulator:Simulating Benchmark: ImageNetSNN\n",
      "INFO:baseline_int.src.sweep.sweep.Simulator:N x M = 16 x 1\n",
      "INFO:baseline_int.src.sweep.sweep.Simulator:Max Precision (bits): 8\n",
      "INFO:baseline_int.src.sweep.sweep.Simulator:Min Precision (bits): 8\n",
      "INFO:baseline_int.src.sweep.sweep.Simulator:Batch size: 100\n",
      "INFO:baseline_int.src.sweep.sweep.Simulator:Bandwidth (bits/cycle): 1024\n",
      "  5%|▌         | 4/80 [05:11<1:38:39, 77.89s/it]"
     ]
    },
    {
     "name": "stdout",
     "output_type": "stream",
     "text": [
      "Got BitFusion Eyeriss, Numbers\n"
     ]
    },
    {
     "name": "stderr",
     "output_type": "stream",
     "text": [
      "INFO:baseline_int.src.sweep.sweep.Simulator:Simulating Benchmark: CIFAR10SNN\n",
      "INFO:baseline_int.src.sweep.sweep.Simulator:N x M = 32 x 1\n",
      "INFO:baseline_int.src.sweep.sweep.Simulator:Max Precision (bits): 8\n",
      "INFO:baseline_int.src.sweep.sweep.Simulator:Min Precision (bits): 8\n",
      "INFO:baseline_int.src.sweep.sweep.Simulator:Batch size: 100\n",
      "INFO:baseline_int.src.sweep.sweep.Simulator:Bandwidth (bits/cycle): 1024\n",
      "INFO:baseline_int.src.sweep.sweep.Simulator:Simulating Benchmark: DVS128Gesture\n",
      "INFO:baseline_int.src.sweep.sweep.Simulator:N x M = 32 x 1\n",
      "INFO:baseline_int.src.sweep.sweep.Simulator:Max Precision (bits): 8\n",
      "INFO:baseline_int.src.sweep.sweep.Simulator:Min Precision (bits): 8\n",
      "INFO:baseline_int.src.sweep.sweep.Simulator:Batch size: 100\n",
      "INFO:baseline_int.src.sweep.sweep.Simulator:Bandwidth (bits/cycle): 1024\n",
      "INFO:baseline_int.src.sweep.sweep.Simulator:Simulating Benchmark: ImageNetSNN\n",
      "INFO:baseline_int.src.sweep.sweep.Simulator:N x M = 32 x 1\n",
      "INFO:baseline_int.src.sweep.sweep.Simulator:Max Precision (bits): 8\n",
      "INFO:baseline_int.src.sweep.sweep.Simulator:Min Precision (bits): 8\n",
      "INFO:baseline_int.src.sweep.sweep.Simulator:Batch size: 100\n",
      "INFO:baseline_int.src.sweep.sweep.Simulator:Bandwidth (bits/cycle): 1024\n",
      "  6%|▋         | 5/80 [06:29<1:37:33, 78.05s/it]"
     ]
    },
    {
     "name": "stdout",
     "output_type": "stream",
     "text": [
      "Got BitFusion Eyeriss, Numbers\n"
     ]
    },
    {
     "name": "stderr",
     "output_type": "stream",
     "text": [
      "INFO:baseline_int.src.sweep.sweep.Simulator:Simulating Benchmark: CIFAR10SNN\n",
      "INFO:baseline_int.src.sweep.sweep.Simulator:N x M = 64 x 1\n",
      "INFO:baseline_int.src.sweep.sweep.Simulator:Max Precision (bits): 8\n",
      "INFO:baseline_int.src.sweep.sweep.Simulator:Min Precision (bits): 8\n",
      "INFO:baseline_int.src.sweep.sweep.Simulator:Batch size: 100\n",
      "INFO:baseline_int.src.sweep.sweep.Simulator:Bandwidth (bits/cycle): 1024\n",
      "INFO:baseline_int.src.sweep.sweep.Simulator:Simulating Benchmark: DVS128Gesture\n",
      "INFO:baseline_int.src.sweep.sweep.Simulator:N x M = 64 x 1\n",
      "INFO:baseline_int.src.sweep.sweep.Simulator:Max Precision (bits): 8\n",
      "INFO:baseline_int.src.sweep.sweep.Simulator:Min Precision (bits): 8\n",
      "INFO:baseline_int.src.sweep.sweep.Simulator:Batch size: 100\n",
      "INFO:baseline_int.src.sweep.sweep.Simulator:Bandwidth (bits/cycle): 1024\n",
      "INFO:baseline_int.src.sweep.sweep.Simulator:Simulating Benchmark: ImageNetSNN\n",
      "INFO:baseline_int.src.sweep.sweep.Simulator:N x M = 64 x 1\n",
      "INFO:baseline_int.src.sweep.sweep.Simulator:Max Precision (bits): 8\n",
      "INFO:baseline_int.src.sweep.sweep.Simulator:Min Precision (bits): 8\n",
      "INFO:baseline_int.src.sweep.sweep.Simulator:Batch size: 100\n",
      "INFO:baseline_int.src.sweep.sweep.Simulator:Bandwidth (bits/cycle): 1024\n",
      "  8%|▊         | 6/80 [07:48<1:36:30, 78.25s/it]"
     ]
    },
    {
     "name": "stdout",
     "output_type": "stream",
     "text": [
      "Got BitFusion Eyeriss, Numbers\n"
     ]
    },
    {
     "name": "stderr",
     "output_type": "stream",
     "text": [
      "INFO:baseline_int.src.sweep.sweep.Simulator:Simulating Benchmark: CIFAR10SNN\n",
      "INFO:baseline_int.src.sweep.sweep.Simulator:N x M = 128 x 1\n",
      "INFO:baseline_int.src.sweep.sweep.Simulator:Max Precision (bits): 8\n",
      "INFO:baseline_int.src.sweep.sweep.Simulator:Min Precision (bits): 8\n",
      "INFO:baseline_int.src.sweep.sweep.Simulator:Batch size: 100\n",
      "INFO:baseline_int.src.sweep.sweep.Simulator:Bandwidth (bits/cycle): 1024\n",
      "INFO:baseline_int.src.sweep.sweep.Simulator:Simulating Benchmark: DVS128Gesture\n",
      "INFO:baseline_int.src.sweep.sweep.Simulator:N x M = 128 x 1\n",
      "INFO:baseline_int.src.sweep.sweep.Simulator:Max Precision (bits): 8\n",
      "INFO:baseline_int.src.sweep.sweep.Simulator:Min Precision (bits): 8\n",
      "INFO:baseline_int.src.sweep.sweep.Simulator:Batch size: 100\n",
      "INFO:baseline_int.src.sweep.sweep.Simulator:Bandwidth (bits/cycle): 1024\n",
      "INFO:baseline_int.src.sweep.sweep.Simulator:Simulating Benchmark: ImageNetSNN\n",
      "INFO:baseline_int.src.sweep.sweep.Simulator:N x M = 128 x 1\n",
      "INFO:baseline_int.src.sweep.sweep.Simulator:Max Precision (bits): 8\n",
      "INFO:baseline_int.src.sweep.sweep.Simulator:Min Precision (bits): 8\n",
      "INFO:baseline_int.src.sweep.sweep.Simulator:Batch size: 100\n",
      "INFO:baseline_int.src.sweep.sweep.Simulator:Bandwidth (bits/cycle): 1024\n",
      "  9%|▉         | 7/80 [09:10<1:36:47, 79.56s/it]"
     ]
    },
    {
     "name": "stdout",
     "output_type": "stream",
     "text": [
      "Got BitFusion Eyeriss, Numbers\n"
     ]
    },
    {
     "name": "stderr",
     "output_type": "stream",
     "text": [
      "INFO:baseline_int.src.sweep.sweep.Simulator:Simulating Benchmark: CIFAR10SNN\n",
      "INFO:baseline_int.src.sweep.sweep.Simulator:N x M = 256 x 1\n",
      "INFO:baseline_int.src.sweep.sweep.Simulator:Max Precision (bits): 8\n",
      "INFO:baseline_int.src.sweep.sweep.Simulator:Min Precision (bits): 8\n",
      "INFO:baseline_int.src.sweep.sweep.Simulator:Batch size: 100\n",
      "INFO:baseline_int.src.sweep.sweep.Simulator:Bandwidth (bits/cycle): 1024\n",
      "INFO:baseline_int.src.sweep.sweep.Simulator:Simulating Benchmark: DVS128Gesture\n",
      "INFO:baseline_int.src.sweep.sweep.Simulator:N x M = 256 x 1\n",
      "INFO:baseline_int.src.sweep.sweep.Simulator:Max Precision (bits): 8\n",
      "INFO:baseline_int.src.sweep.sweep.Simulator:Min Precision (bits): 8\n",
      "INFO:baseline_int.src.sweep.sweep.Simulator:Batch size: 100\n",
      "INFO:baseline_int.src.sweep.sweep.Simulator:Bandwidth (bits/cycle): 1024\n",
      "INFO:baseline_int.src.sweep.sweep.Simulator:Simulating Benchmark: ImageNetSNN\n",
      "INFO:baseline_int.src.sweep.sweep.Simulator:N x M = 256 x 1\n",
      "INFO:baseline_int.src.sweep.sweep.Simulator:Max Precision (bits): 8\n",
      "INFO:baseline_int.src.sweep.sweep.Simulator:Min Precision (bits): 8\n",
      "INFO:baseline_int.src.sweep.sweep.Simulator:Batch size: 100\n",
      "INFO:baseline_int.src.sweep.sweep.Simulator:Bandwidth (bits/cycle): 1024\n",
      " 10%|█         | 8/80 [10:37<1:38:17, 81.91s/it]"
     ]
    },
    {
     "name": "stdout",
     "output_type": "stream",
     "text": [
      "Got BitFusion Eyeriss, Numbers\n"
     ]
    },
    {
     "name": "stderr",
     "output_type": "stream",
     "text": [
      "INFO:baseline_int.src.sweep.sweep.Simulator:Simulating Benchmark: CIFAR10SNN\n",
      "INFO:baseline_int.src.sweep.sweep.Simulator:N x M = 1 x 2\n",
      "INFO:baseline_int.src.sweep.sweep.Simulator:Max Precision (bits): 8\n",
      "INFO:baseline_int.src.sweep.sweep.Simulator:Min Precision (bits): 8\n",
      "INFO:baseline_int.src.sweep.sweep.Simulator:Batch size: 100\n",
      "INFO:baseline_int.src.sweep.sweep.Simulator:Bandwidth (bits/cycle): 1024\n",
      "INFO:baseline_int.src.sweep.sweep.Simulator:Simulating Benchmark: DVS128Gesture\n",
      "INFO:baseline_int.src.sweep.sweep.Simulator:N x M = 1 x 2\n",
      "INFO:baseline_int.src.sweep.sweep.Simulator:Max Precision (bits): 8\n",
      "INFO:baseline_int.src.sweep.sweep.Simulator:Min Precision (bits): 8\n",
      "INFO:baseline_int.src.sweep.sweep.Simulator:Batch size: 100\n",
      "INFO:baseline_int.src.sweep.sweep.Simulator:Bandwidth (bits/cycle): 1024\n",
      "INFO:baseline_int.src.sweep.sweep.Simulator:Simulating Benchmark: ImageNetSNN\n",
      "INFO:baseline_int.src.sweep.sweep.Simulator:N x M = 1 x 2\n",
      "INFO:baseline_int.src.sweep.sweep.Simulator:Max Precision (bits): 8\n",
      "INFO:baseline_int.src.sweep.sweep.Simulator:Min Precision (bits): 8\n",
      "INFO:baseline_int.src.sweep.sweep.Simulator:Batch size: 100\n",
      "INFO:baseline_int.src.sweep.sweep.Simulator:Bandwidth (bits/cycle): 1024\n",
      " 11%|█▏        | 9/80 [11:57<1:36:27, 81.51s/it]"
     ]
    },
    {
     "name": "stdout",
     "output_type": "stream",
     "text": [
      "Got BitFusion Eyeriss, Numbers\n"
     ]
    },
    {
     "name": "stderr",
     "output_type": "stream",
     "text": [
      "INFO:baseline_int.src.sweep.sweep.Simulator:Simulating Benchmark: CIFAR10SNN\n",
      "INFO:baseline_int.src.sweep.sweep.Simulator:N x M = 2 x 2\n",
      "INFO:baseline_int.src.sweep.sweep.Simulator:Max Precision (bits): 8\n",
      "INFO:baseline_int.src.sweep.sweep.Simulator:Min Precision (bits): 8\n",
      "INFO:baseline_int.src.sweep.sweep.Simulator:Batch size: 100\n",
      "INFO:baseline_int.src.sweep.sweep.Simulator:Bandwidth (bits/cycle): 1024\n",
      "INFO:baseline_int.src.sweep.sweep.Simulator:Simulating Benchmark: DVS128Gesture\n",
      "INFO:baseline_int.src.sweep.sweep.Simulator:N x M = 2 x 2\n",
      "INFO:baseline_int.src.sweep.sweep.Simulator:Max Precision (bits): 8\n",
      "INFO:baseline_int.src.sweep.sweep.Simulator:Min Precision (bits): 8\n",
      "INFO:baseline_int.src.sweep.sweep.Simulator:Batch size: 100\n",
      "INFO:baseline_int.src.sweep.sweep.Simulator:Bandwidth (bits/cycle): 1024\n",
      "INFO:baseline_int.src.sweep.sweep.Simulator:Simulating Benchmark: ImageNetSNN\n",
      "INFO:baseline_int.src.sweep.sweep.Simulator:N x M = 2 x 2\n",
      "INFO:baseline_int.src.sweep.sweep.Simulator:Max Precision (bits): 8\n",
      "INFO:baseline_int.src.sweep.sweep.Simulator:Min Precision (bits): 8\n",
      "INFO:baseline_int.src.sweep.sweep.Simulator:Batch size: 100\n",
      "INFO:baseline_int.src.sweep.sweep.Simulator:Bandwidth (bits/cycle): 1024\n",
      " 12%|█▎        | 10/80 [13:18<1:34:48, 81.27s/it]"
     ]
    },
    {
     "name": "stdout",
     "output_type": "stream",
     "text": [
      "Got BitFusion Eyeriss, Numbers\n"
     ]
    },
    {
     "name": "stderr",
     "output_type": "stream",
     "text": [
      "INFO:baseline_int.src.sweep.sweep.Simulator:Simulating Benchmark: CIFAR10SNN\n",
      "INFO:baseline_int.src.sweep.sweep.Simulator:N x M = 4 x 2\n",
      "INFO:baseline_int.src.sweep.sweep.Simulator:Max Precision (bits): 8\n",
      "INFO:baseline_int.src.sweep.sweep.Simulator:Min Precision (bits): 8\n",
      "INFO:baseline_int.src.sweep.sweep.Simulator:Batch size: 100\n",
      "INFO:baseline_int.src.sweep.sweep.Simulator:Bandwidth (bits/cycle): 1024\n",
      "INFO:baseline_int.src.sweep.sweep.Simulator:Simulating Benchmark: DVS128Gesture\n",
      "INFO:baseline_int.src.sweep.sweep.Simulator:N x M = 4 x 2\n",
      "INFO:baseline_int.src.sweep.sweep.Simulator:Max Precision (bits): 8\n",
      "INFO:baseline_int.src.sweep.sweep.Simulator:Min Precision (bits): 8\n",
      "INFO:baseline_int.src.sweep.sweep.Simulator:Batch size: 100\n",
      "INFO:baseline_int.src.sweep.sweep.Simulator:Bandwidth (bits/cycle): 1024\n",
      "INFO:baseline_int.src.sweep.sweep.Simulator:Simulating Benchmark: ImageNetSNN\n",
      "INFO:baseline_int.src.sweep.sweep.Simulator:N x M = 4 x 2\n",
      "INFO:baseline_int.src.sweep.sweep.Simulator:Max Precision (bits): 8\n",
      "INFO:baseline_int.src.sweep.sweep.Simulator:Min Precision (bits): 8\n",
      "INFO:baseline_int.src.sweep.sweep.Simulator:Batch size: 100\n",
      "INFO:baseline_int.src.sweep.sweep.Simulator:Bandwidth (bits/cycle): 1024\n",
      " 14%|█▍        | 11/80 [14:39<1:33:09, 81.01s/it]"
     ]
    },
    {
     "name": "stdout",
     "output_type": "stream",
     "text": [
      "Got BitFusion Eyeriss, Numbers\n"
     ]
    },
    {
     "name": "stderr",
     "output_type": "stream",
     "text": [
      "INFO:baseline_int.src.sweep.sweep.Simulator:Simulating Benchmark: CIFAR10SNN\n",
      "INFO:baseline_int.src.sweep.sweep.Simulator:N x M = 8 x 2\n",
      "INFO:baseline_int.src.sweep.sweep.Simulator:Max Precision (bits): 8\n",
      "INFO:baseline_int.src.sweep.sweep.Simulator:Min Precision (bits): 8\n",
      "INFO:baseline_int.src.sweep.sweep.Simulator:Batch size: 100\n",
      "INFO:baseline_int.src.sweep.sweep.Simulator:Bandwidth (bits/cycle): 1024\n",
      "INFO:baseline_int.src.sweep.sweep.Simulator:Simulating Benchmark: DVS128Gesture\n",
      "INFO:baseline_int.src.sweep.sweep.Simulator:N x M = 8 x 2\n",
      "INFO:baseline_int.src.sweep.sweep.Simulator:Max Precision (bits): 8\n",
      "INFO:baseline_int.src.sweep.sweep.Simulator:Min Precision (bits): 8\n",
      "INFO:baseline_int.src.sweep.sweep.Simulator:Batch size: 100\n",
      "INFO:baseline_int.src.sweep.sweep.Simulator:Bandwidth (bits/cycle): 1024\n",
      "INFO:baseline_int.src.sweep.sweep.Simulator:Simulating Benchmark: ImageNetSNN\n",
      "INFO:baseline_int.src.sweep.sweep.Simulator:N x M = 8 x 2\n",
      "INFO:baseline_int.src.sweep.sweep.Simulator:Max Precision (bits): 8\n",
      "INFO:baseline_int.src.sweep.sweep.Simulator:Min Precision (bits): 8\n",
      "INFO:baseline_int.src.sweep.sweep.Simulator:Batch size: 100\n",
      "INFO:baseline_int.src.sweep.sweep.Simulator:Bandwidth (bits/cycle): 1024\n",
      " 15%|█▌        | 12/80 [15:59<1:31:43, 80.94s/it]"
     ]
    },
    {
     "name": "stdout",
     "output_type": "stream",
     "text": [
      "Got BitFusion Eyeriss, Numbers\n"
     ]
    },
    {
     "name": "stderr",
     "output_type": "stream",
     "text": [
      "INFO:baseline_int.src.sweep.sweep.Simulator:Simulating Benchmark: CIFAR10SNN\n",
      "INFO:baseline_int.src.sweep.sweep.Simulator:N x M = 16 x 2\n",
      "INFO:baseline_int.src.sweep.sweep.Simulator:Max Precision (bits): 8\n",
      "INFO:baseline_int.src.sweep.sweep.Simulator:Min Precision (bits): 8\n",
      "INFO:baseline_int.src.sweep.sweep.Simulator:Batch size: 100\n",
      "INFO:baseline_int.src.sweep.sweep.Simulator:Bandwidth (bits/cycle): 1024\n",
      "INFO:baseline_int.src.sweep.sweep.Simulator:Simulating Benchmark: DVS128Gesture\n",
      "INFO:baseline_int.src.sweep.sweep.Simulator:N x M = 16 x 2\n",
      "INFO:baseline_int.src.sweep.sweep.Simulator:Max Precision (bits): 8\n",
      "INFO:baseline_int.src.sweep.sweep.Simulator:Min Precision (bits): 8\n",
      "INFO:baseline_int.src.sweep.sweep.Simulator:Batch size: 100\n",
      "INFO:baseline_int.src.sweep.sweep.Simulator:Bandwidth (bits/cycle): 1024\n",
      "INFO:baseline_int.src.sweep.sweep.Simulator:Simulating Benchmark: ImageNetSNN\n",
      "INFO:baseline_int.src.sweep.sweep.Simulator:N x M = 16 x 2\n",
      "INFO:baseline_int.src.sweep.sweep.Simulator:Max Precision (bits): 8\n",
      "INFO:baseline_int.src.sweep.sweep.Simulator:Min Precision (bits): 8\n",
      "INFO:baseline_int.src.sweep.sweep.Simulator:Batch size: 100\n",
      "INFO:baseline_int.src.sweep.sweep.Simulator:Bandwidth (bits/cycle): 1024\n",
      " 16%|█▋        | 13/80 [17:20<1:30:09, 80.75s/it]"
     ]
    },
    {
     "name": "stdout",
     "output_type": "stream",
     "text": [
      "Got BitFusion Eyeriss, Numbers\n"
     ]
    },
    {
     "name": "stderr",
     "output_type": "stream",
     "text": [
      "INFO:baseline_int.src.sweep.sweep.Simulator:Simulating Benchmark: CIFAR10SNN\n",
      "INFO:baseline_int.src.sweep.sweep.Simulator:N x M = 32 x 2\n",
      "INFO:baseline_int.src.sweep.sweep.Simulator:Max Precision (bits): 8\n",
      "INFO:baseline_int.src.sweep.sweep.Simulator:Min Precision (bits): 8\n",
      "INFO:baseline_int.src.sweep.sweep.Simulator:Batch size: 100\n",
      "INFO:baseline_int.src.sweep.sweep.Simulator:Bandwidth (bits/cycle): 1024\n",
      "INFO:baseline_int.src.sweep.sweep.Simulator:Simulating Benchmark: DVS128Gesture\n",
      "INFO:baseline_int.src.sweep.sweep.Simulator:N x M = 32 x 2\n",
      "INFO:baseline_int.src.sweep.sweep.Simulator:Max Precision (bits): 8\n",
      "INFO:baseline_int.src.sweep.sweep.Simulator:Min Precision (bits): 8\n",
      "INFO:baseline_int.src.sweep.sweep.Simulator:Batch size: 100\n",
      "INFO:baseline_int.src.sweep.sweep.Simulator:Bandwidth (bits/cycle): 1024\n",
      "INFO:baseline_int.src.sweep.sweep.Simulator:Simulating Benchmark: ImageNetSNN\n",
      "INFO:baseline_int.src.sweep.sweep.Simulator:N x M = 32 x 2\n",
      "INFO:baseline_int.src.sweep.sweep.Simulator:Max Precision (bits): 8\n",
      "INFO:baseline_int.src.sweep.sweep.Simulator:Min Precision (bits): 8\n",
      "INFO:baseline_int.src.sweep.sweep.Simulator:Batch size: 100\n",
      "INFO:baseline_int.src.sweep.sweep.Simulator:Bandwidth (bits/cycle): 1024\n",
      " 18%|█▊        | 14/80 [18:40<1:28:39, 80.61s/it]"
     ]
    },
    {
     "name": "stdout",
     "output_type": "stream",
     "text": [
      "Got BitFusion Eyeriss, Numbers\n"
     ]
    },
    {
     "name": "stderr",
     "output_type": "stream",
     "text": [
      "INFO:baseline_int.src.sweep.sweep.Simulator:Simulating Benchmark: CIFAR10SNN\n",
      "INFO:baseline_int.src.sweep.sweep.Simulator:N x M = 64 x 2\n",
      "INFO:baseline_int.src.sweep.sweep.Simulator:Max Precision (bits): 8\n",
      "INFO:baseline_int.src.sweep.sweep.Simulator:Min Precision (bits): 8\n",
      "INFO:baseline_int.src.sweep.sweep.Simulator:Batch size: 100\n",
      "INFO:baseline_int.src.sweep.sweep.Simulator:Bandwidth (bits/cycle): 1024\n",
      "INFO:baseline_int.src.sweep.sweep.Simulator:Simulating Benchmark: DVS128Gesture\n",
      "INFO:baseline_int.src.sweep.sweep.Simulator:N x M = 64 x 2\n",
      "INFO:baseline_int.src.sweep.sweep.Simulator:Max Precision (bits): 8\n",
      "INFO:baseline_int.src.sweep.sweep.Simulator:Min Precision (bits): 8\n",
      "INFO:baseline_int.src.sweep.sweep.Simulator:Batch size: 100\n",
      "INFO:baseline_int.src.sweep.sweep.Simulator:Bandwidth (bits/cycle): 1024\n",
      "INFO:baseline_int.src.sweep.sweep.Simulator:Simulating Benchmark: ImageNetSNN\n",
      "INFO:baseline_int.src.sweep.sweep.Simulator:N x M = 64 x 2\n",
      "INFO:baseline_int.src.sweep.sweep.Simulator:Max Precision (bits): 8\n",
      "INFO:baseline_int.src.sweep.sweep.Simulator:Min Precision (bits): 8\n",
      "INFO:baseline_int.src.sweep.sweep.Simulator:Batch size: 100\n",
      "INFO:baseline_int.src.sweep.sweep.Simulator:Bandwidth (bits/cycle): 1024\n",
      " 19%|█▉        | 15/80 [20:00<1:27:05, 80.40s/it]"
     ]
    },
    {
     "name": "stdout",
     "output_type": "stream",
     "text": [
      "Got BitFusion Eyeriss, Numbers\n"
     ]
    },
    {
     "name": "stderr",
     "output_type": "stream",
     "text": [
      "INFO:baseline_int.src.sweep.sweep.Simulator:Simulating Benchmark: CIFAR10SNN\n",
      "INFO:baseline_int.src.sweep.sweep.Simulator:N x M = 128 x 2\n",
      "INFO:baseline_int.src.sweep.sweep.Simulator:Max Precision (bits): 8\n",
      "INFO:baseline_int.src.sweep.sweep.Simulator:Min Precision (bits): 8\n",
      "INFO:baseline_int.src.sweep.sweep.Simulator:Batch size: 100\n",
      "INFO:baseline_int.src.sweep.sweep.Simulator:Bandwidth (bits/cycle): 1024\n",
      "INFO:baseline_int.src.sweep.sweep.Simulator:Simulating Benchmark: DVS128Gesture\n",
      "INFO:baseline_int.src.sweep.sweep.Simulator:N x M = 128 x 2\n",
      "INFO:baseline_int.src.sweep.sweep.Simulator:Max Precision (bits): 8\n",
      "INFO:baseline_int.src.sweep.sweep.Simulator:Min Precision (bits): 8\n",
      "INFO:baseline_int.src.sweep.sweep.Simulator:Batch size: 100\n",
      "INFO:baseline_int.src.sweep.sweep.Simulator:Bandwidth (bits/cycle): 1024\n",
      "INFO:baseline_int.src.sweep.sweep.Simulator:Simulating Benchmark: ImageNetSNN\n",
      "INFO:baseline_int.src.sweep.sweep.Simulator:N x M = 128 x 2\n",
      "INFO:baseline_int.src.sweep.sweep.Simulator:Max Precision (bits): 8\n",
      "INFO:baseline_int.src.sweep.sweep.Simulator:Min Precision (bits): 8\n",
      "INFO:baseline_int.src.sweep.sweep.Simulator:Batch size: 100\n",
      "INFO:baseline_int.src.sweep.sweep.Simulator:Bandwidth (bits/cycle): 1024\n",
      " 20%|██        | 16/80 [21:20<1:25:35, 80.24s/it]"
     ]
    },
    {
     "name": "stdout",
     "output_type": "stream",
     "text": [
      "Got BitFusion Eyeriss, Numbers\n"
     ]
    },
    {
     "name": "stderr",
     "output_type": "stream",
     "text": [
      "INFO:baseline_int.src.sweep.sweep.Simulator:Simulating Benchmark: CIFAR10SNN\n",
      "INFO:baseline_int.src.sweep.sweep.Simulator:N x M = 256 x 2\n",
      "INFO:baseline_int.src.sweep.sweep.Simulator:Max Precision (bits): 8\n",
      "INFO:baseline_int.src.sweep.sweep.Simulator:Min Precision (bits): 8\n",
      "INFO:baseline_int.src.sweep.sweep.Simulator:Batch size: 100\n",
      "INFO:baseline_int.src.sweep.sweep.Simulator:Bandwidth (bits/cycle): 1024\n",
      "INFO:baseline_int.src.sweep.sweep.Simulator:Simulating Benchmark: DVS128Gesture\n",
      "INFO:baseline_int.src.sweep.sweep.Simulator:N x M = 256 x 2\n",
      "INFO:baseline_int.src.sweep.sweep.Simulator:Max Precision (bits): 8\n",
      "INFO:baseline_int.src.sweep.sweep.Simulator:Min Precision (bits): 8\n",
      "INFO:baseline_int.src.sweep.sweep.Simulator:Batch size: 100\n",
      "INFO:baseline_int.src.sweep.sweep.Simulator:Bandwidth (bits/cycle): 1024\n",
      "INFO:baseline_int.src.sweep.sweep.Simulator:Simulating Benchmark: ImageNetSNN\n",
      "INFO:baseline_int.src.sweep.sweep.Simulator:N x M = 256 x 2\n",
      "INFO:baseline_int.src.sweep.sweep.Simulator:Max Precision (bits): 8\n",
      "INFO:baseline_int.src.sweep.sweep.Simulator:Min Precision (bits): 8\n",
      "INFO:baseline_int.src.sweep.sweep.Simulator:Batch size: 100\n",
      "INFO:baseline_int.src.sweep.sweep.Simulator:Bandwidth (bits/cycle): 1024\n",
      " 21%|██▏       | 17/80 [22:39<1:24:03, 80.05s/it]"
     ]
    },
    {
     "name": "stdout",
     "output_type": "stream",
     "text": [
      "Got BitFusion Eyeriss, Numbers\n"
     ]
    },
    {
     "name": "stderr",
     "output_type": "stream",
     "text": [
      "INFO:baseline_int.src.sweep.sweep.Simulator:Simulating Benchmark: CIFAR10SNN\n",
      "INFO:baseline_int.src.sweep.sweep.Simulator:N x M = 1 x 4\n",
      "INFO:baseline_int.src.sweep.sweep.Simulator:Max Precision (bits): 8\n",
      "INFO:baseline_int.src.sweep.sweep.Simulator:Min Precision (bits): 8\n",
      "INFO:baseline_int.src.sweep.sweep.Simulator:Batch size: 100\n",
      "INFO:baseline_int.src.sweep.sweep.Simulator:Bandwidth (bits/cycle): 1024\n",
      "INFO:baseline_int.src.sweep.sweep.Simulator:Simulating Benchmark: DVS128Gesture\n",
      "INFO:baseline_int.src.sweep.sweep.Simulator:N x M = 1 x 4\n",
      "INFO:baseline_int.src.sweep.sweep.Simulator:Max Precision (bits): 8\n",
      "INFO:baseline_int.src.sweep.sweep.Simulator:Min Precision (bits): 8\n",
      "INFO:baseline_int.src.sweep.sweep.Simulator:Batch size: 100\n",
      "INFO:baseline_int.src.sweep.sweep.Simulator:Bandwidth (bits/cycle): 1024\n",
      "INFO:baseline_int.src.sweep.sweep.Simulator:Simulating Benchmark: ImageNetSNN\n",
      "INFO:baseline_int.src.sweep.sweep.Simulator:N x M = 1 x 4\n",
      "INFO:baseline_int.src.sweep.sweep.Simulator:Max Precision (bits): 8\n",
      "INFO:baseline_int.src.sweep.sweep.Simulator:Min Precision (bits): 8\n",
      "INFO:baseline_int.src.sweep.sweep.Simulator:Batch size: 100\n",
      "INFO:baseline_int.src.sweep.sweep.Simulator:Bandwidth (bits/cycle): 1024\n",
      " 22%|██▎       | 18/80 [23:53<1:20:37, 78.03s/it]"
     ]
    },
    {
     "name": "stdout",
     "output_type": "stream",
     "text": [
      "Got BitFusion Eyeriss, Numbers\n"
     ]
    },
    {
     "name": "stderr",
     "output_type": "stream",
     "text": [
      "INFO:baseline_int.src.sweep.sweep.Simulator:Simulating Benchmark: CIFAR10SNN\n",
      "INFO:baseline_int.src.sweep.sweep.Simulator:N x M = 2 x 4\n",
      "INFO:baseline_int.src.sweep.sweep.Simulator:Max Precision (bits): 8\n",
      "INFO:baseline_int.src.sweep.sweep.Simulator:Min Precision (bits): 8\n",
      "INFO:baseline_int.src.sweep.sweep.Simulator:Batch size: 100\n",
      "INFO:baseline_int.src.sweep.sweep.Simulator:Bandwidth (bits/cycle): 1024\n",
      "INFO:baseline_int.src.sweep.sweep.Simulator:Simulating Benchmark: DVS128Gesture\n",
      "INFO:baseline_int.src.sweep.sweep.Simulator:N x M = 2 x 4\n",
      "INFO:baseline_int.src.sweep.sweep.Simulator:Max Precision (bits): 8\n",
      "INFO:baseline_int.src.sweep.sweep.Simulator:Min Precision (bits): 8\n",
      "INFO:baseline_int.src.sweep.sweep.Simulator:Batch size: 100\n",
      "INFO:baseline_int.src.sweep.sweep.Simulator:Bandwidth (bits/cycle): 1024\n",
      "INFO:baseline_int.src.sweep.sweep.Simulator:Simulating Benchmark: ImageNetSNN\n",
      "INFO:baseline_int.src.sweep.sweep.Simulator:N x M = 2 x 4\n",
      "INFO:baseline_int.src.sweep.sweep.Simulator:Max Precision (bits): 8\n",
      "INFO:baseline_int.src.sweep.sweep.Simulator:Min Precision (bits): 8\n",
      "INFO:baseline_int.src.sweep.sweep.Simulator:Batch size: 100\n",
      "INFO:baseline_int.src.sweep.sweep.Simulator:Bandwidth (bits/cycle): 1024\n",
      " 24%|██▍       | 19/80 [25:06<1:17:49, 76.55s/it]"
     ]
    },
    {
     "name": "stdout",
     "output_type": "stream",
     "text": [
      "Got BitFusion Eyeriss, Numbers\n"
     ]
    },
    {
     "name": "stderr",
     "output_type": "stream",
     "text": [
      "INFO:baseline_int.src.sweep.sweep.Simulator:Simulating Benchmark: CIFAR10SNN\n",
      "INFO:baseline_int.src.sweep.sweep.Simulator:N x M = 4 x 4\n",
      "INFO:baseline_int.src.sweep.sweep.Simulator:Max Precision (bits): 8\n",
      "INFO:baseline_int.src.sweep.sweep.Simulator:Min Precision (bits): 8\n",
      "INFO:baseline_int.src.sweep.sweep.Simulator:Batch size: 100\n",
      "INFO:baseline_int.src.sweep.sweep.Simulator:Bandwidth (bits/cycle): 1024\n",
      "INFO:baseline_int.src.sweep.sweep.Simulator:Simulating Benchmark: DVS128Gesture\n",
      "INFO:baseline_int.src.sweep.sweep.Simulator:N x M = 4 x 4\n",
      "INFO:baseline_int.src.sweep.sweep.Simulator:Max Precision (bits): 8\n",
      "INFO:baseline_int.src.sweep.sweep.Simulator:Min Precision (bits): 8\n",
      "INFO:baseline_int.src.sweep.sweep.Simulator:Batch size: 100\n",
      "INFO:baseline_int.src.sweep.sweep.Simulator:Bandwidth (bits/cycle): 1024\n",
      "INFO:baseline_int.src.sweep.sweep.Simulator:Simulating Benchmark: ImageNetSNN\n",
      "INFO:baseline_int.src.sweep.sweep.Simulator:N x M = 4 x 4\n",
      "INFO:baseline_int.src.sweep.sweep.Simulator:Max Precision (bits): 8\n",
      "INFO:baseline_int.src.sweep.sweep.Simulator:Min Precision (bits): 8\n",
      "INFO:baseline_int.src.sweep.sweep.Simulator:Batch size: 100\n",
      "INFO:baseline_int.src.sweep.sweep.Simulator:Bandwidth (bits/cycle): 1024\n",
      " 25%|██▌       | 20/80 [26:19<1:15:30, 75.51s/it]"
     ]
    },
    {
     "name": "stdout",
     "output_type": "stream",
     "text": [
      "Got BitFusion Eyeriss, Numbers\n"
     ]
    },
    {
     "name": "stderr",
     "output_type": "stream",
     "text": [
      "INFO:baseline_int.src.sweep.sweep.Simulator:Simulating Benchmark: CIFAR10SNN\n",
      "INFO:baseline_int.src.sweep.sweep.Simulator:N x M = 8 x 4\n",
      "INFO:baseline_int.src.sweep.sweep.Simulator:Max Precision (bits): 8\n",
      "INFO:baseline_int.src.sweep.sweep.Simulator:Min Precision (bits): 8\n",
      "INFO:baseline_int.src.sweep.sweep.Simulator:Batch size: 100\n",
      "INFO:baseline_int.src.sweep.sweep.Simulator:Bandwidth (bits/cycle): 1024\n",
      "INFO:baseline_int.src.sweep.sweep.Simulator:Simulating Benchmark: DVS128Gesture\n",
      "INFO:baseline_int.src.sweep.sweep.Simulator:N x M = 8 x 4\n",
      "INFO:baseline_int.src.sweep.sweep.Simulator:Max Precision (bits): 8\n",
      "INFO:baseline_int.src.sweep.sweep.Simulator:Min Precision (bits): 8\n",
      "INFO:baseline_int.src.sweep.sweep.Simulator:Batch size: 100\n",
      "INFO:baseline_int.src.sweep.sweep.Simulator:Bandwidth (bits/cycle): 1024\n",
      "INFO:baseline_int.src.sweep.sweep.Simulator:Simulating Benchmark: ImageNetSNN\n",
      "INFO:baseline_int.src.sweep.sweep.Simulator:N x M = 8 x 4\n",
      "INFO:baseline_int.src.sweep.sweep.Simulator:Max Precision (bits): 8\n",
      "INFO:baseline_int.src.sweep.sweep.Simulator:Min Precision (bits): 8\n",
      "INFO:baseline_int.src.sweep.sweep.Simulator:Batch size: 100\n",
      "INFO:baseline_int.src.sweep.sweep.Simulator:Bandwidth (bits/cycle): 1024\n",
      " 26%|██▋       | 21/80 [27:32<1:13:28, 74.71s/it]"
     ]
    },
    {
     "name": "stdout",
     "output_type": "stream",
     "text": [
      "Got BitFusion Eyeriss, Numbers\n"
     ]
    },
    {
     "name": "stderr",
     "output_type": "stream",
     "text": [
      "INFO:baseline_int.src.sweep.sweep.Simulator:Simulating Benchmark: CIFAR10SNN\n",
      "INFO:baseline_int.src.sweep.sweep.Simulator:N x M = 16 x 4\n",
      "INFO:baseline_int.src.sweep.sweep.Simulator:Max Precision (bits): 8\n",
      "INFO:baseline_int.src.sweep.sweep.Simulator:Min Precision (bits): 8\n",
      "INFO:baseline_int.src.sweep.sweep.Simulator:Batch size: 100\n",
      "INFO:baseline_int.src.sweep.sweep.Simulator:Bandwidth (bits/cycle): 1024\n",
      "INFO:baseline_int.src.sweep.sweep.Simulator:Simulating Benchmark: DVS128Gesture\n",
      "INFO:baseline_int.src.sweep.sweep.Simulator:N x M = 16 x 4\n",
      "INFO:baseline_int.src.sweep.sweep.Simulator:Max Precision (bits): 8\n",
      "INFO:baseline_int.src.sweep.sweep.Simulator:Min Precision (bits): 8\n",
      "INFO:baseline_int.src.sweep.sweep.Simulator:Batch size: 100\n",
      "INFO:baseline_int.src.sweep.sweep.Simulator:Bandwidth (bits/cycle): 1024\n",
      "INFO:baseline_int.src.sweep.sweep.Simulator:Simulating Benchmark: ImageNetSNN\n",
      "INFO:baseline_int.src.sweep.sweep.Simulator:N x M = 16 x 4\n",
      "INFO:baseline_int.src.sweep.sweep.Simulator:Max Precision (bits): 8\n",
      "INFO:baseline_int.src.sweep.sweep.Simulator:Min Precision (bits): 8\n",
      "INFO:baseline_int.src.sweep.sweep.Simulator:Batch size: 100\n",
      "INFO:baseline_int.src.sweep.sweep.Simulator:Bandwidth (bits/cycle): 1024\n",
      " 28%|██▊       | 22/80 [28:45<1:11:43, 74.20s/it]"
     ]
    },
    {
     "name": "stdout",
     "output_type": "stream",
     "text": [
      "Got BitFusion Eyeriss, Numbers\n"
     ]
    },
    {
     "name": "stderr",
     "output_type": "stream",
     "text": [
      "INFO:baseline_int.src.sweep.sweep.Simulator:Simulating Benchmark: CIFAR10SNN\n",
      "INFO:baseline_int.src.sweep.sweep.Simulator:N x M = 32 x 4\n",
      "INFO:baseline_int.src.sweep.sweep.Simulator:Max Precision (bits): 8\n",
      "INFO:baseline_int.src.sweep.sweep.Simulator:Min Precision (bits): 8\n",
      "INFO:baseline_int.src.sweep.sweep.Simulator:Batch size: 100\n",
      "INFO:baseline_int.src.sweep.sweep.Simulator:Bandwidth (bits/cycle): 1024\n",
      "INFO:baseline_int.src.sweep.sweep.Simulator:Simulating Benchmark: DVS128Gesture\n",
      "INFO:baseline_int.src.sweep.sweep.Simulator:N x M = 32 x 4\n",
      "INFO:baseline_int.src.sweep.sweep.Simulator:Max Precision (bits): 8\n",
      "INFO:baseline_int.src.sweep.sweep.Simulator:Min Precision (bits): 8\n",
      "INFO:baseline_int.src.sweep.sweep.Simulator:Batch size: 100\n",
      "INFO:baseline_int.src.sweep.sweep.Simulator:Bandwidth (bits/cycle): 1024\n",
      "INFO:baseline_int.src.sweep.sweep.Simulator:Simulating Benchmark: ImageNetSNN\n",
      "INFO:baseline_int.src.sweep.sweep.Simulator:N x M = 32 x 4\n",
      "INFO:baseline_int.src.sweep.sweep.Simulator:Max Precision (bits): 8\n",
      "INFO:baseline_int.src.sweep.sweep.Simulator:Min Precision (bits): 8\n",
      "INFO:baseline_int.src.sweep.sweep.Simulator:Batch size: 100\n",
      "INFO:baseline_int.src.sweep.sweep.Simulator:Bandwidth (bits/cycle): 1024\n",
      " 29%|██▉       | 23/80 [29:58<1:10:06, 73.79s/it]"
     ]
    },
    {
     "name": "stdout",
     "output_type": "stream",
     "text": [
      "Got BitFusion Eyeriss, Numbers\n"
     ]
    },
    {
     "name": "stderr",
     "output_type": "stream",
     "text": [
      "INFO:baseline_int.src.sweep.sweep.Simulator:Simulating Benchmark: CIFAR10SNN\n",
      "INFO:baseline_int.src.sweep.sweep.Simulator:N x M = 64 x 4\n",
      "INFO:baseline_int.src.sweep.sweep.Simulator:Max Precision (bits): 8\n",
      "INFO:baseline_int.src.sweep.sweep.Simulator:Min Precision (bits): 8\n",
      "INFO:baseline_int.src.sweep.sweep.Simulator:Batch size: 100\n",
      "INFO:baseline_int.src.sweep.sweep.Simulator:Bandwidth (bits/cycle): 1024\n",
      "INFO:baseline_int.src.sweep.sweep.Simulator:Simulating Benchmark: DVS128Gesture\n",
      "INFO:baseline_int.src.sweep.sweep.Simulator:N x M = 64 x 4\n",
      "INFO:baseline_int.src.sweep.sweep.Simulator:Max Precision (bits): 8\n",
      "INFO:baseline_int.src.sweep.sweep.Simulator:Min Precision (bits): 8\n",
      "INFO:baseline_int.src.sweep.sweep.Simulator:Batch size: 100\n",
      "INFO:baseline_int.src.sweep.sweep.Simulator:Bandwidth (bits/cycle): 1024\n",
      "INFO:baseline_int.src.sweep.sweep.Simulator:Simulating Benchmark: ImageNetSNN\n",
      "INFO:baseline_int.src.sweep.sweep.Simulator:N x M = 64 x 4\n",
      "INFO:baseline_int.src.sweep.sweep.Simulator:Max Precision (bits): 8\n",
      "INFO:baseline_int.src.sweep.sweep.Simulator:Min Precision (bits): 8\n",
      "INFO:baseline_int.src.sweep.sweep.Simulator:Batch size: 100\n",
      "INFO:baseline_int.src.sweep.sweep.Simulator:Bandwidth (bits/cycle): 1024\n",
      " 30%|███       | 24/80 [31:10<1:08:34, 73.48s/it]"
     ]
    },
    {
     "name": "stdout",
     "output_type": "stream",
     "text": [
      "Got BitFusion Eyeriss, Numbers\n"
     ]
    },
    {
     "name": "stderr",
     "output_type": "stream",
     "text": [
      "INFO:baseline_int.src.sweep.sweep.Simulator:Simulating Benchmark: CIFAR10SNN\n",
      "INFO:baseline_int.src.sweep.sweep.Simulator:N x M = 128 x 4\n",
      "INFO:baseline_int.src.sweep.sweep.Simulator:Max Precision (bits): 8\n",
      "INFO:baseline_int.src.sweep.sweep.Simulator:Min Precision (bits): 8\n",
      "INFO:baseline_int.src.sweep.sweep.Simulator:Batch size: 100\n",
      "INFO:baseline_int.src.sweep.sweep.Simulator:Bandwidth (bits/cycle): 1024\n",
      "INFO:baseline_int.src.sweep.sweep.Simulator:Simulating Benchmark: DVS128Gesture\n",
      "INFO:baseline_int.src.sweep.sweep.Simulator:N x M = 128 x 4\n",
      "INFO:baseline_int.src.sweep.sweep.Simulator:Max Precision (bits): 8\n",
      "INFO:baseline_int.src.sweep.sweep.Simulator:Min Precision (bits): 8\n",
      "INFO:baseline_int.src.sweep.sweep.Simulator:Batch size: 100\n",
      "INFO:baseline_int.src.sweep.sweep.Simulator:Bandwidth (bits/cycle): 1024\n",
      "INFO:baseline_int.src.sweep.sweep.Simulator:Simulating Benchmark: ImageNetSNN\n",
      "INFO:baseline_int.src.sweep.sweep.Simulator:N x M = 128 x 4\n",
      "INFO:baseline_int.src.sweep.sweep.Simulator:Max Precision (bits): 8\n",
      "INFO:baseline_int.src.sweep.sweep.Simulator:Min Precision (bits): 8\n",
      "INFO:baseline_int.src.sweep.sweep.Simulator:Batch size: 100\n",
      "INFO:baseline_int.src.sweep.sweep.Simulator:Bandwidth (bits/cycle): 1024\n",
      " 31%|███▏      | 25/80 [32:23<1:07:09, 73.26s/it]"
     ]
    },
    {
     "name": "stdout",
     "output_type": "stream",
     "text": [
      "Got BitFusion Eyeriss, Numbers\n"
     ]
    },
    {
     "name": "stderr",
     "output_type": "stream",
     "text": [
      "INFO:baseline_int.src.sweep.sweep.Simulator:Simulating Benchmark: CIFAR10SNN\n",
      "INFO:baseline_int.src.sweep.sweep.Simulator:N x M = 256 x 4\n",
      "INFO:baseline_int.src.sweep.sweep.Simulator:Max Precision (bits): 8\n",
      "INFO:baseline_int.src.sweep.sweep.Simulator:Min Precision (bits): 8\n",
      "INFO:baseline_int.src.sweep.sweep.Simulator:Batch size: 100\n",
      "INFO:baseline_int.src.sweep.sweep.Simulator:Bandwidth (bits/cycle): 1024\n",
      "INFO:baseline_int.src.sweep.sweep.Simulator:Simulating Benchmark: DVS128Gesture\n",
      "INFO:baseline_int.src.sweep.sweep.Simulator:N x M = 256 x 4\n",
      "INFO:baseline_int.src.sweep.sweep.Simulator:Max Precision (bits): 8\n",
      "INFO:baseline_int.src.sweep.sweep.Simulator:Min Precision (bits): 8\n",
      "INFO:baseline_int.src.sweep.sweep.Simulator:Batch size: 100\n",
      "INFO:baseline_int.src.sweep.sweep.Simulator:Bandwidth (bits/cycle): 1024\n",
      "INFO:baseline_int.src.sweep.sweep.Simulator:Simulating Benchmark: ImageNetSNN\n",
      "INFO:baseline_int.src.sweep.sweep.Simulator:N x M = 256 x 4\n",
      "INFO:baseline_int.src.sweep.sweep.Simulator:Max Precision (bits): 8\n",
      "INFO:baseline_int.src.sweep.sweep.Simulator:Min Precision (bits): 8\n",
      "INFO:baseline_int.src.sweep.sweep.Simulator:Batch size: 100\n",
      "INFO:baseline_int.src.sweep.sweep.Simulator:Bandwidth (bits/cycle): 1024\n",
      " 32%|███▎      | 26/80 [33:36<1:05:53, 73.21s/it]"
     ]
    },
    {
     "name": "stdout",
     "output_type": "stream",
     "text": [
      "Got BitFusion Eyeriss, Numbers\n"
     ]
    },
    {
     "name": "stderr",
     "output_type": "stream",
     "text": [
      "INFO:baseline_int.src.sweep.sweep.Simulator:Simulating Benchmark: CIFAR10SNN\n",
      "INFO:baseline_int.src.sweep.sweep.Simulator:N x M = 1 x 8\n",
      "INFO:baseline_int.src.sweep.sweep.Simulator:Max Precision (bits): 8\n",
      "INFO:baseline_int.src.sweep.sweep.Simulator:Min Precision (bits): 8\n",
      "INFO:baseline_int.src.sweep.sweep.Simulator:Batch size: 100\n",
      "INFO:baseline_int.src.sweep.sweep.Simulator:Bandwidth (bits/cycle): 1024\n",
      "INFO:baseline_int.src.sweep.sweep.Simulator:Simulating Benchmark: DVS128Gesture\n",
      "INFO:baseline_int.src.sweep.sweep.Simulator:N x M = 1 x 8\n",
      "INFO:baseline_int.src.sweep.sweep.Simulator:Max Precision (bits): 8\n",
      "INFO:baseline_int.src.sweep.sweep.Simulator:Min Precision (bits): 8\n",
      "INFO:baseline_int.src.sweep.sweep.Simulator:Batch size: 100\n",
      "INFO:baseline_int.src.sweep.sweep.Simulator:Bandwidth (bits/cycle): 1024\n",
      "INFO:baseline_int.src.sweep.sweep.Simulator:Simulating Benchmark: ImageNetSNN\n",
      "INFO:baseline_int.src.sweep.sweep.Simulator:N x M = 1 x 8\n",
      "INFO:baseline_int.src.sweep.sweep.Simulator:Max Precision (bits): 8\n",
      "INFO:baseline_int.src.sweep.sweep.Simulator:Min Precision (bits): 8\n",
      "INFO:baseline_int.src.sweep.sweep.Simulator:Batch size: 100\n",
      "INFO:baseline_int.src.sweep.sweep.Simulator:Bandwidth (bits/cycle): 1024\n",
      " 34%|███▍      | 27/80 [34:43<1:03:06, 71.45s/it]"
     ]
    },
    {
     "name": "stdout",
     "output_type": "stream",
     "text": [
      "Got BitFusion Eyeriss, Numbers\n"
     ]
    },
    {
     "name": "stderr",
     "output_type": "stream",
     "text": [
      "INFO:baseline_int.src.sweep.sweep.Simulator:Simulating Benchmark: CIFAR10SNN\n",
      "INFO:baseline_int.src.sweep.sweep.Simulator:N x M = 2 x 8\n",
      "INFO:baseline_int.src.sweep.sweep.Simulator:Max Precision (bits): 8\n",
      "INFO:baseline_int.src.sweep.sweep.Simulator:Min Precision (bits): 8\n",
      "INFO:baseline_int.src.sweep.sweep.Simulator:Batch size: 100\n",
      "INFO:baseline_int.src.sweep.sweep.Simulator:Bandwidth (bits/cycle): 1024\n",
      "INFO:baseline_int.src.sweep.sweep.Simulator:Simulating Benchmark: DVS128Gesture\n",
      "INFO:baseline_int.src.sweep.sweep.Simulator:N x M = 2 x 8\n",
      "INFO:baseline_int.src.sweep.sweep.Simulator:Max Precision (bits): 8\n",
      "INFO:baseline_int.src.sweep.sweep.Simulator:Min Precision (bits): 8\n",
      "INFO:baseline_int.src.sweep.sweep.Simulator:Batch size: 100\n",
      "INFO:baseline_int.src.sweep.sweep.Simulator:Bandwidth (bits/cycle): 1024\n",
      "INFO:baseline_int.src.sweep.sweep.Simulator:Simulating Benchmark: ImageNetSNN\n",
      "INFO:baseline_int.src.sweep.sweep.Simulator:N x M = 2 x 8\n",
      "INFO:baseline_int.src.sweep.sweep.Simulator:Max Precision (bits): 8\n",
      "INFO:baseline_int.src.sweep.sweep.Simulator:Min Precision (bits): 8\n",
      "INFO:baseline_int.src.sweep.sweep.Simulator:Batch size: 100\n",
      "INFO:baseline_int.src.sweep.sweep.Simulator:Bandwidth (bits/cycle): 1024\n",
      " 35%|███▌      | 28/80 [35:51<1:00:46, 70.13s/it]"
     ]
    },
    {
     "name": "stdout",
     "output_type": "stream",
     "text": [
      "Got BitFusion Eyeriss, Numbers\n"
     ]
    },
    {
     "name": "stderr",
     "output_type": "stream",
     "text": [
      "INFO:baseline_int.src.sweep.sweep.Simulator:Simulating Benchmark: CIFAR10SNN\n",
      "INFO:baseline_int.src.sweep.sweep.Simulator:N x M = 4 x 8\n",
      "INFO:baseline_int.src.sweep.sweep.Simulator:Max Precision (bits): 8\n",
      "INFO:baseline_int.src.sweep.sweep.Simulator:Min Precision (bits): 8\n",
      "INFO:baseline_int.src.sweep.sweep.Simulator:Batch size: 100\n",
      "INFO:baseline_int.src.sweep.sweep.Simulator:Bandwidth (bits/cycle): 1024\n",
      "INFO:baseline_int.src.sweep.sweep.Simulator:Simulating Benchmark: DVS128Gesture\n",
      "INFO:baseline_int.src.sweep.sweep.Simulator:N x M = 4 x 8\n",
      "INFO:baseline_int.src.sweep.sweep.Simulator:Max Precision (bits): 8\n",
      "INFO:baseline_int.src.sweep.sweep.Simulator:Min Precision (bits): 8\n",
      "INFO:baseline_int.src.sweep.sweep.Simulator:Batch size: 100\n",
      "INFO:baseline_int.src.sweep.sweep.Simulator:Bandwidth (bits/cycle): 1024\n",
      "INFO:baseline_int.src.sweep.sweep.Simulator:Simulating Benchmark: ImageNetSNN\n",
      "INFO:baseline_int.src.sweep.sweep.Simulator:N x M = 4 x 8\n",
      "INFO:baseline_int.src.sweep.sweep.Simulator:Max Precision (bits): 8\n",
      "INFO:baseline_int.src.sweep.sweep.Simulator:Min Precision (bits): 8\n",
      "INFO:baseline_int.src.sweep.sweep.Simulator:Batch size: 100\n",
      "INFO:baseline_int.src.sweep.sweep.Simulator:Bandwidth (bits/cycle): 1024\n",
      " 36%|███▋      | 29/80 [36:57<58:47, 69.17s/it]  "
     ]
    },
    {
     "name": "stdout",
     "output_type": "stream",
     "text": [
      "Got BitFusion Eyeriss, Numbers\n"
     ]
    },
    {
     "name": "stderr",
     "output_type": "stream",
     "text": [
      "INFO:baseline_int.src.sweep.sweep.Simulator:Simulating Benchmark: CIFAR10SNN\n",
      "INFO:baseline_int.src.sweep.sweep.Simulator:N x M = 8 x 8\n",
      "INFO:baseline_int.src.sweep.sweep.Simulator:Max Precision (bits): 8\n",
      "INFO:baseline_int.src.sweep.sweep.Simulator:Min Precision (bits): 8\n",
      "INFO:baseline_int.src.sweep.sweep.Simulator:Batch size: 100\n",
      "INFO:baseline_int.src.sweep.sweep.Simulator:Bandwidth (bits/cycle): 1024\n",
      "INFO:baseline_int.src.sweep.sweep.Simulator:Simulating Benchmark: DVS128Gesture\n",
      "INFO:baseline_int.src.sweep.sweep.Simulator:N x M = 8 x 8\n",
      "INFO:baseline_int.src.sweep.sweep.Simulator:Max Precision (bits): 8\n",
      "INFO:baseline_int.src.sweep.sweep.Simulator:Min Precision (bits): 8\n",
      "INFO:baseline_int.src.sweep.sweep.Simulator:Batch size: 100\n",
      "INFO:baseline_int.src.sweep.sweep.Simulator:Bandwidth (bits/cycle): 1024\n",
      "INFO:baseline_int.src.sweep.sweep.Simulator:Simulating Benchmark: ImageNetSNN\n",
      "INFO:baseline_int.src.sweep.sweep.Simulator:N x M = 8 x 8\n",
      "INFO:baseline_int.src.sweep.sweep.Simulator:Max Precision (bits): 8\n",
      "INFO:baseline_int.src.sweep.sweep.Simulator:Min Precision (bits): 8\n",
      "INFO:baseline_int.src.sweep.sweep.Simulator:Batch size: 100\n",
      "INFO:baseline_int.src.sweep.sweep.Simulator:Bandwidth (bits/cycle): 1024\n",
      " 38%|███▊      | 30/80 [38:05<57:11, 68.63s/it]"
     ]
    },
    {
     "name": "stdout",
     "output_type": "stream",
     "text": [
      "Got BitFusion Eyeriss, Numbers\n"
     ]
    },
    {
     "name": "stderr",
     "output_type": "stream",
     "text": [
      "INFO:baseline_int.src.sweep.sweep.Simulator:Simulating Benchmark: CIFAR10SNN\n",
      "INFO:baseline_int.src.sweep.sweep.Simulator:N x M = 16 x 8\n",
      "INFO:baseline_int.src.sweep.sweep.Simulator:Max Precision (bits): 8\n",
      "INFO:baseline_int.src.sweep.sweep.Simulator:Min Precision (bits): 8\n",
      "INFO:baseline_int.src.sweep.sweep.Simulator:Batch size: 100\n",
      "INFO:baseline_int.src.sweep.sweep.Simulator:Bandwidth (bits/cycle): 1024\n",
      "INFO:baseline_int.src.sweep.sweep.Simulator:Simulating Benchmark: DVS128Gesture\n",
      "INFO:baseline_int.src.sweep.sweep.Simulator:N x M = 16 x 8\n",
      "INFO:baseline_int.src.sweep.sweep.Simulator:Max Precision (bits): 8\n",
      "INFO:baseline_int.src.sweep.sweep.Simulator:Min Precision (bits): 8\n",
      "INFO:baseline_int.src.sweep.sweep.Simulator:Batch size: 100\n",
      "INFO:baseline_int.src.sweep.sweep.Simulator:Bandwidth (bits/cycle): 1024\n",
      "INFO:baseline_int.src.sweep.sweep.Simulator:Simulating Benchmark: ImageNetSNN\n",
      "INFO:baseline_int.src.sweep.sweep.Simulator:N x M = 16 x 8\n",
      "INFO:baseline_int.src.sweep.sweep.Simulator:Max Precision (bits): 8\n",
      "INFO:baseline_int.src.sweep.sweep.Simulator:Min Precision (bits): 8\n",
      "INFO:baseline_int.src.sweep.sweep.Simulator:Batch size: 100\n",
      "INFO:baseline_int.src.sweep.sweep.Simulator:Bandwidth (bits/cycle): 1024\n",
      " 39%|███▉      | 31/80 [39:12<55:36, 68.10s/it]"
     ]
    },
    {
     "name": "stdout",
     "output_type": "stream",
     "text": [
      "Got BitFusion Eyeriss, Numbers\n"
     ]
    },
    {
     "name": "stderr",
     "output_type": "stream",
     "text": [
      "INFO:baseline_int.src.sweep.sweep.Simulator:Simulating Benchmark: CIFAR10SNN\n",
      "INFO:baseline_int.src.sweep.sweep.Simulator:N x M = 32 x 8\n",
      "INFO:baseline_int.src.sweep.sweep.Simulator:Max Precision (bits): 8\n",
      "INFO:baseline_int.src.sweep.sweep.Simulator:Min Precision (bits): 8\n",
      "INFO:baseline_int.src.sweep.sweep.Simulator:Batch size: 100\n",
      "INFO:baseline_int.src.sweep.sweep.Simulator:Bandwidth (bits/cycle): 1024\n",
      "INFO:baseline_int.src.sweep.sweep.Simulator:Simulating Benchmark: DVS128Gesture\n",
      "INFO:baseline_int.src.sweep.sweep.Simulator:N x M = 32 x 8\n",
      "INFO:baseline_int.src.sweep.sweep.Simulator:Max Precision (bits): 8\n",
      "INFO:baseline_int.src.sweep.sweep.Simulator:Min Precision (bits): 8\n",
      "INFO:baseline_int.src.sweep.sweep.Simulator:Batch size: 100\n",
      "INFO:baseline_int.src.sweep.sweep.Simulator:Bandwidth (bits/cycle): 1024\n",
      "INFO:baseline_int.src.sweep.sweep.Simulator:Simulating Benchmark: ImageNetSNN\n",
      "INFO:baseline_int.src.sweep.sweep.Simulator:N x M = 32 x 8\n",
      "INFO:baseline_int.src.sweep.sweep.Simulator:Max Precision (bits): 8\n",
      "INFO:baseline_int.src.sweep.sweep.Simulator:Min Precision (bits): 8\n",
      "INFO:baseline_int.src.sweep.sweep.Simulator:Batch size: 100\n",
      "INFO:baseline_int.src.sweep.sweep.Simulator:Bandwidth (bits/cycle): 1024\n",
      " 40%|████      | 32/80 [40:19<54:16, 67.84s/it]"
     ]
    },
    {
     "name": "stdout",
     "output_type": "stream",
     "text": [
      "Got BitFusion Eyeriss, Numbers\n"
     ]
    },
    {
     "name": "stderr",
     "output_type": "stream",
     "text": [
      "INFO:baseline_int.src.sweep.sweep.Simulator:Simulating Benchmark: CIFAR10SNN\n",
      "INFO:baseline_int.src.sweep.sweep.Simulator:N x M = 64 x 8\n",
      "INFO:baseline_int.src.sweep.sweep.Simulator:Max Precision (bits): 8\n",
      "INFO:baseline_int.src.sweep.sweep.Simulator:Min Precision (bits): 8\n",
      "INFO:baseline_int.src.sweep.sweep.Simulator:Batch size: 100\n",
      "INFO:baseline_int.src.sweep.sweep.Simulator:Bandwidth (bits/cycle): 1024\n",
      "INFO:baseline_int.src.sweep.sweep.Simulator:Simulating Benchmark: DVS128Gesture\n",
      "INFO:baseline_int.src.sweep.sweep.Simulator:N x M = 64 x 8\n",
      "INFO:baseline_int.src.sweep.sweep.Simulator:Max Precision (bits): 8\n",
      "INFO:baseline_int.src.sweep.sweep.Simulator:Min Precision (bits): 8\n",
      "INFO:baseline_int.src.sweep.sweep.Simulator:Batch size: 100\n",
      "INFO:baseline_int.src.sweep.sweep.Simulator:Bandwidth (bits/cycle): 1024\n",
      "INFO:baseline_int.src.sweep.sweep.Simulator:Simulating Benchmark: ImageNetSNN\n",
      "INFO:baseline_int.src.sweep.sweep.Simulator:N x M = 64 x 8\n",
      "INFO:baseline_int.src.sweep.sweep.Simulator:Max Precision (bits): 8\n",
      "INFO:baseline_int.src.sweep.sweep.Simulator:Min Precision (bits): 8\n",
      "INFO:baseline_int.src.sweep.sweep.Simulator:Batch size: 100\n",
      "INFO:baseline_int.src.sweep.sweep.Simulator:Bandwidth (bits/cycle): 1024\n",
      " 41%|████▏     | 33/80 [41:26<52:57, 67.61s/it]"
     ]
    },
    {
     "name": "stdout",
     "output_type": "stream",
     "text": [
      "Got BitFusion Eyeriss, Numbers\n"
     ]
    },
    {
     "name": "stderr",
     "output_type": "stream",
     "text": [
      "INFO:baseline_int.src.sweep.sweep.Simulator:Simulating Benchmark: CIFAR10SNN\n",
      "INFO:baseline_int.src.sweep.sweep.Simulator:N x M = 128 x 8\n",
      "INFO:baseline_int.src.sweep.sweep.Simulator:Max Precision (bits): 8\n",
      "INFO:baseline_int.src.sweep.sweep.Simulator:Min Precision (bits): 8\n",
      "INFO:baseline_int.src.sweep.sweep.Simulator:Batch size: 100\n",
      "INFO:baseline_int.src.sweep.sweep.Simulator:Bandwidth (bits/cycle): 1024\n",
      "INFO:baseline_int.src.sweep.sweep.Simulator:Simulating Benchmark: DVS128Gesture\n",
      "INFO:baseline_int.src.sweep.sweep.Simulator:N x M = 128 x 8\n",
      "INFO:baseline_int.src.sweep.sweep.Simulator:Max Precision (bits): 8\n",
      "INFO:baseline_int.src.sweep.sweep.Simulator:Min Precision (bits): 8\n",
      "INFO:baseline_int.src.sweep.sweep.Simulator:Batch size: 100\n",
      "INFO:baseline_int.src.sweep.sweep.Simulator:Bandwidth (bits/cycle): 1024\n",
      "INFO:baseline_int.src.sweep.sweep.Simulator:Simulating Benchmark: ImageNetSNN\n",
      "INFO:baseline_int.src.sweep.sweep.Simulator:N x M = 128 x 8\n",
      "INFO:baseline_int.src.sweep.sweep.Simulator:Max Precision (bits): 8\n",
      "INFO:baseline_int.src.sweep.sweep.Simulator:Min Precision (bits): 8\n",
      "INFO:baseline_int.src.sweep.sweep.Simulator:Batch size: 100\n",
      "INFO:baseline_int.src.sweep.sweep.Simulator:Bandwidth (bits/cycle): 1024\n",
      " 42%|████▎     | 34/80 [42:33<51:43, 67.48s/it]"
     ]
    },
    {
     "name": "stdout",
     "output_type": "stream",
     "text": [
      "Got BitFusion Eyeriss, Numbers\n"
     ]
    },
    {
     "name": "stderr",
     "output_type": "stream",
     "text": [
      "INFO:baseline_int.src.sweep.sweep.Simulator:Simulating Benchmark: CIFAR10SNN\n",
      "INFO:baseline_int.src.sweep.sweep.Simulator:N x M = 256 x 8\n",
      "INFO:baseline_int.src.sweep.sweep.Simulator:Max Precision (bits): 8\n",
      "INFO:baseline_int.src.sweep.sweep.Simulator:Min Precision (bits): 8\n",
      "INFO:baseline_int.src.sweep.sweep.Simulator:Batch size: 100\n",
      "INFO:baseline_int.src.sweep.sweep.Simulator:Bandwidth (bits/cycle): 1024\n",
      "INFO:baseline_int.src.sweep.sweep.Simulator:Simulating Benchmark: DVS128Gesture\n",
      "INFO:baseline_int.src.sweep.sweep.Simulator:N x M = 256 x 8\n",
      "INFO:baseline_int.src.sweep.sweep.Simulator:Max Precision (bits): 8\n",
      "INFO:baseline_int.src.sweep.sweep.Simulator:Min Precision (bits): 8\n",
      "INFO:baseline_int.src.sweep.sweep.Simulator:Batch size: 100\n",
      "INFO:baseline_int.src.sweep.sweep.Simulator:Bandwidth (bits/cycle): 1024\n",
      "INFO:baseline_int.src.sweep.sweep.Simulator:Simulating Benchmark: ImageNetSNN\n",
      "INFO:baseline_int.src.sweep.sweep.Simulator:N x M = 256 x 8\n",
      "INFO:baseline_int.src.sweep.sweep.Simulator:Max Precision (bits): 8\n",
      "INFO:baseline_int.src.sweep.sweep.Simulator:Min Precision (bits): 8\n",
      "INFO:baseline_int.src.sweep.sweep.Simulator:Batch size: 100\n",
      "INFO:baseline_int.src.sweep.sweep.Simulator:Bandwidth (bits/cycle): 1024\n",
      " 44%|████▍     | 35/80 [43:40<50:27, 67.29s/it]"
     ]
    },
    {
     "name": "stdout",
     "output_type": "stream",
     "text": [
      "Got BitFusion Eyeriss, Numbers\n"
     ]
    },
    {
     "name": "stderr",
     "output_type": "stream",
     "text": [
      "INFO:baseline_int.src.sweep.sweep.Simulator:Simulating Benchmark: CIFAR10SNN\n",
      "INFO:baseline_int.src.sweep.sweep.Simulator:N x M = 1 x 16\n",
      "INFO:baseline_int.src.sweep.sweep.Simulator:Max Precision (bits): 8\n",
      "INFO:baseline_int.src.sweep.sweep.Simulator:Min Precision (bits): 8\n",
      "INFO:baseline_int.src.sweep.sweep.Simulator:Batch size: 100\n",
      "INFO:baseline_int.src.sweep.sweep.Simulator:Bandwidth (bits/cycle): 1024\n",
      "INFO:baseline_int.src.sweep.sweep.Simulator:Simulating Benchmark: DVS128Gesture\n",
      "INFO:baseline_int.src.sweep.sweep.Simulator:N x M = 1 x 16\n",
      "INFO:baseline_int.src.sweep.sweep.Simulator:Max Precision (bits): 8\n",
      "INFO:baseline_int.src.sweep.sweep.Simulator:Min Precision (bits): 8\n",
      "INFO:baseline_int.src.sweep.sweep.Simulator:Batch size: 100\n",
      "INFO:baseline_int.src.sweep.sweep.Simulator:Bandwidth (bits/cycle): 1024\n",
      "INFO:baseline_int.src.sweep.sweep.Simulator:Simulating Benchmark: ImageNetSNN\n",
      "INFO:baseline_int.src.sweep.sweep.Simulator:N x M = 1 x 16\n",
      "INFO:baseline_int.src.sweep.sweep.Simulator:Max Precision (bits): 8\n",
      "INFO:baseline_int.src.sweep.sweep.Simulator:Min Precision (bits): 8\n",
      "INFO:baseline_int.src.sweep.sweep.Simulator:Batch size: 100\n",
      "INFO:baseline_int.src.sweep.sweep.Simulator:Bandwidth (bits/cycle): 1024\n",
      " 45%|████▌     | 36/80 [44:41<47:55, 65.36s/it]"
     ]
    },
    {
     "name": "stdout",
     "output_type": "stream",
     "text": [
      "Got BitFusion Eyeriss, Numbers\n"
     ]
    },
    {
     "name": "stderr",
     "output_type": "stream",
     "text": [
      "INFO:baseline_int.src.sweep.sweep.Simulator:Simulating Benchmark: CIFAR10SNN\n",
      "INFO:baseline_int.src.sweep.sweep.Simulator:N x M = 2 x 16\n",
      "INFO:baseline_int.src.sweep.sweep.Simulator:Max Precision (bits): 8\n",
      "INFO:baseline_int.src.sweep.sweep.Simulator:Min Precision (bits): 8\n",
      "INFO:baseline_int.src.sweep.sweep.Simulator:Batch size: 100\n",
      "INFO:baseline_int.src.sweep.sweep.Simulator:Bandwidth (bits/cycle): 1024\n",
      "INFO:baseline_int.src.sweep.sweep.Simulator:Simulating Benchmark: DVS128Gesture\n",
      "INFO:baseline_int.src.sweep.sweep.Simulator:N x M = 2 x 16\n",
      "INFO:baseline_int.src.sweep.sweep.Simulator:Max Precision (bits): 8\n",
      "INFO:baseline_int.src.sweep.sweep.Simulator:Min Precision (bits): 8\n",
      "INFO:baseline_int.src.sweep.sweep.Simulator:Batch size: 100\n",
      "INFO:baseline_int.src.sweep.sweep.Simulator:Bandwidth (bits/cycle): 1024\n",
      "INFO:baseline_int.src.sweep.sweep.Simulator:Simulating Benchmark: ImageNetSNN\n",
      "INFO:baseline_int.src.sweep.sweep.Simulator:N x M = 2 x 16\n",
      "INFO:baseline_int.src.sweep.sweep.Simulator:Max Precision (bits): 8\n",
      "INFO:baseline_int.src.sweep.sweep.Simulator:Min Precision (bits): 8\n",
      "INFO:baseline_int.src.sweep.sweep.Simulator:Batch size: 100\n",
      "INFO:baseline_int.src.sweep.sweep.Simulator:Bandwidth (bits/cycle): 1024\n",
      " 46%|████▋     | 37/80 [45:42<45:53, 64.04s/it]"
     ]
    },
    {
     "name": "stdout",
     "output_type": "stream",
     "text": [
      "Got BitFusion Eyeriss, Numbers\n"
     ]
    },
    {
     "name": "stderr",
     "output_type": "stream",
     "text": [
      "INFO:baseline_int.src.sweep.sweep.Simulator:Simulating Benchmark: CIFAR10SNN\n",
      "INFO:baseline_int.src.sweep.sweep.Simulator:N x M = 4 x 16\n",
      "INFO:baseline_int.src.sweep.sweep.Simulator:Max Precision (bits): 8\n",
      "INFO:baseline_int.src.sweep.sweep.Simulator:Min Precision (bits): 8\n",
      "INFO:baseline_int.src.sweep.sweep.Simulator:Batch size: 100\n",
      "INFO:baseline_int.src.sweep.sweep.Simulator:Bandwidth (bits/cycle): 1024\n",
      "INFO:baseline_int.src.sweep.sweep.Simulator:Simulating Benchmark: DVS128Gesture\n",
      "INFO:baseline_int.src.sweep.sweep.Simulator:N x M = 4 x 16\n",
      "INFO:baseline_int.src.sweep.sweep.Simulator:Max Precision (bits): 8\n",
      "INFO:baseline_int.src.sweep.sweep.Simulator:Min Precision (bits): 8\n",
      "INFO:baseline_int.src.sweep.sweep.Simulator:Batch size: 100\n",
      "INFO:baseline_int.src.sweep.sweep.Simulator:Bandwidth (bits/cycle): 1024\n",
      "INFO:baseline_int.src.sweep.sweep.Simulator:Simulating Benchmark: ImageNetSNN\n",
      "INFO:baseline_int.src.sweep.sweep.Simulator:N x M = 4 x 16\n",
      "INFO:baseline_int.src.sweep.sweep.Simulator:Max Precision (bits): 8\n",
      "INFO:baseline_int.src.sweep.sweep.Simulator:Min Precision (bits): 8\n",
      "INFO:baseline_int.src.sweep.sweep.Simulator:Batch size: 100\n",
      "INFO:baseline_int.src.sweep.sweep.Simulator:Bandwidth (bits/cycle): 1024\n",
      " 48%|████▊     | 38/80 [46:42<44:05, 63.00s/it]"
     ]
    },
    {
     "name": "stdout",
     "output_type": "stream",
     "text": [
      "Got BitFusion Eyeriss, Numbers\n"
     ]
    },
    {
     "name": "stderr",
     "output_type": "stream",
     "text": [
      "INFO:baseline_int.src.sweep.sweep.Simulator:Simulating Benchmark: CIFAR10SNN\n",
      "INFO:baseline_int.src.sweep.sweep.Simulator:N x M = 8 x 16\n",
      "INFO:baseline_int.src.sweep.sweep.Simulator:Max Precision (bits): 8\n",
      "INFO:baseline_int.src.sweep.sweep.Simulator:Min Precision (bits): 8\n",
      "INFO:baseline_int.src.sweep.sweep.Simulator:Batch size: 100\n",
      "INFO:baseline_int.src.sweep.sweep.Simulator:Bandwidth (bits/cycle): 1024\n",
      "INFO:baseline_int.src.sweep.sweep.Simulator:Simulating Benchmark: DVS128Gesture\n",
      "INFO:baseline_int.src.sweep.sweep.Simulator:N x M = 8 x 16\n",
      "INFO:baseline_int.src.sweep.sweep.Simulator:Max Precision (bits): 8\n",
      "INFO:baseline_int.src.sweep.sweep.Simulator:Min Precision (bits): 8\n",
      "INFO:baseline_int.src.sweep.sweep.Simulator:Batch size: 100\n",
      "INFO:baseline_int.src.sweep.sweep.Simulator:Bandwidth (bits/cycle): 1024\n",
      "INFO:baseline_int.src.sweep.sweep.Simulator:Simulating Benchmark: ImageNetSNN\n",
      "INFO:baseline_int.src.sweep.sweep.Simulator:N x M = 8 x 16\n",
      "INFO:baseline_int.src.sweep.sweep.Simulator:Max Precision (bits): 8\n",
      "INFO:baseline_int.src.sweep.sweep.Simulator:Min Precision (bits): 8\n",
      "INFO:baseline_int.src.sweep.sweep.Simulator:Batch size: 100\n",
      "INFO:baseline_int.src.sweep.sweep.Simulator:Bandwidth (bits/cycle): 1024\n",
      " 49%|████▉     | 39/80 [47:44<42:39, 62.43s/it]"
     ]
    },
    {
     "name": "stdout",
     "output_type": "stream",
     "text": [
      "Got BitFusion Eyeriss, Numbers\n"
     ]
    },
    {
     "name": "stderr",
     "output_type": "stream",
     "text": [
      "INFO:baseline_int.src.sweep.sweep.Simulator:Simulating Benchmark: CIFAR10SNN\n",
      "INFO:baseline_int.src.sweep.sweep.Simulator:N x M = 16 x 16\n",
      "INFO:baseline_int.src.sweep.sweep.Simulator:Max Precision (bits): 8\n",
      "INFO:baseline_int.src.sweep.sweep.Simulator:Min Precision (bits): 8\n",
      "INFO:baseline_int.src.sweep.sweep.Simulator:Batch size: 100\n",
      "INFO:baseline_int.src.sweep.sweep.Simulator:Bandwidth (bits/cycle): 1024\n",
      "INFO:baseline_int.src.sweep.sweep.Simulator:Simulating Benchmark: DVS128Gesture\n",
      "INFO:baseline_int.src.sweep.sweep.Simulator:N x M = 16 x 16\n",
      "INFO:baseline_int.src.sweep.sweep.Simulator:Max Precision (bits): 8\n",
      "INFO:baseline_int.src.sweep.sweep.Simulator:Min Precision (bits): 8\n",
      "INFO:baseline_int.src.sweep.sweep.Simulator:Batch size: 100\n",
      "INFO:baseline_int.src.sweep.sweep.Simulator:Bandwidth (bits/cycle): 1024\n",
      "INFO:baseline_int.src.sweep.sweep.Simulator:Simulating Benchmark: ImageNetSNN\n",
      "INFO:baseline_int.src.sweep.sweep.Simulator:N x M = 16 x 16\n",
      "INFO:baseline_int.src.sweep.sweep.Simulator:Max Precision (bits): 8\n",
      "INFO:baseline_int.src.sweep.sweep.Simulator:Min Precision (bits): 8\n",
      "INFO:baseline_int.src.sweep.sweep.Simulator:Batch size: 100\n",
      "INFO:baseline_int.src.sweep.sweep.Simulator:Bandwidth (bits/cycle): 1024\n",
      " 50%|█████     | 40/80 [48:44<41:17, 61.94s/it]"
     ]
    },
    {
     "name": "stdout",
     "output_type": "stream",
     "text": [
      "Got BitFusion Eyeriss, Numbers\n"
     ]
    },
    {
     "name": "stderr",
     "output_type": "stream",
     "text": [
      "INFO:baseline_int.src.sweep.sweep.Simulator:Simulating Benchmark: CIFAR10SNN\n",
      "INFO:baseline_int.src.sweep.sweep.Simulator:N x M = 32 x 16\n",
      "INFO:baseline_int.src.sweep.sweep.Simulator:Max Precision (bits): 8\n",
      "INFO:baseline_int.src.sweep.sweep.Simulator:Min Precision (bits): 8\n",
      "INFO:baseline_int.src.sweep.sweep.Simulator:Batch size: 100\n",
      "INFO:baseline_int.src.sweep.sweep.Simulator:Bandwidth (bits/cycle): 1024\n",
      "INFO:baseline_int.src.sweep.sweep.Simulator:Simulating Benchmark: DVS128Gesture\n",
      "INFO:baseline_int.src.sweep.sweep.Simulator:N x M = 32 x 16\n",
      "INFO:baseline_int.src.sweep.sweep.Simulator:Max Precision (bits): 8\n",
      "INFO:baseline_int.src.sweep.sweep.Simulator:Min Precision (bits): 8\n",
      "INFO:baseline_int.src.sweep.sweep.Simulator:Batch size: 100\n",
      "INFO:baseline_int.src.sweep.sweep.Simulator:Bandwidth (bits/cycle): 1024\n",
      "INFO:baseline_int.src.sweep.sweep.Simulator:Simulating Benchmark: ImageNetSNN\n",
      "INFO:baseline_int.src.sweep.sweep.Simulator:N x M = 32 x 16\n",
      "INFO:baseline_int.src.sweep.sweep.Simulator:Max Precision (bits): 8\n",
      "INFO:baseline_int.src.sweep.sweep.Simulator:Min Precision (bits): 8\n",
      "INFO:baseline_int.src.sweep.sweep.Simulator:Batch size: 100\n",
      "INFO:baseline_int.src.sweep.sweep.Simulator:Bandwidth (bits/cycle): 1024\n",
      " 51%|█████▏    | 41/80 [49:45<39:59, 61.52s/it]"
     ]
    },
    {
     "name": "stdout",
     "output_type": "stream",
     "text": [
      "Got BitFusion Eyeriss, Numbers\n"
     ]
    },
    {
     "name": "stderr",
     "output_type": "stream",
     "text": [
      "INFO:baseline_int.src.sweep.sweep.Simulator:Simulating Benchmark: CIFAR10SNN\n",
      "INFO:baseline_int.src.sweep.sweep.Simulator:N x M = 64 x 16\n",
      "INFO:baseline_int.src.sweep.sweep.Simulator:Max Precision (bits): 8\n",
      "INFO:baseline_int.src.sweep.sweep.Simulator:Min Precision (bits): 8\n",
      "INFO:baseline_int.src.sweep.sweep.Simulator:Batch size: 100\n",
      "INFO:baseline_int.src.sweep.sweep.Simulator:Bandwidth (bits/cycle): 1024\n",
      "INFO:baseline_int.src.sweep.sweep.Simulator:Simulating Benchmark: DVS128Gesture\n",
      "INFO:baseline_int.src.sweep.sweep.Simulator:N x M = 64 x 16\n",
      "INFO:baseline_int.src.sweep.sweep.Simulator:Max Precision (bits): 8\n",
      "INFO:baseline_int.src.sweep.sweep.Simulator:Min Precision (bits): 8\n",
      "INFO:baseline_int.src.sweep.sweep.Simulator:Batch size: 100\n",
      "INFO:baseline_int.src.sweep.sweep.Simulator:Bandwidth (bits/cycle): 1024\n",
      "INFO:baseline_int.src.sweep.sweep.Simulator:Simulating Benchmark: ImageNetSNN\n",
      "INFO:baseline_int.src.sweep.sweep.Simulator:N x M = 64 x 16\n",
      "INFO:baseline_int.src.sweep.sweep.Simulator:Max Precision (bits): 8\n",
      "INFO:baseline_int.src.sweep.sweep.Simulator:Min Precision (bits): 8\n",
      "INFO:baseline_int.src.sweep.sweep.Simulator:Batch size: 100\n",
      "INFO:baseline_int.src.sweep.sweep.Simulator:Bandwidth (bits/cycle): 1024\n",
      " 52%|█████▎    | 42/80 [50:45<38:47, 61.24s/it]"
     ]
    },
    {
     "name": "stdout",
     "output_type": "stream",
     "text": [
      "Got BitFusion Eyeriss, Numbers\n"
     ]
    },
    {
     "name": "stderr",
     "output_type": "stream",
     "text": [
      "INFO:baseline_int.src.sweep.sweep.Simulator:Simulating Benchmark: CIFAR10SNN\n",
      "INFO:baseline_int.src.sweep.sweep.Simulator:N x M = 128 x 16\n",
      "INFO:baseline_int.src.sweep.sweep.Simulator:Max Precision (bits): 8\n",
      "INFO:baseline_int.src.sweep.sweep.Simulator:Min Precision (bits): 8\n",
      "INFO:baseline_int.src.sweep.sweep.Simulator:Batch size: 100\n",
      "INFO:baseline_int.src.sweep.sweep.Simulator:Bandwidth (bits/cycle): 1024\n",
      "INFO:baseline_int.src.sweep.sweep.Simulator:Simulating Benchmark: DVS128Gesture\n",
      "INFO:baseline_int.src.sweep.sweep.Simulator:N x M = 128 x 16\n",
      "INFO:baseline_int.src.sweep.sweep.Simulator:Max Precision (bits): 8\n",
      "INFO:baseline_int.src.sweep.sweep.Simulator:Min Precision (bits): 8\n",
      "INFO:baseline_int.src.sweep.sweep.Simulator:Batch size: 100\n",
      "INFO:baseline_int.src.sweep.sweep.Simulator:Bandwidth (bits/cycle): 1024\n",
      "INFO:baseline_int.src.sweep.sweep.Simulator:Simulating Benchmark: ImageNetSNN\n",
      "INFO:baseline_int.src.sweep.sweep.Simulator:N x M = 128 x 16\n",
      "INFO:baseline_int.src.sweep.sweep.Simulator:Max Precision (bits): 8\n",
      "INFO:baseline_int.src.sweep.sweep.Simulator:Min Precision (bits): 8\n",
      "INFO:baseline_int.src.sweep.sweep.Simulator:Batch size: 100\n",
      "INFO:baseline_int.src.sweep.sweep.Simulator:Bandwidth (bits/cycle): 1024\n",
      " 54%|█████▍    | 43/80 [51:46<37:43, 61.18s/it]"
     ]
    },
    {
     "name": "stdout",
     "output_type": "stream",
     "text": [
      "Got BitFusion Eyeriss, Numbers\n"
     ]
    },
    {
     "name": "stderr",
     "output_type": "stream",
     "text": [
      "INFO:baseline_int.src.sweep.sweep.Simulator:Simulating Benchmark: CIFAR10SNN\n",
      "INFO:baseline_int.src.sweep.sweep.Simulator:N x M = 256 x 16\n",
      "INFO:baseline_int.src.sweep.sweep.Simulator:Max Precision (bits): 8\n",
      "INFO:baseline_int.src.sweep.sweep.Simulator:Min Precision (bits): 8\n",
      "INFO:baseline_int.src.sweep.sweep.Simulator:Batch size: 100\n",
      "INFO:baseline_int.src.sweep.sweep.Simulator:Bandwidth (bits/cycle): 1024\n",
      "INFO:baseline_int.src.sweep.sweep.Simulator:Simulating Benchmark: DVS128Gesture\n",
      "INFO:baseline_int.src.sweep.sweep.Simulator:N x M = 256 x 16\n",
      "INFO:baseline_int.src.sweep.sweep.Simulator:Max Precision (bits): 8\n",
      "INFO:baseline_int.src.sweep.sweep.Simulator:Min Precision (bits): 8\n",
      "INFO:baseline_int.src.sweep.sweep.Simulator:Batch size: 100\n",
      "INFO:baseline_int.src.sweep.sweep.Simulator:Bandwidth (bits/cycle): 1024\n",
      "INFO:baseline_int.src.sweep.sweep.Simulator:Simulating Benchmark: ImageNetSNN\n",
      "INFO:baseline_int.src.sweep.sweep.Simulator:N x M = 256 x 16\n",
      "INFO:baseline_int.src.sweep.sweep.Simulator:Max Precision (bits): 8\n",
      "INFO:baseline_int.src.sweep.sweep.Simulator:Min Precision (bits): 8\n",
      "INFO:baseline_int.src.sweep.sweep.Simulator:Batch size: 100\n",
      "INFO:baseline_int.src.sweep.sweep.Simulator:Bandwidth (bits/cycle): 1024\n",
      " 55%|█████▌    | 44/80 [52:47<36:38, 61.06s/it]"
     ]
    },
    {
     "name": "stdout",
     "output_type": "stream",
     "text": [
      "Got BitFusion Eyeriss, Numbers\n"
     ]
    },
    {
     "name": "stderr",
     "output_type": "stream",
     "text": [
      "INFO:baseline_int.src.sweep.sweep.Simulator:Simulating Benchmark: CIFAR10SNN\n",
      "INFO:baseline_int.src.sweep.sweep.Simulator:N x M = 1 x 32\n",
      "INFO:baseline_int.src.sweep.sweep.Simulator:Max Precision (bits): 8\n",
      "INFO:baseline_int.src.sweep.sweep.Simulator:Min Precision (bits): 8\n",
      "INFO:baseline_int.src.sweep.sweep.Simulator:Batch size: 100\n",
      "INFO:baseline_int.src.sweep.sweep.Simulator:Bandwidth (bits/cycle): 1024\n",
      "INFO:baseline_int.src.sweep.sweep.Simulator:Simulating Benchmark: DVS128Gesture\n",
      "INFO:baseline_int.src.sweep.sweep.Simulator:N x M = 1 x 32\n",
      "INFO:baseline_int.src.sweep.sweep.Simulator:Max Precision (bits): 8\n",
      "INFO:baseline_int.src.sweep.sweep.Simulator:Min Precision (bits): 8\n",
      "INFO:baseline_int.src.sweep.sweep.Simulator:Batch size: 100\n",
      "INFO:baseline_int.src.sweep.sweep.Simulator:Bandwidth (bits/cycle): 1024\n",
      "INFO:baseline_int.src.sweep.sweep.Simulator:Simulating Benchmark: ImageNetSNN\n",
      "INFO:baseline_int.src.sweep.sweep.Simulator:N x M = 1 x 32\n",
      "INFO:baseline_int.src.sweep.sweep.Simulator:Max Precision (bits): 8\n",
      "INFO:baseline_int.src.sweep.sweep.Simulator:Min Precision (bits): 8\n",
      "INFO:baseline_int.src.sweep.sweep.Simulator:Batch size: 100\n",
      "INFO:baseline_int.src.sweep.sweep.Simulator:Bandwidth (bits/cycle): 1024\n",
      " 56%|█████▋    | 45/80 [53:42<34:35, 59.29s/it]"
     ]
    },
    {
     "name": "stdout",
     "output_type": "stream",
     "text": [
      "Got BitFusion Eyeriss, Numbers\n"
     ]
    },
    {
     "name": "stderr",
     "output_type": "stream",
     "text": [
      "INFO:baseline_int.src.sweep.sweep.Simulator:Simulating Benchmark: CIFAR10SNN\n",
      "INFO:baseline_int.src.sweep.sweep.Simulator:N x M = 2 x 32\n",
      "INFO:baseline_int.src.sweep.sweep.Simulator:Max Precision (bits): 8\n",
      "INFO:baseline_int.src.sweep.sweep.Simulator:Min Precision (bits): 8\n",
      "INFO:baseline_int.src.sweep.sweep.Simulator:Batch size: 100\n",
      "INFO:baseline_int.src.sweep.sweep.Simulator:Bandwidth (bits/cycle): 1024\n",
      "INFO:baseline_int.src.sweep.sweep.Simulator:Simulating Benchmark: DVS128Gesture\n",
      "INFO:baseline_int.src.sweep.sweep.Simulator:N x M = 2 x 32\n",
      "INFO:baseline_int.src.sweep.sweep.Simulator:Max Precision (bits): 8\n",
      "INFO:baseline_int.src.sweep.sweep.Simulator:Min Precision (bits): 8\n",
      "INFO:baseline_int.src.sweep.sweep.Simulator:Batch size: 100\n",
      "INFO:baseline_int.src.sweep.sweep.Simulator:Bandwidth (bits/cycle): 1024\n",
      "INFO:baseline_int.src.sweep.sweep.Simulator:Simulating Benchmark: ImageNetSNN\n",
      "INFO:baseline_int.src.sweep.sweep.Simulator:N x M = 2 x 32\n",
      "INFO:baseline_int.src.sweep.sweep.Simulator:Max Precision (bits): 8\n",
      "INFO:baseline_int.src.sweep.sweep.Simulator:Min Precision (bits): 8\n",
      "INFO:baseline_int.src.sweep.sweep.Simulator:Batch size: 100\n",
      "INFO:baseline_int.src.sweep.sweep.Simulator:Bandwidth (bits/cycle): 1024\n",
      " 57%|█████▊    | 46/80 [54:38<32:55, 58.09s/it]"
     ]
    },
    {
     "name": "stdout",
     "output_type": "stream",
     "text": [
      "Got BitFusion Eyeriss, Numbers\n"
     ]
    },
    {
     "name": "stderr",
     "output_type": "stream",
     "text": [
      "INFO:baseline_int.src.sweep.sweep.Simulator:Simulating Benchmark: CIFAR10SNN\n",
      "INFO:baseline_int.src.sweep.sweep.Simulator:N x M = 4 x 32\n",
      "INFO:baseline_int.src.sweep.sweep.Simulator:Max Precision (bits): 8\n",
      "INFO:baseline_int.src.sweep.sweep.Simulator:Min Precision (bits): 8\n",
      "INFO:baseline_int.src.sweep.sweep.Simulator:Batch size: 100\n",
      "INFO:baseline_int.src.sweep.sweep.Simulator:Bandwidth (bits/cycle): 1024\n",
      "INFO:baseline_int.src.sweep.sweep.Simulator:Simulating Benchmark: DVS128Gesture\n",
      "INFO:baseline_int.src.sweep.sweep.Simulator:N x M = 4 x 32\n",
      "INFO:baseline_int.src.sweep.sweep.Simulator:Max Precision (bits): 8\n",
      "INFO:baseline_int.src.sweep.sweep.Simulator:Min Precision (bits): 8\n",
      "INFO:baseline_int.src.sweep.sweep.Simulator:Batch size: 100\n",
      "INFO:baseline_int.src.sweep.sweep.Simulator:Bandwidth (bits/cycle): 1024\n",
      "INFO:baseline_int.src.sweep.sweep.Simulator:Simulating Benchmark: ImageNetSNN\n",
      "INFO:baseline_int.src.sweep.sweep.Simulator:N x M = 4 x 32\n",
      "INFO:baseline_int.src.sweep.sweep.Simulator:Max Precision (bits): 8\n",
      "INFO:baseline_int.src.sweep.sweep.Simulator:Min Precision (bits): 8\n",
      "INFO:baseline_int.src.sweep.sweep.Simulator:Batch size: 100\n",
      "INFO:baseline_int.src.sweep.sweep.Simulator:Bandwidth (bits/cycle): 1024\n",
      " 59%|█████▉    | 47/80 [55:33<31:27, 57.19s/it]"
     ]
    },
    {
     "name": "stdout",
     "output_type": "stream",
     "text": [
      "Got BitFusion Eyeriss, Numbers\n"
     ]
    },
    {
     "name": "stderr",
     "output_type": "stream",
     "text": [
      "INFO:baseline_int.src.sweep.sweep.Simulator:Simulating Benchmark: CIFAR10SNN\n",
      "INFO:baseline_int.src.sweep.sweep.Simulator:N x M = 8 x 32\n",
      "INFO:baseline_int.src.sweep.sweep.Simulator:Max Precision (bits): 8\n",
      "INFO:baseline_int.src.sweep.sweep.Simulator:Min Precision (bits): 8\n",
      "INFO:baseline_int.src.sweep.sweep.Simulator:Batch size: 100\n",
      "INFO:baseline_int.src.sweep.sweep.Simulator:Bandwidth (bits/cycle): 1024\n",
      "INFO:baseline_int.src.sweep.sweep.Simulator:Simulating Benchmark: DVS128Gesture\n",
      "INFO:baseline_int.src.sweep.sweep.Simulator:N x M = 8 x 32\n",
      "INFO:baseline_int.src.sweep.sweep.Simulator:Max Precision (bits): 8\n",
      "INFO:baseline_int.src.sweep.sweep.Simulator:Min Precision (bits): 8\n",
      "INFO:baseline_int.src.sweep.sweep.Simulator:Batch size: 100\n",
      "INFO:baseline_int.src.sweep.sweep.Simulator:Bandwidth (bits/cycle): 1024\n",
      "INFO:baseline_int.src.sweep.sweep.Simulator:Simulating Benchmark: ImageNetSNN\n",
      "INFO:baseline_int.src.sweep.sweep.Simulator:N x M = 8 x 32\n",
      "INFO:baseline_int.src.sweep.sweep.Simulator:Max Precision (bits): 8\n",
      "INFO:baseline_int.src.sweep.sweep.Simulator:Min Precision (bits): 8\n",
      "INFO:baseline_int.src.sweep.sweep.Simulator:Batch size: 100\n",
      "INFO:baseline_int.src.sweep.sweep.Simulator:Bandwidth (bits/cycle): 1024\n",
      " 60%|██████    | 48/80 [56:28<30:13, 56.68s/it]"
     ]
    },
    {
     "name": "stdout",
     "output_type": "stream",
     "text": [
      "Got BitFusion Eyeriss, Numbers\n"
     ]
    },
    {
     "name": "stderr",
     "output_type": "stream",
     "text": [
      "INFO:baseline_int.src.sweep.sweep.Simulator:Simulating Benchmark: CIFAR10SNN\n",
      "INFO:baseline_int.src.sweep.sweep.Simulator:N x M = 16 x 32\n",
      "INFO:baseline_int.src.sweep.sweep.Simulator:Max Precision (bits): 8\n",
      "INFO:baseline_int.src.sweep.sweep.Simulator:Min Precision (bits): 8\n",
      "INFO:baseline_int.src.sweep.sweep.Simulator:Batch size: 100\n",
      "INFO:baseline_int.src.sweep.sweep.Simulator:Bandwidth (bits/cycle): 1024\n",
      "INFO:baseline_int.src.sweep.sweep.Simulator:Simulating Benchmark: DVS128Gesture\n",
      "INFO:baseline_int.src.sweep.sweep.Simulator:N x M = 16 x 32\n",
      "INFO:baseline_int.src.sweep.sweep.Simulator:Max Precision (bits): 8\n",
      "INFO:baseline_int.src.sweep.sweep.Simulator:Min Precision (bits): 8\n",
      "INFO:baseline_int.src.sweep.sweep.Simulator:Batch size: 100\n",
      "INFO:baseline_int.src.sweep.sweep.Simulator:Bandwidth (bits/cycle): 1024\n",
      "INFO:baseline_int.src.sweep.sweep.Simulator:Simulating Benchmark: ImageNetSNN\n",
      "INFO:baseline_int.src.sweep.sweep.Simulator:N x M = 16 x 32\n",
      "INFO:baseline_int.src.sweep.sweep.Simulator:Max Precision (bits): 8\n",
      "INFO:baseline_int.src.sweep.sweep.Simulator:Min Precision (bits): 8\n",
      "INFO:baseline_int.src.sweep.sweep.Simulator:Batch size: 100\n",
      "INFO:baseline_int.src.sweep.sweep.Simulator:Bandwidth (bits/cycle): 1024\n",
      " 61%|██████▏   | 49/80 [57:23<29:03, 56.24s/it]"
     ]
    },
    {
     "name": "stdout",
     "output_type": "stream",
     "text": [
      "Got BitFusion Eyeriss, Numbers\n"
     ]
    },
    {
     "name": "stderr",
     "output_type": "stream",
     "text": [
      "INFO:baseline_int.src.sweep.sweep.Simulator:Simulating Benchmark: CIFAR10SNN\n",
      "INFO:baseline_int.src.sweep.sweep.Simulator:N x M = 32 x 32\n",
      "INFO:baseline_int.src.sweep.sweep.Simulator:Max Precision (bits): 8\n",
      "INFO:baseline_int.src.sweep.sweep.Simulator:Min Precision (bits): 8\n",
      "INFO:baseline_int.src.sweep.sweep.Simulator:Batch size: 100\n",
      "INFO:baseline_int.src.sweep.sweep.Simulator:Bandwidth (bits/cycle): 1024\n",
      "INFO:baseline_int.src.sweep.sweep.Simulator:Simulating Benchmark: DVS128Gesture\n",
      "INFO:baseline_int.src.sweep.sweep.Simulator:N x M = 32 x 32\n",
      "INFO:baseline_int.src.sweep.sweep.Simulator:Max Precision (bits): 8\n",
      "INFO:baseline_int.src.sweep.sweep.Simulator:Min Precision (bits): 8\n",
      "INFO:baseline_int.src.sweep.sweep.Simulator:Batch size: 100\n",
      "INFO:baseline_int.src.sweep.sweep.Simulator:Bandwidth (bits/cycle): 1024\n",
      "INFO:baseline_int.src.sweep.sweep.Simulator:Simulating Benchmark: ImageNetSNN\n",
      "INFO:baseline_int.src.sweep.sweep.Simulator:N x M = 32 x 32\n",
      "INFO:baseline_int.src.sweep.sweep.Simulator:Max Precision (bits): 8\n",
      "INFO:baseline_int.src.sweep.sweep.Simulator:Min Precision (bits): 8\n",
      "INFO:baseline_int.src.sweep.sweep.Simulator:Batch size: 100\n",
      "INFO:baseline_int.src.sweep.sweep.Simulator:Bandwidth (bits/cycle): 1024\n",
      " 62%|██████▎   | 50/80 [58:19<27:58, 55.94s/it]"
     ]
    },
    {
     "name": "stdout",
     "output_type": "stream",
     "text": [
      "Got BitFusion Eyeriss, Numbers\n"
     ]
    },
    {
     "name": "stderr",
     "output_type": "stream",
     "text": [
      "INFO:baseline_int.src.sweep.sweep.Simulator:Simulating Benchmark: CIFAR10SNN\n",
      "INFO:baseline_int.src.sweep.sweep.Simulator:N x M = 64 x 32\n",
      "INFO:baseline_int.src.sweep.sweep.Simulator:Max Precision (bits): 8\n",
      "INFO:baseline_int.src.sweep.sweep.Simulator:Min Precision (bits): 8\n",
      "INFO:baseline_int.src.sweep.sweep.Simulator:Batch size: 100\n",
      "INFO:baseline_int.src.sweep.sweep.Simulator:Bandwidth (bits/cycle): 1024\n",
      "INFO:baseline_int.src.sweep.sweep.Simulator:Simulating Benchmark: DVS128Gesture\n",
      "INFO:baseline_int.src.sweep.sweep.Simulator:N x M = 64 x 32\n",
      "INFO:baseline_int.src.sweep.sweep.Simulator:Max Precision (bits): 8\n",
      "INFO:baseline_int.src.sweep.sweep.Simulator:Min Precision (bits): 8\n",
      "INFO:baseline_int.src.sweep.sweep.Simulator:Batch size: 100\n",
      "INFO:baseline_int.src.sweep.sweep.Simulator:Bandwidth (bits/cycle): 1024\n",
      "INFO:baseline_int.src.sweep.sweep.Simulator:Simulating Benchmark: ImageNetSNN\n",
      "INFO:baseline_int.src.sweep.sweep.Simulator:N x M = 64 x 32\n",
      "INFO:baseline_int.src.sweep.sweep.Simulator:Max Precision (bits): 8\n",
      "INFO:baseline_int.src.sweep.sweep.Simulator:Min Precision (bits): 8\n",
      "INFO:baseline_int.src.sweep.sweep.Simulator:Batch size: 100\n",
      "INFO:baseline_int.src.sweep.sweep.Simulator:Bandwidth (bits/cycle): 1024\n",
      " 64%|██████▍   | 51/80 [59:14<26:57, 55.78s/it]"
     ]
    },
    {
     "name": "stdout",
     "output_type": "stream",
     "text": [
      "Got BitFusion Eyeriss, Numbers\n"
     ]
    },
    {
     "name": "stderr",
     "output_type": "stream",
     "text": [
      "INFO:baseline_int.src.sweep.sweep.Simulator:Simulating Benchmark: CIFAR10SNN\n",
      "INFO:baseline_int.src.sweep.sweep.Simulator:N x M = 128 x 32\n",
      "INFO:baseline_int.src.sweep.sweep.Simulator:Max Precision (bits): 8\n",
      "INFO:baseline_int.src.sweep.sweep.Simulator:Min Precision (bits): 8\n",
      "INFO:baseline_int.src.sweep.sweep.Simulator:Batch size: 100\n",
      "INFO:baseline_int.src.sweep.sweep.Simulator:Bandwidth (bits/cycle): 1024\n",
      "INFO:baseline_int.src.sweep.sweep.Simulator:Simulating Benchmark: DVS128Gesture\n",
      "INFO:baseline_int.src.sweep.sweep.Simulator:N x M = 128 x 32\n",
      "INFO:baseline_int.src.sweep.sweep.Simulator:Max Precision (bits): 8\n",
      "INFO:baseline_int.src.sweep.sweep.Simulator:Min Precision (bits): 8\n",
      "INFO:baseline_int.src.sweep.sweep.Simulator:Batch size: 100\n",
      "INFO:baseline_int.src.sweep.sweep.Simulator:Bandwidth (bits/cycle): 1024\n",
      "INFO:baseline_int.src.sweep.sweep.Simulator:Simulating Benchmark: ImageNetSNN\n",
      "INFO:baseline_int.src.sweep.sweep.Simulator:N x M = 128 x 32\n",
      "INFO:baseline_int.src.sweep.sweep.Simulator:Max Precision (bits): 8\n",
      "INFO:baseline_int.src.sweep.sweep.Simulator:Min Precision (bits): 8\n",
      "INFO:baseline_int.src.sweep.sweep.Simulator:Batch size: 100\n",
      "INFO:baseline_int.src.sweep.sweep.Simulator:Bandwidth (bits/cycle): 1024\n",
      " 65%|██████▌   | 52/80 [1:00:10<25:59, 55.69s/it]"
     ]
    },
    {
     "name": "stdout",
     "output_type": "stream",
     "text": [
      "Got BitFusion Eyeriss, Numbers\n"
     ]
    },
    {
     "name": "stderr",
     "output_type": "stream",
     "text": [
      "INFO:baseline_int.src.sweep.sweep.Simulator:Simulating Benchmark: CIFAR10SNN\n",
      "INFO:baseline_int.src.sweep.sweep.Simulator:N x M = 256 x 32\n",
      "INFO:baseline_int.src.sweep.sweep.Simulator:Max Precision (bits): 8\n",
      "INFO:baseline_int.src.sweep.sweep.Simulator:Min Precision (bits): 8\n",
      "INFO:baseline_int.src.sweep.sweep.Simulator:Batch size: 100\n",
      "INFO:baseline_int.src.sweep.sweep.Simulator:Bandwidth (bits/cycle): 1024\n",
      "INFO:baseline_int.src.sweep.sweep.Simulator:Simulating Benchmark: DVS128Gesture\n",
      "INFO:baseline_int.src.sweep.sweep.Simulator:N x M = 256 x 32\n",
      "INFO:baseline_int.src.sweep.sweep.Simulator:Max Precision (bits): 8\n",
      "INFO:baseline_int.src.sweep.sweep.Simulator:Min Precision (bits): 8\n",
      "INFO:baseline_int.src.sweep.sweep.Simulator:Batch size: 100\n",
      "INFO:baseline_int.src.sweep.sweep.Simulator:Bandwidth (bits/cycle): 1024\n",
      "INFO:baseline_int.src.sweep.sweep.Simulator:Simulating Benchmark: ImageNetSNN\n",
      "INFO:baseline_int.src.sweep.sweep.Simulator:N x M = 256 x 32\n",
      "INFO:baseline_int.src.sweep.sweep.Simulator:Max Precision (bits): 8\n",
      "INFO:baseline_int.src.sweep.sweep.Simulator:Min Precision (bits): 8\n",
      "INFO:baseline_int.src.sweep.sweep.Simulator:Batch size: 100\n",
      "INFO:baseline_int.src.sweep.sweep.Simulator:Bandwidth (bits/cycle): 1024\n",
      " 66%|██████▋   | 53/80 [1:01:05<25:00, 55.58s/it]"
     ]
    },
    {
     "name": "stdout",
     "output_type": "stream",
     "text": [
      "Got BitFusion Eyeriss, Numbers\n"
     ]
    },
    {
     "name": "stderr",
     "output_type": "stream",
     "text": [
      "INFO:baseline_int.src.sweep.sweep.Simulator:Simulating Benchmark: CIFAR10SNN\n",
      "INFO:baseline_int.src.sweep.sweep.Simulator:N x M = 1 x 64\n",
      "INFO:baseline_int.src.sweep.sweep.Simulator:Max Precision (bits): 8\n",
      "INFO:baseline_int.src.sweep.sweep.Simulator:Min Precision (bits): 8\n",
      "INFO:baseline_int.src.sweep.sweep.Simulator:Batch size: 100\n",
      "INFO:baseline_int.src.sweep.sweep.Simulator:Bandwidth (bits/cycle): 1024\n",
      "INFO:baseline_int.src.sweep.sweep.Simulator:Simulating Benchmark: DVS128Gesture\n",
      "INFO:baseline_int.src.sweep.sweep.Simulator:N x M = 1 x 64\n",
      "INFO:baseline_int.src.sweep.sweep.Simulator:Max Precision (bits): 8\n",
      "INFO:baseline_int.src.sweep.sweep.Simulator:Min Precision (bits): 8\n",
      "INFO:baseline_int.src.sweep.sweep.Simulator:Batch size: 100\n",
      "INFO:baseline_int.src.sweep.sweep.Simulator:Bandwidth (bits/cycle): 1024\n",
      "INFO:baseline_int.src.sweep.sweep.Simulator:Simulating Benchmark: ImageNetSNN\n",
      "INFO:baseline_int.src.sweep.sweep.Simulator:N x M = 1 x 64\n",
      "INFO:baseline_int.src.sweep.sweep.Simulator:Max Precision (bits): 8\n",
      "INFO:baseline_int.src.sweep.sweep.Simulator:Min Precision (bits): 8\n",
      "INFO:baseline_int.src.sweep.sweep.Simulator:Batch size: 100\n",
      "INFO:baseline_int.src.sweep.sweep.Simulator:Bandwidth (bits/cycle): 1024\n",
      " 68%|██████▊   | 54/80 [1:01:55<23:22, 53.94s/it]"
     ]
    },
    {
     "name": "stdout",
     "output_type": "stream",
     "text": [
      "Got BitFusion Eyeriss, Numbers\n"
     ]
    },
    {
     "name": "stderr",
     "output_type": "stream",
     "text": [
      "INFO:baseline_int.src.sweep.sweep.Simulator:Simulating Benchmark: CIFAR10SNN\n",
      "INFO:baseline_int.src.sweep.sweep.Simulator:N x M = 2 x 64\n",
      "INFO:baseline_int.src.sweep.sweep.Simulator:Max Precision (bits): 8\n",
      "INFO:baseline_int.src.sweep.sweep.Simulator:Min Precision (bits): 8\n",
      "INFO:baseline_int.src.sweep.sweep.Simulator:Batch size: 100\n",
      "INFO:baseline_int.src.sweep.sweep.Simulator:Bandwidth (bits/cycle): 1024\n",
      "INFO:baseline_int.src.sweep.sweep.Simulator:Simulating Benchmark: DVS128Gesture\n",
      "INFO:baseline_int.src.sweep.sweep.Simulator:N x M = 2 x 64\n",
      "INFO:baseline_int.src.sweep.sweep.Simulator:Max Precision (bits): 8\n",
      "INFO:baseline_int.src.sweep.sweep.Simulator:Min Precision (bits): 8\n",
      "INFO:baseline_int.src.sweep.sweep.Simulator:Batch size: 100\n",
      "INFO:baseline_int.src.sweep.sweep.Simulator:Bandwidth (bits/cycle): 1024\n",
      "INFO:baseline_int.src.sweep.sweep.Simulator:Simulating Benchmark: ImageNetSNN\n",
      "INFO:baseline_int.src.sweep.sweep.Simulator:N x M = 2 x 64\n",
      "INFO:baseline_int.src.sweep.sweep.Simulator:Max Precision (bits): 8\n",
      "INFO:baseline_int.src.sweep.sweep.Simulator:Min Precision (bits): 8\n",
      "INFO:baseline_int.src.sweep.sweep.Simulator:Batch size: 100\n",
      "INFO:baseline_int.src.sweep.sweep.Simulator:Bandwidth (bits/cycle): 1024\n",
      " 69%|██████▉   | 55/80 [1:02:45<21:59, 52.76s/it]"
     ]
    },
    {
     "name": "stdout",
     "output_type": "stream",
     "text": [
      "Got BitFusion Eyeriss, Numbers\n"
     ]
    },
    {
     "name": "stderr",
     "output_type": "stream",
     "text": [
      "INFO:baseline_int.src.sweep.sweep.Simulator:Simulating Benchmark: CIFAR10SNN\n",
      "INFO:baseline_int.src.sweep.sweep.Simulator:N x M = 4 x 64\n",
      "INFO:baseline_int.src.sweep.sweep.Simulator:Max Precision (bits): 8\n",
      "INFO:baseline_int.src.sweep.sweep.Simulator:Min Precision (bits): 8\n",
      "INFO:baseline_int.src.sweep.sweep.Simulator:Batch size: 100\n",
      "INFO:baseline_int.src.sweep.sweep.Simulator:Bandwidth (bits/cycle): 1024\n",
      "INFO:baseline_int.src.sweep.sweep.Simulator:Simulating Benchmark: DVS128Gesture\n",
      "INFO:baseline_int.src.sweep.sweep.Simulator:N x M = 4 x 64\n",
      "INFO:baseline_int.src.sweep.sweep.Simulator:Max Precision (bits): 8\n",
      "INFO:baseline_int.src.sweep.sweep.Simulator:Min Precision (bits): 8\n",
      "INFO:baseline_int.src.sweep.sweep.Simulator:Batch size: 100\n",
      "INFO:baseline_int.src.sweep.sweep.Simulator:Bandwidth (bits/cycle): 1024\n",
      "INFO:baseline_int.src.sweep.sweep.Simulator:Simulating Benchmark: ImageNetSNN\n",
      "INFO:baseline_int.src.sweep.sweep.Simulator:N x M = 4 x 64\n",
      "INFO:baseline_int.src.sweep.sweep.Simulator:Max Precision (bits): 8\n",
      "INFO:baseline_int.src.sweep.sweep.Simulator:Min Precision (bits): 8\n",
      "INFO:baseline_int.src.sweep.sweep.Simulator:Batch size: 100\n",
      "INFO:baseline_int.src.sweep.sweep.Simulator:Bandwidth (bits/cycle): 1024\n",
      " 70%|███████   | 56/80 [1:03:35<20:45, 51.91s/it]"
     ]
    },
    {
     "name": "stdout",
     "output_type": "stream",
     "text": [
      "Got BitFusion Eyeriss, Numbers\n"
     ]
    },
    {
     "name": "stderr",
     "output_type": "stream",
     "text": [
      "INFO:baseline_int.src.sweep.sweep.Simulator:Simulating Benchmark: CIFAR10SNN\n",
      "INFO:baseline_int.src.sweep.sweep.Simulator:N x M = 8 x 64\n",
      "INFO:baseline_int.src.sweep.sweep.Simulator:Max Precision (bits): 8\n",
      "INFO:baseline_int.src.sweep.sweep.Simulator:Min Precision (bits): 8\n",
      "INFO:baseline_int.src.sweep.sweep.Simulator:Batch size: 100\n",
      "INFO:baseline_int.src.sweep.sweep.Simulator:Bandwidth (bits/cycle): 1024\n",
      "INFO:baseline_int.src.sweep.sweep.Simulator:Simulating Benchmark: DVS128Gesture\n",
      "INFO:baseline_int.src.sweep.sweep.Simulator:N x M = 8 x 64\n",
      "INFO:baseline_int.src.sweep.sweep.Simulator:Max Precision (bits): 8\n",
      "INFO:baseline_int.src.sweep.sweep.Simulator:Min Precision (bits): 8\n",
      "INFO:baseline_int.src.sweep.sweep.Simulator:Batch size: 100\n",
      "INFO:baseline_int.src.sweep.sweep.Simulator:Bandwidth (bits/cycle): 1024\n",
      "INFO:baseline_int.src.sweep.sweep.Simulator:Simulating Benchmark: ImageNetSNN\n",
      "INFO:baseline_int.src.sweep.sweep.Simulator:N x M = 8 x 64\n",
      "INFO:baseline_int.src.sweep.sweep.Simulator:Max Precision (bits): 8\n",
      "INFO:baseline_int.src.sweep.sweep.Simulator:Min Precision (bits): 8\n",
      "INFO:baseline_int.src.sweep.sweep.Simulator:Batch size: 100\n",
      "INFO:baseline_int.src.sweep.sweep.Simulator:Bandwidth (bits/cycle): 1024\n",
      " 71%|███████▏  | 57/80 [1:04:25<19:40, 51.30s/it]"
     ]
    },
    {
     "name": "stdout",
     "output_type": "stream",
     "text": [
      "Got BitFusion Eyeriss, Numbers\n"
     ]
    },
    {
     "name": "stderr",
     "output_type": "stream",
     "text": [
      "INFO:baseline_int.src.sweep.sweep.Simulator:Simulating Benchmark: CIFAR10SNN\n",
      "INFO:baseline_int.src.sweep.sweep.Simulator:N x M = 16 x 64\n",
      "INFO:baseline_int.src.sweep.sweep.Simulator:Max Precision (bits): 8\n",
      "INFO:baseline_int.src.sweep.sweep.Simulator:Min Precision (bits): 8\n",
      "INFO:baseline_int.src.sweep.sweep.Simulator:Batch size: 100\n",
      "INFO:baseline_int.src.sweep.sweep.Simulator:Bandwidth (bits/cycle): 1024\n",
      "INFO:baseline_int.src.sweep.sweep.Simulator:Simulating Benchmark: DVS128Gesture\n",
      "INFO:baseline_int.src.sweep.sweep.Simulator:N x M = 16 x 64\n",
      "INFO:baseline_int.src.sweep.sweep.Simulator:Max Precision (bits): 8\n",
      "INFO:baseline_int.src.sweep.sweep.Simulator:Min Precision (bits): 8\n",
      "INFO:baseline_int.src.sweep.sweep.Simulator:Batch size: 100\n",
      "INFO:baseline_int.src.sweep.sweep.Simulator:Bandwidth (bits/cycle): 1024\n",
      "INFO:baseline_int.src.sweep.sweep.Simulator:Simulating Benchmark: ImageNetSNN\n",
      "INFO:baseline_int.src.sweep.sweep.Simulator:N x M = 16 x 64\n",
      "INFO:baseline_int.src.sweep.sweep.Simulator:Max Precision (bits): 8\n",
      "INFO:baseline_int.src.sweep.sweep.Simulator:Min Precision (bits): 8\n",
      "INFO:baseline_int.src.sweep.sweep.Simulator:Batch size: 100\n",
      "INFO:baseline_int.src.sweep.sweep.Simulator:Bandwidth (bits/cycle): 1024\n",
      " 72%|███████▎  | 58/80 [1:05:15<18:39, 50.90s/it]"
     ]
    },
    {
     "name": "stdout",
     "output_type": "stream",
     "text": [
      "Got BitFusion Eyeriss, Numbers\n"
     ]
    },
    {
     "name": "stderr",
     "output_type": "stream",
     "text": [
      "INFO:baseline_int.src.sweep.sweep.Simulator:Simulating Benchmark: CIFAR10SNN\n",
      "INFO:baseline_int.src.sweep.sweep.Simulator:N x M = 32 x 64\n",
      "INFO:baseline_int.src.sweep.sweep.Simulator:Max Precision (bits): 8\n",
      "INFO:baseline_int.src.sweep.sweep.Simulator:Min Precision (bits): 8\n",
      "INFO:baseline_int.src.sweep.sweep.Simulator:Batch size: 100\n",
      "INFO:baseline_int.src.sweep.sweep.Simulator:Bandwidth (bits/cycle): 1024\n",
      "INFO:baseline_int.src.sweep.sweep.Simulator:Simulating Benchmark: DVS128Gesture\n",
      "INFO:baseline_int.src.sweep.sweep.Simulator:N x M = 32 x 64\n",
      "INFO:baseline_int.src.sweep.sweep.Simulator:Max Precision (bits): 8\n",
      "INFO:baseline_int.src.sweep.sweep.Simulator:Min Precision (bits): 8\n",
      "INFO:baseline_int.src.sweep.sweep.Simulator:Batch size: 100\n",
      "INFO:baseline_int.src.sweep.sweep.Simulator:Bandwidth (bits/cycle): 1024\n",
      "INFO:baseline_int.src.sweep.sweep.Simulator:Simulating Benchmark: ImageNetSNN\n",
      "INFO:baseline_int.src.sweep.sweep.Simulator:N x M = 32 x 64\n",
      "INFO:baseline_int.src.sweep.sweep.Simulator:Max Precision (bits): 8\n",
      "INFO:baseline_int.src.sweep.sweep.Simulator:Min Precision (bits): 8\n",
      "INFO:baseline_int.src.sweep.sweep.Simulator:Batch size: 100\n",
      "INFO:baseline_int.src.sweep.sweep.Simulator:Bandwidth (bits/cycle): 1024\n",
      " 74%|███████▍  | 59/80 [1:06:05<17:42, 50.61s/it]"
     ]
    },
    {
     "name": "stdout",
     "output_type": "stream",
     "text": [
      "Got BitFusion Eyeriss, Numbers\n"
     ]
    },
    {
     "name": "stderr",
     "output_type": "stream",
     "text": [
      "INFO:baseline_int.src.sweep.sweep.Simulator:Simulating Benchmark: CIFAR10SNN\n",
      "INFO:baseline_int.src.sweep.sweep.Simulator:N x M = 64 x 64\n",
      "INFO:baseline_int.src.sweep.sweep.Simulator:Max Precision (bits): 8\n",
      "INFO:baseline_int.src.sweep.sweep.Simulator:Min Precision (bits): 8\n",
      "INFO:baseline_int.src.sweep.sweep.Simulator:Batch size: 100\n",
      "INFO:baseline_int.src.sweep.sweep.Simulator:Bandwidth (bits/cycle): 1024\n",
      "INFO:baseline_int.src.sweep.sweep.Simulator:Simulating Benchmark: DVS128Gesture\n",
      "INFO:baseline_int.src.sweep.sweep.Simulator:N x M = 64 x 64\n",
      "INFO:baseline_int.src.sweep.sweep.Simulator:Max Precision (bits): 8\n",
      "INFO:baseline_int.src.sweep.sweep.Simulator:Min Precision (bits): 8\n",
      "INFO:baseline_int.src.sweep.sweep.Simulator:Batch size: 100\n",
      "INFO:baseline_int.src.sweep.sweep.Simulator:Bandwidth (bits/cycle): 1024\n",
      "INFO:baseline_int.src.sweep.sweep.Simulator:Simulating Benchmark: ImageNetSNN\n",
      "INFO:baseline_int.src.sweep.sweep.Simulator:N x M = 64 x 64\n",
      "INFO:baseline_int.src.sweep.sweep.Simulator:Max Precision (bits): 8\n",
      "INFO:baseline_int.src.sweep.sweep.Simulator:Min Precision (bits): 8\n",
      "INFO:baseline_int.src.sweep.sweep.Simulator:Batch size: 100\n",
      "INFO:baseline_int.src.sweep.sweep.Simulator:Bandwidth (bits/cycle): 1024\n",
      " 75%|███████▌  | 60/80 [1:06:55<16:48, 50.43s/it]"
     ]
    },
    {
     "name": "stdout",
     "output_type": "stream",
     "text": [
      "Got BitFusion Eyeriss, Numbers\n"
     ]
    },
    {
     "name": "stderr",
     "output_type": "stream",
     "text": [
      "INFO:baseline_int.src.sweep.sweep.Simulator:Simulating Benchmark: CIFAR10SNN\n",
      "INFO:baseline_int.src.sweep.sweep.Simulator:N x M = 128 x 64\n",
      "INFO:baseline_int.src.sweep.sweep.Simulator:Max Precision (bits): 8\n",
      "INFO:baseline_int.src.sweep.sweep.Simulator:Min Precision (bits): 8\n",
      "INFO:baseline_int.src.sweep.sweep.Simulator:Batch size: 100\n",
      "INFO:baseline_int.src.sweep.sweep.Simulator:Bandwidth (bits/cycle): 1024\n",
      "INFO:baseline_int.src.sweep.sweep.Simulator:Simulating Benchmark: DVS128Gesture\n",
      "INFO:baseline_int.src.sweep.sweep.Simulator:N x M = 128 x 64\n",
      "INFO:baseline_int.src.sweep.sweep.Simulator:Max Precision (bits): 8\n",
      "INFO:baseline_int.src.sweep.sweep.Simulator:Min Precision (bits): 8\n",
      "INFO:baseline_int.src.sweep.sweep.Simulator:Batch size: 100\n",
      "INFO:baseline_int.src.sweep.sweep.Simulator:Bandwidth (bits/cycle): 1024\n",
      "INFO:baseline_int.src.sweep.sweep.Simulator:Simulating Benchmark: ImageNetSNN\n",
      "INFO:baseline_int.src.sweep.sweep.Simulator:N x M = 128 x 64\n",
      "INFO:baseline_int.src.sweep.sweep.Simulator:Max Precision (bits): 8\n",
      "INFO:baseline_int.src.sweep.sweep.Simulator:Min Precision (bits): 8\n",
      "INFO:baseline_int.src.sweep.sweep.Simulator:Batch size: 100\n",
      "INFO:baseline_int.src.sweep.sweep.Simulator:Bandwidth (bits/cycle): 1024\n",
      " 76%|███████▋  | 61/80 [1:07:45<15:57, 50.38s/it]"
     ]
    },
    {
     "name": "stdout",
     "output_type": "stream",
     "text": [
      "Got BitFusion Eyeriss, Numbers\n"
     ]
    },
    {
     "name": "stderr",
     "output_type": "stream",
     "text": [
      "INFO:baseline_int.src.sweep.sweep.Simulator:Simulating Benchmark: CIFAR10SNN\n",
      "INFO:baseline_int.src.sweep.sweep.Simulator:N x M = 256 x 64\n",
      "INFO:baseline_int.src.sweep.sweep.Simulator:Max Precision (bits): 8\n",
      "INFO:baseline_int.src.sweep.sweep.Simulator:Min Precision (bits): 8\n",
      "INFO:baseline_int.src.sweep.sweep.Simulator:Batch size: 100\n",
      "INFO:baseline_int.src.sweep.sweep.Simulator:Bandwidth (bits/cycle): 1024\n",
      "INFO:baseline_int.src.sweep.sweep.Simulator:Simulating Benchmark: DVS128Gesture\n",
      "INFO:baseline_int.src.sweep.sweep.Simulator:N x M = 256 x 64\n",
      "INFO:baseline_int.src.sweep.sweep.Simulator:Max Precision (bits): 8\n",
      "INFO:baseline_int.src.sweep.sweep.Simulator:Min Precision (bits): 8\n",
      "INFO:baseline_int.src.sweep.sweep.Simulator:Batch size: 100\n",
      "INFO:baseline_int.src.sweep.sweep.Simulator:Bandwidth (bits/cycle): 1024\n",
      "INFO:baseline_int.src.sweep.sweep.Simulator:Simulating Benchmark: ImageNetSNN\n",
      "INFO:baseline_int.src.sweep.sweep.Simulator:N x M = 256 x 64\n",
      "INFO:baseline_int.src.sweep.sweep.Simulator:Max Precision (bits): 8\n",
      "INFO:baseline_int.src.sweep.sweep.Simulator:Min Precision (bits): 8\n",
      "INFO:baseline_int.src.sweep.sweep.Simulator:Batch size: 100\n",
      "INFO:baseline_int.src.sweep.sweep.Simulator:Bandwidth (bits/cycle): 1024\n",
      " 78%|███████▊  | 62/80 [1:08:35<15:04, 50.23s/it]"
     ]
    },
    {
     "name": "stdout",
     "output_type": "stream",
     "text": [
      "Got BitFusion Eyeriss, Numbers\n"
     ]
    },
    {
     "name": "stderr",
     "output_type": "stream",
     "text": [
      "INFO:baseline_int.src.sweep.sweep.Simulator:Simulating Benchmark: CIFAR10SNN\n",
      "INFO:baseline_int.src.sweep.sweep.Simulator:N x M = 1 x 128\n",
      "INFO:baseline_int.src.sweep.sweep.Simulator:Max Precision (bits): 8\n",
      "INFO:baseline_int.src.sweep.sweep.Simulator:Min Precision (bits): 8\n",
      "INFO:baseline_int.src.sweep.sweep.Simulator:Batch size: 100\n",
      "INFO:baseline_int.src.sweep.sweep.Simulator:Bandwidth (bits/cycle): 1024\n",
      "INFO:baseline_int.src.sweep.sweep.Simulator:Simulating Benchmark: DVS128Gesture\n",
      "INFO:baseline_int.src.sweep.sweep.Simulator:N x M = 1 x 128\n",
      "INFO:baseline_int.src.sweep.sweep.Simulator:Max Precision (bits): 8\n",
      "INFO:baseline_int.src.sweep.sweep.Simulator:Min Precision (bits): 8\n",
      "INFO:baseline_int.src.sweep.sweep.Simulator:Batch size: 100\n",
      "INFO:baseline_int.src.sweep.sweep.Simulator:Bandwidth (bits/cycle): 1024\n",
      "INFO:baseline_int.src.sweep.sweep.Simulator:Simulating Benchmark: ImageNetSNN\n",
      "INFO:baseline_int.src.sweep.sweep.Simulator:N x M = 1 x 128\n",
      "INFO:baseline_int.src.sweep.sweep.Simulator:Max Precision (bits): 8\n",
      "INFO:baseline_int.src.sweep.sweep.Simulator:Min Precision (bits): 8\n",
      "INFO:baseline_int.src.sweep.sweep.Simulator:Batch size: 100\n",
      "INFO:baseline_int.src.sweep.sweep.Simulator:Bandwidth (bits/cycle): 1024\n"
     ]
    },
    {
     "name": "stdout",
     "output_type": "stream",
     "text": [
      "error\n",
      "error\n",
      "error\n"
     ]
    },
    {
     "name": "stderr",
     "output_type": "stream",
     "text": [
      " 79%|███████▉  | 63/80 [1:09:21<13:51, 48.90s/it]"
     ]
    },
    {
     "name": "stdout",
     "output_type": "stream",
     "text": [
      "Got BitFusion Eyeriss, Numbers\n"
     ]
    },
    {
     "name": "stderr",
     "output_type": "stream",
     "text": [
      "INFO:baseline_int.src.sweep.sweep.Simulator:Simulating Benchmark: CIFAR10SNN\n",
      "INFO:baseline_int.src.sweep.sweep.Simulator:N x M = 2 x 128\n",
      "INFO:baseline_int.src.sweep.sweep.Simulator:Max Precision (bits): 8\n",
      "INFO:baseline_int.src.sweep.sweep.Simulator:Min Precision (bits): 8\n",
      "INFO:baseline_int.src.sweep.sweep.Simulator:Batch size: 100\n",
      "INFO:baseline_int.src.sweep.sweep.Simulator:Bandwidth (bits/cycle): 1024\n",
      "INFO:baseline_int.src.sweep.sweep.Simulator:Simulating Benchmark: DVS128Gesture\n",
      "INFO:baseline_int.src.sweep.sweep.Simulator:N x M = 2 x 128\n",
      "INFO:baseline_int.src.sweep.sweep.Simulator:Max Precision (bits): 8\n",
      "INFO:baseline_int.src.sweep.sweep.Simulator:Min Precision (bits): 8\n",
      "INFO:baseline_int.src.sweep.sweep.Simulator:Batch size: 100\n",
      "INFO:baseline_int.src.sweep.sweep.Simulator:Bandwidth (bits/cycle): 1024\n",
      "INFO:baseline_int.src.sweep.sweep.Simulator:Simulating Benchmark: ImageNetSNN\n",
      "INFO:baseline_int.src.sweep.sweep.Simulator:N x M = 2 x 128\n",
      "INFO:baseline_int.src.sweep.sweep.Simulator:Max Precision (bits): 8\n",
      "INFO:baseline_int.src.sweep.sweep.Simulator:Min Precision (bits): 8\n",
      "INFO:baseline_int.src.sweep.sweep.Simulator:Batch size: 100\n",
      "INFO:baseline_int.src.sweep.sweep.Simulator:Bandwidth (bits/cycle): 1024\n"
     ]
    },
    {
     "name": "stdout",
     "output_type": "stream",
     "text": [
      "error\n",
      "error\n",
      "error\n"
     ]
    },
    {
     "name": "stderr",
     "output_type": "stream",
     "text": [
      " 80%|████████  | 64/80 [1:10:07<12:47, 47.97s/it]"
     ]
    },
    {
     "name": "stdout",
     "output_type": "stream",
     "text": [
      "Got BitFusion Eyeriss, Numbers\n"
     ]
    },
    {
     "name": "stderr",
     "output_type": "stream",
     "text": [
      "INFO:baseline_int.src.sweep.sweep.Simulator:Simulating Benchmark: CIFAR10SNN\n",
      "INFO:baseline_int.src.sweep.sweep.Simulator:N x M = 4 x 128\n",
      "INFO:baseline_int.src.sweep.sweep.Simulator:Max Precision (bits): 8\n",
      "INFO:baseline_int.src.sweep.sweep.Simulator:Min Precision (bits): 8\n",
      "INFO:baseline_int.src.sweep.sweep.Simulator:Batch size: 100\n",
      "INFO:baseline_int.src.sweep.sweep.Simulator:Bandwidth (bits/cycle): 1024\n",
      "INFO:baseline_int.src.sweep.sweep.Simulator:Simulating Benchmark: DVS128Gesture\n",
      "INFO:baseline_int.src.sweep.sweep.Simulator:N x M = 4 x 128\n",
      "INFO:baseline_int.src.sweep.sweep.Simulator:Max Precision (bits): 8\n",
      "INFO:baseline_int.src.sweep.sweep.Simulator:Min Precision (bits): 8\n",
      "INFO:baseline_int.src.sweep.sweep.Simulator:Batch size: 100\n",
      "INFO:baseline_int.src.sweep.sweep.Simulator:Bandwidth (bits/cycle): 1024\n",
      "INFO:baseline_int.src.sweep.sweep.Simulator:Simulating Benchmark: ImageNetSNN\n",
      "INFO:baseline_int.src.sweep.sweep.Simulator:N x M = 4 x 128\n",
      "INFO:baseline_int.src.sweep.sweep.Simulator:Max Precision (bits): 8\n",
      "INFO:baseline_int.src.sweep.sweep.Simulator:Min Precision (bits): 8\n",
      "INFO:baseline_int.src.sweep.sweep.Simulator:Batch size: 100\n",
      "INFO:baseline_int.src.sweep.sweep.Simulator:Bandwidth (bits/cycle): 1024\n"
     ]
    },
    {
     "name": "stdout",
     "output_type": "stream",
     "text": [
      "error\n",
      "error\n",
      "error\n"
     ]
    },
    {
     "name": "stderr",
     "output_type": "stream",
     "text": [
      " 81%|████████▏ | 65/80 [1:10:52<11:48, 47.24s/it]"
     ]
    },
    {
     "name": "stdout",
     "output_type": "stream",
     "text": [
      "Got BitFusion Eyeriss, Numbers\n"
     ]
    },
    {
     "name": "stderr",
     "output_type": "stream",
     "text": [
      "INFO:baseline_int.src.sweep.sweep.Simulator:Simulating Benchmark: CIFAR10SNN\n",
      "INFO:baseline_int.src.sweep.sweep.Simulator:N x M = 8 x 128\n",
      "INFO:baseline_int.src.sweep.sweep.Simulator:Max Precision (bits): 8\n",
      "INFO:baseline_int.src.sweep.sweep.Simulator:Min Precision (bits): 8\n",
      "INFO:baseline_int.src.sweep.sweep.Simulator:Batch size: 100\n",
      "INFO:baseline_int.src.sweep.sweep.Simulator:Bandwidth (bits/cycle): 1024\n",
      "INFO:baseline_int.src.sweep.sweep.Simulator:Simulating Benchmark: DVS128Gesture\n",
      "INFO:baseline_int.src.sweep.sweep.Simulator:N x M = 8 x 128\n",
      "INFO:baseline_int.src.sweep.sweep.Simulator:Max Precision (bits): 8\n",
      "INFO:baseline_int.src.sweep.sweep.Simulator:Min Precision (bits): 8\n",
      "INFO:baseline_int.src.sweep.sweep.Simulator:Batch size: 100\n",
      "INFO:baseline_int.src.sweep.sweep.Simulator:Bandwidth (bits/cycle): 1024\n",
      "INFO:baseline_int.src.sweep.sweep.Simulator:Simulating Benchmark: ImageNetSNN\n",
      "INFO:baseline_int.src.sweep.sweep.Simulator:N x M = 8 x 128\n",
      "INFO:baseline_int.src.sweep.sweep.Simulator:Max Precision (bits): 8\n",
      "INFO:baseline_int.src.sweep.sweep.Simulator:Min Precision (bits): 8\n",
      "INFO:baseline_int.src.sweep.sweep.Simulator:Batch size: 100\n",
      "INFO:baseline_int.src.sweep.sweep.Simulator:Bandwidth (bits/cycle): 1024\n"
     ]
    },
    {
     "name": "stdout",
     "output_type": "stream",
     "text": [
      "error\n",
      "error\n",
      "error\n"
     ]
    },
    {
     "name": "stderr",
     "output_type": "stream",
     "text": [
      " 82%|████████▎ | 66/80 [1:11:37<10:52, 46.58s/it]"
     ]
    },
    {
     "name": "stdout",
     "output_type": "stream",
     "text": [
      "Got BitFusion Eyeriss, Numbers\n"
     ]
    },
    {
     "name": "stderr",
     "output_type": "stream",
     "text": [
      "INFO:baseline_int.src.sweep.sweep.Simulator:Simulating Benchmark: CIFAR10SNN\n",
      "INFO:baseline_int.src.sweep.sweep.Simulator:N x M = 16 x 128\n",
      "INFO:baseline_int.src.sweep.sweep.Simulator:Max Precision (bits): 8\n",
      "INFO:baseline_int.src.sweep.sweep.Simulator:Min Precision (bits): 8\n",
      "INFO:baseline_int.src.sweep.sweep.Simulator:Batch size: 100\n",
      "INFO:baseline_int.src.sweep.sweep.Simulator:Bandwidth (bits/cycle): 1024\n",
      "INFO:baseline_int.src.sweep.sweep.Simulator:Simulating Benchmark: DVS128Gesture\n",
      "INFO:baseline_int.src.sweep.sweep.Simulator:N x M = 16 x 128\n",
      "INFO:baseline_int.src.sweep.sweep.Simulator:Max Precision (bits): 8\n",
      "INFO:baseline_int.src.sweep.sweep.Simulator:Min Precision (bits): 8\n",
      "INFO:baseline_int.src.sweep.sweep.Simulator:Batch size: 100\n",
      "INFO:baseline_int.src.sweep.sweep.Simulator:Bandwidth (bits/cycle): 1024\n",
      "INFO:baseline_int.src.sweep.sweep.Simulator:Simulating Benchmark: ImageNetSNN\n",
      "INFO:baseline_int.src.sweep.sweep.Simulator:N x M = 16 x 128\n",
      "INFO:baseline_int.src.sweep.sweep.Simulator:Max Precision (bits): 8\n",
      "INFO:baseline_int.src.sweep.sweep.Simulator:Min Precision (bits): 8\n",
      "INFO:baseline_int.src.sweep.sweep.Simulator:Batch size: 100\n",
      "INFO:baseline_int.src.sweep.sweep.Simulator:Bandwidth (bits/cycle): 1024\n"
     ]
    },
    {
     "name": "stdout",
     "output_type": "stream",
     "text": [
      "error\n",
      "error\n",
      "error\n"
     ]
    },
    {
     "name": "stderr",
     "output_type": "stream",
     "text": [
      " 84%|████████▍ | 67/80 [1:12:23<10:01, 46.24s/it]"
     ]
    },
    {
     "name": "stdout",
     "output_type": "stream",
     "text": [
      "Got BitFusion Eyeriss, Numbers\n"
     ]
    },
    {
     "name": "stderr",
     "output_type": "stream",
     "text": [
      "INFO:baseline_int.src.sweep.sweep.Simulator:Simulating Benchmark: CIFAR10SNN\n",
      "INFO:baseline_int.src.sweep.sweep.Simulator:N x M = 32 x 128\n",
      "INFO:baseline_int.src.sweep.sweep.Simulator:Max Precision (bits): 8\n",
      "INFO:baseline_int.src.sweep.sweep.Simulator:Min Precision (bits): 8\n",
      "INFO:baseline_int.src.sweep.sweep.Simulator:Batch size: 100\n",
      "INFO:baseline_int.src.sweep.sweep.Simulator:Bandwidth (bits/cycle): 1024\n",
      "INFO:baseline_int.src.sweep.sweep.Simulator:Simulating Benchmark: DVS128Gesture\n",
      "INFO:baseline_int.src.sweep.sweep.Simulator:N x M = 32 x 128\n",
      "INFO:baseline_int.src.sweep.sweep.Simulator:Max Precision (bits): 8\n",
      "INFO:baseline_int.src.sweep.sweep.Simulator:Min Precision (bits): 8\n",
      "INFO:baseline_int.src.sweep.sweep.Simulator:Batch size: 100\n",
      "INFO:baseline_int.src.sweep.sweep.Simulator:Bandwidth (bits/cycle): 1024\n",
      "INFO:baseline_int.src.sweep.sweep.Simulator:Simulating Benchmark: ImageNetSNN\n",
      "INFO:baseline_int.src.sweep.sweep.Simulator:N x M = 32 x 128\n",
      "INFO:baseline_int.src.sweep.sweep.Simulator:Max Precision (bits): 8\n",
      "INFO:baseline_int.src.sweep.sweep.Simulator:Min Precision (bits): 8\n",
      "INFO:baseline_int.src.sweep.sweep.Simulator:Batch size: 100\n",
      "INFO:baseline_int.src.sweep.sweep.Simulator:Bandwidth (bits/cycle): 1024\n"
     ]
    },
    {
     "name": "stdout",
     "output_type": "stream",
     "text": [
      "error\n",
      "error\n",
      "error\n"
     ]
    },
    {
     "name": "stderr",
     "output_type": "stream",
     "text": [
      " 85%|████████▌ | 68/80 [1:13:08<09:11, 45.97s/it]"
     ]
    },
    {
     "name": "stdout",
     "output_type": "stream",
     "text": [
      "Got BitFusion Eyeriss, Numbers\n"
     ]
    },
    {
     "name": "stderr",
     "output_type": "stream",
     "text": [
      "INFO:baseline_int.src.sweep.sweep.Simulator:Simulating Benchmark: CIFAR10SNN\n",
      "INFO:baseline_int.src.sweep.sweep.Simulator:N x M = 64 x 128\n",
      "INFO:baseline_int.src.sweep.sweep.Simulator:Max Precision (bits): 8\n",
      "INFO:baseline_int.src.sweep.sweep.Simulator:Min Precision (bits): 8\n",
      "INFO:baseline_int.src.sweep.sweep.Simulator:Batch size: 100\n",
      "INFO:baseline_int.src.sweep.sweep.Simulator:Bandwidth (bits/cycle): 1024\n",
      "INFO:baseline_int.src.sweep.sweep.Simulator:Simulating Benchmark: DVS128Gesture\n",
      "INFO:baseline_int.src.sweep.sweep.Simulator:N x M = 64 x 128\n",
      "INFO:baseline_int.src.sweep.sweep.Simulator:Max Precision (bits): 8\n",
      "INFO:baseline_int.src.sweep.sweep.Simulator:Min Precision (bits): 8\n",
      "INFO:baseline_int.src.sweep.sweep.Simulator:Batch size: 100\n",
      "INFO:baseline_int.src.sweep.sweep.Simulator:Bandwidth (bits/cycle): 1024\n",
      "INFO:baseline_int.src.sweep.sweep.Simulator:Simulating Benchmark: ImageNetSNN\n",
      "INFO:baseline_int.src.sweep.sweep.Simulator:N x M = 64 x 128\n",
      "INFO:baseline_int.src.sweep.sweep.Simulator:Max Precision (bits): 8\n",
      "INFO:baseline_int.src.sweep.sweep.Simulator:Min Precision (bits): 8\n",
      "INFO:baseline_int.src.sweep.sweep.Simulator:Batch size: 100\n",
      "INFO:baseline_int.src.sweep.sweep.Simulator:Bandwidth (bits/cycle): 1024\n"
     ]
    },
    {
     "name": "stdout",
     "output_type": "stream",
     "text": [
      "error\n",
      "error\n",
      "error\n"
     ]
    },
    {
     "name": "stderr",
     "output_type": "stream",
     "text": [
      " 86%|████████▋ | 69/80 [1:13:54<08:25, 45.93s/it]"
     ]
    },
    {
     "name": "stdout",
     "output_type": "stream",
     "text": [
      "Got BitFusion Eyeriss, Numbers\n"
     ]
    },
    {
     "name": "stderr",
     "output_type": "stream",
     "text": [
      "INFO:baseline_int.src.sweep.sweep.Simulator:Simulating Benchmark: CIFAR10SNN\n",
      "INFO:baseline_int.src.sweep.sweep.Simulator:N x M = 128 x 128\n",
      "INFO:baseline_int.src.sweep.sweep.Simulator:Max Precision (bits): 8\n",
      "INFO:baseline_int.src.sweep.sweep.Simulator:Min Precision (bits): 8\n",
      "INFO:baseline_int.src.sweep.sweep.Simulator:Batch size: 100\n",
      "INFO:baseline_int.src.sweep.sweep.Simulator:Bandwidth (bits/cycle): 1024\n",
      "INFO:baseline_int.src.sweep.sweep.Simulator:Simulating Benchmark: DVS128Gesture\n",
      "INFO:baseline_int.src.sweep.sweep.Simulator:N x M = 128 x 128\n",
      "INFO:baseline_int.src.sweep.sweep.Simulator:Max Precision (bits): 8\n",
      "INFO:baseline_int.src.sweep.sweep.Simulator:Min Precision (bits): 8\n",
      "INFO:baseline_int.src.sweep.sweep.Simulator:Batch size: 100\n",
      "INFO:baseline_int.src.sweep.sweep.Simulator:Bandwidth (bits/cycle): 1024\n",
      "INFO:baseline_int.src.sweep.sweep.Simulator:Simulating Benchmark: ImageNetSNN\n",
      "INFO:baseline_int.src.sweep.sweep.Simulator:N x M = 128 x 128\n",
      "INFO:baseline_int.src.sweep.sweep.Simulator:Max Precision (bits): 8\n",
      "INFO:baseline_int.src.sweep.sweep.Simulator:Min Precision (bits): 8\n",
      "INFO:baseline_int.src.sweep.sweep.Simulator:Batch size: 100\n",
      "INFO:baseline_int.src.sweep.sweep.Simulator:Bandwidth (bits/cycle): 1024\n",
      " 88%|████████▊ | 70/80 [1:14:40<07:39, 45.94s/it]"
     ]
    },
    {
     "name": "stdout",
     "output_type": "stream",
     "text": [
      "Got BitFusion Eyeriss, Numbers\n"
     ]
    },
    {
     "name": "stderr",
     "output_type": "stream",
     "text": [
      "INFO:baseline_int.src.sweep.sweep.Simulator:Simulating Benchmark: CIFAR10SNN\n",
      "INFO:baseline_int.src.sweep.sweep.Simulator:N x M = 256 x 128\n",
      "INFO:baseline_int.src.sweep.sweep.Simulator:Max Precision (bits): 8\n",
      "INFO:baseline_int.src.sweep.sweep.Simulator:Min Precision (bits): 8\n",
      "INFO:baseline_int.src.sweep.sweep.Simulator:Batch size: 100\n",
      "INFO:baseline_int.src.sweep.sweep.Simulator:Bandwidth (bits/cycle): 1024\n",
      "INFO:baseline_int.src.sweep.sweep.Simulator:Simulating Benchmark: DVS128Gesture\n",
      "INFO:baseline_int.src.sweep.sweep.Simulator:N x M = 256 x 128\n",
      "INFO:baseline_int.src.sweep.sweep.Simulator:Max Precision (bits): 8\n",
      "INFO:baseline_int.src.sweep.sweep.Simulator:Min Precision (bits): 8\n",
      "INFO:baseline_int.src.sweep.sweep.Simulator:Batch size: 100\n",
      "INFO:baseline_int.src.sweep.sweep.Simulator:Bandwidth (bits/cycle): 1024\n",
      "INFO:baseline_int.src.sweep.sweep.Simulator:Simulating Benchmark: ImageNetSNN\n",
      "INFO:baseline_int.src.sweep.sweep.Simulator:N x M = 256 x 128\n",
      "INFO:baseline_int.src.sweep.sweep.Simulator:Max Precision (bits): 8\n",
      "INFO:baseline_int.src.sweep.sweep.Simulator:Min Precision (bits): 8\n",
      "INFO:baseline_int.src.sweep.sweep.Simulator:Batch size: 100\n",
      "INFO:baseline_int.src.sweep.sweep.Simulator:Bandwidth (bits/cycle): 1024\n",
      " 89%|████████▉ | 71/80 [1:15:25<06:52, 45.88s/it]"
     ]
    },
    {
     "name": "stdout",
     "output_type": "stream",
     "text": [
      "Got BitFusion Eyeriss, Numbers\n"
     ]
    },
    {
     "name": "stderr",
     "output_type": "stream",
     "text": [
      "INFO:baseline_int.src.sweep.sweep.Simulator:Simulating Benchmark: CIFAR10SNN\n",
      "INFO:baseline_int.src.sweep.sweep.Simulator:N x M = 1 x 256\n",
      "INFO:baseline_int.src.sweep.sweep.Simulator:Max Precision (bits): 8\n",
      "INFO:baseline_int.src.sweep.sweep.Simulator:Min Precision (bits): 8\n",
      "INFO:baseline_int.src.sweep.sweep.Simulator:Batch size: 100\n",
      "INFO:baseline_int.src.sweep.sweep.Simulator:Bandwidth (bits/cycle): 1024\n"
     ]
    },
    {
     "name": "stdout",
     "output_type": "stream",
     "text": [
      "error\n",
      "error\n",
      "error\n"
     ]
    },
    {
     "name": "stderr",
     "output_type": "stream",
     "text": [
      "INFO:baseline_int.src.sweep.sweep.Simulator:Simulating Benchmark: DVS128Gesture\n",
      "INFO:baseline_int.src.sweep.sweep.Simulator:N x M = 1 x 256\n",
      "INFO:baseline_int.src.sweep.sweep.Simulator:Max Precision (bits): 8\n",
      "INFO:baseline_int.src.sweep.sweep.Simulator:Min Precision (bits): 8\n",
      "INFO:baseline_int.src.sweep.sweep.Simulator:Batch size: 100\n",
      "INFO:baseline_int.src.sweep.sweep.Simulator:Bandwidth (bits/cycle): 1024\n"
     ]
    },
    {
     "name": "stdout",
     "output_type": "stream",
     "text": [
      "error\n",
      "error\n",
      "error\n",
      "error\n"
     ]
    },
    {
     "name": "stderr",
     "output_type": "stream",
     "text": [
      "INFO:baseline_int.src.sweep.sweep.Simulator:Simulating Benchmark: ImageNetSNN\n",
      "INFO:baseline_int.src.sweep.sweep.Simulator:N x M = 1 x 256\n",
      "INFO:baseline_int.src.sweep.sweep.Simulator:Max Precision (bits): 8\n",
      "INFO:baseline_int.src.sweep.sweep.Simulator:Min Precision (bits): 8\n",
      "INFO:baseline_int.src.sweep.sweep.Simulator:Batch size: 100\n",
      "INFO:baseline_int.src.sweep.sweep.Simulator:Bandwidth (bits/cycle): 1024\n"
     ]
    },
    {
     "name": "stdout",
     "output_type": "stream",
     "text": [
      "error\n",
      "error\n",
      "error\n",
      "error\n",
      "error\n",
      "error\n",
      "error\n"
     ]
    },
    {
     "name": "stderr",
     "output_type": "stream",
     "text": [
      " 90%|█████████ | 72/80 [1:16:09<06:02, 45.26s/it]"
     ]
    },
    {
     "name": "stdout",
     "output_type": "stream",
     "text": [
      "Got BitFusion Eyeriss, Numbers\n"
     ]
    },
    {
     "name": "stderr",
     "output_type": "stream",
     "text": [
      "INFO:baseline_int.src.sweep.sweep.Simulator:Simulating Benchmark: CIFAR10SNN\n",
      "INFO:baseline_int.src.sweep.sweep.Simulator:N x M = 2 x 256\n",
      "INFO:baseline_int.src.sweep.sweep.Simulator:Max Precision (bits): 8\n",
      "INFO:baseline_int.src.sweep.sweep.Simulator:Min Precision (bits): 8\n",
      "INFO:baseline_int.src.sweep.sweep.Simulator:Batch size: 100\n",
      "INFO:baseline_int.src.sweep.sweep.Simulator:Bandwidth (bits/cycle): 1024\n"
     ]
    },
    {
     "name": "stdout",
     "output_type": "stream",
     "text": [
      "error\n",
      "error\n",
      "error\n"
     ]
    },
    {
     "name": "stderr",
     "output_type": "stream",
     "text": [
      "INFO:baseline_int.src.sweep.sweep.Simulator:Simulating Benchmark: DVS128Gesture\n",
      "INFO:baseline_int.src.sweep.sweep.Simulator:N x M = 2 x 256\n",
      "INFO:baseline_int.src.sweep.sweep.Simulator:Max Precision (bits): 8\n",
      "INFO:baseline_int.src.sweep.sweep.Simulator:Min Precision (bits): 8\n",
      "INFO:baseline_int.src.sweep.sweep.Simulator:Batch size: 100\n",
      "INFO:baseline_int.src.sweep.sweep.Simulator:Bandwidth (bits/cycle): 1024\n"
     ]
    },
    {
     "name": "stdout",
     "output_type": "stream",
     "text": [
      "error\n",
      "error\n",
      "error\n",
      "error\n"
     ]
    },
    {
     "name": "stderr",
     "output_type": "stream",
     "text": [
      "INFO:baseline_int.src.sweep.sweep.Simulator:Simulating Benchmark: ImageNetSNN\n",
      "INFO:baseline_int.src.sweep.sweep.Simulator:N x M = 2 x 256\n",
      "INFO:baseline_int.src.sweep.sweep.Simulator:Max Precision (bits): 8\n",
      "INFO:baseline_int.src.sweep.sweep.Simulator:Min Precision (bits): 8\n",
      "INFO:baseline_int.src.sweep.sweep.Simulator:Batch size: 100\n",
      "INFO:baseline_int.src.sweep.sweep.Simulator:Bandwidth (bits/cycle): 1024\n"
     ]
    },
    {
     "name": "stdout",
     "output_type": "stream",
     "text": [
      "error\n",
      "error\n",
      "error\n",
      "error\n",
      "error\n",
      "error\n",
      "error\n"
     ]
    },
    {
     "name": "stderr",
     "output_type": "stream",
     "text": [
      " 91%|█████████▏| 73/80 [1:16:53<05:13, 44.81s/it]"
     ]
    },
    {
     "name": "stdout",
     "output_type": "stream",
     "text": [
      "Got BitFusion Eyeriss, Numbers\n"
     ]
    },
    {
     "name": "stderr",
     "output_type": "stream",
     "text": [
      "INFO:baseline_int.src.sweep.sweep.Simulator:Simulating Benchmark: CIFAR10SNN\n",
      "INFO:baseline_int.src.sweep.sweep.Simulator:N x M = 4 x 256\n",
      "INFO:baseline_int.src.sweep.sweep.Simulator:Max Precision (bits): 8\n",
      "INFO:baseline_int.src.sweep.sweep.Simulator:Min Precision (bits): 8\n",
      "INFO:baseline_int.src.sweep.sweep.Simulator:Batch size: 100\n",
      "INFO:baseline_int.src.sweep.sweep.Simulator:Bandwidth (bits/cycle): 1024\n"
     ]
    },
    {
     "name": "stdout",
     "output_type": "stream",
     "text": [
      "error\n",
      "error\n",
      "error\n"
     ]
    },
    {
     "name": "stderr",
     "output_type": "stream",
     "text": [
      "INFO:baseline_int.src.sweep.sweep.Simulator:Simulating Benchmark: DVS128Gesture\n",
      "INFO:baseline_int.src.sweep.sweep.Simulator:N x M = 4 x 256\n",
      "INFO:baseline_int.src.sweep.sweep.Simulator:Max Precision (bits): 8\n",
      "INFO:baseline_int.src.sweep.sweep.Simulator:Min Precision (bits): 8\n",
      "INFO:baseline_int.src.sweep.sweep.Simulator:Batch size: 100\n",
      "INFO:baseline_int.src.sweep.sweep.Simulator:Bandwidth (bits/cycle): 1024\n"
     ]
    },
    {
     "name": "stdout",
     "output_type": "stream",
     "text": [
      "error\n",
      "error\n",
      "error\n",
      "error\n"
     ]
    },
    {
     "name": "stderr",
     "output_type": "stream",
     "text": [
      "INFO:baseline_int.src.sweep.sweep.Simulator:Simulating Benchmark: ImageNetSNN\n",
      "INFO:baseline_int.src.sweep.sweep.Simulator:N x M = 4 x 256\n",
      "INFO:baseline_int.src.sweep.sweep.Simulator:Max Precision (bits): 8\n",
      "INFO:baseline_int.src.sweep.sweep.Simulator:Min Precision (bits): 8\n",
      "INFO:baseline_int.src.sweep.sweep.Simulator:Batch size: 100\n",
      "INFO:baseline_int.src.sweep.sweep.Simulator:Bandwidth (bits/cycle): 1024\n"
     ]
    },
    {
     "name": "stdout",
     "output_type": "stream",
     "text": [
      "error\n",
      "error\n",
      "error\n",
      "error\n",
      "error\n",
      "error\n",
      "error\n"
     ]
    },
    {
     "name": "stderr",
     "output_type": "stream",
     "text": [
      " 92%|█████████▎| 74/80 [1:17:37<04:27, 44.56s/it]"
     ]
    },
    {
     "name": "stdout",
     "output_type": "stream",
     "text": [
      "Got BitFusion Eyeriss, Numbers\n"
     ]
    },
    {
     "name": "stderr",
     "output_type": "stream",
     "text": [
      "INFO:baseline_int.src.sweep.sweep.Simulator:Simulating Benchmark: CIFAR10SNN\n",
      "INFO:baseline_int.src.sweep.sweep.Simulator:N x M = 8 x 256\n",
      "INFO:baseline_int.src.sweep.sweep.Simulator:Max Precision (bits): 8\n",
      "INFO:baseline_int.src.sweep.sweep.Simulator:Min Precision (bits): 8\n",
      "INFO:baseline_int.src.sweep.sweep.Simulator:Batch size: 100\n",
      "INFO:baseline_int.src.sweep.sweep.Simulator:Bandwidth (bits/cycle): 1024\n"
     ]
    },
    {
     "name": "stdout",
     "output_type": "stream",
     "text": [
      "error\n",
      "error\n",
      "error\n"
     ]
    },
    {
     "name": "stderr",
     "output_type": "stream",
     "text": [
      "INFO:baseline_int.src.sweep.sweep.Simulator:Simulating Benchmark: DVS128Gesture\n",
      "INFO:baseline_int.src.sweep.sweep.Simulator:N x M = 8 x 256\n",
      "INFO:baseline_int.src.sweep.sweep.Simulator:Max Precision (bits): 8\n",
      "INFO:baseline_int.src.sweep.sweep.Simulator:Min Precision (bits): 8\n",
      "INFO:baseline_int.src.sweep.sweep.Simulator:Batch size: 100\n",
      "INFO:baseline_int.src.sweep.sweep.Simulator:Bandwidth (bits/cycle): 1024\n"
     ]
    },
    {
     "name": "stdout",
     "output_type": "stream",
     "text": [
      "error\n",
      "error\n",
      "error\n",
      "error\n"
     ]
    },
    {
     "name": "stderr",
     "output_type": "stream",
     "text": [
      "INFO:baseline_int.src.sweep.sweep.Simulator:Simulating Benchmark: ImageNetSNN\n",
      "INFO:baseline_int.src.sweep.sweep.Simulator:N x M = 8 x 256\n",
      "INFO:baseline_int.src.sweep.sweep.Simulator:Max Precision (bits): 8\n",
      "INFO:baseline_int.src.sweep.sweep.Simulator:Min Precision (bits): 8\n",
      "INFO:baseline_int.src.sweep.sweep.Simulator:Batch size: 100\n",
      "INFO:baseline_int.src.sweep.sweep.Simulator:Bandwidth (bits/cycle): 1024\n"
     ]
    },
    {
     "name": "stdout",
     "output_type": "stream",
     "text": [
      "error\n",
      "error\n",
      "error\n",
      "error\n",
      "error\n",
      "error\n",
      "error\n"
     ]
    },
    {
     "name": "stderr",
     "output_type": "stream",
     "text": [
      " 94%|█████████▍| 75/80 [1:18:22<03:42, 44.56s/it]"
     ]
    },
    {
     "name": "stdout",
     "output_type": "stream",
     "text": [
      "Got BitFusion Eyeriss, Numbers\n"
     ]
    },
    {
     "name": "stderr",
     "output_type": "stream",
     "text": [
      "INFO:baseline_int.src.sweep.sweep.Simulator:Simulating Benchmark: CIFAR10SNN\n",
      "INFO:baseline_int.src.sweep.sweep.Simulator:N x M = 16 x 256\n",
      "INFO:baseline_int.src.sweep.sweep.Simulator:Max Precision (bits): 8\n",
      "INFO:baseline_int.src.sweep.sweep.Simulator:Min Precision (bits): 8\n",
      "INFO:baseline_int.src.sweep.sweep.Simulator:Batch size: 100\n",
      "INFO:baseline_int.src.sweep.sweep.Simulator:Bandwidth (bits/cycle): 1024\n"
     ]
    },
    {
     "name": "stdout",
     "output_type": "stream",
     "text": [
      "error\n",
      "error\n",
      "error\n"
     ]
    },
    {
     "name": "stderr",
     "output_type": "stream",
     "text": [
      "INFO:baseline_int.src.sweep.sweep.Simulator:Simulating Benchmark: DVS128Gesture\n",
      "INFO:baseline_int.src.sweep.sweep.Simulator:N x M = 16 x 256\n",
      "INFO:baseline_int.src.sweep.sweep.Simulator:Max Precision (bits): 8\n",
      "INFO:baseline_int.src.sweep.sweep.Simulator:Min Precision (bits): 8\n",
      "INFO:baseline_int.src.sweep.sweep.Simulator:Batch size: 100\n",
      "INFO:baseline_int.src.sweep.sweep.Simulator:Bandwidth (bits/cycle): 1024\n"
     ]
    },
    {
     "name": "stdout",
     "output_type": "stream",
     "text": [
      "error\n",
      "error\n",
      "error\n",
      "error\n"
     ]
    },
    {
     "name": "stderr",
     "output_type": "stream",
     "text": [
      "INFO:baseline_int.src.sweep.sweep.Simulator:Simulating Benchmark: ImageNetSNN\n",
      "INFO:baseline_int.src.sweep.sweep.Simulator:N x M = 16 x 256\n",
      "INFO:baseline_int.src.sweep.sweep.Simulator:Max Precision (bits): 8\n",
      "INFO:baseline_int.src.sweep.sweep.Simulator:Min Precision (bits): 8\n",
      "INFO:baseline_int.src.sweep.sweep.Simulator:Batch size: 100\n",
      "INFO:baseline_int.src.sweep.sweep.Simulator:Bandwidth (bits/cycle): 1024\n"
     ]
    },
    {
     "name": "stdout",
     "output_type": "stream",
     "text": [
      "error\n",
      "error\n",
      "error\n",
      "error\n",
      "error\n",
      "error\n",
      "error\n"
     ]
    },
    {
     "name": "stderr",
     "output_type": "stream",
     "text": [
      " 95%|█████████▌| 76/80 [1:19:06<02:57, 44.49s/it]"
     ]
    },
    {
     "name": "stdout",
     "output_type": "stream",
     "text": [
      "Got BitFusion Eyeriss, Numbers\n"
     ]
    },
    {
     "name": "stderr",
     "output_type": "stream",
     "text": [
      "INFO:baseline_int.src.sweep.sweep.Simulator:Simulating Benchmark: CIFAR10SNN\n",
      "INFO:baseline_int.src.sweep.sweep.Simulator:N x M = 32 x 256\n",
      "INFO:baseline_int.src.sweep.sweep.Simulator:Max Precision (bits): 8\n",
      "INFO:baseline_int.src.sweep.sweep.Simulator:Min Precision (bits): 8\n",
      "INFO:baseline_int.src.sweep.sweep.Simulator:Batch size: 100\n",
      "INFO:baseline_int.src.sweep.sweep.Simulator:Bandwidth (bits/cycle): 1024\n"
     ]
    },
    {
     "name": "stdout",
     "output_type": "stream",
     "text": [
      "error\n",
      "error\n",
      "error\n"
     ]
    },
    {
     "name": "stderr",
     "output_type": "stream",
     "text": [
      "INFO:baseline_int.src.sweep.sweep.Simulator:Simulating Benchmark: DVS128Gesture\n",
      "INFO:baseline_int.src.sweep.sweep.Simulator:N x M = 32 x 256\n",
      "INFO:baseline_int.src.sweep.sweep.Simulator:Max Precision (bits): 8\n",
      "INFO:baseline_int.src.sweep.sweep.Simulator:Min Precision (bits): 8\n",
      "INFO:baseline_int.src.sweep.sweep.Simulator:Batch size: 100\n",
      "INFO:baseline_int.src.sweep.sweep.Simulator:Bandwidth (bits/cycle): 1024\n"
     ]
    },
    {
     "name": "stdout",
     "output_type": "stream",
     "text": [
      "error\n",
      "error\n",
      "error\n",
      "error\n"
     ]
    },
    {
     "name": "stderr",
     "output_type": "stream",
     "text": [
      "INFO:baseline_int.src.sweep.sweep.Simulator:Simulating Benchmark: ImageNetSNN\n",
      "INFO:baseline_int.src.sweep.sweep.Simulator:N x M = 32 x 256\n",
      "INFO:baseline_int.src.sweep.sweep.Simulator:Max Precision (bits): 8\n",
      "INFO:baseline_int.src.sweep.sweep.Simulator:Min Precision (bits): 8\n",
      "INFO:baseline_int.src.sweep.sweep.Simulator:Batch size: 100\n",
      "INFO:baseline_int.src.sweep.sweep.Simulator:Bandwidth (bits/cycle): 1024\n"
     ]
    },
    {
     "name": "stdout",
     "output_type": "stream",
     "text": [
      "error\n",
      "error\n",
      "error\n",
      "error\n",
      "error\n",
      "error\n",
      "error\n"
     ]
    },
    {
     "name": "stderr",
     "output_type": "stream",
     "text": [
      " 96%|█████████▋| 77/80 [1:19:51<02:13, 44.57s/it]"
     ]
    },
    {
     "name": "stdout",
     "output_type": "stream",
     "text": [
      "Got BitFusion Eyeriss, Numbers\n"
     ]
    },
    {
     "name": "stderr",
     "output_type": "stream",
     "text": [
      "INFO:baseline_int.src.sweep.sweep.Simulator:Simulating Benchmark: CIFAR10SNN\n",
      "INFO:baseline_int.src.sweep.sweep.Simulator:N x M = 64 x 256\n",
      "INFO:baseline_int.src.sweep.sweep.Simulator:Max Precision (bits): 8\n",
      "INFO:baseline_int.src.sweep.sweep.Simulator:Min Precision (bits): 8\n",
      "INFO:baseline_int.src.sweep.sweep.Simulator:Batch size: 100\n",
      "INFO:baseline_int.src.sweep.sweep.Simulator:Bandwidth (bits/cycle): 1024\n"
     ]
    },
    {
     "name": "stdout",
     "output_type": "stream",
     "text": [
      "error\n",
      "error\n",
      "error\n"
     ]
    },
    {
     "name": "stderr",
     "output_type": "stream",
     "text": [
      "INFO:baseline_int.src.sweep.sweep.Simulator:Simulating Benchmark: DVS128Gesture\n",
      "INFO:baseline_int.src.sweep.sweep.Simulator:N x M = 64 x 256\n",
      "INFO:baseline_int.src.sweep.sweep.Simulator:Max Precision (bits): 8\n",
      "INFO:baseline_int.src.sweep.sweep.Simulator:Min Precision (bits): 8\n",
      "INFO:baseline_int.src.sweep.sweep.Simulator:Batch size: 100\n",
      "INFO:baseline_int.src.sweep.sweep.Simulator:Bandwidth (bits/cycle): 1024\n"
     ]
    },
    {
     "name": "stdout",
     "output_type": "stream",
     "text": [
      "error\n",
      "error\n",
      "error\n",
      "error\n"
     ]
    },
    {
     "name": "stderr",
     "output_type": "stream",
     "text": [
      "INFO:baseline_int.src.sweep.sweep.Simulator:Simulating Benchmark: ImageNetSNN\n",
      "INFO:baseline_int.src.sweep.sweep.Simulator:N x M = 64 x 256\n",
      "INFO:baseline_int.src.sweep.sweep.Simulator:Max Precision (bits): 8\n",
      "INFO:baseline_int.src.sweep.sweep.Simulator:Min Precision (bits): 8\n",
      "INFO:baseline_int.src.sweep.sweep.Simulator:Batch size: 100\n",
      "INFO:baseline_int.src.sweep.sweep.Simulator:Bandwidth (bits/cycle): 1024\n"
     ]
    },
    {
     "name": "stdout",
     "output_type": "stream",
     "text": [
      "error\n",
      "error\n",
      "error\n",
      "error\n",
      "error\n",
      "error\n",
      "error\n"
     ]
    },
    {
     "name": "stderr",
     "output_type": "stream",
     "text": [
      " 98%|█████████▊| 78/80 [1:20:35<01:28, 44.39s/it]"
     ]
    },
    {
     "name": "stdout",
     "output_type": "stream",
     "text": [
      "Got BitFusion Eyeriss, Numbers\n"
     ]
    },
    {
     "name": "stderr",
     "output_type": "stream",
     "text": [
      "INFO:baseline_int.src.sweep.sweep.Simulator:Simulating Benchmark: CIFAR10SNN\n",
      "INFO:baseline_int.src.sweep.sweep.Simulator:N x M = 128 x 256\n",
      "INFO:baseline_int.src.sweep.sweep.Simulator:Max Precision (bits): 8\n",
      "INFO:baseline_int.src.sweep.sweep.Simulator:Min Precision (bits): 8\n",
      "INFO:baseline_int.src.sweep.sweep.Simulator:Batch size: 100\n",
      "INFO:baseline_int.src.sweep.sweep.Simulator:Bandwidth (bits/cycle): 1024\n"
     ]
    },
    {
     "name": "stdout",
     "output_type": "stream",
     "text": [
      "error\n",
      "error\n",
      "error\n"
     ]
    },
    {
     "name": "stderr",
     "output_type": "stream",
     "text": [
      "INFO:baseline_int.src.sweep.sweep.Simulator:Simulating Benchmark: DVS128Gesture\n",
      "INFO:baseline_int.src.sweep.sweep.Simulator:N x M = 128 x 256\n",
      "INFO:baseline_int.src.sweep.sweep.Simulator:Max Precision (bits): 8\n",
      "INFO:baseline_int.src.sweep.sweep.Simulator:Min Precision (bits): 8\n",
      "INFO:baseline_int.src.sweep.sweep.Simulator:Batch size: 100\n",
      "INFO:baseline_int.src.sweep.sweep.Simulator:Bandwidth (bits/cycle): 1024\n"
     ]
    },
    {
     "name": "stdout",
     "output_type": "stream",
     "text": [
      "error\n",
      "error\n",
      "error\n",
      "error\n"
     ]
    },
    {
     "name": "stderr",
     "output_type": "stream",
     "text": [
      "INFO:baseline_int.src.sweep.sweep.Simulator:Simulating Benchmark: ImageNetSNN\n",
      "INFO:baseline_int.src.sweep.sweep.Simulator:N x M = 128 x 256\n",
      "INFO:baseline_int.src.sweep.sweep.Simulator:Max Precision (bits): 8\n",
      "INFO:baseline_int.src.sweep.sweep.Simulator:Min Precision (bits): 8\n",
      "INFO:baseline_int.src.sweep.sweep.Simulator:Batch size: 100\n",
      "INFO:baseline_int.src.sweep.sweep.Simulator:Bandwidth (bits/cycle): 1024\n"
     ]
    },
    {
     "name": "stdout",
     "output_type": "stream",
     "text": [
      "error\n",
      "error\n",
      "error\n",
      "error\n",
      "error\n",
      "error\n",
      "error\n"
     ]
    },
    {
     "name": "stderr",
     "output_type": "stream",
     "text": [
      " 99%|█████████▉| 79/80 [1:21:17<00:43, 43.85s/it]"
     ]
    },
    {
     "name": "stdout",
     "output_type": "stream",
     "text": [
      "Got BitFusion Eyeriss, Numbers\n"
     ]
    },
    {
     "name": "stderr",
     "output_type": "stream",
     "text": [
      "INFO:baseline_int.src.sweep.sweep.Simulator:Simulating Benchmark: CIFAR10SNN\n",
      "INFO:baseline_int.src.sweep.sweep.Simulator:N x M = 256 x 256\n",
      "INFO:baseline_int.src.sweep.sweep.Simulator:Max Precision (bits): 8\n",
      "INFO:baseline_int.src.sweep.sweep.Simulator:Min Precision (bits): 8\n",
      "INFO:baseline_int.src.sweep.sweep.Simulator:Batch size: 100\n",
      "INFO:baseline_int.src.sweep.sweep.Simulator:Bandwidth (bits/cycle): 1024\n"
     ]
    },
    {
     "name": "stdout",
     "output_type": "stream",
     "text": [
      "error\n",
      "error\n",
      "error\n"
     ]
    },
    {
     "name": "stderr",
     "output_type": "stream",
     "text": [
      "INFO:baseline_int.src.sweep.sweep.Simulator:Simulating Benchmark: DVS128Gesture\n",
      "INFO:baseline_int.src.sweep.sweep.Simulator:N x M = 256 x 256\n",
      "INFO:baseline_int.src.sweep.sweep.Simulator:Max Precision (bits): 8\n",
      "INFO:baseline_int.src.sweep.sweep.Simulator:Min Precision (bits): 8\n",
      "INFO:baseline_int.src.sweep.sweep.Simulator:Batch size: 100\n",
      "INFO:baseline_int.src.sweep.sweep.Simulator:Bandwidth (bits/cycle): 1024\n"
     ]
    },
    {
     "name": "stdout",
     "output_type": "stream",
     "text": [
      "error\n",
      "error\n",
      "error\n",
      "error\n"
     ]
    },
    {
     "name": "stderr",
     "output_type": "stream",
     "text": [
      "INFO:baseline_int.src.sweep.sweep.Simulator:Simulating Benchmark: ImageNetSNN\n",
      "INFO:baseline_int.src.sweep.sweep.Simulator:N x M = 256 x 256\n",
      "INFO:baseline_int.src.sweep.sweep.Simulator:Max Precision (bits): 8\n",
      "INFO:baseline_int.src.sweep.sweep.Simulator:Min Precision (bits): 8\n",
      "INFO:baseline_int.src.sweep.sweep.Simulator:Batch size: 100\n",
      "INFO:baseline_int.src.sweep.sweep.Simulator:Bandwidth (bits/cycle): 1024\n"
     ]
    },
    {
     "name": "stdout",
     "output_type": "stream",
     "text": [
      "error\n",
      "error\n",
      "error\n",
      "error\n",
      "error\n",
      "error\n",
      "error\n",
      "error\n",
      "error\n",
      "error\n",
      "error\n",
      "error\n",
      "error\n",
      "error\n"
     ]
    },
    {
     "name": "stderr",
     "output_type": "stream",
     "text": [
      "100%|██████████| 80/80 [1:21:59<00:00, 61.50s/it]"
     ]
    },
    {
     "name": "stdout",
     "output_type": "stream",
     "text": [
      "error\n"
     ]
    },
    {
     "name": "stderr",
     "output_type": "stream",
     "text": [
      "\n"
     ]
    }
   ],
   "source": [
    "sim_result = sim(TW, col_row_combine[0][1], col_row_combine[0][0])\n",
    "for combine in tqdm.tqdm(col_row_combine[1:]):\n",
    "    PE_column_number = combine[0]\n",
    "    PE_row_number = combine[1]\n",
    "    per_combine_sim_result = sim(TW, PE_row_number, PE_column_number)\n",
    "    sim_result = pd.concat([sim_result, per_combine_sim_result], axis=0)\n",
    "sim_result.to_csv('baseline_test.csv', index=False)"
   ]
  },
  {
   "cell_type": "code",
   "execution_count": 8,
   "metadata": {},
   "outputs": [
    {
     "name": "stdout",
     "output_type": "stream",
     "text": [
      "Got BitFusion Eyeriss, Numbers\n"
     ]
    },
    {
     "name": "stderr",
     "output_type": "stream",
     "text": [
      "INFO:baseline_int.src.sweep.sweep.Simulator:Simulating Benchmark: CIFAR10SNN\n",
      "INFO:baseline_int.src.sweep.sweep.Simulator:N x M = 1 x 1\n",
      "INFO:baseline_int.src.sweep.sweep.Simulator:Max Precision (bits): 8\n",
      "INFO:baseline_int.src.sweep.sweep.Simulator:Min Precision (bits): 8\n",
      "INFO:baseline_int.src.sweep.sweep.Simulator:Batch size: 100\n",
      "INFO:baseline_int.src.sweep.sweep.Simulator:Bandwidth (bits/cycle): 1024\n",
      "INFO:baseline_int.src.sweep.sweep.Simulator:Simulating Benchmark: DVS128Gesture\n",
      "INFO:baseline_int.src.sweep.sweep.Simulator:N x M = 1 x 1\n",
      "INFO:baseline_int.src.sweep.sweep.Simulator:Max Precision (bits): 8\n",
      "INFO:baseline_int.src.sweep.sweep.Simulator:Min Precision (bits): 8\n",
      "INFO:baseline_int.src.sweep.sweep.Simulator:Batch size: 100\n",
      "INFO:baseline_int.src.sweep.sweep.Simulator:Bandwidth (bits/cycle): 1024\n",
      "INFO:baseline_int.src.sweep.sweep.Simulator:Simulating Benchmark: ImageNetSNN\n",
      "INFO:baseline_int.src.sweep.sweep.Simulator:N x M = 1 x 1\n",
      "INFO:baseline_int.src.sweep.sweep.Simulator:Max Precision (bits): 8\n",
      "INFO:baseline_int.src.sweep.sweep.Simulator:Min Precision (bits): 8\n",
      "INFO:baseline_int.src.sweep.sweep.Simulator:Batch size: 100\n",
      "INFO:baseline_int.src.sweep.sweep.Simulator:Bandwidth (bits/cycle): 1024\n",
      "  0%|          | 0/80 [00:00<?, ?it/s]"
     ]
    },
    {
     "name": "stdout",
     "output_type": "stream",
     "text": [
      "Got BitFusion Eyeriss, Numbers\n"
     ]
    },
    {
     "name": "stderr",
     "output_type": "stream",
     "text": [
      "INFO:baseline_int.src.sweep.sweep.Simulator:Simulating Benchmark: CIFAR10SNN\n",
      "INFO:baseline_int.src.sweep.sweep.Simulator:N x M = 2 x 1\n",
      "INFO:baseline_int.src.sweep.sweep.Simulator:Max Precision (bits): 8\n",
      "INFO:baseline_int.src.sweep.sweep.Simulator:Min Precision (bits): 8\n",
      "INFO:baseline_int.src.sweep.sweep.Simulator:Batch size: 100\n",
      "INFO:baseline_int.src.sweep.sweep.Simulator:Bandwidth (bits/cycle): 1024\n",
      "INFO:baseline_int.src.sweep.sweep.Simulator:Simulating Benchmark: DVS128Gesture\n",
      "INFO:baseline_int.src.sweep.sweep.Simulator:N x M = 2 x 1\n",
      "INFO:baseline_int.src.sweep.sweep.Simulator:Max Precision (bits): 8\n",
      "INFO:baseline_int.src.sweep.sweep.Simulator:Min Precision (bits): 8\n",
      "INFO:baseline_int.src.sweep.sweep.Simulator:Batch size: 100\n",
      "INFO:baseline_int.src.sweep.sweep.Simulator:Bandwidth (bits/cycle): 1024\n",
      "INFO:baseline_int.src.sweep.sweep.Simulator:Simulating Benchmark: ImageNetSNN\n",
      "INFO:baseline_int.src.sweep.sweep.Simulator:N x M = 2 x 1\n",
      "INFO:baseline_int.src.sweep.sweep.Simulator:Max Precision (bits): 8\n",
      "INFO:baseline_int.src.sweep.sweep.Simulator:Min Precision (bits): 8\n",
      "INFO:baseline_int.src.sweep.sweep.Simulator:Batch size: 100\n",
      "INFO:baseline_int.src.sweep.sweep.Simulator:Bandwidth (bits/cycle): 1024\n",
      "  1%|▏         | 1/80 [01:21<1:47:37, 81.75s/it]"
     ]
    },
    {
     "name": "stdout",
     "output_type": "stream",
     "text": [
      "Got BitFusion Eyeriss, Numbers\n"
     ]
    },
    {
     "name": "stderr",
     "output_type": "stream",
     "text": [
      "INFO:baseline_int.src.sweep.sweep.Simulator:Simulating Benchmark: CIFAR10SNN\n",
      "INFO:baseline_int.src.sweep.sweep.Simulator:N x M = 4 x 1\n",
      "INFO:baseline_int.src.sweep.sweep.Simulator:Max Precision (bits): 8\n",
      "INFO:baseline_int.src.sweep.sweep.Simulator:Min Precision (bits): 8\n",
      "INFO:baseline_int.src.sweep.sweep.Simulator:Batch size: 100\n",
      "INFO:baseline_int.src.sweep.sweep.Simulator:Bandwidth (bits/cycle): 1024\n",
      "INFO:baseline_int.src.sweep.sweep.Simulator:Simulating Benchmark: DVS128Gesture\n",
      "INFO:baseline_int.src.sweep.sweep.Simulator:N x M = 4 x 1\n",
      "INFO:baseline_int.src.sweep.sweep.Simulator:Max Precision (bits): 8\n",
      "INFO:baseline_int.src.sweep.sweep.Simulator:Min Precision (bits): 8\n",
      "INFO:baseline_int.src.sweep.sweep.Simulator:Batch size: 100\n",
      "INFO:baseline_int.src.sweep.sweep.Simulator:Bandwidth (bits/cycle): 1024\n",
      "INFO:baseline_int.src.sweep.sweep.Simulator:Simulating Benchmark: ImageNetSNN\n",
      "INFO:baseline_int.src.sweep.sweep.Simulator:N x M = 4 x 1\n",
      "INFO:baseline_int.src.sweep.sweep.Simulator:Max Precision (bits): 8\n",
      "INFO:baseline_int.src.sweep.sweep.Simulator:Min Precision (bits): 8\n",
      "INFO:baseline_int.src.sweep.sweep.Simulator:Batch size: 100\n",
      "INFO:baseline_int.src.sweep.sweep.Simulator:Bandwidth (bits/cycle): 1024\n",
      "  2%|▎         | 2/80 [02:43<1:46:15, 81.74s/it]"
     ]
    },
    {
     "name": "stdout",
     "output_type": "stream",
     "text": [
      "Got BitFusion Eyeriss, Numbers\n"
     ]
    },
    {
     "name": "stderr",
     "output_type": "stream",
     "text": [
      "INFO:baseline_int.src.sweep.sweep.Simulator:Simulating Benchmark: CIFAR10SNN\n",
      "INFO:baseline_int.src.sweep.sweep.Simulator:N x M = 8 x 1\n",
      "INFO:baseline_int.src.sweep.sweep.Simulator:Max Precision (bits): 8\n",
      "INFO:baseline_int.src.sweep.sweep.Simulator:Min Precision (bits): 8\n",
      "INFO:baseline_int.src.sweep.sweep.Simulator:Batch size: 100\n",
      "INFO:baseline_int.src.sweep.sweep.Simulator:Bandwidth (bits/cycle): 1024\n",
      "INFO:baseline_int.src.sweep.sweep.Simulator:Simulating Benchmark: DVS128Gesture\n",
      "INFO:baseline_int.src.sweep.sweep.Simulator:N x M = 8 x 1\n",
      "INFO:baseline_int.src.sweep.sweep.Simulator:Max Precision (bits): 8\n",
      "INFO:baseline_int.src.sweep.sweep.Simulator:Min Precision (bits): 8\n",
      "INFO:baseline_int.src.sweep.sweep.Simulator:Batch size: 100\n",
      "INFO:baseline_int.src.sweep.sweep.Simulator:Bandwidth (bits/cycle): 1024\n",
      "INFO:baseline_int.src.sweep.sweep.Simulator:Simulating Benchmark: ImageNetSNN\n",
      "INFO:baseline_int.src.sweep.sweep.Simulator:N x M = 8 x 1\n",
      "INFO:baseline_int.src.sweep.sweep.Simulator:Max Precision (bits): 8\n",
      "INFO:baseline_int.src.sweep.sweep.Simulator:Min Precision (bits): 8\n",
      "INFO:baseline_int.src.sweep.sweep.Simulator:Batch size: 100\n",
      "INFO:baseline_int.src.sweep.sweep.Simulator:Bandwidth (bits/cycle): 1024\n",
      "  4%|▍         | 3/80 [04:05<1:44:53, 81.73s/it]"
     ]
    },
    {
     "name": "stdout",
     "output_type": "stream",
     "text": [
      "Got BitFusion Eyeriss, Numbers\n"
     ]
    },
    {
     "name": "stderr",
     "output_type": "stream",
     "text": [
      "INFO:baseline_int.src.sweep.sweep.Simulator:Simulating Benchmark: CIFAR10SNN\n",
      "INFO:baseline_int.src.sweep.sweep.Simulator:N x M = 16 x 1\n",
      "INFO:baseline_int.src.sweep.sweep.Simulator:Max Precision (bits): 8\n",
      "INFO:baseline_int.src.sweep.sweep.Simulator:Min Precision (bits): 8\n",
      "INFO:baseline_int.src.sweep.sweep.Simulator:Batch size: 100\n",
      "INFO:baseline_int.src.sweep.sweep.Simulator:Bandwidth (bits/cycle): 1024\n",
      "INFO:baseline_int.src.sweep.sweep.Simulator:Simulating Benchmark: DVS128Gesture\n",
      "INFO:baseline_int.src.sweep.sweep.Simulator:N x M = 16 x 1\n",
      "INFO:baseline_int.src.sweep.sweep.Simulator:Max Precision (bits): 8\n",
      "INFO:baseline_int.src.sweep.sweep.Simulator:Min Precision (bits): 8\n",
      "INFO:baseline_int.src.sweep.sweep.Simulator:Batch size: 100\n",
      "INFO:baseline_int.src.sweep.sweep.Simulator:Bandwidth (bits/cycle): 1024\n",
      "INFO:baseline_int.src.sweep.sweep.Simulator:Simulating Benchmark: ImageNetSNN\n",
      "INFO:baseline_int.src.sweep.sweep.Simulator:N x M = 16 x 1\n",
      "INFO:baseline_int.src.sweep.sweep.Simulator:Max Precision (bits): 8\n",
      "INFO:baseline_int.src.sweep.sweep.Simulator:Min Precision (bits): 8\n",
      "INFO:baseline_int.src.sweep.sweep.Simulator:Batch size: 100\n",
      "INFO:baseline_int.src.sweep.sweep.Simulator:Bandwidth (bits/cycle): 1024\n",
      "  5%|▌         | 4/80 [05:27<1:43:33, 81.76s/it]"
     ]
    },
    {
     "name": "stdout",
     "output_type": "stream",
     "text": [
      "Got BitFusion Eyeriss, Numbers\n"
     ]
    },
    {
     "name": "stderr",
     "output_type": "stream",
     "text": [
      "INFO:baseline_int.src.sweep.sweep.Simulator:Simulating Benchmark: CIFAR10SNN\n",
      "INFO:baseline_int.src.sweep.sweep.Simulator:N x M = 32 x 1\n",
      "INFO:baseline_int.src.sweep.sweep.Simulator:Max Precision (bits): 8\n",
      "INFO:baseline_int.src.sweep.sweep.Simulator:Min Precision (bits): 8\n",
      "INFO:baseline_int.src.sweep.sweep.Simulator:Batch size: 100\n",
      "INFO:baseline_int.src.sweep.sweep.Simulator:Bandwidth (bits/cycle): 1024\n",
      "INFO:baseline_int.src.sweep.sweep.Simulator:Simulating Benchmark: DVS128Gesture\n",
      "INFO:baseline_int.src.sweep.sweep.Simulator:N x M = 32 x 1\n",
      "INFO:baseline_int.src.sweep.sweep.Simulator:Max Precision (bits): 8\n",
      "INFO:baseline_int.src.sweep.sweep.Simulator:Min Precision (bits): 8\n",
      "INFO:baseline_int.src.sweep.sweep.Simulator:Batch size: 100\n",
      "INFO:baseline_int.src.sweep.sweep.Simulator:Bandwidth (bits/cycle): 1024\n",
      "INFO:baseline_int.src.sweep.sweep.Simulator:Simulating Benchmark: ImageNetSNN\n",
      "INFO:baseline_int.src.sweep.sweep.Simulator:N x M = 32 x 1\n",
      "INFO:baseline_int.src.sweep.sweep.Simulator:Max Precision (bits): 8\n",
      "INFO:baseline_int.src.sweep.sweep.Simulator:Min Precision (bits): 8\n",
      "INFO:baseline_int.src.sweep.sweep.Simulator:Batch size: 100\n",
      "INFO:baseline_int.src.sweep.sweep.Simulator:Bandwidth (bits/cycle): 1024\n",
      "  6%|▋         | 5/80 [06:48<1:42:14, 81.79s/it]"
     ]
    },
    {
     "name": "stdout",
     "output_type": "stream",
     "text": [
      "Got BitFusion Eyeriss, Numbers\n"
     ]
    },
    {
     "name": "stderr",
     "output_type": "stream",
     "text": [
      "INFO:baseline_int.src.sweep.sweep.Simulator:Simulating Benchmark: CIFAR10SNN\n",
      "INFO:baseline_int.src.sweep.sweep.Simulator:N x M = 64 x 1\n",
      "INFO:baseline_int.src.sweep.sweep.Simulator:Max Precision (bits): 8\n",
      "INFO:baseline_int.src.sweep.sweep.Simulator:Min Precision (bits): 8\n",
      "INFO:baseline_int.src.sweep.sweep.Simulator:Batch size: 100\n",
      "INFO:baseline_int.src.sweep.sweep.Simulator:Bandwidth (bits/cycle): 1024\n",
      "INFO:baseline_int.src.sweep.sweep.Simulator:Simulating Benchmark: DVS128Gesture\n",
      "INFO:baseline_int.src.sweep.sweep.Simulator:N x M = 64 x 1\n",
      "INFO:baseline_int.src.sweep.sweep.Simulator:Max Precision (bits): 8\n",
      "INFO:baseline_int.src.sweep.sweep.Simulator:Min Precision (bits): 8\n",
      "INFO:baseline_int.src.sweep.sweep.Simulator:Batch size: 100\n",
      "INFO:baseline_int.src.sweep.sweep.Simulator:Bandwidth (bits/cycle): 1024\n",
      "INFO:baseline_int.src.sweep.sweep.Simulator:Simulating Benchmark: ImageNetSNN\n",
      "INFO:baseline_int.src.sweep.sweep.Simulator:N x M = 64 x 1\n",
      "INFO:baseline_int.src.sweep.sweep.Simulator:Max Precision (bits): 8\n",
      "INFO:baseline_int.src.sweep.sweep.Simulator:Min Precision (bits): 8\n",
      "INFO:baseline_int.src.sweep.sweep.Simulator:Batch size: 100\n",
      "INFO:baseline_int.src.sweep.sweep.Simulator:Bandwidth (bits/cycle): 1024\n",
      "  8%|▊         | 6/80 [08:10<1:40:52, 81.79s/it]"
     ]
    },
    {
     "name": "stdout",
     "output_type": "stream",
     "text": [
      "Got BitFusion Eyeriss, Numbers\n"
     ]
    },
    {
     "name": "stderr",
     "output_type": "stream",
     "text": [
      "INFO:baseline_int.src.sweep.sweep.Simulator:Simulating Benchmark: CIFAR10SNN\n",
      "INFO:baseline_int.src.sweep.sweep.Simulator:N x M = 128 x 1\n",
      "INFO:baseline_int.src.sweep.sweep.Simulator:Max Precision (bits): 8\n",
      "INFO:baseline_int.src.sweep.sweep.Simulator:Min Precision (bits): 8\n",
      "INFO:baseline_int.src.sweep.sweep.Simulator:Batch size: 100\n",
      "INFO:baseline_int.src.sweep.sweep.Simulator:Bandwidth (bits/cycle): 1024\n",
      "INFO:baseline_int.src.sweep.sweep.Simulator:Simulating Benchmark: DVS128Gesture\n",
      "INFO:baseline_int.src.sweep.sweep.Simulator:N x M = 128 x 1\n",
      "INFO:baseline_int.src.sweep.sweep.Simulator:Max Precision (bits): 8\n",
      "INFO:baseline_int.src.sweep.sweep.Simulator:Min Precision (bits): 8\n",
      "INFO:baseline_int.src.sweep.sweep.Simulator:Batch size: 100\n",
      "INFO:baseline_int.src.sweep.sweep.Simulator:Bandwidth (bits/cycle): 1024\n",
      "INFO:baseline_int.src.sweep.sweep.Simulator:Simulating Benchmark: ImageNetSNN\n",
      "INFO:baseline_int.src.sweep.sweep.Simulator:N x M = 128 x 1\n",
      "INFO:baseline_int.src.sweep.sweep.Simulator:Max Precision (bits): 8\n",
      "INFO:baseline_int.src.sweep.sweep.Simulator:Min Precision (bits): 8\n",
      "INFO:baseline_int.src.sweep.sweep.Simulator:Batch size: 100\n",
      "INFO:baseline_int.src.sweep.sweep.Simulator:Bandwidth (bits/cycle): 1024\n",
      "  9%|▉         | 7/80 [09:32<1:39:31, 81.80s/it]"
     ]
    },
    {
     "name": "stdout",
     "output_type": "stream",
     "text": [
      "Got BitFusion Eyeriss, Numbers\n"
     ]
    },
    {
     "name": "stderr",
     "output_type": "stream",
     "text": [
      "INFO:baseline_int.src.sweep.sweep.Simulator:Simulating Benchmark: CIFAR10SNN\n",
      "INFO:baseline_int.src.sweep.sweep.Simulator:N x M = 256 x 1\n",
      "INFO:baseline_int.src.sweep.sweep.Simulator:Max Precision (bits): 8\n",
      "INFO:baseline_int.src.sweep.sweep.Simulator:Min Precision (bits): 8\n",
      "INFO:baseline_int.src.sweep.sweep.Simulator:Batch size: 100\n",
      "INFO:baseline_int.src.sweep.sweep.Simulator:Bandwidth (bits/cycle): 1024\n",
      "INFO:baseline_int.src.sweep.sweep.Simulator:Simulating Benchmark: DVS128Gesture\n",
      "INFO:baseline_int.src.sweep.sweep.Simulator:N x M = 256 x 1\n",
      "INFO:baseline_int.src.sweep.sweep.Simulator:Max Precision (bits): 8\n",
      "INFO:baseline_int.src.sweep.sweep.Simulator:Min Precision (bits): 8\n",
      "INFO:baseline_int.src.sweep.sweep.Simulator:Batch size: 100\n",
      "INFO:baseline_int.src.sweep.sweep.Simulator:Bandwidth (bits/cycle): 1024\n",
      "INFO:baseline_int.src.sweep.sweep.Simulator:Simulating Benchmark: ImageNetSNN\n",
      "INFO:baseline_int.src.sweep.sweep.Simulator:N x M = 256 x 1\n",
      "INFO:baseline_int.src.sweep.sweep.Simulator:Max Precision (bits): 8\n",
      "INFO:baseline_int.src.sweep.sweep.Simulator:Min Precision (bits): 8\n",
      "INFO:baseline_int.src.sweep.sweep.Simulator:Batch size: 100\n",
      "INFO:baseline_int.src.sweep.sweep.Simulator:Bandwidth (bits/cycle): 1024\n",
      " 10%|█         | 8/80 [10:54<1:38:09, 81.80s/it]"
     ]
    },
    {
     "name": "stdout",
     "output_type": "stream",
     "text": [
      "Got BitFusion Eyeriss, Numbers\n"
     ]
    },
    {
     "name": "stderr",
     "output_type": "stream",
     "text": [
      "INFO:baseline_int.src.sweep.sweep.Simulator:Simulating Benchmark: CIFAR10SNN\n",
      "INFO:baseline_int.src.sweep.sweep.Simulator:N x M = 1 x 2\n",
      "INFO:baseline_int.src.sweep.sweep.Simulator:Max Precision (bits): 8\n",
      "INFO:baseline_int.src.sweep.sweep.Simulator:Min Precision (bits): 8\n",
      "INFO:baseline_int.src.sweep.sweep.Simulator:Batch size: 100\n",
      "INFO:baseline_int.src.sweep.sweep.Simulator:Bandwidth (bits/cycle): 1024\n",
      "INFO:baseline_int.src.sweep.sweep.Simulator:Simulating Benchmark: DVS128Gesture\n",
      "INFO:baseline_int.src.sweep.sweep.Simulator:N x M = 1 x 2\n",
      "INFO:baseline_int.src.sweep.sweep.Simulator:Max Precision (bits): 8\n",
      "INFO:baseline_int.src.sweep.sweep.Simulator:Min Precision (bits): 8\n",
      "INFO:baseline_int.src.sweep.sweep.Simulator:Batch size: 100\n",
      "INFO:baseline_int.src.sweep.sweep.Simulator:Bandwidth (bits/cycle): 1024\n",
      "INFO:baseline_int.src.sweep.sweep.Simulator:Simulating Benchmark: ImageNetSNN\n",
      "INFO:baseline_int.src.sweep.sweep.Simulator:N x M = 1 x 2\n",
      "INFO:baseline_int.src.sweep.sweep.Simulator:Max Precision (bits): 8\n",
      "INFO:baseline_int.src.sweep.sweep.Simulator:Min Precision (bits): 8\n",
      "INFO:baseline_int.src.sweep.sweep.Simulator:Batch size: 100\n",
      "INFO:baseline_int.src.sweep.sweep.Simulator:Bandwidth (bits/cycle): 1024\n",
      " 11%|█▏        | 9/80 [12:10<1:34:42, 80.03s/it]"
     ]
    },
    {
     "name": "stdout",
     "output_type": "stream",
     "text": [
      "Got BitFusion Eyeriss, Numbers\n"
     ]
    },
    {
     "name": "stderr",
     "output_type": "stream",
     "text": [
      "INFO:baseline_int.src.sweep.sweep.Simulator:Simulating Benchmark: CIFAR10SNN\n",
      "INFO:baseline_int.src.sweep.sweep.Simulator:N x M = 2 x 2\n",
      "INFO:baseline_int.src.sweep.sweep.Simulator:Max Precision (bits): 8\n",
      "INFO:baseline_int.src.sweep.sweep.Simulator:Min Precision (bits): 8\n",
      "INFO:baseline_int.src.sweep.sweep.Simulator:Batch size: 100\n",
      "INFO:baseline_int.src.sweep.sweep.Simulator:Bandwidth (bits/cycle): 1024\n",
      "INFO:baseline_int.src.sweep.sweep.Simulator:Simulating Benchmark: DVS128Gesture\n",
      "INFO:baseline_int.src.sweep.sweep.Simulator:N x M = 2 x 2\n",
      "INFO:baseline_int.src.sweep.sweep.Simulator:Max Precision (bits): 8\n",
      "INFO:baseline_int.src.sweep.sweep.Simulator:Min Precision (bits): 8\n",
      "INFO:baseline_int.src.sweep.sweep.Simulator:Batch size: 100\n",
      "INFO:baseline_int.src.sweep.sweep.Simulator:Bandwidth (bits/cycle): 1024\n",
      "INFO:baseline_int.src.sweep.sweep.Simulator:Simulating Benchmark: ImageNetSNN\n",
      "INFO:baseline_int.src.sweep.sweep.Simulator:N x M = 2 x 2\n",
      "INFO:baseline_int.src.sweep.sweep.Simulator:Max Precision (bits): 8\n",
      "INFO:baseline_int.src.sweep.sweep.Simulator:Min Precision (bits): 8\n",
      "INFO:baseline_int.src.sweep.sweep.Simulator:Batch size: 100\n",
      "INFO:baseline_int.src.sweep.sweep.Simulator:Bandwidth (bits/cycle): 1024\n",
      " 12%|█▎        | 10/80 [13:26<1:31:56, 78.81s/it]"
     ]
    },
    {
     "name": "stdout",
     "output_type": "stream",
     "text": [
      "Got BitFusion Eyeriss, Numbers\n"
     ]
    },
    {
     "name": "stderr",
     "output_type": "stream",
     "text": [
      "INFO:baseline_int.src.sweep.sweep.Simulator:Simulating Benchmark: CIFAR10SNN\n",
      "INFO:baseline_int.src.sweep.sweep.Simulator:N x M = 4 x 2\n",
      "INFO:baseline_int.src.sweep.sweep.Simulator:Max Precision (bits): 8\n",
      "INFO:baseline_int.src.sweep.sweep.Simulator:Min Precision (bits): 8\n",
      "INFO:baseline_int.src.sweep.sweep.Simulator:Batch size: 100\n",
      "INFO:baseline_int.src.sweep.sweep.Simulator:Bandwidth (bits/cycle): 1024\n",
      "INFO:baseline_int.src.sweep.sweep.Simulator:Simulating Benchmark: DVS128Gesture\n",
      "INFO:baseline_int.src.sweep.sweep.Simulator:N x M = 4 x 2\n",
      "INFO:baseline_int.src.sweep.sweep.Simulator:Max Precision (bits): 8\n",
      "INFO:baseline_int.src.sweep.sweep.Simulator:Min Precision (bits): 8\n",
      "INFO:baseline_int.src.sweep.sweep.Simulator:Batch size: 100\n",
      "INFO:baseline_int.src.sweep.sweep.Simulator:Bandwidth (bits/cycle): 1024\n",
      "INFO:baseline_int.src.sweep.sweep.Simulator:Simulating Benchmark: ImageNetSNN\n",
      "INFO:baseline_int.src.sweep.sweep.Simulator:N x M = 4 x 2\n",
      "INFO:baseline_int.src.sweep.sweep.Simulator:Max Precision (bits): 8\n",
      "INFO:baseline_int.src.sweep.sweep.Simulator:Min Precision (bits): 8\n",
      "INFO:baseline_int.src.sweep.sweep.Simulator:Batch size: 100\n",
      "INFO:baseline_int.src.sweep.sweep.Simulator:Bandwidth (bits/cycle): 1024\n",
      " 14%|█▍        | 11/80 [14:42<1:29:38, 77.95s/it]"
     ]
    },
    {
     "name": "stdout",
     "output_type": "stream",
     "text": [
      "Got BitFusion Eyeriss, Numbers\n"
     ]
    },
    {
     "name": "stderr",
     "output_type": "stream",
     "text": [
      "INFO:baseline_int.src.sweep.sweep.Simulator:Simulating Benchmark: CIFAR10SNN\n",
      "INFO:baseline_int.src.sweep.sweep.Simulator:N x M = 8 x 2\n",
      "INFO:baseline_int.src.sweep.sweep.Simulator:Max Precision (bits): 8\n",
      "INFO:baseline_int.src.sweep.sweep.Simulator:Min Precision (bits): 8\n",
      "INFO:baseline_int.src.sweep.sweep.Simulator:Batch size: 100\n",
      "INFO:baseline_int.src.sweep.sweep.Simulator:Bandwidth (bits/cycle): 1024\n",
      "INFO:baseline_int.src.sweep.sweep.Simulator:Simulating Benchmark: DVS128Gesture\n",
      "INFO:baseline_int.src.sweep.sweep.Simulator:N x M = 8 x 2\n",
      "INFO:baseline_int.src.sweep.sweep.Simulator:Max Precision (bits): 8\n",
      "INFO:baseline_int.src.sweep.sweep.Simulator:Min Precision (bits): 8\n",
      "INFO:baseline_int.src.sweep.sweep.Simulator:Batch size: 100\n",
      "INFO:baseline_int.src.sweep.sweep.Simulator:Bandwidth (bits/cycle): 1024\n",
      "INFO:baseline_int.src.sweep.sweep.Simulator:Simulating Benchmark: ImageNetSNN\n",
      "INFO:baseline_int.src.sweep.sweep.Simulator:N x M = 8 x 2\n",
      "INFO:baseline_int.src.sweep.sweep.Simulator:Max Precision (bits): 8\n",
      "INFO:baseline_int.src.sweep.sweep.Simulator:Min Precision (bits): 8\n",
      "INFO:baseline_int.src.sweep.sweep.Simulator:Batch size: 100\n",
      "INFO:baseline_int.src.sweep.sweep.Simulator:Bandwidth (bits/cycle): 1024\n",
      " 15%|█▌        | 12/80 [15:58<1:27:39, 77.34s/it]"
     ]
    },
    {
     "name": "stdout",
     "output_type": "stream",
     "text": [
      "Got BitFusion Eyeriss, Numbers\n"
     ]
    },
    {
     "name": "stderr",
     "output_type": "stream",
     "text": [
      "INFO:baseline_int.src.sweep.sweep.Simulator:Simulating Benchmark: CIFAR10SNN\n",
      "INFO:baseline_int.src.sweep.sweep.Simulator:N x M = 16 x 2\n",
      "INFO:baseline_int.src.sweep.sweep.Simulator:Max Precision (bits): 8\n",
      "INFO:baseline_int.src.sweep.sweep.Simulator:Min Precision (bits): 8\n",
      "INFO:baseline_int.src.sweep.sweep.Simulator:Batch size: 100\n",
      "INFO:baseline_int.src.sweep.sweep.Simulator:Bandwidth (bits/cycle): 1024\n",
      "INFO:baseline_int.src.sweep.sweep.Simulator:Simulating Benchmark: DVS128Gesture\n",
      "INFO:baseline_int.src.sweep.sweep.Simulator:N x M = 16 x 2\n",
      "INFO:baseline_int.src.sweep.sweep.Simulator:Max Precision (bits): 8\n",
      "INFO:baseline_int.src.sweep.sweep.Simulator:Min Precision (bits): 8\n",
      "INFO:baseline_int.src.sweep.sweep.Simulator:Batch size: 100\n",
      "INFO:baseline_int.src.sweep.sweep.Simulator:Bandwidth (bits/cycle): 1024\n",
      "INFO:baseline_int.src.sweep.sweep.Simulator:Simulating Benchmark: ImageNetSNN\n",
      "INFO:baseline_int.src.sweep.sweep.Simulator:N x M = 16 x 2\n",
      "INFO:baseline_int.src.sweep.sweep.Simulator:Max Precision (bits): 8\n",
      "INFO:baseline_int.src.sweep.sweep.Simulator:Min Precision (bits): 8\n",
      "INFO:baseline_int.src.sweep.sweep.Simulator:Batch size: 100\n",
      "INFO:baseline_int.src.sweep.sweep.Simulator:Bandwidth (bits/cycle): 1024\n",
      " 16%|█▋        | 13/80 [17:14<1:26:01, 77.03s/it]"
     ]
    },
    {
     "name": "stdout",
     "output_type": "stream",
     "text": [
      "Got BitFusion Eyeriss, Numbers\n"
     ]
    },
    {
     "name": "stderr",
     "output_type": "stream",
     "text": [
      "INFO:baseline_int.src.sweep.sweep.Simulator:Simulating Benchmark: CIFAR10SNN\n",
      "INFO:baseline_int.src.sweep.sweep.Simulator:N x M = 32 x 2\n",
      "INFO:baseline_int.src.sweep.sweep.Simulator:Max Precision (bits): 8\n",
      "INFO:baseline_int.src.sweep.sweep.Simulator:Min Precision (bits): 8\n",
      "INFO:baseline_int.src.sweep.sweep.Simulator:Batch size: 100\n",
      "INFO:baseline_int.src.sweep.sweep.Simulator:Bandwidth (bits/cycle): 1024\n",
      "INFO:baseline_int.src.sweep.sweep.Simulator:Simulating Benchmark: DVS128Gesture\n",
      "INFO:baseline_int.src.sweep.sweep.Simulator:N x M = 32 x 2\n",
      "INFO:baseline_int.src.sweep.sweep.Simulator:Max Precision (bits): 8\n",
      "INFO:baseline_int.src.sweep.sweep.Simulator:Min Precision (bits): 8\n",
      "INFO:baseline_int.src.sweep.sweep.Simulator:Batch size: 100\n",
      "INFO:baseline_int.src.sweep.sweep.Simulator:Bandwidth (bits/cycle): 1024\n",
      "INFO:baseline_int.src.sweep.sweep.Simulator:Simulating Benchmark: ImageNetSNN\n",
      "INFO:baseline_int.src.sweep.sweep.Simulator:N x M = 32 x 2\n",
      "INFO:baseline_int.src.sweep.sweep.Simulator:Max Precision (bits): 8\n",
      "INFO:baseline_int.src.sweep.sweep.Simulator:Min Precision (bits): 8\n",
      "INFO:baseline_int.src.sweep.sweep.Simulator:Batch size: 100\n",
      "INFO:baseline_int.src.sweep.sweep.Simulator:Bandwidth (bits/cycle): 1024\n",
      " 18%|█▊        | 14/80 [18:31<1:24:36, 76.92s/it]"
     ]
    },
    {
     "name": "stdout",
     "output_type": "stream",
     "text": [
      "Got BitFusion Eyeriss, Numbers\n"
     ]
    },
    {
     "name": "stderr",
     "output_type": "stream",
     "text": [
      "INFO:baseline_int.src.sweep.sweep.Simulator:Simulating Benchmark: CIFAR10SNN\n",
      "INFO:baseline_int.src.sweep.sweep.Simulator:N x M = 64 x 2\n",
      "INFO:baseline_int.src.sweep.sweep.Simulator:Max Precision (bits): 8\n",
      "INFO:baseline_int.src.sweep.sweep.Simulator:Min Precision (bits): 8\n",
      "INFO:baseline_int.src.sweep.sweep.Simulator:Batch size: 100\n",
      "INFO:baseline_int.src.sweep.sweep.Simulator:Bandwidth (bits/cycle): 1024\n",
      "INFO:baseline_int.src.sweep.sweep.Simulator:Simulating Benchmark: DVS128Gesture\n",
      "INFO:baseline_int.src.sweep.sweep.Simulator:N x M = 64 x 2\n",
      "INFO:baseline_int.src.sweep.sweep.Simulator:Max Precision (bits): 8\n",
      "INFO:baseline_int.src.sweep.sweep.Simulator:Min Precision (bits): 8\n",
      "INFO:baseline_int.src.sweep.sweep.Simulator:Batch size: 100\n",
      "INFO:baseline_int.src.sweep.sweep.Simulator:Bandwidth (bits/cycle): 1024\n",
      "INFO:baseline_int.src.sweep.sweep.Simulator:Simulating Benchmark: ImageNetSNN\n",
      "INFO:baseline_int.src.sweep.sweep.Simulator:N x M = 64 x 2\n",
      "INFO:baseline_int.src.sweep.sweep.Simulator:Max Precision (bits): 8\n",
      "INFO:baseline_int.src.sweep.sweep.Simulator:Min Precision (bits): 8\n",
      "INFO:baseline_int.src.sweep.sweep.Simulator:Batch size: 100\n",
      "INFO:baseline_int.src.sweep.sweep.Simulator:Bandwidth (bits/cycle): 1024\n",
      " 19%|█▉        | 15/80 [19:48<1:23:18, 76.90s/it]"
     ]
    },
    {
     "name": "stdout",
     "output_type": "stream",
     "text": [
      "Got BitFusion Eyeriss, Numbers\n"
     ]
    },
    {
     "name": "stderr",
     "output_type": "stream",
     "text": [
      "INFO:baseline_int.src.sweep.sweep.Simulator:Simulating Benchmark: CIFAR10SNN\n",
      "INFO:baseline_int.src.sweep.sweep.Simulator:N x M = 128 x 2\n",
      "INFO:baseline_int.src.sweep.sweep.Simulator:Max Precision (bits): 8\n",
      "INFO:baseline_int.src.sweep.sweep.Simulator:Min Precision (bits): 8\n",
      "INFO:baseline_int.src.sweep.sweep.Simulator:Batch size: 100\n",
      "INFO:baseline_int.src.sweep.sweep.Simulator:Bandwidth (bits/cycle): 1024\n",
      "INFO:baseline_int.src.sweep.sweep.Simulator:Simulating Benchmark: DVS128Gesture\n",
      "INFO:baseline_int.src.sweep.sweep.Simulator:N x M = 128 x 2\n",
      "INFO:baseline_int.src.sweep.sweep.Simulator:Max Precision (bits): 8\n",
      "INFO:baseline_int.src.sweep.sweep.Simulator:Min Precision (bits): 8\n",
      "INFO:baseline_int.src.sweep.sweep.Simulator:Batch size: 100\n",
      "INFO:baseline_int.src.sweep.sweep.Simulator:Bandwidth (bits/cycle): 1024\n",
      "INFO:baseline_int.src.sweep.sweep.Simulator:Simulating Benchmark: ImageNetSNN\n",
      "INFO:baseline_int.src.sweep.sweep.Simulator:N x M = 128 x 2\n",
      "INFO:baseline_int.src.sweep.sweep.Simulator:Max Precision (bits): 8\n",
      "INFO:baseline_int.src.sweep.sweep.Simulator:Min Precision (bits): 8\n",
      "INFO:baseline_int.src.sweep.sweep.Simulator:Batch size: 100\n",
      "INFO:baseline_int.src.sweep.sweep.Simulator:Bandwidth (bits/cycle): 1024\n",
      " 20%|██        | 16/80 [21:04<1:21:56, 76.82s/it]"
     ]
    },
    {
     "name": "stdout",
     "output_type": "stream",
     "text": [
      "Got BitFusion Eyeriss, Numbers\n"
     ]
    },
    {
     "name": "stderr",
     "output_type": "stream",
     "text": [
      "INFO:baseline_int.src.sweep.sweep.Simulator:Simulating Benchmark: CIFAR10SNN\n",
      "INFO:baseline_int.src.sweep.sweep.Simulator:N x M = 256 x 2\n",
      "INFO:baseline_int.src.sweep.sweep.Simulator:Max Precision (bits): 8\n",
      "INFO:baseline_int.src.sweep.sweep.Simulator:Min Precision (bits): 8\n",
      "INFO:baseline_int.src.sweep.sweep.Simulator:Batch size: 100\n",
      "INFO:baseline_int.src.sweep.sweep.Simulator:Bandwidth (bits/cycle): 1024\n",
      "INFO:baseline_int.src.sweep.sweep.Simulator:Simulating Benchmark: DVS128Gesture\n",
      "INFO:baseline_int.src.sweep.sweep.Simulator:N x M = 256 x 2\n",
      "INFO:baseline_int.src.sweep.sweep.Simulator:Max Precision (bits): 8\n",
      "INFO:baseline_int.src.sweep.sweep.Simulator:Min Precision (bits): 8\n",
      "INFO:baseline_int.src.sweep.sweep.Simulator:Batch size: 100\n",
      "INFO:baseline_int.src.sweep.sweep.Simulator:Bandwidth (bits/cycle): 1024\n",
      "INFO:baseline_int.src.sweep.sweep.Simulator:Simulating Benchmark: ImageNetSNN\n",
      "INFO:baseline_int.src.sweep.sweep.Simulator:N x M = 256 x 2\n",
      "INFO:baseline_int.src.sweep.sweep.Simulator:Max Precision (bits): 8\n",
      "INFO:baseline_int.src.sweep.sweep.Simulator:Min Precision (bits): 8\n",
      "INFO:baseline_int.src.sweep.sweep.Simulator:Batch size: 100\n",
      "INFO:baseline_int.src.sweep.sweep.Simulator:Bandwidth (bits/cycle): 1024\n",
      " 21%|██▏       | 17/80 [22:21<1:20:29, 76.66s/it]"
     ]
    },
    {
     "name": "stdout",
     "output_type": "stream",
     "text": [
      "Got BitFusion Eyeriss, Numbers\n"
     ]
    },
    {
     "name": "stderr",
     "output_type": "stream",
     "text": [
      "INFO:baseline_int.src.sweep.sweep.Simulator:Simulating Benchmark: CIFAR10SNN\n",
      "INFO:baseline_int.src.sweep.sweep.Simulator:N x M = 1 x 4\n",
      "INFO:baseline_int.src.sweep.sweep.Simulator:Max Precision (bits): 8\n",
      "INFO:baseline_int.src.sweep.sweep.Simulator:Min Precision (bits): 8\n",
      "INFO:baseline_int.src.sweep.sweep.Simulator:Batch size: 100\n",
      "INFO:baseline_int.src.sweep.sweep.Simulator:Bandwidth (bits/cycle): 1024\n",
      "INFO:baseline_int.src.sweep.sweep.Simulator:Simulating Benchmark: DVS128Gesture\n",
      "INFO:baseline_int.src.sweep.sweep.Simulator:N x M = 1 x 4\n",
      "INFO:baseline_int.src.sweep.sweep.Simulator:Max Precision (bits): 8\n",
      "INFO:baseline_int.src.sweep.sweep.Simulator:Min Precision (bits): 8\n",
      "INFO:baseline_int.src.sweep.sweep.Simulator:Batch size: 100\n",
      "INFO:baseline_int.src.sweep.sweep.Simulator:Bandwidth (bits/cycle): 1024\n",
      "INFO:baseline_int.src.sweep.sweep.Simulator:Simulating Benchmark: ImageNetSNN\n",
      "INFO:baseline_int.src.sweep.sweep.Simulator:N x M = 1 x 4\n",
      "INFO:baseline_int.src.sweep.sweep.Simulator:Max Precision (bits): 8\n",
      "INFO:baseline_int.src.sweep.sweep.Simulator:Min Precision (bits): 8\n",
      "INFO:baseline_int.src.sweep.sweep.Simulator:Batch size: 100\n",
      "INFO:baseline_int.src.sweep.sweep.Simulator:Bandwidth (bits/cycle): 1024\n",
      " 22%|██▎       | 18/80 [23:33<1:17:45, 75.24s/it]"
     ]
    },
    {
     "name": "stdout",
     "output_type": "stream",
     "text": [
      "Got BitFusion Eyeriss, Numbers\n"
     ]
    },
    {
     "name": "stderr",
     "output_type": "stream",
     "text": [
      "INFO:baseline_int.src.sweep.sweep.Simulator:Simulating Benchmark: CIFAR10SNN\n",
      "INFO:baseline_int.src.sweep.sweep.Simulator:N x M = 2 x 4\n",
      "INFO:baseline_int.src.sweep.sweep.Simulator:Max Precision (bits): 8\n",
      "INFO:baseline_int.src.sweep.sweep.Simulator:Min Precision (bits): 8\n",
      "INFO:baseline_int.src.sweep.sweep.Simulator:Batch size: 100\n",
      "INFO:baseline_int.src.sweep.sweep.Simulator:Bandwidth (bits/cycle): 1024\n",
      "INFO:baseline_int.src.sweep.sweep.Simulator:Simulating Benchmark: DVS128Gesture\n",
      "INFO:baseline_int.src.sweep.sweep.Simulator:N x M = 2 x 4\n",
      "INFO:baseline_int.src.sweep.sweep.Simulator:Max Precision (bits): 8\n",
      "INFO:baseline_int.src.sweep.sweep.Simulator:Min Precision (bits): 8\n",
      "INFO:baseline_int.src.sweep.sweep.Simulator:Batch size: 100\n",
      "INFO:baseline_int.src.sweep.sweep.Simulator:Bandwidth (bits/cycle): 1024\n",
      "INFO:baseline_int.src.sweep.sweep.Simulator:Simulating Benchmark: ImageNetSNN\n",
      "INFO:baseline_int.src.sweep.sweep.Simulator:N x M = 2 x 4\n",
      "INFO:baseline_int.src.sweep.sweep.Simulator:Max Precision (bits): 8\n",
      "INFO:baseline_int.src.sweep.sweep.Simulator:Min Precision (bits): 8\n",
      "INFO:baseline_int.src.sweep.sweep.Simulator:Batch size: 100\n",
      "INFO:baseline_int.src.sweep.sweep.Simulator:Bandwidth (bits/cycle): 1024\n",
      " 24%|██▍       | 19/80 [24:44<1:15:12, 73.97s/it]"
     ]
    },
    {
     "name": "stdout",
     "output_type": "stream",
     "text": [
      "Got BitFusion Eyeriss, Numbers\n"
     ]
    },
    {
     "name": "stderr",
     "output_type": "stream",
     "text": [
      "INFO:baseline_int.src.sweep.sweep.Simulator:Simulating Benchmark: CIFAR10SNN\n",
      "INFO:baseline_int.src.sweep.sweep.Simulator:N x M = 4 x 4\n",
      "INFO:baseline_int.src.sweep.sweep.Simulator:Max Precision (bits): 8\n",
      "INFO:baseline_int.src.sweep.sweep.Simulator:Min Precision (bits): 8\n",
      "INFO:baseline_int.src.sweep.sweep.Simulator:Batch size: 100\n",
      "INFO:baseline_int.src.sweep.sweep.Simulator:Bandwidth (bits/cycle): 1024\n",
      "INFO:baseline_int.src.sweep.sweep.Simulator:Simulating Benchmark: DVS128Gesture\n",
      "INFO:baseline_int.src.sweep.sweep.Simulator:N x M = 4 x 4\n",
      "INFO:baseline_int.src.sweep.sweep.Simulator:Max Precision (bits): 8\n",
      "INFO:baseline_int.src.sweep.sweep.Simulator:Min Precision (bits): 8\n",
      "INFO:baseline_int.src.sweep.sweep.Simulator:Batch size: 100\n",
      "INFO:baseline_int.src.sweep.sweep.Simulator:Bandwidth (bits/cycle): 1024\n",
      "INFO:baseline_int.src.sweep.sweep.Simulator:Simulating Benchmark: ImageNetSNN\n",
      "INFO:baseline_int.src.sweep.sweep.Simulator:N x M = 4 x 4\n",
      "INFO:baseline_int.src.sweep.sweep.Simulator:Max Precision (bits): 8\n",
      "INFO:baseline_int.src.sweep.sweep.Simulator:Min Precision (bits): 8\n",
      "INFO:baseline_int.src.sweep.sweep.Simulator:Batch size: 100\n",
      "INFO:baseline_int.src.sweep.sweep.Simulator:Bandwidth (bits/cycle): 1024\n",
      " 25%|██▌       | 20/80 [25:54<1:12:53, 72.89s/it]"
     ]
    },
    {
     "name": "stdout",
     "output_type": "stream",
     "text": [
      "Got BitFusion Eyeriss, Numbers\n"
     ]
    },
    {
     "name": "stderr",
     "output_type": "stream",
     "text": [
      "INFO:baseline_int.src.sweep.sweep.Simulator:Simulating Benchmark: CIFAR10SNN\n",
      "INFO:baseline_int.src.sweep.sweep.Simulator:N x M = 8 x 4\n",
      "INFO:baseline_int.src.sweep.sweep.Simulator:Max Precision (bits): 8\n",
      "INFO:baseline_int.src.sweep.sweep.Simulator:Min Precision (bits): 8\n",
      "INFO:baseline_int.src.sweep.sweep.Simulator:Batch size: 100\n",
      "INFO:baseline_int.src.sweep.sweep.Simulator:Bandwidth (bits/cycle): 1024\n",
      "INFO:baseline_int.src.sweep.sweep.Simulator:Simulating Benchmark: DVS128Gesture\n",
      "INFO:baseline_int.src.sweep.sweep.Simulator:N x M = 8 x 4\n",
      "INFO:baseline_int.src.sweep.sweep.Simulator:Max Precision (bits): 8\n",
      "INFO:baseline_int.src.sweep.sweep.Simulator:Min Precision (bits): 8\n",
      "INFO:baseline_int.src.sweep.sweep.Simulator:Batch size: 100\n",
      "INFO:baseline_int.src.sweep.sweep.Simulator:Bandwidth (bits/cycle): 1024\n",
      "INFO:baseline_int.src.sweep.sweep.Simulator:Simulating Benchmark: ImageNetSNN\n",
      "INFO:baseline_int.src.sweep.sweep.Simulator:N x M = 8 x 4\n",
      "INFO:baseline_int.src.sweep.sweep.Simulator:Max Precision (bits): 8\n",
      "INFO:baseline_int.src.sweep.sweep.Simulator:Min Precision (bits): 8\n",
      "INFO:baseline_int.src.sweep.sweep.Simulator:Batch size: 100\n",
      "INFO:baseline_int.src.sweep.sweep.Simulator:Bandwidth (bits/cycle): 1024\n",
      " 26%|██▋       | 21/80 [27:04<1:10:54, 72.11s/it]"
     ]
    },
    {
     "name": "stdout",
     "output_type": "stream",
     "text": [
      "Got BitFusion Eyeriss, Numbers\n"
     ]
    },
    {
     "name": "stderr",
     "output_type": "stream",
     "text": [
      "INFO:baseline_int.src.sweep.sweep.Simulator:Simulating Benchmark: CIFAR10SNN\n",
      "INFO:baseline_int.src.sweep.sweep.Simulator:N x M = 16 x 4\n",
      "INFO:baseline_int.src.sweep.sweep.Simulator:Max Precision (bits): 8\n",
      "INFO:baseline_int.src.sweep.sweep.Simulator:Min Precision (bits): 8\n",
      "INFO:baseline_int.src.sweep.sweep.Simulator:Batch size: 100\n",
      "INFO:baseline_int.src.sweep.sweep.Simulator:Bandwidth (bits/cycle): 1024\n",
      "INFO:baseline_int.src.sweep.sweep.Simulator:Simulating Benchmark: DVS128Gesture\n",
      "INFO:baseline_int.src.sweep.sweep.Simulator:N x M = 16 x 4\n",
      "INFO:baseline_int.src.sweep.sweep.Simulator:Max Precision (bits): 8\n",
      "INFO:baseline_int.src.sweep.sweep.Simulator:Min Precision (bits): 8\n",
      "INFO:baseline_int.src.sweep.sweep.Simulator:Batch size: 100\n",
      "INFO:baseline_int.src.sweep.sweep.Simulator:Bandwidth (bits/cycle): 1024\n",
      "INFO:baseline_int.src.sweep.sweep.Simulator:Simulating Benchmark: ImageNetSNN\n",
      "INFO:baseline_int.src.sweep.sweep.Simulator:N x M = 16 x 4\n",
      "INFO:baseline_int.src.sweep.sweep.Simulator:Max Precision (bits): 8\n",
      "INFO:baseline_int.src.sweep.sweep.Simulator:Min Precision (bits): 8\n",
      "INFO:baseline_int.src.sweep.sweep.Simulator:Batch size: 100\n",
      "INFO:baseline_int.src.sweep.sweep.Simulator:Bandwidth (bits/cycle): 1024\n",
      " 28%|██▊       | 22/80 [28:15<1:09:14, 71.63s/it]"
     ]
    },
    {
     "name": "stdout",
     "output_type": "stream",
     "text": [
      "Got BitFusion Eyeriss, Numbers\n"
     ]
    },
    {
     "name": "stderr",
     "output_type": "stream",
     "text": [
      "INFO:baseline_int.src.sweep.sweep.Simulator:Simulating Benchmark: CIFAR10SNN\n",
      "INFO:baseline_int.src.sweep.sweep.Simulator:N x M = 32 x 4\n",
      "INFO:baseline_int.src.sweep.sweep.Simulator:Max Precision (bits): 8\n",
      "INFO:baseline_int.src.sweep.sweep.Simulator:Min Precision (bits): 8\n",
      "INFO:baseline_int.src.sweep.sweep.Simulator:Batch size: 100\n",
      "INFO:baseline_int.src.sweep.sweep.Simulator:Bandwidth (bits/cycle): 1024\n",
      "INFO:baseline_int.src.sweep.sweep.Simulator:Simulating Benchmark: DVS128Gesture\n",
      "INFO:baseline_int.src.sweep.sweep.Simulator:N x M = 32 x 4\n",
      "INFO:baseline_int.src.sweep.sweep.Simulator:Max Precision (bits): 8\n",
      "INFO:baseline_int.src.sweep.sweep.Simulator:Min Precision (bits): 8\n",
      "INFO:baseline_int.src.sweep.sweep.Simulator:Batch size: 100\n",
      "INFO:baseline_int.src.sweep.sweep.Simulator:Bandwidth (bits/cycle): 1024\n",
      "INFO:baseline_int.src.sweep.sweep.Simulator:Simulating Benchmark: ImageNetSNN\n",
      "INFO:baseline_int.src.sweep.sweep.Simulator:N x M = 32 x 4\n",
      "INFO:baseline_int.src.sweep.sweep.Simulator:Max Precision (bits): 8\n",
      "INFO:baseline_int.src.sweep.sweep.Simulator:Min Precision (bits): 8\n",
      "INFO:baseline_int.src.sweep.sweep.Simulator:Batch size: 100\n",
      "INFO:baseline_int.src.sweep.sweep.Simulator:Bandwidth (bits/cycle): 1024\n",
      " 29%|██▉       | 23/80 [29:25<1:07:44, 71.31s/it]"
     ]
    },
    {
     "name": "stdout",
     "output_type": "stream",
     "text": [
      "Got BitFusion Eyeriss, Numbers\n"
     ]
    },
    {
     "name": "stderr",
     "output_type": "stream",
     "text": [
      "INFO:baseline_int.src.sweep.sweep.Simulator:Simulating Benchmark: CIFAR10SNN\n",
      "INFO:baseline_int.src.sweep.sweep.Simulator:N x M = 64 x 4\n",
      "INFO:baseline_int.src.sweep.sweep.Simulator:Max Precision (bits): 8\n",
      "INFO:baseline_int.src.sweep.sweep.Simulator:Min Precision (bits): 8\n",
      "INFO:baseline_int.src.sweep.sweep.Simulator:Batch size: 100\n",
      "INFO:baseline_int.src.sweep.sweep.Simulator:Bandwidth (bits/cycle): 1024\n",
      "INFO:baseline_int.src.sweep.sweep.Simulator:Simulating Benchmark: DVS128Gesture\n",
      "INFO:baseline_int.src.sweep.sweep.Simulator:N x M = 64 x 4\n",
      "INFO:baseline_int.src.sweep.sweep.Simulator:Max Precision (bits): 8\n",
      "INFO:baseline_int.src.sweep.sweep.Simulator:Min Precision (bits): 8\n",
      "INFO:baseline_int.src.sweep.sweep.Simulator:Batch size: 100\n",
      "INFO:baseline_int.src.sweep.sweep.Simulator:Bandwidth (bits/cycle): 1024\n",
      "INFO:baseline_int.src.sweep.sweep.Simulator:Simulating Benchmark: ImageNetSNN\n",
      "INFO:baseline_int.src.sweep.sweep.Simulator:N x M = 64 x 4\n",
      "INFO:baseline_int.src.sweep.sweep.Simulator:Max Precision (bits): 8\n",
      "INFO:baseline_int.src.sweep.sweep.Simulator:Min Precision (bits): 8\n",
      "INFO:baseline_int.src.sweep.sweep.Simulator:Batch size: 100\n",
      "INFO:baseline_int.src.sweep.sweep.Simulator:Bandwidth (bits/cycle): 1024\n",
      " 30%|███       | 24/80 [30:36<1:06:17, 71.02s/it]"
     ]
    },
    {
     "name": "stdout",
     "output_type": "stream",
     "text": [
      "Got BitFusion Eyeriss, Numbers\n"
     ]
    },
    {
     "name": "stderr",
     "output_type": "stream",
     "text": [
      "INFO:baseline_int.src.sweep.sweep.Simulator:Simulating Benchmark: CIFAR10SNN\n",
      "INFO:baseline_int.src.sweep.sweep.Simulator:N x M = 128 x 4\n",
      "INFO:baseline_int.src.sweep.sweep.Simulator:Max Precision (bits): 8\n",
      "INFO:baseline_int.src.sweep.sweep.Simulator:Min Precision (bits): 8\n",
      "INFO:baseline_int.src.sweep.sweep.Simulator:Batch size: 100\n",
      "INFO:baseline_int.src.sweep.sweep.Simulator:Bandwidth (bits/cycle): 1024\n",
      "INFO:baseline_int.src.sweep.sweep.Simulator:Simulating Benchmark: DVS128Gesture\n",
      "INFO:baseline_int.src.sweep.sweep.Simulator:N x M = 128 x 4\n",
      "INFO:baseline_int.src.sweep.sweep.Simulator:Max Precision (bits): 8\n",
      "INFO:baseline_int.src.sweep.sweep.Simulator:Min Precision (bits): 8\n",
      "INFO:baseline_int.src.sweep.sweep.Simulator:Batch size: 100\n",
      "INFO:baseline_int.src.sweep.sweep.Simulator:Bandwidth (bits/cycle): 1024\n",
      "INFO:baseline_int.src.sweep.sweep.Simulator:Simulating Benchmark: ImageNetSNN\n",
      "INFO:baseline_int.src.sweep.sweep.Simulator:N x M = 128 x 4\n",
      "INFO:baseline_int.src.sweep.sweep.Simulator:Max Precision (bits): 8\n",
      "INFO:baseline_int.src.sweep.sweep.Simulator:Min Precision (bits): 8\n",
      "INFO:baseline_int.src.sweep.sweep.Simulator:Batch size: 100\n",
      "INFO:baseline_int.src.sweep.sweep.Simulator:Bandwidth (bits/cycle): 1024\n",
      " 31%|███▏      | 25/80 [31:46<1:04:54, 70.81s/it]"
     ]
    },
    {
     "name": "stdout",
     "output_type": "stream",
     "text": [
      "Got BitFusion Eyeriss, Numbers\n"
     ]
    },
    {
     "name": "stderr",
     "output_type": "stream",
     "text": [
      "INFO:baseline_int.src.sweep.sweep.Simulator:Simulating Benchmark: CIFAR10SNN\n",
      "INFO:baseline_int.src.sweep.sweep.Simulator:N x M = 256 x 4\n",
      "INFO:baseline_int.src.sweep.sweep.Simulator:Max Precision (bits): 8\n",
      "INFO:baseline_int.src.sweep.sweep.Simulator:Min Precision (bits): 8\n",
      "INFO:baseline_int.src.sweep.sweep.Simulator:Batch size: 100\n",
      "INFO:baseline_int.src.sweep.sweep.Simulator:Bandwidth (bits/cycle): 1024\n",
      "INFO:baseline_int.src.sweep.sweep.Simulator:Simulating Benchmark: DVS128Gesture\n",
      "INFO:baseline_int.src.sweep.sweep.Simulator:N x M = 256 x 4\n",
      "INFO:baseline_int.src.sweep.sweep.Simulator:Max Precision (bits): 8\n",
      "INFO:baseline_int.src.sweep.sweep.Simulator:Min Precision (bits): 8\n",
      "INFO:baseline_int.src.sweep.sweep.Simulator:Batch size: 100\n",
      "INFO:baseline_int.src.sweep.sweep.Simulator:Bandwidth (bits/cycle): 1024\n",
      "INFO:baseline_int.src.sweep.sweep.Simulator:Simulating Benchmark: ImageNetSNN\n",
      "INFO:baseline_int.src.sweep.sweep.Simulator:N x M = 256 x 4\n",
      "INFO:baseline_int.src.sweep.sweep.Simulator:Max Precision (bits): 8\n",
      "INFO:baseline_int.src.sweep.sweep.Simulator:Min Precision (bits): 8\n",
      "INFO:baseline_int.src.sweep.sweep.Simulator:Batch size: 100\n",
      "INFO:baseline_int.src.sweep.sweep.Simulator:Bandwidth (bits/cycle): 1024\n",
      " 32%|███▎      | 26/80 [32:56<1:03:34, 70.64s/it]"
     ]
    },
    {
     "name": "stdout",
     "output_type": "stream",
     "text": [
      "Got BitFusion Eyeriss, Numbers\n"
     ]
    },
    {
     "name": "stderr",
     "output_type": "stream",
     "text": [
      "INFO:baseline_int.src.sweep.sweep.Simulator:Simulating Benchmark: CIFAR10SNN\n",
      "INFO:baseline_int.src.sweep.sweep.Simulator:N x M = 1 x 8\n",
      "INFO:baseline_int.src.sweep.sweep.Simulator:Max Precision (bits): 8\n",
      "INFO:baseline_int.src.sweep.sweep.Simulator:Min Precision (bits): 8\n",
      "INFO:baseline_int.src.sweep.sweep.Simulator:Batch size: 100\n",
      "INFO:baseline_int.src.sweep.sweep.Simulator:Bandwidth (bits/cycle): 1024\n",
      "INFO:baseline_int.src.sweep.sweep.Simulator:Simulating Benchmark: DVS128Gesture\n",
      "INFO:baseline_int.src.sweep.sweep.Simulator:N x M = 1 x 8\n",
      "INFO:baseline_int.src.sweep.sweep.Simulator:Max Precision (bits): 8\n",
      "INFO:baseline_int.src.sweep.sweep.Simulator:Min Precision (bits): 8\n",
      "INFO:baseline_int.src.sweep.sweep.Simulator:Batch size: 100\n",
      "INFO:baseline_int.src.sweep.sweep.Simulator:Bandwidth (bits/cycle): 1024\n",
      "INFO:baseline_int.src.sweep.sweep.Simulator:Simulating Benchmark: ImageNetSNN\n",
      "INFO:baseline_int.src.sweep.sweep.Simulator:N x M = 1 x 8\n",
      "INFO:baseline_int.src.sweep.sweep.Simulator:Max Precision (bits): 8\n",
      "INFO:baseline_int.src.sweep.sweep.Simulator:Min Precision (bits): 8\n",
      "INFO:baseline_int.src.sweep.sweep.Simulator:Batch size: 100\n",
      "INFO:baseline_int.src.sweep.sweep.Simulator:Bandwidth (bits/cycle): 1024\n",
      " 34%|███▍      | 27/80 [34:01<1:00:44, 68.77s/it]"
     ]
    },
    {
     "name": "stdout",
     "output_type": "stream",
     "text": [
      "Got BitFusion Eyeriss, Numbers\n"
     ]
    },
    {
     "name": "stderr",
     "output_type": "stream",
     "text": [
      "INFO:baseline_int.src.sweep.sweep.Simulator:Simulating Benchmark: CIFAR10SNN\n",
      "INFO:baseline_int.src.sweep.sweep.Simulator:N x M = 2 x 8\n",
      "INFO:baseline_int.src.sweep.sweep.Simulator:Max Precision (bits): 8\n",
      "INFO:baseline_int.src.sweep.sweep.Simulator:Min Precision (bits): 8\n",
      "INFO:baseline_int.src.sweep.sweep.Simulator:Batch size: 100\n",
      "INFO:baseline_int.src.sweep.sweep.Simulator:Bandwidth (bits/cycle): 1024\n",
      "INFO:baseline_int.src.sweep.sweep.Simulator:Simulating Benchmark: DVS128Gesture\n",
      "INFO:baseline_int.src.sweep.sweep.Simulator:N x M = 2 x 8\n",
      "INFO:baseline_int.src.sweep.sweep.Simulator:Max Precision (bits): 8\n",
      "INFO:baseline_int.src.sweep.sweep.Simulator:Min Precision (bits): 8\n",
      "INFO:baseline_int.src.sweep.sweep.Simulator:Batch size: 100\n",
      "INFO:baseline_int.src.sweep.sweep.Simulator:Bandwidth (bits/cycle): 1024\n",
      "INFO:baseline_int.src.sweep.sweep.Simulator:Simulating Benchmark: ImageNetSNN\n",
      "INFO:baseline_int.src.sweep.sweep.Simulator:N x M = 2 x 8\n",
      "INFO:baseline_int.src.sweep.sweep.Simulator:Max Precision (bits): 8\n",
      "INFO:baseline_int.src.sweep.sweep.Simulator:Min Precision (bits): 8\n",
      "INFO:baseline_int.src.sweep.sweep.Simulator:Batch size: 100\n",
      "INFO:baseline_int.src.sweep.sweep.Simulator:Bandwidth (bits/cycle): 1024\n",
      " 35%|███▌      | 28/80 [35:05<58:28, 67.48s/it]  "
     ]
    },
    {
     "name": "stdout",
     "output_type": "stream",
     "text": [
      "Got BitFusion Eyeriss, Numbers\n"
     ]
    },
    {
     "name": "stderr",
     "output_type": "stream",
     "text": [
      "INFO:baseline_int.src.sweep.sweep.Simulator:Simulating Benchmark: CIFAR10SNN\n",
      "INFO:baseline_int.src.sweep.sweep.Simulator:N x M = 4 x 8\n",
      "INFO:baseline_int.src.sweep.sweep.Simulator:Max Precision (bits): 8\n",
      "INFO:baseline_int.src.sweep.sweep.Simulator:Min Precision (bits): 8\n",
      "INFO:baseline_int.src.sweep.sweep.Simulator:Batch size: 100\n",
      "INFO:baseline_int.src.sweep.sweep.Simulator:Bandwidth (bits/cycle): 1024\n",
      "INFO:baseline_int.src.sweep.sweep.Simulator:Simulating Benchmark: DVS128Gesture\n",
      "INFO:baseline_int.src.sweep.sweep.Simulator:N x M = 4 x 8\n",
      "INFO:baseline_int.src.sweep.sweep.Simulator:Max Precision (bits): 8\n",
      "INFO:baseline_int.src.sweep.sweep.Simulator:Min Precision (bits): 8\n",
      "INFO:baseline_int.src.sweep.sweep.Simulator:Batch size: 100\n",
      "INFO:baseline_int.src.sweep.sweep.Simulator:Bandwidth (bits/cycle): 1024\n",
      "INFO:baseline_int.src.sweep.sweep.Simulator:Simulating Benchmark: ImageNetSNN\n",
      "INFO:baseline_int.src.sweep.sweep.Simulator:N x M = 4 x 8\n",
      "INFO:baseline_int.src.sweep.sweep.Simulator:Max Precision (bits): 8\n",
      "INFO:baseline_int.src.sweep.sweep.Simulator:Min Precision (bits): 8\n",
      "INFO:baseline_int.src.sweep.sweep.Simulator:Batch size: 100\n",
      "INFO:baseline_int.src.sweep.sweep.Simulator:Bandwidth (bits/cycle): 1024\n",
      " 36%|███▋      | 29/80 [36:10<56:34, 66.56s/it]"
     ]
    },
    {
     "name": "stdout",
     "output_type": "stream",
     "text": [
      "Got BitFusion Eyeriss, Numbers\n"
     ]
    },
    {
     "name": "stderr",
     "output_type": "stream",
     "text": [
      "INFO:baseline_int.src.sweep.sweep.Simulator:Simulating Benchmark: CIFAR10SNN\n",
      "INFO:baseline_int.src.sweep.sweep.Simulator:N x M = 8 x 8\n",
      "INFO:baseline_int.src.sweep.sweep.Simulator:Max Precision (bits): 8\n",
      "INFO:baseline_int.src.sweep.sweep.Simulator:Min Precision (bits): 8\n",
      "INFO:baseline_int.src.sweep.sweep.Simulator:Batch size: 100\n",
      "INFO:baseline_int.src.sweep.sweep.Simulator:Bandwidth (bits/cycle): 1024\n",
      "INFO:baseline_int.src.sweep.sweep.Simulator:Simulating Benchmark: DVS128Gesture\n",
      "INFO:baseline_int.src.sweep.sweep.Simulator:N x M = 8 x 8\n",
      "INFO:baseline_int.src.sweep.sweep.Simulator:Max Precision (bits): 8\n",
      "INFO:baseline_int.src.sweep.sweep.Simulator:Min Precision (bits): 8\n",
      "INFO:baseline_int.src.sweep.sweep.Simulator:Batch size: 100\n",
      "INFO:baseline_int.src.sweep.sweep.Simulator:Bandwidth (bits/cycle): 1024\n",
      "INFO:baseline_int.src.sweep.sweep.Simulator:Simulating Benchmark: ImageNetSNN\n",
      "INFO:baseline_int.src.sweep.sweep.Simulator:N x M = 8 x 8\n",
      "INFO:baseline_int.src.sweep.sweep.Simulator:Max Precision (bits): 8\n",
      "INFO:baseline_int.src.sweep.sweep.Simulator:Min Precision (bits): 8\n",
      "INFO:baseline_int.src.sweep.sweep.Simulator:Batch size: 100\n",
      "INFO:baseline_int.src.sweep.sweep.Simulator:Bandwidth (bits/cycle): 1024\n",
      " 38%|███▊      | 30/80 [37:14<54:57, 65.96s/it]"
     ]
    },
    {
     "name": "stdout",
     "output_type": "stream",
     "text": [
      "Got BitFusion Eyeriss, Numbers\n"
     ]
    },
    {
     "name": "stderr",
     "output_type": "stream",
     "text": [
      "INFO:baseline_int.src.sweep.sweep.Simulator:Simulating Benchmark: CIFAR10SNN\n",
      "INFO:baseline_int.src.sweep.sweep.Simulator:N x M = 16 x 8\n",
      "INFO:baseline_int.src.sweep.sweep.Simulator:Max Precision (bits): 8\n",
      "INFO:baseline_int.src.sweep.sweep.Simulator:Min Precision (bits): 8\n",
      "INFO:baseline_int.src.sweep.sweep.Simulator:Batch size: 100\n",
      "INFO:baseline_int.src.sweep.sweep.Simulator:Bandwidth (bits/cycle): 1024\n",
      "INFO:baseline_int.src.sweep.sweep.Simulator:Simulating Benchmark: DVS128Gesture\n",
      "INFO:baseline_int.src.sweep.sweep.Simulator:N x M = 16 x 8\n",
      "INFO:baseline_int.src.sweep.sweep.Simulator:Max Precision (bits): 8\n",
      "INFO:baseline_int.src.sweep.sweep.Simulator:Min Precision (bits): 8\n",
      "INFO:baseline_int.src.sweep.sweep.Simulator:Batch size: 100\n",
      "INFO:baseline_int.src.sweep.sweep.Simulator:Bandwidth (bits/cycle): 1024\n",
      "INFO:baseline_int.src.sweep.sweep.Simulator:Simulating Benchmark: ImageNetSNN\n",
      "INFO:baseline_int.src.sweep.sweep.Simulator:N x M = 16 x 8\n",
      "INFO:baseline_int.src.sweep.sweep.Simulator:Max Precision (bits): 8\n",
      "INFO:baseline_int.src.sweep.sweep.Simulator:Min Precision (bits): 8\n",
      "INFO:baseline_int.src.sweep.sweep.Simulator:Batch size: 100\n",
      "INFO:baseline_int.src.sweep.sweep.Simulator:Bandwidth (bits/cycle): 1024\n",
      " 39%|███▉      | 31/80 [38:19<53:30, 65.53s/it]"
     ]
    },
    {
     "name": "stdout",
     "output_type": "stream",
     "text": [
      "Got BitFusion Eyeriss, Numbers\n"
     ]
    },
    {
     "name": "stderr",
     "output_type": "stream",
     "text": [
      "INFO:baseline_int.src.sweep.sweep.Simulator:Simulating Benchmark: CIFAR10SNN\n",
      "INFO:baseline_int.src.sweep.sweep.Simulator:N x M = 32 x 8\n",
      "INFO:baseline_int.src.sweep.sweep.Simulator:Max Precision (bits): 8\n",
      "INFO:baseline_int.src.sweep.sweep.Simulator:Min Precision (bits): 8\n",
      "INFO:baseline_int.src.sweep.sweep.Simulator:Batch size: 100\n",
      "INFO:baseline_int.src.sweep.sweep.Simulator:Bandwidth (bits/cycle): 1024\n",
      "INFO:baseline_int.src.sweep.sweep.Simulator:Simulating Benchmark: DVS128Gesture\n",
      "INFO:baseline_int.src.sweep.sweep.Simulator:N x M = 32 x 8\n",
      "INFO:baseline_int.src.sweep.sweep.Simulator:Max Precision (bits): 8\n",
      "INFO:baseline_int.src.sweep.sweep.Simulator:Min Precision (bits): 8\n",
      "INFO:baseline_int.src.sweep.sweep.Simulator:Batch size: 100\n",
      "INFO:baseline_int.src.sweep.sweep.Simulator:Bandwidth (bits/cycle): 1024\n",
      "INFO:baseline_int.src.sweep.sweep.Simulator:Simulating Benchmark: ImageNetSNN\n",
      "INFO:baseline_int.src.sweep.sweep.Simulator:N x M = 32 x 8\n",
      "INFO:baseline_int.src.sweep.sweep.Simulator:Max Precision (bits): 8\n",
      "INFO:baseline_int.src.sweep.sweep.Simulator:Min Precision (bits): 8\n",
      "INFO:baseline_int.src.sweep.sweep.Simulator:Batch size: 100\n",
      "INFO:baseline_int.src.sweep.sweep.Simulator:Bandwidth (bits/cycle): 1024\n",
      " 40%|████      | 32/80 [39:23<52:11, 65.24s/it]"
     ]
    },
    {
     "name": "stdout",
     "output_type": "stream",
     "text": [
      "Got BitFusion Eyeriss, Numbers\n"
     ]
    },
    {
     "name": "stderr",
     "output_type": "stream",
     "text": [
      "INFO:baseline_int.src.sweep.sweep.Simulator:Simulating Benchmark: CIFAR10SNN\n",
      "INFO:baseline_int.src.sweep.sweep.Simulator:N x M = 64 x 8\n",
      "INFO:baseline_int.src.sweep.sweep.Simulator:Max Precision (bits): 8\n",
      "INFO:baseline_int.src.sweep.sweep.Simulator:Min Precision (bits): 8\n",
      "INFO:baseline_int.src.sweep.sweep.Simulator:Batch size: 100\n",
      "INFO:baseline_int.src.sweep.sweep.Simulator:Bandwidth (bits/cycle): 1024\n",
      "INFO:baseline_int.src.sweep.sweep.Simulator:Simulating Benchmark: DVS128Gesture\n",
      "INFO:baseline_int.src.sweep.sweep.Simulator:N x M = 64 x 8\n",
      "INFO:baseline_int.src.sweep.sweep.Simulator:Max Precision (bits): 8\n",
      "INFO:baseline_int.src.sweep.sweep.Simulator:Min Precision (bits): 8\n",
      "INFO:baseline_int.src.sweep.sweep.Simulator:Batch size: 100\n",
      "INFO:baseline_int.src.sweep.sweep.Simulator:Bandwidth (bits/cycle): 1024\n",
      "INFO:baseline_int.src.sweep.sweep.Simulator:Simulating Benchmark: ImageNetSNN\n",
      "INFO:baseline_int.src.sweep.sweep.Simulator:N x M = 64 x 8\n",
      "INFO:baseline_int.src.sweep.sweep.Simulator:Max Precision (bits): 8\n",
      "INFO:baseline_int.src.sweep.sweep.Simulator:Min Precision (bits): 8\n",
      "INFO:baseline_int.src.sweep.sweep.Simulator:Batch size: 100\n",
      "INFO:baseline_int.src.sweep.sweep.Simulator:Bandwidth (bits/cycle): 1024\n",
      " 41%|████▏     | 33/80 [40:28<50:55, 65.01s/it]"
     ]
    },
    {
     "name": "stdout",
     "output_type": "stream",
     "text": [
      "Got BitFusion Eyeriss, Numbers\n"
     ]
    },
    {
     "name": "stderr",
     "output_type": "stream",
     "text": [
      "INFO:baseline_int.src.sweep.sweep.Simulator:Simulating Benchmark: CIFAR10SNN\n",
      "INFO:baseline_int.src.sweep.sweep.Simulator:N x M = 128 x 8\n",
      "INFO:baseline_int.src.sweep.sweep.Simulator:Max Precision (bits): 8\n",
      "INFO:baseline_int.src.sweep.sweep.Simulator:Min Precision (bits): 8\n",
      "INFO:baseline_int.src.sweep.sweep.Simulator:Batch size: 100\n",
      "INFO:baseline_int.src.sweep.sweep.Simulator:Bandwidth (bits/cycle): 1024\n",
      "INFO:baseline_int.src.sweep.sweep.Simulator:Simulating Benchmark: DVS128Gesture\n",
      "INFO:baseline_int.src.sweep.sweep.Simulator:N x M = 128 x 8\n",
      "INFO:baseline_int.src.sweep.sweep.Simulator:Max Precision (bits): 8\n",
      "INFO:baseline_int.src.sweep.sweep.Simulator:Min Precision (bits): 8\n",
      "INFO:baseline_int.src.sweep.sweep.Simulator:Batch size: 100\n",
      "INFO:baseline_int.src.sweep.sweep.Simulator:Bandwidth (bits/cycle): 1024\n",
      "INFO:baseline_int.src.sweep.sweep.Simulator:Simulating Benchmark: ImageNetSNN\n",
      "INFO:baseline_int.src.sweep.sweep.Simulator:N x M = 128 x 8\n",
      "INFO:baseline_int.src.sweep.sweep.Simulator:Max Precision (bits): 8\n",
      "INFO:baseline_int.src.sweep.sweep.Simulator:Min Precision (bits): 8\n",
      "INFO:baseline_int.src.sweep.sweep.Simulator:Batch size: 100\n",
      "INFO:baseline_int.src.sweep.sweep.Simulator:Bandwidth (bits/cycle): 1024\n",
      " 42%|████▎     | 34/80 [41:32<49:45, 64.90s/it]"
     ]
    },
    {
     "name": "stdout",
     "output_type": "stream",
     "text": [
      "Got BitFusion Eyeriss, Numbers\n"
     ]
    },
    {
     "name": "stderr",
     "output_type": "stream",
     "text": [
      "INFO:baseline_int.src.sweep.sweep.Simulator:Simulating Benchmark: CIFAR10SNN\n",
      "INFO:baseline_int.src.sweep.sweep.Simulator:N x M = 256 x 8\n",
      "INFO:baseline_int.src.sweep.sweep.Simulator:Max Precision (bits): 8\n",
      "INFO:baseline_int.src.sweep.sweep.Simulator:Min Precision (bits): 8\n",
      "INFO:baseline_int.src.sweep.sweep.Simulator:Batch size: 100\n",
      "INFO:baseline_int.src.sweep.sweep.Simulator:Bandwidth (bits/cycle): 1024\n",
      "INFO:baseline_int.src.sweep.sweep.Simulator:Simulating Benchmark: DVS128Gesture\n",
      "INFO:baseline_int.src.sweep.sweep.Simulator:N x M = 256 x 8\n",
      "INFO:baseline_int.src.sweep.sweep.Simulator:Max Precision (bits): 8\n",
      "INFO:baseline_int.src.sweep.sweep.Simulator:Min Precision (bits): 8\n",
      "INFO:baseline_int.src.sweep.sweep.Simulator:Batch size: 100\n",
      "INFO:baseline_int.src.sweep.sweep.Simulator:Bandwidth (bits/cycle): 1024\n",
      "INFO:baseline_int.src.sweep.sweep.Simulator:Simulating Benchmark: ImageNetSNN\n",
      "INFO:baseline_int.src.sweep.sweep.Simulator:N x M = 256 x 8\n",
      "INFO:baseline_int.src.sweep.sweep.Simulator:Max Precision (bits): 8\n",
      "INFO:baseline_int.src.sweep.sweep.Simulator:Min Precision (bits): 8\n",
      "INFO:baseline_int.src.sweep.sweep.Simulator:Batch size: 100\n",
      "INFO:baseline_int.src.sweep.sweep.Simulator:Bandwidth (bits/cycle): 1024\n",
      " 44%|████▍     | 35/80 [42:37<48:35, 64.79s/it]"
     ]
    },
    {
     "name": "stdout",
     "output_type": "stream",
     "text": [
      "Got BitFusion Eyeriss, Numbers\n"
     ]
    },
    {
     "name": "stderr",
     "output_type": "stream",
     "text": [
      "INFO:baseline_int.src.sweep.sweep.Simulator:Simulating Benchmark: CIFAR10SNN\n",
      "INFO:baseline_int.src.sweep.sweep.Simulator:N x M = 1 x 16\n",
      "INFO:baseline_int.src.sweep.sweep.Simulator:Max Precision (bits): 8\n",
      "INFO:baseline_int.src.sweep.sweep.Simulator:Min Precision (bits): 8\n",
      "INFO:baseline_int.src.sweep.sweep.Simulator:Batch size: 100\n",
      "INFO:baseline_int.src.sweep.sweep.Simulator:Bandwidth (bits/cycle): 1024\n",
      "INFO:baseline_int.src.sweep.sweep.Simulator:Simulating Benchmark: DVS128Gesture\n",
      "INFO:baseline_int.src.sweep.sweep.Simulator:N x M = 1 x 16\n",
      "INFO:baseline_int.src.sweep.sweep.Simulator:Max Precision (bits): 8\n",
      "INFO:baseline_int.src.sweep.sweep.Simulator:Min Precision (bits): 8\n",
      "INFO:baseline_int.src.sweep.sweep.Simulator:Batch size: 100\n",
      "INFO:baseline_int.src.sweep.sweep.Simulator:Bandwidth (bits/cycle): 1024\n",
      "INFO:baseline_int.src.sweep.sweep.Simulator:Simulating Benchmark: ImageNetSNN\n",
      "INFO:baseline_int.src.sweep.sweep.Simulator:N x M = 1 x 16\n",
      "INFO:baseline_int.src.sweep.sweep.Simulator:Max Precision (bits): 8\n",
      "INFO:baseline_int.src.sweep.sweep.Simulator:Min Precision (bits): 8\n",
      "INFO:baseline_int.src.sweep.sweep.Simulator:Batch size: 100\n",
      "INFO:baseline_int.src.sweep.sweep.Simulator:Bandwidth (bits/cycle): 1024\n",
      " 45%|████▌     | 36/80 [43:35<46:08, 62.92s/it]"
     ]
    },
    {
     "name": "stdout",
     "output_type": "stream",
     "text": [
      "Got BitFusion Eyeriss, Numbers\n"
     ]
    },
    {
     "name": "stderr",
     "output_type": "stream",
     "text": [
      "INFO:baseline_int.src.sweep.sweep.Simulator:Simulating Benchmark: CIFAR10SNN\n",
      "INFO:baseline_int.src.sweep.sweep.Simulator:N x M = 2 x 16\n",
      "INFO:baseline_int.src.sweep.sweep.Simulator:Max Precision (bits): 8\n",
      "INFO:baseline_int.src.sweep.sweep.Simulator:Min Precision (bits): 8\n",
      "INFO:baseline_int.src.sweep.sweep.Simulator:Batch size: 100\n",
      "INFO:baseline_int.src.sweep.sweep.Simulator:Bandwidth (bits/cycle): 1024\n",
      "INFO:baseline_int.src.sweep.sweep.Simulator:Simulating Benchmark: DVS128Gesture\n",
      "INFO:baseline_int.src.sweep.sweep.Simulator:N x M = 2 x 16\n",
      "INFO:baseline_int.src.sweep.sweep.Simulator:Max Precision (bits): 8\n",
      "INFO:baseline_int.src.sweep.sweep.Simulator:Min Precision (bits): 8\n",
      "INFO:baseline_int.src.sweep.sweep.Simulator:Batch size: 100\n",
      "INFO:baseline_int.src.sweep.sweep.Simulator:Bandwidth (bits/cycle): 1024\n",
      "INFO:baseline_int.src.sweep.sweep.Simulator:Simulating Benchmark: ImageNetSNN\n",
      "INFO:baseline_int.src.sweep.sweep.Simulator:N x M = 2 x 16\n",
      "INFO:baseline_int.src.sweep.sweep.Simulator:Max Precision (bits): 8\n",
      "INFO:baseline_int.src.sweep.sweep.Simulator:Min Precision (bits): 8\n",
      "INFO:baseline_int.src.sweep.sweep.Simulator:Batch size: 100\n",
      "INFO:baseline_int.src.sweep.sweep.Simulator:Bandwidth (bits/cycle): 1024\n",
      " 46%|████▋     | 37/80 [44:34<44:10, 61.64s/it]"
     ]
    },
    {
     "name": "stdout",
     "output_type": "stream",
     "text": [
      "Got BitFusion Eyeriss, Numbers\n"
     ]
    },
    {
     "name": "stderr",
     "output_type": "stream",
     "text": [
      "INFO:baseline_int.src.sweep.sweep.Simulator:Simulating Benchmark: CIFAR10SNN\n",
      "INFO:baseline_int.src.sweep.sweep.Simulator:N x M = 4 x 16\n",
      "INFO:baseline_int.src.sweep.sweep.Simulator:Max Precision (bits): 8\n",
      "INFO:baseline_int.src.sweep.sweep.Simulator:Min Precision (bits): 8\n",
      "INFO:baseline_int.src.sweep.sweep.Simulator:Batch size: 100\n",
      "INFO:baseline_int.src.sweep.sweep.Simulator:Bandwidth (bits/cycle): 1024\n",
      "INFO:baseline_int.src.sweep.sweep.Simulator:Simulating Benchmark: DVS128Gesture\n",
      "INFO:baseline_int.src.sweep.sweep.Simulator:N x M = 4 x 16\n",
      "INFO:baseline_int.src.sweep.sweep.Simulator:Max Precision (bits): 8\n",
      "INFO:baseline_int.src.sweep.sweep.Simulator:Min Precision (bits): 8\n",
      "INFO:baseline_int.src.sweep.sweep.Simulator:Batch size: 100\n",
      "INFO:baseline_int.src.sweep.sweep.Simulator:Bandwidth (bits/cycle): 1024\n",
      "INFO:baseline_int.src.sweep.sweep.Simulator:Simulating Benchmark: ImageNetSNN\n",
      "INFO:baseline_int.src.sweep.sweep.Simulator:N x M = 4 x 16\n",
      "INFO:baseline_int.src.sweep.sweep.Simulator:Max Precision (bits): 8\n",
      "INFO:baseline_int.src.sweep.sweep.Simulator:Min Precision (bits): 8\n",
      "INFO:baseline_int.src.sweep.sweep.Simulator:Batch size: 100\n",
      "INFO:baseline_int.src.sweep.sweep.Simulator:Bandwidth (bits/cycle): 1024\n",
      " 48%|████▊     | 38/80 [45:33<42:31, 60.75s/it]"
     ]
    },
    {
     "name": "stdout",
     "output_type": "stream",
     "text": [
      "Got BitFusion Eyeriss, Numbers\n"
     ]
    },
    {
     "name": "stderr",
     "output_type": "stream",
     "text": [
      "INFO:baseline_int.src.sweep.sweep.Simulator:Simulating Benchmark: CIFAR10SNN\n",
      "INFO:baseline_int.src.sweep.sweep.Simulator:N x M = 8 x 16\n",
      "INFO:baseline_int.src.sweep.sweep.Simulator:Max Precision (bits): 8\n",
      "INFO:baseline_int.src.sweep.sweep.Simulator:Min Precision (bits): 8\n",
      "INFO:baseline_int.src.sweep.sweep.Simulator:Batch size: 100\n",
      "INFO:baseline_int.src.sweep.sweep.Simulator:Bandwidth (bits/cycle): 1024\n",
      "INFO:baseline_int.src.sweep.sweep.Simulator:Simulating Benchmark: DVS128Gesture\n",
      "INFO:baseline_int.src.sweep.sweep.Simulator:N x M = 8 x 16\n",
      "INFO:baseline_int.src.sweep.sweep.Simulator:Max Precision (bits): 8\n",
      "INFO:baseline_int.src.sweep.sweep.Simulator:Min Precision (bits): 8\n",
      "INFO:baseline_int.src.sweep.sweep.Simulator:Batch size: 100\n",
      "INFO:baseline_int.src.sweep.sweep.Simulator:Bandwidth (bits/cycle): 1024\n",
      "INFO:baseline_int.src.sweep.sweep.Simulator:Simulating Benchmark: ImageNetSNN\n",
      "INFO:baseline_int.src.sweep.sweep.Simulator:N x M = 8 x 16\n",
      "INFO:baseline_int.src.sweep.sweep.Simulator:Max Precision (bits): 8\n",
      "INFO:baseline_int.src.sweep.sweep.Simulator:Min Precision (bits): 8\n",
      "INFO:baseline_int.src.sweep.sweep.Simulator:Batch size: 100\n",
      "INFO:baseline_int.src.sweep.sweep.Simulator:Bandwidth (bits/cycle): 1024\n",
      " 49%|████▉     | 39/80 [46:31<41:05, 60.13s/it]"
     ]
    },
    {
     "name": "stdout",
     "output_type": "stream",
     "text": [
      "Got BitFusion Eyeriss, Numbers\n"
     ]
    },
    {
     "name": "stderr",
     "output_type": "stream",
     "text": [
      "INFO:baseline_int.src.sweep.sweep.Simulator:Simulating Benchmark: CIFAR10SNN\n",
      "INFO:baseline_int.src.sweep.sweep.Simulator:N x M = 16 x 16\n",
      "INFO:baseline_int.src.sweep.sweep.Simulator:Max Precision (bits): 8\n",
      "INFO:baseline_int.src.sweep.sweep.Simulator:Min Precision (bits): 8\n",
      "INFO:baseline_int.src.sweep.sweep.Simulator:Batch size: 100\n",
      "INFO:baseline_int.src.sweep.sweep.Simulator:Bandwidth (bits/cycle): 1024\n",
      "INFO:baseline_int.src.sweep.sweep.Simulator:Simulating Benchmark: DVS128Gesture\n",
      "INFO:baseline_int.src.sweep.sweep.Simulator:N x M = 16 x 16\n",
      "INFO:baseline_int.src.sweep.sweep.Simulator:Max Precision (bits): 8\n",
      "INFO:baseline_int.src.sweep.sweep.Simulator:Min Precision (bits): 8\n",
      "INFO:baseline_int.src.sweep.sweep.Simulator:Batch size: 100\n",
      "INFO:baseline_int.src.sweep.sweep.Simulator:Bandwidth (bits/cycle): 1024\n",
      "INFO:baseline_int.src.sweep.sweep.Simulator:Simulating Benchmark: ImageNetSNN\n",
      "INFO:baseline_int.src.sweep.sweep.Simulator:N x M = 16 x 16\n",
      "INFO:baseline_int.src.sweep.sweep.Simulator:Max Precision (bits): 8\n",
      "INFO:baseline_int.src.sweep.sweep.Simulator:Min Precision (bits): 8\n",
      "INFO:baseline_int.src.sweep.sweep.Simulator:Batch size: 100\n",
      "INFO:baseline_int.src.sweep.sweep.Simulator:Bandwidth (bits/cycle): 1024\n",
      " 50%|█████     | 40/80 [47:30<39:48, 59.71s/it]"
     ]
    },
    {
     "name": "stdout",
     "output_type": "stream",
     "text": [
      "Got BitFusion Eyeriss, Numbers\n"
     ]
    },
    {
     "name": "stderr",
     "output_type": "stream",
     "text": [
      "INFO:baseline_int.src.sweep.sweep.Simulator:Simulating Benchmark: CIFAR10SNN\n",
      "INFO:baseline_int.src.sweep.sweep.Simulator:N x M = 32 x 16\n",
      "INFO:baseline_int.src.sweep.sweep.Simulator:Max Precision (bits): 8\n",
      "INFO:baseline_int.src.sweep.sweep.Simulator:Min Precision (bits): 8\n",
      "INFO:baseline_int.src.sweep.sweep.Simulator:Batch size: 100\n",
      "INFO:baseline_int.src.sweep.sweep.Simulator:Bandwidth (bits/cycle): 1024\n",
      "INFO:baseline_int.src.sweep.sweep.Simulator:Simulating Benchmark: DVS128Gesture\n",
      "INFO:baseline_int.src.sweep.sweep.Simulator:N x M = 32 x 16\n",
      "INFO:baseline_int.src.sweep.sweep.Simulator:Max Precision (bits): 8\n",
      "INFO:baseline_int.src.sweep.sweep.Simulator:Min Precision (bits): 8\n",
      "INFO:baseline_int.src.sweep.sweep.Simulator:Batch size: 100\n",
      "INFO:baseline_int.src.sweep.sweep.Simulator:Bandwidth (bits/cycle): 1024\n",
      "INFO:baseline_int.src.sweep.sweep.Simulator:Simulating Benchmark: ImageNetSNN\n",
      "INFO:baseline_int.src.sweep.sweep.Simulator:N x M = 32 x 16\n",
      "INFO:baseline_int.src.sweep.sweep.Simulator:Max Precision (bits): 8\n",
      "INFO:baseline_int.src.sweep.sweep.Simulator:Min Precision (bits): 8\n",
      "INFO:baseline_int.src.sweep.sweep.Simulator:Batch size: 100\n",
      "INFO:baseline_int.src.sweep.sweep.Simulator:Bandwidth (bits/cycle): 1024\n",
      " 51%|█████▏    | 41/80 [48:29<38:36, 59.41s/it]"
     ]
    },
    {
     "name": "stdout",
     "output_type": "stream",
     "text": [
      "Got BitFusion Eyeriss, Numbers\n"
     ]
    },
    {
     "name": "stderr",
     "output_type": "stream",
     "text": [
      "INFO:baseline_int.src.sweep.sweep.Simulator:Simulating Benchmark: CIFAR10SNN\n",
      "INFO:baseline_int.src.sweep.sweep.Simulator:N x M = 64 x 16\n",
      "INFO:baseline_int.src.sweep.sweep.Simulator:Max Precision (bits): 8\n",
      "INFO:baseline_int.src.sweep.sweep.Simulator:Min Precision (bits): 8\n",
      "INFO:baseline_int.src.sweep.sweep.Simulator:Batch size: 100\n",
      "INFO:baseline_int.src.sweep.sweep.Simulator:Bandwidth (bits/cycle): 1024\n",
      "INFO:baseline_int.src.sweep.sweep.Simulator:Simulating Benchmark: DVS128Gesture\n",
      "INFO:baseline_int.src.sweep.sweep.Simulator:N x M = 64 x 16\n",
      "INFO:baseline_int.src.sweep.sweep.Simulator:Max Precision (bits): 8\n",
      "INFO:baseline_int.src.sweep.sweep.Simulator:Min Precision (bits): 8\n",
      "INFO:baseline_int.src.sweep.sweep.Simulator:Batch size: 100\n",
      "INFO:baseline_int.src.sweep.sweep.Simulator:Bandwidth (bits/cycle): 1024\n",
      "INFO:baseline_int.src.sweep.sweep.Simulator:Simulating Benchmark: ImageNetSNN\n",
      "INFO:baseline_int.src.sweep.sweep.Simulator:N x M = 64 x 16\n",
      "INFO:baseline_int.src.sweep.sweep.Simulator:Max Precision (bits): 8\n",
      "INFO:baseline_int.src.sweep.sweep.Simulator:Min Precision (bits): 8\n",
      "INFO:baseline_int.src.sweep.sweep.Simulator:Batch size: 100\n",
      "INFO:baseline_int.src.sweep.sweep.Simulator:Bandwidth (bits/cycle): 1024\n",
      " 52%|█████▎    | 42/80 [49:27<37:28, 59.17s/it]"
     ]
    },
    {
     "name": "stdout",
     "output_type": "stream",
     "text": [
      "Got BitFusion Eyeriss, Numbers\n"
     ]
    },
    {
     "name": "stderr",
     "output_type": "stream",
     "text": [
      "INFO:baseline_int.src.sweep.sweep.Simulator:Simulating Benchmark: CIFAR10SNN\n",
      "INFO:baseline_int.src.sweep.sweep.Simulator:N x M = 128 x 16\n",
      "INFO:baseline_int.src.sweep.sweep.Simulator:Max Precision (bits): 8\n",
      "INFO:baseline_int.src.sweep.sweep.Simulator:Min Precision (bits): 8\n",
      "INFO:baseline_int.src.sweep.sweep.Simulator:Batch size: 100\n",
      "INFO:baseline_int.src.sweep.sweep.Simulator:Bandwidth (bits/cycle): 1024\n",
      "INFO:baseline_int.src.sweep.sweep.Simulator:Simulating Benchmark: DVS128Gesture\n",
      "INFO:baseline_int.src.sweep.sweep.Simulator:N x M = 128 x 16\n",
      "INFO:baseline_int.src.sweep.sweep.Simulator:Max Precision (bits): 8\n",
      "INFO:baseline_int.src.sweep.sweep.Simulator:Min Precision (bits): 8\n",
      "INFO:baseline_int.src.sweep.sweep.Simulator:Batch size: 100\n",
      "INFO:baseline_int.src.sweep.sweep.Simulator:Bandwidth (bits/cycle): 1024\n",
      "INFO:baseline_int.src.sweep.sweep.Simulator:Simulating Benchmark: ImageNetSNN\n",
      "INFO:baseline_int.src.sweep.sweep.Simulator:N x M = 128 x 16\n",
      "INFO:baseline_int.src.sweep.sweep.Simulator:Max Precision (bits): 8\n",
      "INFO:baseline_int.src.sweep.sweep.Simulator:Min Precision (bits): 8\n",
      "INFO:baseline_int.src.sweep.sweep.Simulator:Batch size: 100\n",
      "INFO:baseline_int.src.sweep.sweep.Simulator:Bandwidth (bits/cycle): 1024\n",
      " 54%|█████▍    | 43/80 [50:26<36:24, 59.04s/it]"
     ]
    },
    {
     "name": "stdout",
     "output_type": "stream",
     "text": [
      "Got BitFusion Eyeriss, Numbers\n"
     ]
    },
    {
     "name": "stderr",
     "output_type": "stream",
     "text": [
      "INFO:baseline_int.src.sweep.sweep.Simulator:Simulating Benchmark: CIFAR10SNN\n",
      "INFO:baseline_int.src.sweep.sweep.Simulator:N x M = 256 x 16\n",
      "INFO:baseline_int.src.sweep.sweep.Simulator:Max Precision (bits): 8\n",
      "INFO:baseline_int.src.sweep.sweep.Simulator:Min Precision (bits): 8\n",
      "INFO:baseline_int.src.sweep.sweep.Simulator:Batch size: 100\n",
      "INFO:baseline_int.src.sweep.sweep.Simulator:Bandwidth (bits/cycle): 1024\n",
      "INFO:baseline_int.src.sweep.sweep.Simulator:Simulating Benchmark: DVS128Gesture\n",
      "INFO:baseline_int.src.sweep.sweep.Simulator:N x M = 256 x 16\n",
      "INFO:baseline_int.src.sweep.sweep.Simulator:Max Precision (bits): 8\n",
      "INFO:baseline_int.src.sweep.sweep.Simulator:Min Precision (bits): 8\n",
      "INFO:baseline_int.src.sweep.sweep.Simulator:Batch size: 100\n",
      "INFO:baseline_int.src.sweep.sweep.Simulator:Bandwidth (bits/cycle): 1024\n",
      "INFO:baseline_int.src.sweep.sweep.Simulator:Simulating Benchmark: ImageNetSNN\n",
      "INFO:baseline_int.src.sweep.sweep.Simulator:N x M = 256 x 16\n",
      "INFO:baseline_int.src.sweep.sweep.Simulator:Max Precision (bits): 8\n",
      "INFO:baseline_int.src.sweep.sweep.Simulator:Min Precision (bits): 8\n",
      "INFO:baseline_int.src.sweep.sweep.Simulator:Batch size: 100\n",
      "INFO:baseline_int.src.sweep.sweep.Simulator:Bandwidth (bits/cycle): 1024\n",
      " 55%|█████▌    | 44/80 [51:25<35:21, 58.92s/it]"
     ]
    },
    {
     "name": "stdout",
     "output_type": "stream",
     "text": [
      "Got BitFusion Eyeriss, Numbers\n"
     ]
    },
    {
     "name": "stderr",
     "output_type": "stream",
     "text": [
      "INFO:baseline_int.src.sweep.sweep.Simulator:Simulating Benchmark: CIFAR10SNN\n",
      "INFO:baseline_int.src.sweep.sweep.Simulator:N x M = 1 x 32\n",
      "INFO:baseline_int.src.sweep.sweep.Simulator:Max Precision (bits): 8\n",
      "INFO:baseline_int.src.sweep.sweep.Simulator:Min Precision (bits): 8\n",
      "INFO:baseline_int.src.sweep.sweep.Simulator:Batch size: 100\n",
      "INFO:baseline_int.src.sweep.sweep.Simulator:Bandwidth (bits/cycle): 1024\n",
      "INFO:baseline_int.src.sweep.sweep.Simulator:Simulating Benchmark: DVS128Gesture\n",
      "INFO:baseline_int.src.sweep.sweep.Simulator:N x M = 1 x 32\n",
      "INFO:baseline_int.src.sweep.sweep.Simulator:Max Precision (bits): 8\n",
      "INFO:baseline_int.src.sweep.sweep.Simulator:Min Precision (bits): 8\n",
      "INFO:baseline_int.src.sweep.sweep.Simulator:Batch size: 100\n",
      "INFO:baseline_int.src.sweep.sweep.Simulator:Bandwidth (bits/cycle): 1024\n",
      "INFO:baseline_int.src.sweep.sweep.Simulator:Simulating Benchmark: ImageNetSNN\n",
      "INFO:baseline_int.src.sweep.sweep.Simulator:N x M = 1 x 32\n",
      "INFO:baseline_int.src.sweep.sweep.Simulator:Max Precision (bits): 8\n",
      "INFO:baseline_int.src.sweep.sweep.Simulator:Min Precision (bits): 8\n",
      "INFO:baseline_int.src.sweep.sweep.Simulator:Batch size: 100\n",
      "INFO:baseline_int.src.sweep.sweep.Simulator:Bandwidth (bits/cycle): 1024\n",
      " 56%|█████▋    | 45/80 [52:18<33:19, 57.13s/it]"
     ]
    },
    {
     "name": "stdout",
     "output_type": "stream",
     "text": [
      "Got BitFusion Eyeriss, Numbers\n"
     ]
    },
    {
     "name": "stderr",
     "output_type": "stream",
     "text": [
      "INFO:baseline_int.src.sweep.sweep.Simulator:Simulating Benchmark: CIFAR10SNN\n",
      "INFO:baseline_int.src.sweep.sweep.Simulator:N x M = 2 x 32\n",
      "INFO:baseline_int.src.sweep.sweep.Simulator:Max Precision (bits): 8\n",
      "INFO:baseline_int.src.sweep.sweep.Simulator:Min Precision (bits): 8\n",
      "INFO:baseline_int.src.sweep.sweep.Simulator:Batch size: 100\n",
      "INFO:baseline_int.src.sweep.sweep.Simulator:Bandwidth (bits/cycle): 1024\n",
      "INFO:baseline_int.src.sweep.sweep.Simulator:Simulating Benchmark: DVS128Gesture\n",
      "INFO:baseline_int.src.sweep.sweep.Simulator:N x M = 2 x 32\n",
      "INFO:baseline_int.src.sweep.sweep.Simulator:Max Precision (bits): 8\n",
      "INFO:baseline_int.src.sweep.sweep.Simulator:Min Precision (bits): 8\n",
      "INFO:baseline_int.src.sweep.sweep.Simulator:Batch size: 100\n",
      "INFO:baseline_int.src.sweep.sweep.Simulator:Bandwidth (bits/cycle): 1024\n",
      "INFO:baseline_int.src.sweep.sweep.Simulator:Simulating Benchmark: ImageNetSNN\n",
      "INFO:baseline_int.src.sweep.sweep.Simulator:N x M = 2 x 32\n",
      "INFO:baseline_int.src.sweep.sweep.Simulator:Max Precision (bits): 8\n",
      "INFO:baseline_int.src.sweep.sweep.Simulator:Min Precision (bits): 8\n",
      "INFO:baseline_int.src.sweep.sweep.Simulator:Batch size: 100\n",
      "INFO:baseline_int.src.sweep.sweep.Simulator:Bandwidth (bits/cycle): 1024\n",
      " 57%|█████▊    | 46/80 [53:11<31:40, 55.90s/it]"
     ]
    },
    {
     "name": "stdout",
     "output_type": "stream",
     "text": [
      "Got BitFusion Eyeriss, Numbers\n"
     ]
    },
    {
     "name": "stderr",
     "output_type": "stream",
     "text": [
      "INFO:baseline_int.src.sweep.sweep.Simulator:Simulating Benchmark: CIFAR10SNN\n",
      "INFO:baseline_int.src.sweep.sweep.Simulator:N x M = 4 x 32\n",
      "INFO:baseline_int.src.sweep.sweep.Simulator:Max Precision (bits): 8\n",
      "INFO:baseline_int.src.sweep.sweep.Simulator:Min Precision (bits): 8\n",
      "INFO:baseline_int.src.sweep.sweep.Simulator:Batch size: 100\n",
      "INFO:baseline_int.src.sweep.sweep.Simulator:Bandwidth (bits/cycle): 1024\n",
      "INFO:baseline_int.src.sweep.sweep.Simulator:Simulating Benchmark: DVS128Gesture\n",
      "INFO:baseline_int.src.sweep.sweep.Simulator:N x M = 4 x 32\n",
      "INFO:baseline_int.src.sweep.sweep.Simulator:Max Precision (bits): 8\n",
      "INFO:baseline_int.src.sweep.sweep.Simulator:Min Precision (bits): 8\n",
      "INFO:baseline_int.src.sweep.sweep.Simulator:Batch size: 100\n",
      "INFO:baseline_int.src.sweep.sweep.Simulator:Bandwidth (bits/cycle): 1024\n",
      "INFO:baseline_int.src.sweep.sweep.Simulator:Simulating Benchmark: ImageNetSNN\n",
      "INFO:baseline_int.src.sweep.sweep.Simulator:N x M = 4 x 32\n",
      "INFO:baseline_int.src.sweep.sweep.Simulator:Max Precision (bits): 8\n",
      "INFO:baseline_int.src.sweep.sweep.Simulator:Min Precision (bits): 8\n",
      "INFO:baseline_int.src.sweep.sweep.Simulator:Batch size: 100\n",
      "INFO:baseline_int.src.sweep.sweep.Simulator:Bandwidth (bits/cycle): 1024\n",
      " 59%|█████▉    | 47/80 [54:04<30:15, 55.02s/it]"
     ]
    },
    {
     "name": "stdout",
     "output_type": "stream",
     "text": [
      "Got BitFusion Eyeriss, Numbers\n"
     ]
    },
    {
     "name": "stderr",
     "output_type": "stream",
     "text": [
      "INFO:baseline_int.src.sweep.sweep.Simulator:Simulating Benchmark: CIFAR10SNN\n",
      "INFO:baseline_int.src.sweep.sweep.Simulator:N x M = 8 x 32\n",
      "INFO:baseline_int.src.sweep.sweep.Simulator:Max Precision (bits): 8\n",
      "INFO:baseline_int.src.sweep.sweep.Simulator:Min Precision (bits): 8\n",
      "INFO:baseline_int.src.sweep.sweep.Simulator:Batch size: 100\n",
      "INFO:baseline_int.src.sweep.sweep.Simulator:Bandwidth (bits/cycle): 1024\n",
      "INFO:baseline_int.src.sweep.sweep.Simulator:Simulating Benchmark: DVS128Gesture\n",
      "INFO:baseline_int.src.sweep.sweep.Simulator:N x M = 8 x 32\n",
      "INFO:baseline_int.src.sweep.sweep.Simulator:Max Precision (bits): 8\n",
      "INFO:baseline_int.src.sweep.sweep.Simulator:Min Precision (bits): 8\n",
      "INFO:baseline_int.src.sweep.sweep.Simulator:Batch size: 100\n",
      "INFO:baseline_int.src.sweep.sweep.Simulator:Bandwidth (bits/cycle): 1024\n",
      "INFO:baseline_int.src.sweep.sweep.Simulator:Simulating Benchmark: ImageNetSNN\n",
      "INFO:baseline_int.src.sweep.sweep.Simulator:N x M = 8 x 32\n",
      "INFO:baseline_int.src.sweep.sweep.Simulator:Max Precision (bits): 8\n",
      "INFO:baseline_int.src.sweep.sweep.Simulator:Min Precision (bits): 8\n",
      "INFO:baseline_int.src.sweep.sweep.Simulator:Batch size: 100\n",
      "INFO:baseline_int.src.sweep.sweep.Simulator:Bandwidth (bits/cycle): 1024\n",
      " 60%|██████    | 48/80 [54:57<29:01, 54.42s/it]"
     ]
    },
    {
     "name": "stdout",
     "output_type": "stream",
     "text": [
      "Got BitFusion Eyeriss, Numbers\n"
     ]
    },
    {
     "name": "stderr",
     "output_type": "stream",
     "text": [
      "INFO:baseline_int.src.sweep.sweep.Simulator:Simulating Benchmark: CIFAR10SNN\n",
      "INFO:baseline_int.src.sweep.sweep.Simulator:N x M = 16 x 32\n",
      "INFO:baseline_int.src.sweep.sweep.Simulator:Max Precision (bits): 8\n",
      "INFO:baseline_int.src.sweep.sweep.Simulator:Min Precision (bits): 8\n",
      "INFO:baseline_int.src.sweep.sweep.Simulator:Batch size: 100\n",
      "INFO:baseline_int.src.sweep.sweep.Simulator:Bandwidth (bits/cycle): 1024\n",
      "INFO:baseline_int.src.sweep.sweep.Simulator:Simulating Benchmark: DVS128Gesture\n",
      "INFO:baseline_int.src.sweep.sweep.Simulator:N x M = 16 x 32\n",
      "INFO:baseline_int.src.sweep.sweep.Simulator:Max Precision (bits): 8\n",
      "INFO:baseline_int.src.sweep.sweep.Simulator:Min Precision (bits): 8\n",
      "INFO:baseline_int.src.sweep.sweep.Simulator:Batch size: 100\n",
      "INFO:baseline_int.src.sweep.sweep.Simulator:Bandwidth (bits/cycle): 1024\n",
      "INFO:baseline_int.src.sweep.sweep.Simulator:Simulating Benchmark: ImageNetSNN\n",
      "INFO:baseline_int.src.sweep.sweep.Simulator:N x M = 16 x 32\n",
      "INFO:baseline_int.src.sweep.sweep.Simulator:Max Precision (bits): 8\n",
      "INFO:baseline_int.src.sweep.sweep.Simulator:Min Precision (bits): 8\n",
      "INFO:baseline_int.src.sweep.sweep.Simulator:Batch size: 100\n",
      "INFO:baseline_int.src.sweep.sweep.Simulator:Bandwidth (bits/cycle): 1024\n",
      " 61%|██████▏   | 49/80 [55:50<27:51, 53.91s/it]"
     ]
    },
    {
     "name": "stdout",
     "output_type": "stream",
     "text": [
      "Got BitFusion Eyeriss, Numbers\n"
     ]
    },
    {
     "name": "stderr",
     "output_type": "stream",
     "text": [
      "INFO:baseline_int.src.sweep.sweep.Simulator:Simulating Benchmark: CIFAR10SNN\n",
      "INFO:baseline_int.src.sweep.sweep.Simulator:N x M = 32 x 32\n",
      "INFO:baseline_int.src.sweep.sweep.Simulator:Max Precision (bits): 8\n",
      "INFO:baseline_int.src.sweep.sweep.Simulator:Min Precision (bits): 8\n",
      "INFO:baseline_int.src.sweep.sweep.Simulator:Batch size: 100\n",
      "INFO:baseline_int.src.sweep.sweep.Simulator:Bandwidth (bits/cycle): 1024\n",
      "INFO:baseline_int.src.sweep.sweep.Simulator:Simulating Benchmark: DVS128Gesture\n",
      "INFO:baseline_int.src.sweep.sweep.Simulator:N x M = 32 x 32\n",
      "INFO:baseline_int.src.sweep.sweep.Simulator:Max Precision (bits): 8\n",
      "INFO:baseline_int.src.sweep.sweep.Simulator:Min Precision (bits): 8\n",
      "INFO:baseline_int.src.sweep.sweep.Simulator:Batch size: 100\n",
      "INFO:baseline_int.src.sweep.sweep.Simulator:Bandwidth (bits/cycle): 1024\n",
      "INFO:baseline_int.src.sweep.sweep.Simulator:Simulating Benchmark: ImageNetSNN\n",
      "INFO:baseline_int.src.sweep.sweep.Simulator:N x M = 32 x 32\n",
      "INFO:baseline_int.src.sweep.sweep.Simulator:Max Precision (bits): 8\n",
      "INFO:baseline_int.src.sweep.sweep.Simulator:Min Precision (bits): 8\n",
      "INFO:baseline_int.src.sweep.sweep.Simulator:Batch size: 100\n",
      "INFO:baseline_int.src.sweep.sweep.Simulator:Bandwidth (bits/cycle): 1024\n",
      " 62%|██████▎   | 50/80 [56:42<26:47, 53.57s/it]"
     ]
    },
    {
     "name": "stdout",
     "output_type": "stream",
     "text": [
      "Got BitFusion Eyeriss, Numbers\n"
     ]
    },
    {
     "name": "stderr",
     "output_type": "stream",
     "text": [
      "INFO:baseline_int.src.sweep.sweep.Simulator:Simulating Benchmark: CIFAR10SNN\n",
      "INFO:baseline_int.src.sweep.sweep.Simulator:N x M = 64 x 32\n",
      "INFO:baseline_int.src.sweep.sweep.Simulator:Max Precision (bits): 8\n",
      "INFO:baseline_int.src.sweep.sweep.Simulator:Min Precision (bits): 8\n",
      "INFO:baseline_int.src.sweep.sweep.Simulator:Batch size: 100\n",
      "INFO:baseline_int.src.sweep.sweep.Simulator:Bandwidth (bits/cycle): 1024\n",
      "INFO:baseline_int.src.sweep.sweep.Simulator:Simulating Benchmark: DVS128Gesture\n",
      "INFO:baseline_int.src.sweep.sweep.Simulator:N x M = 64 x 32\n",
      "INFO:baseline_int.src.sweep.sweep.Simulator:Max Precision (bits): 8\n",
      "INFO:baseline_int.src.sweep.sweep.Simulator:Min Precision (bits): 8\n",
      "INFO:baseline_int.src.sweep.sweep.Simulator:Batch size: 100\n",
      "INFO:baseline_int.src.sweep.sweep.Simulator:Bandwidth (bits/cycle): 1024\n",
      "INFO:baseline_int.src.sweep.sweep.Simulator:Simulating Benchmark: ImageNetSNN\n",
      "INFO:baseline_int.src.sweep.sweep.Simulator:N x M = 64 x 32\n",
      "INFO:baseline_int.src.sweep.sweep.Simulator:Max Precision (bits): 8\n",
      "INFO:baseline_int.src.sweep.sweep.Simulator:Min Precision (bits): 8\n",
      "INFO:baseline_int.src.sweep.sweep.Simulator:Batch size: 100\n",
      "INFO:baseline_int.src.sweep.sweep.Simulator:Bandwidth (bits/cycle): 1024\n",
      " 64%|██████▍   | 51/80 [57:36<25:50, 53.47s/it]"
     ]
    },
    {
     "name": "stdout",
     "output_type": "stream",
     "text": [
      "Got BitFusion Eyeriss, Numbers\n"
     ]
    },
    {
     "name": "stderr",
     "output_type": "stream",
     "text": [
      "INFO:baseline_int.src.sweep.sweep.Simulator:Simulating Benchmark: CIFAR10SNN\n",
      "INFO:baseline_int.src.sweep.sweep.Simulator:N x M = 128 x 32\n",
      "INFO:baseline_int.src.sweep.sweep.Simulator:Max Precision (bits): 8\n",
      "INFO:baseline_int.src.sweep.sweep.Simulator:Min Precision (bits): 8\n",
      "INFO:baseline_int.src.sweep.sweep.Simulator:Batch size: 100\n",
      "INFO:baseline_int.src.sweep.sweep.Simulator:Bandwidth (bits/cycle): 1024\n",
      "INFO:baseline_int.src.sweep.sweep.Simulator:Simulating Benchmark: DVS128Gesture\n",
      "INFO:baseline_int.src.sweep.sweep.Simulator:N x M = 128 x 32\n",
      "INFO:baseline_int.src.sweep.sweep.Simulator:Max Precision (bits): 8\n",
      "INFO:baseline_int.src.sweep.sweep.Simulator:Min Precision (bits): 8\n",
      "INFO:baseline_int.src.sweep.sweep.Simulator:Batch size: 100\n",
      "INFO:baseline_int.src.sweep.sweep.Simulator:Bandwidth (bits/cycle): 1024\n",
      "INFO:baseline_int.src.sweep.sweep.Simulator:Simulating Benchmark: ImageNetSNN\n",
      "INFO:baseline_int.src.sweep.sweep.Simulator:N x M = 128 x 32\n",
      "INFO:baseline_int.src.sweep.sweep.Simulator:Max Precision (bits): 8\n",
      "INFO:baseline_int.src.sweep.sweep.Simulator:Min Precision (bits): 8\n",
      "INFO:baseline_int.src.sweep.sweep.Simulator:Batch size: 100\n",
      "INFO:baseline_int.src.sweep.sweep.Simulator:Bandwidth (bits/cycle): 1024\n",
      " 65%|██████▌   | 52/80 [58:29<24:53, 53.35s/it]"
     ]
    },
    {
     "name": "stdout",
     "output_type": "stream",
     "text": [
      "Got BitFusion Eyeriss, Numbers\n"
     ]
    },
    {
     "name": "stderr",
     "output_type": "stream",
     "text": [
      "INFO:baseline_int.src.sweep.sweep.Simulator:Simulating Benchmark: CIFAR10SNN\n",
      "INFO:baseline_int.src.sweep.sweep.Simulator:N x M = 256 x 32\n",
      "INFO:baseline_int.src.sweep.sweep.Simulator:Max Precision (bits): 8\n",
      "INFO:baseline_int.src.sweep.sweep.Simulator:Min Precision (bits): 8\n",
      "INFO:baseline_int.src.sweep.sweep.Simulator:Batch size: 100\n",
      "INFO:baseline_int.src.sweep.sweep.Simulator:Bandwidth (bits/cycle): 1024\n",
      "INFO:baseline_int.src.sweep.sweep.Simulator:Simulating Benchmark: DVS128Gesture\n",
      "INFO:baseline_int.src.sweep.sweep.Simulator:N x M = 256 x 32\n",
      "INFO:baseline_int.src.sweep.sweep.Simulator:Max Precision (bits): 8\n",
      "INFO:baseline_int.src.sweep.sweep.Simulator:Min Precision (bits): 8\n",
      "INFO:baseline_int.src.sweep.sweep.Simulator:Batch size: 100\n",
      "INFO:baseline_int.src.sweep.sweep.Simulator:Bandwidth (bits/cycle): 1024\n",
      "INFO:baseline_int.src.sweep.sweep.Simulator:Simulating Benchmark: ImageNetSNN\n",
      "INFO:baseline_int.src.sweep.sweep.Simulator:N x M = 256 x 32\n",
      "INFO:baseline_int.src.sweep.sweep.Simulator:Max Precision (bits): 8\n",
      "INFO:baseline_int.src.sweep.sweep.Simulator:Min Precision (bits): 8\n",
      "INFO:baseline_int.src.sweep.sweep.Simulator:Batch size: 100\n",
      "INFO:baseline_int.src.sweep.sweep.Simulator:Bandwidth (bits/cycle): 1024\n",
      " 66%|██████▋   | 53/80 [59:22<23:58, 53.27s/it]"
     ]
    },
    {
     "name": "stdout",
     "output_type": "stream",
     "text": [
      "Got BitFusion Eyeriss, Numbers\n"
     ]
    },
    {
     "name": "stderr",
     "output_type": "stream",
     "text": [
      "INFO:baseline_int.src.sweep.sweep.Simulator:Simulating Benchmark: CIFAR10SNN\n",
      "INFO:baseline_int.src.sweep.sweep.Simulator:N x M = 1 x 64\n",
      "INFO:baseline_int.src.sweep.sweep.Simulator:Max Precision (bits): 8\n",
      "INFO:baseline_int.src.sweep.sweep.Simulator:Min Precision (bits): 8\n",
      "INFO:baseline_int.src.sweep.sweep.Simulator:Batch size: 100\n",
      "INFO:baseline_int.src.sweep.sweep.Simulator:Bandwidth (bits/cycle): 1024\n",
      "INFO:baseline_int.src.sweep.sweep.Simulator:Simulating Benchmark: DVS128Gesture\n",
      "INFO:baseline_int.src.sweep.sweep.Simulator:N x M = 1 x 64\n",
      "INFO:baseline_int.src.sweep.sweep.Simulator:Max Precision (bits): 8\n",
      "INFO:baseline_int.src.sweep.sweep.Simulator:Min Precision (bits): 8\n",
      "INFO:baseline_int.src.sweep.sweep.Simulator:Batch size: 100\n",
      "INFO:baseline_int.src.sweep.sweep.Simulator:Bandwidth (bits/cycle): 1024\n",
      "INFO:baseline_int.src.sweep.sweep.Simulator:Simulating Benchmark: ImageNetSNN\n",
      "INFO:baseline_int.src.sweep.sweep.Simulator:N x M = 1 x 64\n",
      "INFO:baseline_int.src.sweep.sweep.Simulator:Max Precision (bits): 8\n",
      "INFO:baseline_int.src.sweep.sweep.Simulator:Min Precision (bits): 8\n",
      "INFO:baseline_int.src.sweep.sweep.Simulator:Batch size: 100\n",
      "INFO:baseline_int.src.sweep.sweep.Simulator:Bandwidth (bits/cycle): 1024\n",
      " 68%|██████▊   | 54/80 [1:00:09<22:20, 51.56s/it]"
     ]
    },
    {
     "name": "stdout",
     "output_type": "stream",
     "text": [
      "Got BitFusion Eyeriss, Numbers\n"
     ]
    },
    {
     "name": "stderr",
     "output_type": "stream",
     "text": [
      "INFO:baseline_int.src.sweep.sweep.Simulator:Simulating Benchmark: CIFAR10SNN\n",
      "INFO:baseline_int.src.sweep.sweep.Simulator:N x M = 2 x 64\n",
      "INFO:baseline_int.src.sweep.sweep.Simulator:Max Precision (bits): 8\n",
      "INFO:baseline_int.src.sweep.sweep.Simulator:Min Precision (bits): 8\n",
      "INFO:baseline_int.src.sweep.sweep.Simulator:Batch size: 100\n",
      "INFO:baseline_int.src.sweep.sweep.Simulator:Bandwidth (bits/cycle): 1024\n",
      "INFO:baseline_int.src.sweep.sweep.Simulator:Simulating Benchmark: DVS128Gesture\n",
      "INFO:baseline_int.src.sweep.sweep.Simulator:N x M = 2 x 64\n",
      "INFO:baseline_int.src.sweep.sweep.Simulator:Max Precision (bits): 8\n",
      "INFO:baseline_int.src.sweep.sweep.Simulator:Min Precision (bits): 8\n",
      "INFO:baseline_int.src.sweep.sweep.Simulator:Batch size: 100\n",
      "INFO:baseline_int.src.sweep.sweep.Simulator:Bandwidth (bits/cycle): 1024\n",
      "INFO:baseline_int.src.sweep.sweep.Simulator:Simulating Benchmark: ImageNetSNN\n",
      "INFO:baseline_int.src.sweep.sweep.Simulator:N x M = 2 x 64\n",
      "INFO:baseline_int.src.sweep.sweep.Simulator:Max Precision (bits): 8\n",
      "INFO:baseline_int.src.sweep.sweep.Simulator:Min Precision (bits): 8\n",
      "INFO:baseline_int.src.sweep.sweep.Simulator:Batch size: 100\n",
      "INFO:baseline_int.src.sweep.sweep.Simulator:Bandwidth (bits/cycle): 1024\n",
      " 69%|██████▉   | 55/80 [1:00:57<21:00, 50.41s/it]"
     ]
    },
    {
     "name": "stdout",
     "output_type": "stream",
     "text": [
      "Got BitFusion Eyeriss, Numbers\n"
     ]
    },
    {
     "name": "stderr",
     "output_type": "stream",
     "text": [
      "INFO:baseline_int.src.sweep.sweep.Simulator:Simulating Benchmark: CIFAR10SNN\n",
      "INFO:baseline_int.src.sweep.sweep.Simulator:N x M = 4 x 64\n",
      "INFO:baseline_int.src.sweep.sweep.Simulator:Max Precision (bits): 8\n",
      "INFO:baseline_int.src.sweep.sweep.Simulator:Min Precision (bits): 8\n",
      "INFO:baseline_int.src.sweep.sweep.Simulator:Batch size: 100\n",
      "INFO:baseline_int.src.sweep.sweep.Simulator:Bandwidth (bits/cycle): 1024\n",
      "INFO:baseline_int.src.sweep.sweep.Simulator:Simulating Benchmark: DVS128Gesture\n",
      "INFO:baseline_int.src.sweep.sweep.Simulator:N x M = 4 x 64\n",
      "INFO:baseline_int.src.sweep.sweep.Simulator:Max Precision (bits): 8\n",
      "INFO:baseline_int.src.sweep.sweep.Simulator:Min Precision (bits): 8\n",
      "INFO:baseline_int.src.sweep.sweep.Simulator:Batch size: 100\n",
      "INFO:baseline_int.src.sweep.sweep.Simulator:Bandwidth (bits/cycle): 1024\n",
      "INFO:baseline_int.src.sweep.sweep.Simulator:Simulating Benchmark: ImageNetSNN\n",
      "INFO:baseline_int.src.sweep.sweep.Simulator:N x M = 4 x 64\n",
      "INFO:baseline_int.src.sweep.sweep.Simulator:Max Precision (bits): 8\n",
      "INFO:baseline_int.src.sweep.sweep.Simulator:Min Precision (bits): 8\n",
      "INFO:baseline_int.src.sweep.sweep.Simulator:Batch size: 100\n",
      "INFO:baseline_int.src.sweep.sweep.Simulator:Bandwidth (bits/cycle): 1024\n",
      " 70%|███████   | 56/80 [1:01:45<19:50, 49.61s/it]"
     ]
    },
    {
     "name": "stdout",
     "output_type": "stream",
     "text": [
      "Got BitFusion Eyeriss, Numbers\n"
     ]
    },
    {
     "name": "stderr",
     "output_type": "stream",
     "text": [
      "INFO:baseline_int.src.sweep.sweep.Simulator:Simulating Benchmark: CIFAR10SNN\n",
      "INFO:baseline_int.src.sweep.sweep.Simulator:N x M = 8 x 64\n",
      "INFO:baseline_int.src.sweep.sweep.Simulator:Max Precision (bits): 8\n",
      "INFO:baseline_int.src.sweep.sweep.Simulator:Min Precision (bits): 8\n",
      "INFO:baseline_int.src.sweep.sweep.Simulator:Batch size: 100\n",
      "INFO:baseline_int.src.sweep.sweep.Simulator:Bandwidth (bits/cycle): 1024\n",
      "INFO:baseline_int.src.sweep.sweep.Simulator:Simulating Benchmark: DVS128Gesture\n",
      "INFO:baseline_int.src.sweep.sweep.Simulator:N x M = 8 x 64\n",
      "INFO:baseline_int.src.sweep.sweep.Simulator:Max Precision (bits): 8\n",
      "INFO:baseline_int.src.sweep.sweep.Simulator:Min Precision (bits): 8\n",
      "INFO:baseline_int.src.sweep.sweep.Simulator:Batch size: 100\n",
      "INFO:baseline_int.src.sweep.sweep.Simulator:Bandwidth (bits/cycle): 1024\n",
      "INFO:baseline_int.src.sweep.sweep.Simulator:Simulating Benchmark: ImageNetSNN\n",
      "INFO:baseline_int.src.sweep.sweep.Simulator:N x M = 8 x 64\n",
      "INFO:baseline_int.src.sweep.sweep.Simulator:Max Precision (bits): 8\n",
      "INFO:baseline_int.src.sweep.sweep.Simulator:Min Precision (bits): 8\n",
      "INFO:baseline_int.src.sweep.sweep.Simulator:Batch size: 100\n",
      "INFO:baseline_int.src.sweep.sweep.Simulator:Bandwidth (bits/cycle): 1024\n",
      " 71%|███████▏  | 57/80 [1:02:33<18:52, 49.24s/it]"
     ]
    },
    {
     "name": "stdout",
     "output_type": "stream",
     "text": [
      "Got BitFusion Eyeriss, Numbers\n"
     ]
    },
    {
     "name": "stderr",
     "output_type": "stream",
     "text": [
      "INFO:baseline_int.src.sweep.sweep.Simulator:Simulating Benchmark: CIFAR10SNN\n",
      "INFO:baseline_int.src.sweep.sweep.Simulator:N x M = 16 x 64\n",
      "INFO:baseline_int.src.sweep.sweep.Simulator:Max Precision (bits): 8\n",
      "INFO:baseline_int.src.sweep.sweep.Simulator:Min Precision (bits): 8\n",
      "INFO:baseline_int.src.sweep.sweep.Simulator:Batch size: 100\n",
      "INFO:baseline_int.src.sweep.sweep.Simulator:Bandwidth (bits/cycle): 1024\n",
      "INFO:baseline_int.src.sweep.sweep.Simulator:Simulating Benchmark: DVS128Gesture\n",
      "INFO:baseline_int.src.sweep.sweep.Simulator:N x M = 16 x 64\n",
      "INFO:baseline_int.src.sweep.sweep.Simulator:Max Precision (bits): 8\n",
      "INFO:baseline_int.src.sweep.sweep.Simulator:Min Precision (bits): 8\n",
      "INFO:baseline_int.src.sweep.sweep.Simulator:Batch size: 100\n",
      "INFO:baseline_int.src.sweep.sweep.Simulator:Bandwidth (bits/cycle): 1024\n",
      "INFO:baseline_int.src.sweep.sweep.Simulator:Simulating Benchmark: ImageNetSNN\n",
      "INFO:baseline_int.src.sweep.sweep.Simulator:N x M = 16 x 64\n",
      "INFO:baseline_int.src.sweep.sweep.Simulator:Max Precision (bits): 8\n",
      "INFO:baseline_int.src.sweep.sweep.Simulator:Min Precision (bits): 8\n",
      "INFO:baseline_int.src.sweep.sweep.Simulator:Batch size: 100\n",
      "INFO:baseline_int.src.sweep.sweep.Simulator:Bandwidth (bits/cycle): 1024\n",
      " 72%|███████▎  | 58/80 [1:03:21<17:57, 48.96s/it]"
     ]
    },
    {
     "name": "stdout",
     "output_type": "stream",
     "text": [
      "Got BitFusion Eyeriss, Numbers\n"
     ]
    },
    {
     "name": "stderr",
     "output_type": "stream",
     "text": [
      "INFO:baseline_int.src.sweep.sweep.Simulator:Simulating Benchmark: CIFAR10SNN\n",
      "INFO:baseline_int.src.sweep.sweep.Simulator:N x M = 32 x 64\n",
      "INFO:baseline_int.src.sweep.sweep.Simulator:Max Precision (bits): 8\n",
      "INFO:baseline_int.src.sweep.sweep.Simulator:Min Precision (bits): 8\n",
      "INFO:baseline_int.src.sweep.sweep.Simulator:Batch size: 100\n",
      "INFO:baseline_int.src.sweep.sweep.Simulator:Bandwidth (bits/cycle): 1024\n",
      "INFO:baseline_int.src.sweep.sweep.Simulator:Simulating Benchmark: DVS128Gesture\n",
      "INFO:baseline_int.src.sweep.sweep.Simulator:N x M = 32 x 64\n",
      "INFO:baseline_int.src.sweep.sweep.Simulator:Max Precision (bits): 8\n",
      "INFO:baseline_int.src.sweep.sweep.Simulator:Min Precision (bits): 8\n",
      "INFO:baseline_int.src.sweep.sweep.Simulator:Batch size: 100\n",
      "INFO:baseline_int.src.sweep.sweep.Simulator:Bandwidth (bits/cycle): 1024\n",
      "INFO:baseline_int.src.sweep.sweep.Simulator:Simulating Benchmark: ImageNetSNN\n",
      "INFO:baseline_int.src.sweep.sweep.Simulator:N x M = 32 x 64\n",
      "INFO:baseline_int.src.sweep.sweep.Simulator:Max Precision (bits): 8\n",
      "INFO:baseline_int.src.sweep.sweep.Simulator:Min Precision (bits): 8\n",
      "INFO:baseline_int.src.sweep.sweep.Simulator:Batch size: 100\n",
      "INFO:baseline_int.src.sweep.sweep.Simulator:Bandwidth (bits/cycle): 1024\n",
      " 74%|███████▍  | 59/80 [1:04:09<17:01, 48.66s/it]"
     ]
    },
    {
     "name": "stdout",
     "output_type": "stream",
     "text": [
      "Got BitFusion Eyeriss, Numbers\n"
     ]
    },
    {
     "name": "stderr",
     "output_type": "stream",
     "text": [
      "INFO:baseline_int.src.sweep.sweep.Simulator:Simulating Benchmark: CIFAR10SNN\n",
      "INFO:baseline_int.src.sweep.sweep.Simulator:N x M = 64 x 64\n",
      "INFO:baseline_int.src.sweep.sweep.Simulator:Max Precision (bits): 8\n",
      "INFO:baseline_int.src.sweep.sweep.Simulator:Min Precision (bits): 8\n",
      "INFO:baseline_int.src.sweep.sweep.Simulator:Batch size: 100\n",
      "INFO:baseline_int.src.sweep.sweep.Simulator:Bandwidth (bits/cycle): 1024\n",
      "INFO:baseline_int.src.sweep.sweep.Simulator:Simulating Benchmark: DVS128Gesture\n",
      "INFO:baseline_int.src.sweep.sweep.Simulator:N x M = 64 x 64\n",
      "INFO:baseline_int.src.sweep.sweep.Simulator:Max Precision (bits): 8\n",
      "INFO:baseline_int.src.sweep.sweep.Simulator:Min Precision (bits): 8\n",
      "INFO:baseline_int.src.sweep.sweep.Simulator:Batch size: 100\n",
      "INFO:baseline_int.src.sweep.sweep.Simulator:Bandwidth (bits/cycle): 1024\n",
      "INFO:baseline_int.src.sweep.sweep.Simulator:Simulating Benchmark: ImageNetSNN\n",
      "INFO:baseline_int.src.sweep.sweep.Simulator:N x M = 64 x 64\n",
      "INFO:baseline_int.src.sweep.sweep.Simulator:Max Precision (bits): 8\n",
      "INFO:baseline_int.src.sweep.sweep.Simulator:Min Precision (bits): 8\n",
      "INFO:baseline_int.src.sweep.sweep.Simulator:Batch size: 100\n",
      "INFO:baseline_int.src.sweep.sweep.Simulator:Bandwidth (bits/cycle): 1024\n",
      " 75%|███████▌  | 60/80 [1:04:58<16:12, 48.63s/it]"
     ]
    },
    {
     "name": "stdout",
     "output_type": "stream",
     "text": [
      "Got BitFusion Eyeriss, Numbers\n"
     ]
    },
    {
     "name": "stderr",
     "output_type": "stream",
     "text": [
      "INFO:baseline_int.src.sweep.sweep.Simulator:Simulating Benchmark: CIFAR10SNN\n",
      "INFO:baseline_int.src.sweep.sweep.Simulator:N x M = 128 x 64\n",
      "INFO:baseline_int.src.sweep.sweep.Simulator:Max Precision (bits): 8\n",
      "INFO:baseline_int.src.sweep.sweep.Simulator:Min Precision (bits): 8\n",
      "INFO:baseline_int.src.sweep.sweep.Simulator:Batch size: 100\n",
      "INFO:baseline_int.src.sweep.sweep.Simulator:Bandwidth (bits/cycle): 1024\n",
      "INFO:baseline_int.src.sweep.sweep.Simulator:Simulating Benchmark: DVS128Gesture\n",
      "INFO:baseline_int.src.sweep.sweep.Simulator:N x M = 128 x 64\n",
      "INFO:baseline_int.src.sweep.sweep.Simulator:Max Precision (bits): 8\n",
      "INFO:baseline_int.src.sweep.sweep.Simulator:Min Precision (bits): 8\n",
      "INFO:baseline_int.src.sweep.sweep.Simulator:Batch size: 100\n",
      "INFO:baseline_int.src.sweep.sweep.Simulator:Bandwidth (bits/cycle): 1024\n",
      "INFO:baseline_int.src.sweep.sweep.Simulator:Simulating Benchmark: ImageNetSNN\n",
      "INFO:baseline_int.src.sweep.sweep.Simulator:N x M = 128 x 64\n",
      "INFO:baseline_int.src.sweep.sweep.Simulator:Max Precision (bits): 8\n",
      "INFO:baseline_int.src.sweep.sweep.Simulator:Min Precision (bits): 8\n",
      "INFO:baseline_int.src.sweep.sweep.Simulator:Batch size: 100\n",
      "INFO:baseline_int.src.sweep.sweep.Simulator:Bandwidth (bits/cycle): 1024\n",
      " 76%|███████▋  | 61/80 [1:05:47<15:24, 48.67s/it]"
     ]
    },
    {
     "name": "stdout",
     "output_type": "stream",
     "text": [
      "Got BitFusion Eyeriss, Numbers\n"
     ]
    },
    {
     "name": "stderr",
     "output_type": "stream",
     "text": [
      "INFO:baseline_int.src.sweep.sweep.Simulator:Simulating Benchmark: CIFAR10SNN\n",
      "INFO:baseline_int.src.sweep.sweep.Simulator:N x M = 256 x 64\n",
      "INFO:baseline_int.src.sweep.sweep.Simulator:Max Precision (bits): 8\n",
      "INFO:baseline_int.src.sweep.sweep.Simulator:Min Precision (bits): 8\n",
      "INFO:baseline_int.src.sweep.sweep.Simulator:Batch size: 100\n",
      "INFO:baseline_int.src.sweep.sweep.Simulator:Bandwidth (bits/cycle): 1024\n",
      "INFO:baseline_int.src.sweep.sweep.Simulator:Simulating Benchmark: DVS128Gesture\n",
      "INFO:baseline_int.src.sweep.sweep.Simulator:N x M = 256 x 64\n",
      "INFO:baseline_int.src.sweep.sweep.Simulator:Max Precision (bits): 8\n",
      "INFO:baseline_int.src.sweep.sweep.Simulator:Min Precision (bits): 8\n",
      "INFO:baseline_int.src.sweep.sweep.Simulator:Batch size: 100\n",
      "INFO:baseline_int.src.sweep.sweep.Simulator:Bandwidth (bits/cycle): 1024\n",
      "INFO:baseline_int.src.sweep.sweep.Simulator:Simulating Benchmark: ImageNetSNN\n",
      "INFO:baseline_int.src.sweep.sweep.Simulator:N x M = 256 x 64\n",
      "INFO:baseline_int.src.sweep.sweep.Simulator:Max Precision (bits): 8\n",
      "INFO:baseline_int.src.sweep.sweep.Simulator:Min Precision (bits): 8\n",
      "INFO:baseline_int.src.sweep.sweep.Simulator:Batch size: 100\n",
      "INFO:baseline_int.src.sweep.sweep.Simulator:Bandwidth (bits/cycle): 1024\n",
      " 78%|███████▊  | 62/80 [1:06:35<14:32, 48.46s/it]"
     ]
    },
    {
     "name": "stdout",
     "output_type": "stream",
     "text": [
      "Got BitFusion Eyeriss, Numbers\n"
     ]
    },
    {
     "name": "stderr",
     "output_type": "stream",
     "text": [
      "INFO:baseline_int.src.sweep.sweep.Simulator:Simulating Benchmark: CIFAR10SNN\n",
      "INFO:baseline_int.src.sweep.sweep.Simulator:N x M = 1 x 128\n",
      "INFO:baseline_int.src.sweep.sweep.Simulator:Max Precision (bits): 8\n",
      "INFO:baseline_int.src.sweep.sweep.Simulator:Min Precision (bits): 8\n",
      "INFO:baseline_int.src.sweep.sweep.Simulator:Batch size: 100\n",
      "INFO:baseline_int.src.sweep.sweep.Simulator:Bandwidth (bits/cycle): 1024\n",
      "INFO:baseline_int.src.sweep.sweep.Simulator:Simulating Benchmark: DVS128Gesture\n",
      "INFO:baseline_int.src.sweep.sweep.Simulator:N x M = 1 x 128\n",
      "INFO:baseline_int.src.sweep.sweep.Simulator:Max Precision (bits): 8\n",
      "INFO:baseline_int.src.sweep.sweep.Simulator:Min Precision (bits): 8\n",
      "INFO:baseline_int.src.sweep.sweep.Simulator:Batch size: 100\n",
      "INFO:baseline_int.src.sweep.sweep.Simulator:Bandwidth (bits/cycle): 1024\n",
      "INFO:baseline_int.src.sweep.sweep.Simulator:Simulating Benchmark: ImageNetSNN\n",
      "INFO:baseline_int.src.sweep.sweep.Simulator:N x M = 1 x 128\n",
      "INFO:baseline_int.src.sweep.sweep.Simulator:Max Precision (bits): 8\n",
      "INFO:baseline_int.src.sweep.sweep.Simulator:Min Precision (bits): 8\n",
      "INFO:baseline_int.src.sweep.sweep.Simulator:Batch size: 100\n",
      "INFO:baseline_int.src.sweep.sweep.Simulator:Bandwidth (bits/cycle): 1024\n"
     ]
    },
    {
     "name": "stdout",
     "output_type": "stream",
     "text": [
      "error\n",
      "error\n",
      "error\n"
     ]
    },
    {
     "name": "stderr",
     "output_type": "stream",
     "text": [
      " 79%|███████▉  | 63/80 [1:07:18<13:17, 46.91s/it]"
     ]
    },
    {
     "name": "stdout",
     "output_type": "stream",
     "text": [
      "Got BitFusion Eyeriss, Numbers\n"
     ]
    },
    {
     "name": "stderr",
     "output_type": "stream",
     "text": [
      "INFO:baseline_int.src.sweep.sweep.Simulator:Simulating Benchmark: CIFAR10SNN\n",
      "INFO:baseline_int.src.sweep.sweep.Simulator:N x M = 2 x 128\n",
      "INFO:baseline_int.src.sweep.sweep.Simulator:Max Precision (bits): 8\n",
      "INFO:baseline_int.src.sweep.sweep.Simulator:Min Precision (bits): 8\n",
      "INFO:baseline_int.src.sweep.sweep.Simulator:Batch size: 100\n",
      "INFO:baseline_int.src.sweep.sweep.Simulator:Bandwidth (bits/cycle): 1024\n",
      "INFO:baseline_int.src.sweep.sweep.Simulator:Simulating Benchmark: DVS128Gesture\n",
      "INFO:baseline_int.src.sweep.sweep.Simulator:N x M = 2 x 128\n",
      "INFO:baseline_int.src.sweep.sweep.Simulator:Max Precision (bits): 8\n",
      "INFO:baseline_int.src.sweep.sweep.Simulator:Min Precision (bits): 8\n",
      "INFO:baseline_int.src.sweep.sweep.Simulator:Batch size: 100\n",
      "INFO:baseline_int.src.sweep.sweep.Simulator:Bandwidth (bits/cycle): 1024\n",
      "INFO:baseline_int.src.sweep.sweep.Simulator:Simulating Benchmark: ImageNetSNN\n",
      "INFO:baseline_int.src.sweep.sweep.Simulator:N x M = 2 x 128\n",
      "INFO:baseline_int.src.sweep.sweep.Simulator:Max Precision (bits): 8\n",
      "INFO:baseline_int.src.sweep.sweep.Simulator:Min Precision (bits): 8\n",
      "INFO:baseline_int.src.sweep.sweep.Simulator:Batch size: 100\n",
      "INFO:baseline_int.src.sweep.sweep.Simulator:Bandwidth (bits/cycle): 1024\n"
     ]
    },
    {
     "name": "stdout",
     "output_type": "stream",
     "text": [
      "error\n",
      "error\n",
      "error\n"
     ]
    },
    {
     "name": "stderr",
     "output_type": "stream",
     "text": [
      " 80%|████████  | 64/80 [1:08:01<12:13, 45.84s/it]"
     ]
    },
    {
     "name": "stdout",
     "output_type": "stream",
     "text": [
      "Got BitFusion Eyeriss, Numbers\n"
     ]
    },
    {
     "name": "stderr",
     "output_type": "stream",
     "text": [
      "INFO:baseline_int.src.sweep.sweep.Simulator:Simulating Benchmark: CIFAR10SNN\n",
      "INFO:baseline_int.src.sweep.sweep.Simulator:N x M = 4 x 128\n",
      "INFO:baseline_int.src.sweep.sweep.Simulator:Max Precision (bits): 8\n",
      "INFO:baseline_int.src.sweep.sweep.Simulator:Min Precision (bits): 8\n",
      "INFO:baseline_int.src.sweep.sweep.Simulator:Batch size: 100\n",
      "INFO:baseline_int.src.sweep.sweep.Simulator:Bandwidth (bits/cycle): 1024\n",
      "INFO:baseline_int.src.sweep.sweep.Simulator:Simulating Benchmark: DVS128Gesture\n",
      "INFO:baseline_int.src.sweep.sweep.Simulator:N x M = 4 x 128\n",
      "INFO:baseline_int.src.sweep.sweep.Simulator:Max Precision (bits): 8\n",
      "INFO:baseline_int.src.sweep.sweep.Simulator:Min Precision (bits): 8\n",
      "INFO:baseline_int.src.sweep.sweep.Simulator:Batch size: 100\n",
      "INFO:baseline_int.src.sweep.sweep.Simulator:Bandwidth (bits/cycle): 1024\n",
      "INFO:baseline_int.src.sweep.sweep.Simulator:Simulating Benchmark: ImageNetSNN\n",
      "INFO:baseline_int.src.sweep.sweep.Simulator:N x M = 4 x 128\n",
      "INFO:baseline_int.src.sweep.sweep.Simulator:Max Precision (bits): 8\n",
      "INFO:baseline_int.src.sweep.sweep.Simulator:Min Precision (bits): 8\n",
      "INFO:baseline_int.src.sweep.sweep.Simulator:Batch size: 100\n",
      "INFO:baseline_int.src.sweep.sweep.Simulator:Bandwidth (bits/cycle): 1024\n"
     ]
    },
    {
     "name": "stdout",
     "output_type": "stream",
     "text": [
      "error\n",
      "error\n",
      "error\n"
     ]
    },
    {
     "name": "stderr",
     "output_type": "stream",
     "text": [
      " 81%|████████▏ | 65/80 [1:08:45<11:16, 45.07s/it]"
     ]
    },
    {
     "name": "stdout",
     "output_type": "stream",
     "text": [
      "Got BitFusion Eyeriss, Numbers\n"
     ]
    },
    {
     "name": "stderr",
     "output_type": "stream",
     "text": [
      "INFO:baseline_int.src.sweep.sweep.Simulator:Simulating Benchmark: CIFAR10SNN\n",
      "INFO:baseline_int.src.sweep.sweep.Simulator:N x M = 8 x 128\n",
      "INFO:baseline_int.src.sweep.sweep.Simulator:Max Precision (bits): 8\n",
      "INFO:baseline_int.src.sweep.sweep.Simulator:Min Precision (bits): 8\n",
      "INFO:baseline_int.src.sweep.sweep.Simulator:Batch size: 100\n",
      "INFO:baseline_int.src.sweep.sweep.Simulator:Bandwidth (bits/cycle): 1024\n",
      "INFO:baseline_int.src.sweep.sweep.Simulator:Simulating Benchmark: DVS128Gesture\n",
      "INFO:baseline_int.src.sweep.sweep.Simulator:N x M = 8 x 128\n",
      "INFO:baseline_int.src.sweep.sweep.Simulator:Max Precision (bits): 8\n",
      "INFO:baseline_int.src.sweep.sweep.Simulator:Min Precision (bits): 8\n",
      "INFO:baseline_int.src.sweep.sweep.Simulator:Batch size: 100\n",
      "INFO:baseline_int.src.sweep.sweep.Simulator:Bandwidth (bits/cycle): 1024\n",
      "INFO:baseline_int.src.sweep.sweep.Simulator:Simulating Benchmark: ImageNetSNN\n",
      "INFO:baseline_int.src.sweep.sweep.Simulator:N x M = 8 x 128\n",
      "INFO:baseline_int.src.sweep.sweep.Simulator:Max Precision (bits): 8\n",
      "INFO:baseline_int.src.sweep.sweep.Simulator:Min Precision (bits): 8\n",
      "INFO:baseline_int.src.sweep.sweep.Simulator:Batch size: 100\n",
      "INFO:baseline_int.src.sweep.sweep.Simulator:Bandwidth (bits/cycle): 1024\n"
     ]
    },
    {
     "name": "stdout",
     "output_type": "stream",
     "text": [
      "error\n",
      "error\n",
      "error\n"
     ]
    },
    {
     "name": "stderr",
     "output_type": "stream",
     "text": [
      " 82%|████████▎ | 66/80 [1:09:28<10:24, 44.57s/it]"
     ]
    },
    {
     "name": "stdout",
     "output_type": "stream",
     "text": [
      "Got BitFusion Eyeriss, Numbers\n"
     ]
    },
    {
     "name": "stderr",
     "output_type": "stream",
     "text": [
      "INFO:baseline_int.src.sweep.sweep.Simulator:Simulating Benchmark: CIFAR10SNN\n",
      "INFO:baseline_int.src.sweep.sweep.Simulator:N x M = 16 x 128\n",
      "INFO:baseline_int.src.sweep.sweep.Simulator:Max Precision (bits): 8\n",
      "INFO:baseline_int.src.sweep.sweep.Simulator:Min Precision (bits): 8\n",
      "INFO:baseline_int.src.sweep.sweep.Simulator:Batch size: 100\n",
      "INFO:baseline_int.src.sweep.sweep.Simulator:Bandwidth (bits/cycle): 1024\n",
      "INFO:baseline_int.src.sweep.sweep.Simulator:Simulating Benchmark: DVS128Gesture\n",
      "INFO:baseline_int.src.sweep.sweep.Simulator:N x M = 16 x 128\n",
      "INFO:baseline_int.src.sweep.sweep.Simulator:Max Precision (bits): 8\n",
      "INFO:baseline_int.src.sweep.sweep.Simulator:Min Precision (bits): 8\n",
      "INFO:baseline_int.src.sweep.sweep.Simulator:Batch size: 100\n",
      "INFO:baseline_int.src.sweep.sweep.Simulator:Bandwidth (bits/cycle): 1024\n",
      "INFO:baseline_int.src.sweep.sweep.Simulator:Simulating Benchmark: ImageNetSNN\n",
      "INFO:baseline_int.src.sweep.sweep.Simulator:N x M = 16 x 128\n",
      "INFO:baseline_int.src.sweep.sweep.Simulator:Max Precision (bits): 8\n",
      "INFO:baseline_int.src.sweep.sweep.Simulator:Min Precision (bits): 8\n",
      "INFO:baseline_int.src.sweep.sweep.Simulator:Batch size: 100\n",
      "INFO:baseline_int.src.sweep.sweep.Simulator:Bandwidth (bits/cycle): 1024\n"
     ]
    },
    {
     "name": "stdout",
     "output_type": "stream",
     "text": [
      "error\n",
      "error\n",
      "error\n"
     ]
    },
    {
     "name": "stderr",
     "output_type": "stream",
     "text": [
      " 84%|████████▍ | 67/80 [1:10:11<09:34, 44.19s/it]"
     ]
    },
    {
     "name": "stdout",
     "output_type": "stream",
     "text": [
      "Got BitFusion Eyeriss, Numbers\n"
     ]
    },
    {
     "name": "stderr",
     "output_type": "stream",
     "text": [
      "INFO:baseline_int.src.sweep.sweep.Simulator:Simulating Benchmark: CIFAR10SNN\n",
      "INFO:baseline_int.src.sweep.sweep.Simulator:N x M = 32 x 128\n",
      "INFO:baseline_int.src.sweep.sweep.Simulator:Max Precision (bits): 8\n",
      "INFO:baseline_int.src.sweep.sweep.Simulator:Min Precision (bits): 8\n",
      "INFO:baseline_int.src.sweep.sweep.Simulator:Batch size: 100\n",
      "INFO:baseline_int.src.sweep.sweep.Simulator:Bandwidth (bits/cycle): 1024\n",
      "INFO:baseline_int.src.sweep.sweep.Simulator:Simulating Benchmark: DVS128Gesture\n",
      "INFO:baseline_int.src.sweep.sweep.Simulator:N x M = 32 x 128\n",
      "INFO:baseline_int.src.sweep.sweep.Simulator:Max Precision (bits): 8\n",
      "INFO:baseline_int.src.sweep.sweep.Simulator:Min Precision (bits): 8\n",
      "INFO:baseline_int.src.sweep.sweep.Simulator:Batch size: 100\n",
      "INFO:baseline_int.src.sweep.sweep.Simulator:Bandwidth (bits/cycle): 1024\n",
      "INFO:baseline_int.src.sweep.sweep.Simulator:Simulating Benchmark: ImageNetSNN\n",
      "INFO:baseline_int.src.sweep.sweep.Simulator:N x M = 32 x 128\n",
      "INFO:baseline_int.src.sweep.sweep.Simulator:Max Precision (bits): 8\n",
      "INFO:baseline_int.src.sweep.sweep.Simulator:Min Precision (bits): 8\n",
      "INFO:baseline_int.src.sweep.sweep.Simulator:Batch size: 100\n",
      "INFO:baseline_int.src.sweep.sweep.Simulator:Bandwidth (bits/cycle): 1024\n"
     ]
    },
    {
     "name": "stdout",
     "output_type": "stream",
     "text": [
      "error\n",
      "error\n",
      "error\n"
     ]
    },
    {
     "name": "stderr",
     "output_type": "stream",
     "text": [
      " 85%|████████▌ | 68/80 [1:10:54<08:46, 43.89s/it]"
     ]
    },
    {
     "name": "stdout",
     "output_type": "stream",
     "text": [
      "Got BitFusion Eyeriss, Numbers\n"
     ]
    },
    {
     "name": "stderr",
     "output_type": "stream",
     "text": [
      "INFO:baseline_int.src.sweep.sweep.Simulator:Simulating Benchmark: CIFAR10SNN\n",
      "INFO:baseline_int.src.sweep.sweep.Simulator:N x M = 64 x 128\n",
      "INFO:baseline_int.src.sweep.sweep.Simulator:Max Precision (bits): 8\n",
      "INFO:baseline_int.src.sweep.sweep.Simulator:Min Precision (bits): 8\n",
      "INFO:baseline_int.src.sweep.sweep.Simulator:Batch size: 100\n",
      "INFO:baseline_int.src.sweep.sweep.Simulator:Bandwidth (bits/cycle): 1024\n",
      "INFO:baseline_int.src.sweep.sweep.Simulator:Simulating Benchmark: DVS128Gesture\n",
      "INFO:baseline_int.src.sweep.sweep.Simulator:N x M = 64 x 128\n",
      "INFO:baseline_int.src.sweep.sweep.Simulator:Max Precision (bits): 8\n",
      "INFO:baseline_int.src.sweep.sweep.Simulator:Min Precision (bits): 8\n",
      "INFO:baseline_int.src.sweep.sweep.Simulator:Batch size: 100\n",
      "INFO:baseline_int.src.sweep.sweep.Simulator:Bandwidth (bits/cycle): 1024\n",
      "INFO:baseline_int.src.sweep.sweep.Simulator:Simulating Benchmark: ImageNetSNN\n",
      "INFO:baseline_int.src.sweep.sweep.Simulator:N x M = 64 x 128\n",
      "INFO:baseline_int.src.sweep.sweep.Simulator:Max Precision (bits): 8\n",
      "INFO:baseline_int.src.sweep.sweep.Simulator:Min Precision (bits): 8\n",
      "INFO:baseline_int.src.sweep.sweep.Simulator:Batch size: 100\n",
      "INFO:baseline_int.src.sweep.sweep.Simulator:Bandwidth (bits/cycle): 1024\n"
     ]
    },
    {
     "name": "stdout",
     "output_type": "stream",
     "text": [
      "error\n",
      "error\n",
      "error\n"
     ]
    },
    {
     "name": "stderr",
     "output_type": "stream",
     "text": [
      " 86%|████████▋ | 69/80 [1:11:38<08:00, 43.72s/it]"
     ]
    },
    {
     "name": "stdout",
     "output_type": "stream",
     "text": [
      "Got BitFusion Eyeriss, Numbers\n"
     ]
    },
    {
     "name": "stderr",
     "output_type": "stream",
     "text": [
      "INFO:baseline_int.src.sweep.sweep.Simulator:Simulating Benchmark: CIFAR10SNN\n",
      "INFO:baseline_int.src.sweep.sweep.Simulator:N x M = 128 x 128\n",
      "INFO:baseline_int.src.sweep.sweep.Simulator:Max Precision (bits): 8\n",
      "INFO:baseline_int.src.sweep.sweep.Simulator:Min Precision (bits): 8\n",
      "INFO:baseline_int.src.sweep.sweep.Simulator:Batch size: 100\n",
      "INFO:baseline_int.src.sweep.sweep.Simulator:Bandwidth (bits/cycle): 1024\n",
      "INFO:baseline_int.src.sweep.sweep.Simulator:Simulating Benchmark: DVS128Gesture\n",
      "INFO:baseline_int.src.sweep.sweep.Simulator:N x M = 128 x 128\n",
      "INFO:baseline_int.src.sweep.sweep.Simulator:Max Precision (bits): 8\n",
      "INFO:baseline_int.src.sweep.sweep.Simulator:Min Precision (bits): 8\n",
      "INFO:baseline_int.src.sweep.sweep.Simulator:Batch size: 100\n",
      "INFO:baseline_int.src.sweep.sweep.Simulator:Bandwidth (bits/cycle): 1024\n",
      "INFO:baseline_int.src.sweep.sweep.Simulator:Simulating Benchmark: ImageNetSNN\n",
      "INFO:baseline_int.src.sweep.sweep.Simulator:N x M = 128 x 128\n",
      "INFO:baseline_int.src.sweep.sweep.Simulator:Max Precision (bits): 8\n",
      "INFO:baseline_int.src.sweep.sweep.Simulator:Min Precision (bits): 8\n",
      "INFO:baseline_int.src.sweep.sweep.Simulator:Batch size: 100\n",
      "INFO:baseline_int.src.sweep.sweep.Simulator:Bandwidth (bits/cycle): 1024\n",
      " 88%|████████▊ | 70/80 [1:12:21<07:15, 43.52s/it]"
     ]
    },
    {
     "name": "stdout",
     "output_type": "stream",
     "text": [
      "Got BitFusion Eyeriss, Numbers\n"
     ]
    },
    {
     "name": "stderr",
     "output_type": "stream",
     "text": [
      "INFO:baseline_int.src.sweep.sweep.Simulator:Simulating Benchmark: CIFAR10SNN\n",
      "INFO:baseline_int.src.sweep.sweep.Simulator:N x M = 256 x 128\n",
      "INFO:baseline_int.src.sweep.sweep.Simulator:Max Precision (bits): 8\n",
      "INFO:baseline_int.src.sweep.sweep.Simulator:Min Precision (bits): 8\n",
      "INFO:baseline_int.src.sweep.sweep.Simulator:Batch size: 100\n",
      "INFO:baseline_int.src.sweep.sweep.Simulator:Bandwidth (bits/cycle): 1024\n",
      "INFO:baseline_int.src.sweep.sweep.Simulator:Simulating Benchmark: DVS128Gesture\n",
      "INFO:baseline_int.src.sweep.sweep.Simulator:N x M = 256 x 128\n",
      "INFO:baseline_int.src.sweep.sweep.Simulator:Max Precision (bits): 8\n",
      "INFO:baseline_int.src.sweep.sweep.Simulator:Min Precision (bits): 8\n",
      "INFO:baseline_int.src.sweep.sweep.Simulator:Batch size: 100\n",
      "INFO:baseline_int.src.sweep.sweep.Simulator:Bandwidth (bits/cycle): 1024\n",
      "INFO:baseline_int.src.sweep.sweep.Simulator:Simulating Benchmark: ImageNetSNN\n",
      "INFO:baseline_int.src.sweep.sweep.Simulator:N x M = 256 x 128\n",
      "INFO:baseline_int.src.sweep.sweep.Simulator:Max Precision (bits): 8\n",
      "INFO:baseline_int.src.sweep.sweep.Simulator:Min Precision (bits): 8\n",
      "INFO:baseline_int.src.sweep.sweep.Simulator:Batch size: 100\n",
      "INFO:baseline_int.src.sweep.sweep.Simulator:Bandwidth (bits/cycle): 1024\n",
      " 89%|████████▉ | 71/80 [1:13:04<06:30, 43.38s/it]"
     ]
    },
    {
     "name": "stdout",
     "output_type": "stream",
     "text": [
      "Got BitFusion Eyeriss, Numbers\n"
     ]
    },
    {
     "name": "stderr",
     "output_type": "stream",
     "text": [
      "INFO:baseline_int.src.sweep.sweep.Simulator:Simulating Benchmark: CIFAR10SNN\n",
      "INFO:baseline_int.src.sweep.sweep.Simulator:N x M = 1 x 256\n",
      "INFO:baseline_int.src.sweep.sweep.Simulator:Max Precision (bits): 8\n",
      "INFO:baseline_int.src.sweep.sweep.Simulator:Min Precision (bits): 8\n",
      "INFO:baseline_int.src.sweep.sweep.Simulator:Batch size: 100\n",
      "INFO:baseline_int.src.sweep.sweep.Simulator:Bandwidth (bits/cycle): 1024\n"
     ]
    },
    {
     "name": "stdout",
     "output_type": "stream",
     "text": [
      "error\n",
      "error\n",
      "error\n"
     ]
    },
    {
     "name": "stderr",
     "output_type": "stream",
     "text": [
      "INFO:baseline_int.src.sweep.sweep.Simulator:Simulating Benchmark: DVS128Gesture\n",
      "INFO:baseline_int.src.sweep.sweep.Simulator:N x M = 1 x 256\n",
      "INFO:baseline_int.src.sweep.sweep.Simulator:Max Precision (bits): 8\n",
      "INFO:baseline_int.src.sweep.sweep.Simulator:Min Precision (bits): 8\n",
      "INFO:baseline_int.src.sweep.sweep.Simulator:Batch size: 100\n",
      "INFO:baseline_int.src.sweep.sweep.Simulator:Bandwidth (bits/cycle): 1024\n"
     ]
    },
    {
     "name": "stdout",
     "output_type": "stream",
     "text": [
      "error\n",
      "error\n",
      "error\n",
      "error\n"
     ]
    },
    {
     "name": "stderr",
     "output_type": "stream",
     "text": [
      "INFO:baseline_int.src.sweep.sweep.Simulator:Simulating Benchmark: ImageNetSNN\n",
      "INFO:baseline_int.src.sweep.sweep.Simulator:N x M = 1 x 256\n",
      "INFO:baseline_int.src.sweep.sweep.Simulator:Max Precision (bits): 8\n",
      "INFO:baseline_int.src.sweep.sweep.Simulator:Min Precision (bits): 8\n",
      "INFO:baseline_int.src.sweep.sweep.Simulator:Batch size: 100\n",
      "INFO:baseline_int.src.sweep.sweep.Simulator:Bandwidth (bits/cycle): 1024\n"
     ]
    },
    {
     "name": "stdout",
     "output_type": "stream",
     "text": [
      "error\n",
      "error\n",
      "error\n",
      "error\n",
      "error\n",
      "error\n",
      "error\n"
     ]
    },
    {
     "name": "stderr",
     "output_type": "stream",
     "text": [
      " 90%|█████████ | 72/80 [1:13:46<05:43, 42.98s/it]"
     ]
    },
    {
     "name": "stdout",
     "output_type": "stream",
     "text": [
      "Got BitFusion Eyeriss, Numbers\n"
     ]
    },
    {
     "name": "stderr",
     "output_type": "stream",
     "text": [
      "INFO:baseline_int.src.sweep.sweep.Simulator:Simulating Benchmark: CIFAR10SNN\n",
      "INFO:baseline_int.src.sweep.sweep.Simulator:N x M = 2 x 256\n",
      "INFO:baseline_int.src.sweep.sweep.Simulator:Max Precision (bits): 8\n",
      "INFO:baseline_int.src.sweep.sweep.Simulator:Min Precision (bits): 8\n",
      "INFO:baseline_int.src.sweep.sweep.Simulator:Batch size: 100\n",
      "INFO:baseline_int.src.sweep.sweep.Simulator:Bandwidth (bits/cycle): 1024\n"
     ]
    },
    {
     "name": "stdout",
     "output_type": "stream",
     "text": [
      "error\n",
      "error\n",
      "error\n"
     ]
    },
    {
     "name": "stderr",
     "output_type": "stream",
     "text": [
      "INFO:baseline_int.src.sweep.sweep.Simulator:Simulating Benchmark: DVS128Gesture\n",
      "INFO:baseline_int.src.sweep.sweep.Simulator:N x M = 2 x 256\n",
      "INFO:baseline_int.src.sweep.sweep.Simulator:Max Precision (bits): 8\n",
      "INFO:baseline_int.src.sweep.sweep.Simulator:Min Precision (bits): 8\n",
      "INFO:baseline_int.src.sweep.sweep.Simulator:Batch size: 100\n",
      "INFO:baseline_int.src.sweep.sweep.Simulator:Bandwidth (bits/cycle): 1024\n"
     ]
    },
    {
     "name": "stdout",
     "output_type": "stream",
     "text": [
      "error\n",
      "error\n",
      "error\n",
      "error\n"
     ]
    },
    {
     "name": "stderr",
     "output_type": "stream",
     "text": [
      "INFO:baseline_int.src.sweep.sweep.Simulator:Simulating Benchmark: ImageNetSNN\n",
      "INFO:baseline_int.src.sweep.sweep.Simulator:N x M = 2 x 256\n",
      "INFO:baseline_int.src.sweep.sweep.Simulator:Max Precision (bits): 8\n",
      "INFO:baseline_int.src.sweep.sweep.Simulator:Min Precision (bits): 8\n",
      "INFO:baseline_int.src.sweep.sweep.Simulator:Batch size: 100\n",
      "INFO:baseline_int.src.sweep.sweep.Simulator:Bandwidth (bits/cycle): 1024\n"
     ]
    },
    {
     "name": "stdout",
     "output_type": "stream",
     "text": [
      "error\n",
      "error\n",
      "error\n",
      "error\n",
      "error\n",
      "error\n",
      "error\n"
     ]
    },
    {
     "name": "stderr",
     "output_type": "stream",
     "text": [
      " 91%|█████████▏| 73/80 [1:14:28<04:58, 42.65s/it]"
     ]
    },
    {
     "name": "stdout",
     "output_type": "stream",
     "text": [
      "Got BitFusion Eyeriss, Numbers\n"
     ]
    },
    {
     "name": "stderr",
     "output_type": "stream",
     "text": [
      "INFO:baseline_int.src.sweep.sweep.Simulator:Simulating Benchmark: CIFAR10SNN\n",
      "INFO:baseline_int.src.sweep.sweep.Simulator:N x M = 4 x 256\n",
      "INFO:baseline_int.src.sweep.sweep.Simulator:Max Precision (bits): 8\n",
      "INFO:baseline_int.src.sweep.sweep.Simulator:Min Precision (bits): 8\n",
      "INFO:baseline_int.src.sweep.sweep.Simulator:Batch size: 100\n",
      "INFO:baseline_int.src.sweep.sweep.Simulator:Bandwidth (bits/cycle): 1024\n"
     ]
    },
    {
     "name": "stdout",
     "output_type": "stream",
     "text": [
      "error\n",
      "error\n",
      "error\n"
     ]
    },
    {
     "name": "stderr",
     "output_type": "stream",
     "text": [
      "INFO:baseline_int.src.sweep.sweep.Simulator:Simulating Benchmark: DVS128Gesture\n",
      "INFO:baseline_int.src.sweep.sweep.Simulator:N x M = 4 x 256\n",
      "INFO:baseline_int.src.sweep.sweep.Simulator:Max Precision (bits): 8\n",
      "INFO:baseline_int.src.sweep.sweep.Simulator:Min Precision (bits): 8\n",
      "INFO:baseline_int.src.sweep.sweep.Simulator:Batch size: 100\n",
      "INFO:baseline_int.src.sweep.sweep.Simulator:Bandwidth (bits/cycle): 1024\n"
     ]
    },
    {
     "name": "stdout",
     "output_type": "stream",
     "text": [
      "error\n",
      "error\n",
      "error\n",
      "error\n"
     ]
    },
    {
     "name": "stderr",
     "output_type": "stream",
     "text": [
      "INFO:baseline_int.src.sweep.sweep.Simulator:Simulating Benchmark: ImageNetSNN\n",
      "INFO:baseline_int.src.sweep.sweep.Simulator:N x M = 4 x 256\n",
      "INFO:baseline_int.src.sweep.sweep.Simulator:Max Precision (bits): 8\n",
      "INFO:baseline_int.src.sweep.sweep.Simulator:Min Precision (bits): 8\n",
      "INFO:baseline_int.src.sweep.sweep.Simulator:Batch size: 100\n",
      "INFO:baseline_int.src.sweep.sweep.Simulator:Bandwidth (bits/cycle): 1024\n"
     ]
    },
    {
     "name": "stdout",
     "output_type": "stream",
     "text": [
      "error\n",
      "error\n",
      "error\n",
      "error\n",
      "error\n",
      "error\n",
      "error\n"
     ]
    },
    {
     "name": "stderr",
     "output_type": "stream",
     "text": [
      " 92%|█████████▎| 74/80 [1:15:10<04:14, 42.37s/it]"
     ]
    },
    {
     "name": "stdout",
     "output_type": "stream",
     "text": [
      "Got BitFusion Eyeriss, Numbers\n"
     ]
    },
    {
     "name": "stderr",
     "output_type": "stream",
     "text": [
      "INFO:baseline_int.src.sweep.sweep.Simulator:Simulating Benchmark: CIFAR10SNN\n",
      "INFO:baseline_int.src.sweep.sweep.Simulator:N x M = 8 x 256\n",
      "INFO:baseline_int.src.sweep.sweep.Simulator:Max Precision (bits): 8\n",
      "INFO:baseline_int.src.sweep.sweep.Simulator:Min Precision (bits): 8\n",
      "INFO:baseline_int.src.sweep.sweep.Simulator:Batch size: 100\n",
      "INFO:baseline_int.src.sweep.sweep.Simulator:Bandwidth (bits/cycle): 1024\n"
     ]
    },
    {
     "name": "stdout",
     "output_type": "stream",
     "text": [
      "error\n",
      "error\n",
      "error\n"
     ]
    },
    {
     "name": "stderr",
     "output_type": "stream",
     "text": [
      "INFO:baseline_int.src.sweep.sweep.Simulator:Simulating Benchmark: DVS128Gesture\n",
      "INFO:baseline_int.src.sweep.sweep.Simulator:N x M = 8 x 256\n",
      "INFO:baseline_int.src.sweep.sweep.Simulator:Max Precision (bits): 8\n",
      "INFO:baseline_int.src.sweep.sweep.Simulator:Min Precision (bits): 8\n",
      "INFO:baseline_int.src.sweep.sweep.Simulator:Batch size: 100\n",
      "INFO:baseline_int.src.sweep.sweep.Simulator:Bandwidth (bits/cycle): 1024\n"
     ]
    },
    {
     "name": "stdout",
     "output_type": "stream",
     "text": [
      "error\n",
      "error\n",
      "error\n",
      "error\n"
     ]
    },
    {
     "name": "stderr",
     "output_type": "stream",
     "text": [
      "INFO:baseline_int.src.sweep.sweep.Simulator:Simulating Benchmark: ImageNetSNN\n",
      "INFO:baseline_int.src.sweep.sweep.Simulator:N x M = 8 x 256\n",
      "INFO:baseline_int.src.sweep.sweep.Simulator:Max Precision (bits): 8\n",
      "INFO:baseline_int.src.sweep.sweep.Simulator:Min Precision (bits): 8\n",
      "INFO:baseline_int.src.sweep.sweep.Simulator:Batch size: 100\n",
      "INFO:baseline_int.src.sweep.sweep.Simulator:Bandwidth (bits/cycle): 1024\n"
     ]
    },
    {
     "name": "stdout",
     "output_type": "stream",
     "text": [
      "error\n",
      "error\n",
      "error\n",
      "error\n",
      "error\n",
      "error\n",
      "error\n"
     ]
    },
    {
     "name": "stderr",
     "output_type": "stream",
     "text": [
      " 94%|█████████▍| 75/80 [1:15:52<03:31, 42.38s/it]"
     ]
    },
    {
     "name": "stdout",
     "output_type": "stream",
     "text": [
      "Got BitFusion Eyeriss, Numbers\n"
     ]
    },
    {
     "name": "stderr",
     "output_type": "stream",
     "text": [
      "INFO:baseline_int.src.sweep.sweep.Simulator:Simulating Benchmark: CIFAR10SNN\n",
      "INFO:baseline_int.src.sweep.sweep.Simulator:N x M = 16 x 256\n",
      "INFO:baseline_int.src.sweep.sweep.Simulator:Max Precision (bits): 8\n",
      "INFO:baseline_int.src.sweep.sweep.Simulator:Min Precision (bits): 8\n",
      "INFO:baseline_int.src.sweep.sweep.Simulator:Batch size: 100\n",
      "INFO:baseline_int.src.sweep.sweep.Simulator:Bandwidth (bits/cycle): 1024\n"
     ]
    },
    {
     "name": "stdout",
     "output_type": "stream",
     "text": [
      "error\n",
      "error\n",
      "error\n"
     ]
    },
    {
     "name": "stderr",
     "output_type": "stream",
     "text": [
      "INFO:baseline_int.src.sweep.sweep.Simulator:Simulating Benchmark: DVS128Gesture\n",
      "INFO:baseline_int.src.sweep.sweep.Simulator:N x M = 16 x 256\n",
      "INFO:baseline_int.src.sweep.sweep.Simulator:Max Precision (bits): 8\n",
      "INFO:baseline_int.src.sweep.sweep.Simulator:Min Precision (bits): 8\n",
      "INFO:baseline_int.src.sweep.sweep.Simulator:Batch size: 100\n",
      "INFO:baseline_int.src.sweep.sweep.Simulator:Bandwidth (bits/cycle): 1024\n"
     ]
    },
    {
     "name": "stdout",
     "output_type": "stream",
     "text": [
      "error\n",
      "error\n",
      "error\n",
      "error\n"
     ]
    },
    {
     "name": "stderr",
     "output_type": "stream",
     "text": [
      "INFO:baseline_int.src.sweep.sweep.Simulator:Simulating Benchmark: ImageNetSNN\n",
      "INFO:baseline_int.src.sweep.sweep.Simulator:N x M = 16 x 256\n",
      "INFO:baseline_int.src.sweep.sweep.Simulator:Max Precision (bits): 8\n",
      "INFO:baseline_int.src.sweep.sweep.Simulator:Min Precision (bits): 8\n",
      "INFO:baseline_int.src.sweep.sweep.Simulator:Batch size: 100\n",
      "INFO:baseline_int.src.sweep.sweep.Simulator:Bandwidth (bits/cycle): 1024\n"
     ]
    },
    {
     "name": "stdout",
     "output_type": "stream",
     "text": [
      "error\n",
      "error\n",
      "error\n",
      "error\n",
      "error\n",
      "error\n",
      "error\n"
     ]
    },
    {
     "name": "stderr",
     "output_type": "stream",
     "text": [
      " 95%|█████████▌| 76/80 [1:16:34<02:49, 42.27s/it]"
     ]
    },
    {
     "name": "stdout",
     "output_type": "stream",
     "text": [
      "Got BitFusion Eyeriss, Numbers\n"
     ]
    },
    {
     "name": "stderr",
     "output_type": "stream",
     "text": [
      "INFO:baseline_int.src.sweep.sweep.Simulator:Simulating Benchmark: CIFAR10SNN\n",
      "INFO:baseline_int.src.sweep.sweep.Simulator:N x M = 32 x 256\n",
      "INFO:baseline_int.src.sweep.sweep.Simulator:Max Precision (bits): 8\n",
      "INFO:baseline_int.src.sweep.sweep.Simulator:Min Precision (bits): 8\n",
      "INFO:baseline_int.src.sweep.sweep.Simulator:Batch size: 100\n",
      "INFO:baseline_int.src.sweep.sweep.Simulator:Bandwidth (bits/cycle): 1024\n"
     ]
    },
    {
     "name": "stdout",
     "output_type": "stream",
     "text": [
      "error\n",
      "error\n",
      "error\n"
     ]
    },
    {
     "name": "stderr",
     "output_type": "stream",
     "text": [
      "INFO:baseline_int.src.sweep.sweep.Simulator:Simulating Benchmark: DVS128Gesture\n",
      "INFO:baseline_int.src.sweep.sweep.Simulator:N x M = 32 x 256\n",
      "INFO:baseline_int.src.sweep.sweep.Simulator:Max Precision (bits): 8\n",
      "INFO:baseline_int.src.sweep.sweep.Simulator:Min Precision (bits): 8\n",
      "INFO:baseline_int.src.sweep.sweep.Simulator:Batch size: 100\n",
      "INFO:baseline_int.src.sweep.sweep.Simulator:Bandwidth (bits/cycle): 1024\n"
     ]
    },
    {
     "name": "stdout",
     "output_type": "stream",
     "text": [
      "error\n",
      "error\n",
      "error\n",
      "error\n"
     ]
    },
    {
     "name": "stderr",
     "output_type": "stream",
     "text": [
      "INFO:baseline_int.src.sweep.sweep.Simulator:Simulating Benchmark: ImageNetSNN\n",
      "INFO:baseline_int.src.sweep.sweep.Simulator:N x M = 32 x 256\n",
      "INFO:baseline_int.src.sweep.sweep.Simulator:Max Precision (bits): 8\n",
      "INFO:baseline_int.src.sweep.sweep.Simulator:Min Precision (bits): 8\n",
      "INFO:baseline_int.src.sweep.sweep.Simulator:Batch size: 100\n",
      "INFO:baseline_int.src.sweep.sweep.Simulator:Bandwidth (bits/cycle): 1024\n"
     ]
    },
    {
     "name": "stdout",
     "output_type": "stream",
     "text": [
      "error\n",
      "error\n",
      "error\n",
      "error\n"
     ]
    },
    {
     "name": "stderr",
     "output_type": "stream",
     "text": [
      " 96%|█████████▋| 77/80 [1:17:17<02:07, 42.36s/it]"
     ]
    },
    {
     "name": "stdout",
     "output_type": "stream",
     "text": [
      "Got BitFusion Eyeriss, Numbers\n"
     ]
    },
    {
     "name": "stderr",
     "output_type": "stream",
     "text": [
      "INFO:baseline_int.src.sweep.sweep.Simulator:Simulating Benchmark: CIFAR10SNN\n",
      "INFO:baseline_int.src.sweep.sweep.Simulator:N x M = 64 x 256\n",
      "INFO:baseline_int.src.sweep.sweep.Simulator:Max Precision (bits): 8\n",
      "INFO:baseline_int.src.sweep.sweep.Simulator:Min Precision (bits): 8\n",
      "INFO:baseline_int.src.sweep.sweep.Simulator:Batch size: 100\n",
      "INFO:baseline_int.src.sweep.sweep.Simulator:Bandwidth (bits/cycle): 1024\n"
     ]
    },
    {
     "name": "stdout",
     "output_type": "stream",
     "text": [
      "error\n",
      "error\n",
      "error\n"
     ]
    },
    {
     "name": "stderr",
     "output_type": "stream",
     "text": [
      "INFO:baseline_int.src.sweep.sweep.Simulator:Simulating Benchmark: DVS128Gesture\n",
      "INFO:baseline_int.src.sweep.sweep.Simulator:N x M = 64 x 256\n",
      "INFO:baseline_int.src.sweep.sweep.Simulator:Max Precision (bits): 8\n",
      "INFO:baseline_int.src.sweep.sweep.Simulator:Min Precision (bits): 8\n",
      "INFO:baseline_int.src.sweep.sweep.Simulator:Batch size: 100\n",
      "INFO:baseline_int.src.sweep.sweep.Simulator:Bandwidth (bits/cycle): 1024\n"
     ]
    },
    {
     "name": "stdout",
     "output_type": "stream",
     "text": [
      "error\n",
      "error\n",
      "error\n",
      "error\n"
     ]
    },
    {
     "name": "stderr",
     "output_type": "stream",
     "text": [
      "INFO:baseline_int.src.sweep.sweep.Simulator:Simulating Benchmark: ImageNetSNN\n",
      "INFO:baseline_int.src.sweep.sweep.Simulator:N x M = 64 x 256\n",
      "INFO:baseline_int.src.sweep.sweep.Simulator:Max Precision (bits): 8\n",
      "INFO:baseline_int.src.sweep.sweep.Simulator:Min Precision (bits): 8\n",
      "INFO:baseline_int.src.sweep.sweep.Simulator:Batch size: 100\n",
      "INFO:baseline_int.src.sweep.sweep.Simulator:Bandwidth (bits/cycle): 1024\n"
     ]
    },
    {
     "name": "stdout",
     "output_type": "stream",
     "text": [
      "error\n",
      "error\n",
      "error\n",
      "error\n"
     ]
    },
    {
     "name": "stderr",
     "output_type": "stream",
     "text": [
      " 98%|█████████▊| 78/80 [1:17:59<01:24, 42.26s/it]"
     ]
    },
    {
     "name": "stdout",
     "output_type": "stream",
     "text": [
      "Got BitFusion Eyeriss, Numbers\n"
     ]
    },
    {
     "name": "stderr",
     "output_type": "stream",
     "text": [
      "INFO:baseline_int.src.sweep.sweep.Simulator:Simulating Benchmark: CIFAR10SNN\n",
      "INFO:baseline_int.src.sweep.sweep.Simulator:N x M = 128 x 256\n",
      "INFO:baseline_int.src.sweep.sweep.Simulator:Max Precision (bits): 8\n",
      "INFO:baseline_int.src.sweep.sweep.Simulator:Min Precision (bits): 8\n",
      "INFO:baseline_int.src.sweep.sweep.Simulator:Batch size: 100\n",
      "INFO:baseline_int.src.sweep.sweep.Simulator:Bandwidth (bits/cycle): 1024\n"
     ]
    },
    {
     "name": "stdout",
     "output_type": "stream",
     "text": [
      "error\n",
      "error\n",
      "error\n"
     ]
    },
    {
     "name": "stderr",
     "output_type": "stream",
     "text": [
      "INFO:baseline_int.src.sweep.sweep.Simulator:Simulating Benchmark: DVS128Gesture\n",
      "INFO:baseline_int.src.sweep.sweep.Simulator:N x M = 128 x 256\n",
      "INFO:baseline_int.src.sweep.sweep.Simulator:Max Precision (bits): 8\n",
      "INFO:baseline_int.src.sweep.sweep.Simulator:Min Precision (bits): 8\n",
      "INFO:baseline_int.src.sweep.sweep.Simulator:Batch size: 100\n",
      "INFO:baseline_int.src.sweep.sweep.Simulator:Bandwidth (bits/cycle): 1024\n"
     ]
    },
    {
     "name": "stdout",
     "output_type": "stream",
     "text": [
      "error\n",
      "error\n",
      "error\n",
      "error\n"
     ]
    },
    {
     "name": "stderr",
     "output_type": "stream",
     "text": [
      "INFO:baseline_int.src.sweep.sweep.Simulator:Simulating Benchmark: ImageNetSNN\n",
      "INFO:baseline_int.src.sweep.sweep.Simulator:N x M = 128 x 256\n",
      "INFO:baseline_int.src.sweep.sweep.Simulator:Max Precision (bits): 8\n",
      "INFO:baseline_int.src.sweep.sweep.Simulator:Min Precision (bits): 8\n",
      "INFO:baseline_int.src.sweep.sweep.Simulator:Batch size: 100\n",
      "INFO:baseline_int.src.sweep.sweep.Simulator:Bandwidth (bits/cycle): 1024\n"
     ]
    },
    {
     "name": "stdout",
     "output_type": "stream",
     "text": [
      "error\n",
      "error\n",
      "error\n",
      "error\n"
     ]
    },
    {
     "name": "stderr",
     "output_type": "stream",
     "text": [
      " 99%|█████████▉| 79/80 [1:18:41<00:42, 42.20s/it]"
     ]
    },
    {
     "name": "stdout",
     "output_type": "stream",
     "text": [
      "Got BitFusion Eyeriss, Numbers\n"
     ]
    },
    {
     "name": "stderr",
     "output_type": "stream",
     "text": [
      "INFO:baseline_int.src.sweep.sweep.Simulator:Simulating Benchmark: CIFAR10SNN\n",
      "INFO:baseline_int.src.sweep.sweep.Simulator:N x M = 256 x 256\n",
      "INFO:baseline_int.src.sweep.sweep.Simulator:Max Precision (bits): 8\n",
      "INFO:baseline_int.src.sweep.sweep.Simulator:Min Precision (bits): 8\n",
      "INFO:baseline_int.src.sweep.sweep.Simulator:Batch size: 100\n",
      "INFO:baseline_int.src.sweep.sweep.Simulator:Bandwidth (bits/cycle): 1024\n"
     ]
    },
    {
     "name": "stdout",
     "output_type": "stream",
     "text": [
      "error\n",
      "error\n",
      "error\n"
     ]
    },
    {
     "name": "stderr",
     "output_type": "stream",
     "text": [
      "INFO:baseline_int.src.sweep.sweep.Simulator:Simulating Benchmark: DVS128Gesture\n",
      "INFO:baseline_int.src.sweep.sweep.Simulator:N x M = 256 x 256\n",
      "INFO:baseline_int.src.sweep.sweep.Simulator:Max Precision (bits): 8\n",
      "INFO:baseline_int.src.sweep.sweep.Simulator:Min Precision (bits): 8\n",
      "INFO:baseline_int.src.sweep.sweep.Simulator:Batch size: 100\n",
      "INFO:baseline_int.src.sweep.sweep.Simulator:Bandwidth (bits/cycle): 1024\n"
     ]
    },
    {
     "name": "stdout",
     "output_type": "stream",
     "text": [
      "error\n",
      "error\n",
      "error\n",
      "error\n"
     ]
    },
    {
     "name": "stderr",
     "output_type": "stream",
     "text": [
      "INFO:baseline_int.src.sweep.sweep.Simulator:Simulating Benchmark: ImageNetSNN\n",
      "INFO:baseline_int.src.sweep.sweep.Simulator:N x M = 256 x 256\n",
      "INFO:baseline_int.src.sweep.sweep.Simulator:Max Precision (bits): 8\n",
      "INFO:baseline_int.src.sweep.sweep.Simulator:Min Precision (bits): 8\n",
      "INFO:baseline_int.src.sweep.sweep.Simulator:Batch size: 100\n",
      "INFO:baseline_int.src.sweep.sweep.Simulator:Bandwidth (bits/cycle): 1024\n"
     ]
    },
    {
     "name": "stdout",
     "output_type": "stream",
     "text": [
      "error\n",
      "error\n",
      "error\n",
      "error\n",
      "error\n",
      "error\n",
      "error\n",
      "error\n",
      "error\n",
      "error\n",
      "error\n",
      "error\n",
      "error\n",
      "error\n"
     ]
    },
    {
     "name": "stderr",
     "output_type": "stream",
     "text": [
      "100%|██████████| 80/80 [1:19:23<00:00, 59.54s/it]"
     ]
    },
    {
     "name": "stdout",
     "output_type": "stream",
     "text": [
      "error\n"
     ]
    },
    {
     "name": "stderr",
     "output_type": "stream",
     "text": [
      "\n"
     ]
    }
   ],
   "source": [
    "sim_result = sim(TW, col_row_combine[0][1], col_row_combine[0][0], False)\n",
    "for combine in tqdm.tqdm(col_row_combine[1:]):\n",
    "    PE_column_number = combine[0]\n",
    "    PE_row_number = combine[1]\n",
    "    per_combine_sim_result = sim(TW, PE_row_number, PE_column_number, False)\n",
    "    sim_result = pd.concat([sim_result, per_combine_sim_result], axis=0)\n",
    "sim_result.to_csv('baseline.csv', index=False)"
   ]
  },
  {
   "cell_type": "code",
   "execution_count": null,
   "metadata": {
    "ExecuteTime": {
     "end_time": "2024-11-27T08:57:53.908399Z",
     "start_time": "2024-11-27T08:57:39.074936Z"
    }
   },
   "outputs": [],
   "source": [
    "sim_result = sim(TW, 64, 1)\n",
    "sim_result.to_csv('baseline_test.csv', index=False)"
   ]
  },
  {
   "cell_type": "code",
   "execution_count": null,
   "metadata": {},
   "outputs": [],
   "source": [
    "sim_result = sim(TW, 64, 1, False)\n",
    "sim_result.to_csv('baseline.csv', index=False)"
   ]
  },
  {
   "cell_type": "code",
   "execution_count": null,
   "metadata": {},
   "outputs": [],
   "source": [
    "sim_result = sim(TW, 2, 256, False)\n",
    "sim_result.to_csv('baseline.csv', index=False)"
   ]
  },
  {
   "cell_type": "code",
   "execution_count": null,
   "metadata": {},
   "outputs": [],
   "source": [
    "TW = 1\n",
    "sim_result = sim(TW, col_row_combine[0][1], col_row_combine[0][0])\n",
    "for combine in tqdm.tqdm(col_row_combine[1:]):\n",
    "    PE_column_number = combine[0]\n",
    "    PE_row_number = combine[1]\n",
    "    per_combine_sim_result = sim(TW, PE_row_number, PE_column_number)\n",
    "    sim_result = pd.concat([sim_result, per_combine_sim_result], axis=0)\n",
    "sim_result.to_csv('baseline_sim_batch_tiling_allmodel_TW1.csv', index=False)"
   ]
  },
  {
   "cell_type": "markdown",
   "metadata": {},
   "source": [
    "## Performance Scaling\n",
    "\n",
    "以上实验结果获得了baseline的性能，下面粗略的通过稀疏率估计最终性能。\n",
    "\n",
    "通过读取trace文件获取每一层的input/output稀疏利用率，从而计算speedup和energy efficiency。\n",
    "\n",
    "TODO: 存在问题在于不同TW需要更多的on-chip buffer，这个暂时无法评估。"
   ]
  },
  {
   "cell_type": "markdown",
   "metadata": {},
   "source": [
    "### Input sparsity for PTB"
   ]
  },
  {
   "cell_type": "code",
   "execution_count": null,
   "metadata": {},
   "outputs": [],
   "source": [
    "# 定义ps4配置文件、batchsize、TW、脉动阵列配置文件\n",
    "config_file = 'ps5_e_conf_test.ini'\n",
    "batch_size = 100\n",
    "TW = 8\n",
    "syn_fn = 'systolic_array_synth_snn.csv'\n",
    "verbose = False\n",
    "\n",
    "# 根据ps4配置文件建立仿真器\n",
    "ps4_e_sim = Simulator(config_file, verbose)\n",
    "\n",
    "# 结合脉动阵列配置文件计算能耗\n",
    "ps4_e_energy_costs = ps4_e_sim.get_energy_cost(syn_fn)\n",
    "print(ps4_e_sim)\n",
    "\n",
    "# 输出能耗\n",
    "energy_tuple = ps4_e_energy_costs\n",
    "print('')\n",
    "print('*'*50)\n",
    "print(energy_tuple)\n",
    "\n",
    "# 创建结果保存文件，存放在不同PE配置下神经网络每一层的扫描结果\n",
    "ps4_e_sim_sweep_csv = os.path.join(results_dir, 'ps4-sim-sweep.csv')\n",
    "# if os.path.exists(ps4_e_sim_sweep_csv):\n",
    "#     os.remove(ps4_e_sim_sweep_csv)\n",
    "if os.path.exists(ps4_e_sim_sweep_csv):\n",
    "    ps4_e_sim_sweep_df = pandas.read_csv(ps4_e_sim_sweep_csv)\n",
    "else:\n",
    "    ps4_e_sim_sweep_df = pandas.DataFrame(columns=sim_sweep_columns)\n",
    "print('Got BitFusion Eyeriss, Numbers')\n",
    "\n",
    "# 执行仿真器的扫描\n",
    "ps4_e_results = check_pandas_or_run(ps4_e_sim, ps4_e_sim_sweep_df,\n",
    "        ps4_e_sim_sweep_csv, batch_size=TW, list_bench=benchmarks.snn_benchlist)"
   ]
  },
  {
   "cell_type": "code",
   "execution_count": null,
   "metadata": {},
   "outputs": [],
   "source": [
    "sim_sweep_columns = ['N', 'M',\n",
    "        'Max Precision (bits)', 'Min Precision (bits)',\n",
    "        'Network', 'Layer',\n",
    "        'Cycles', 'Memory wait cycles',\n",
    "        'WBUF Read', 'WBUF Write',\n",
    "        'OBUF Read', 'OBUF Write',\n",
    "        'IBUF Read', 'IBUF Write',\n",
    "        'DRAM Read', 'DRAM Write',\n",
    "        'Bandwidth (bits/cycle)',\n",
    "        'WBUF Size (bits)', 'OBUF Size (bits)', 'IBUF Size (bits)',\n",
    "        'Batch size', 'in_sparsity_util', 'out_sparsity_util']\n",
    "\n",
    "# 向PS4_e_results中插入PTB周期、PS4周期、PS4投机周期和PS4恢复周期\n",
    "# create a new column {valid_cycles} to store the df['Cycles'] * (1 - df['in_sparsity_util'])\n",
    "ps4_e_results.insert(2, 'PTB-Cycles', ps4_e_results['Cycles'] * (1 - ps4_e_results['in_sparsity_util']))\n",
    "# PTB-cycles = cycles * (1 - input_sparsity)\n",
    "ps4_e_results.insert(3, 'PS4-Cycles', ps4_e_results['Cycles'] * (1 - ps4_e_results['out_sparsity_util'] + ps4_e_results['Batch size'].apply(lambda x: math.log2(x) / x)))\n",
    "# PS4-cycles = cycles * (1 - output_sparsity + log(batch_size)/batch_size)\n",
    "ps4_e_results.insert(4, 'PS4-Spec-Cycles', ps4_e_results['Cycles'] * (ps4_e_results['Batch size'].apply(lambda x: math.log2(x) / x)))\n",
    "# PS4-speculative-sycles投机周期 = cycles * log(batch_size)/batch_size\n",
    "ps4_e_results.insert(5, 'PS4-Rec-Cycles', ps4_e_results['Cycles'] * (1 - ps4_e_results['out_sparsity_util']))\n",
    "# PS4-recovery-sycles恢复周期 = cycles * (1 - output_sparsity)\n",
    "ps4_e_results = ps4_e_results.groupby(['N', 'M', 'Batch size', 'Network'],as_index=False)\n",
    "# 将结果根据PE数、batchsize(TW)和网络类型合并整理"
   ]
  },
  {
   "cell_type": "code",
   "execution_count": null,
   "metadata": {},
   "outputs": [],
   "source": [
    "ps4_e_results.head()"
   ]
  },
  {
   "cell_type": "markdown",
   "metadata": {},
   "source": [
    "## Layer-wise analysis\n",
    "画出某个网络中不同层之间的投机周期数、恢复周期数、总周期数、稀疏率等"
   ]
  },
  {
   "cell_type": "code",
   "execution_count": null,
   "metadata": {},
   "outputs": [],
   "source": [
    "# df_imagenet = ps4_e_results.get_group((128, 2, TW, 'ImageNetSNN'))\n",
    "# 取结果中的一组数据\n",
    "df_imagenet = ps4_e_results.get_group((128, 2, TW, 'DVS128Gesture'))\n",
    "df_imagenet.head()"
   ]
  },
  {
   "cell_type": "code",
   "execution_count": null,
   "metadata": {},
   "outputs": [],
   "source": [
    "from cProfile import label\n",
    "from click import style\n",
    "from cv2 import rotate\n",
    "from matplotlib import markers\n",
    "from matplotlib.lines import lineStyles\n",
    "\n",
    "\n",
    "fig, ax = plt.subplots(figsize=(8, 4))\n",
    "ln1 = ax.plot(df_imagenet['Layer'].apply(lambda x: x.split('/')[0]).to_list() + ['Geomean'], (df_imagenet['Cycles'] / df_imagenet['Cycles']).to_list() + [np.mean(df_imagenet['Cycles'] / df_imagenet['Cycles'])], label='Baseline', marker='o', linestyle='-', color=color_bar1[0], markersize=8, linewidth=2)\n",
    "\n",
    "ln2 = ax.plot(df_imagenet['Layer'].apply(lambda x: x.split('/')[0]).to_list() + ['Geomean'], (df_imagenet['PS4-Spec-Cycles'] / df_imagenet['Cycles']).to_list() + [np.mean(df_imagenet['PS4-Spec-Cycles'] / df_imagenet['Cycles'])], label='SFF', marker='>', linestyle='-', color=color_bar1[1], markersize=8, linewidth=2)\n",
    "plt.text(.3+df_imagenet.shape[0], 0.03 + np.mean(df_imagenet['PS4-Spec-Cycles'] / df_imagenet['Cycles']), '{:.2%}'.format(np.mean(df_imagenet['PS4-Spec-Cycles'] / df_imagenet['Cycles'])), ha='right', va='center', color=color_bar1[1], fontsize=14)\n",
    "\n",
    "ln3 = ax.plot(df_imagenet['Layer'].apply(lambda x: x.split('/')[0]).to_list() + ['Geomean'], (df_imagenet['PS4-Rec-Cycles'] / df_imagenet['Cycles']).to_list() + [np.mean(df_imagenet['PS4-Rec-Cycles'] / df_imagenet['Cycles'])], label='ER', marker='<', linestyle='-', color=color_bar1[2], markersize=8, linewidth=2)\n",
    "plt.text(.3+df_imagenet.shape[0], 0.03 + np.mean(df_imagenet['PS4-Rec-Cycles'] / df_imagenet['Cycles']), '{:.2%}'.format(np.mean(df_imagenet['PS4-Rec-Cycles'] / df_imagenet['Cycles'])), ha='right', va='center', color=color_bar1[2], fontsize=14)\n",
    "\n",
    "ln4 = ax.plot(df_imagenet['Layer'].apply(lambda x: x.split('/')[0]).to_list() + ['Geomean'], (df_imagenet['PS4-Cycles'] / df_imagenet['Cycles']).to_list() + [np.mean(df_imagenet['PS4-Cycles'] / df_imagenet['Cycles'])], label='PS4', marker='*', linestyle='-', color=color_bar1[3], markersize=8, linewidth=2)\n",
    "plt.text(.3+df_imagenet.shape[0], 0.07 + np.mean(df_imagenet['PS4-Cycles'] / df_imagenet['Cycles']), '{:.2%}'.format(np.mean(df_imagenet['PS4-Cycles'] / df_imagenet['Cycles'])), ha='right', va='center', color=color_bar1[3], fontsize=14)\n",
    "\n",
    "plt.xticks(rotation=45)\n",
    "plt.ylabel('Normalized Cycles')\n",
    "plt.xlabel(\"Layers of DVS128Gesture\")\n",
    "ax.xaxis.set_label_coords(.5, -0.26)\n",
    "ax.yaxis.set_major_formatter(FuncFormatter(lambda y, _: '{:.0%}'.format(y))) \n",
    "ax2 = plt.twinx()\n",
    "ln5 = ax2.plot(df_imagenet['Layer'].apply(lambda x: x.split('/')[0]).to_list() + ['Geomean'], (df_imagenet['out_sparsity_util']).to_list() + [np.mean(df_imagenet['out_sparsity_util'])], label='sparsity_util', marker='+', linestyle='--', color='black', markersize=8, linewidth=2)\n",
    "\n",
    "print(np.mean(df_imagenet['out_sparsity_util']))\n",
    "# annotate mean out_sparsity_util\n",
    "plt.text(.3+df_imagenet.shape[0], -0.03 + np.mean(df_imagenet['out_sparsity_util']), '{:.2%}'.format(np.mean(df_imagenet['out_sparsity_util'])), ha='right', va='center', color='black', fontsize=14)\n",
    "ax2.set_ylabel('Output Sparsity Utilization')\n",
    "ax2.yaxis.set_major_formatter(FuncFormatter(lambda y, _: '{:.0%}'.format(y))) \n",
    "\n",
    "lns = ln1 + ln2 + ln3 + ln4 + ln5\n",
    "labels = [l.get_label() for l in lns]\n",
    "plt.legend(lns, labels, fontsize=14, loc='upper center', ncol=5, bbox_to_anchor=(0.5, 1.2), fancybox=True, shadow=True, labelspacing=0.2, handleheight=1.6, handlelength=1.2)\n",
    "plt.savefig(os.path.join(fig_dir, 'ImageNet-16-cyclesbrk.pdf'), bbox_inches='tight')"
   ]
  },
  {
   "cell_type": "markdown",
   "metadata": {},
   "source": [
    "==================================================================================================================="
   ]
  },
  {
   "cell_type": "code",
   "execution_count": null,
   "metadata": {},
   "outputs": [],
   "source": [
    "# 对结果的每一列进行求和\n",
    "ps4_e_results = ps4_e_results.agg(np.sum)"
   ]
  },
  {
   "cell_type": "code",
   "execution_count": null,
   "metadata": {},
   "outputs": [],
   "source": [
    "# 计算相较于PTB和baseline的加速比例（计算时钟周期）\n",
    "ps4_e_results.insert(6, 'speedup_vs_ptb', ps4_e_results['PTB-Cycles'] / ps4_e_results['PS4-Cycles'])\n",
    "ps4_e_results.insert(7, 'speedup_vs_base', ps4_e_results['Cycles'] / ps4_e_results['PS4-Cycles'])"
   ]
  },
  {
   "cell_type": "code",
   "execution_count": null,
   "metadata": {},
   "outputs": [],
   "source": [
    "ps4_e_results.head()"
   ]
  },
  {
   "cell_type": "markdown",
   "metadata": {},
   "source": [
    "## Speedup\n",
    "绘制加速比柱状图"
   ]
  },
  {
   "cell_type": "code",
   "execution_count": null,
   "metadata": {},
   "outputs": [],
   "source": [
    "fig, ax = plt.subplots(figsize=(8, 3))\n",
    "bar_width = 0.2\n",
    "index = np.arange(3)\n",
    "mode_indexes = []\n",
    "\n",
    "unique_mode = ['Baseline', 'PTB', 'PS4']\n",
    "\n",
    "speedup = []\n",
    "\n",
    "lns = []\n",
    "# mode: Baseline\n",
    "for idx, mode in enumerate(unique_mode):\n",
    "    if 'Speedup' in ps4_e_results.columns:  # 如果存在speedup列，删除\n",
    "        ps4_e_results.drop(columns=['Speedup'], inplace=True)\n",
    "    # 计算baseline与这三种模型比较的加速比\n",
    "    if mode == 'Baseline':\n",
    "        ps4_e_results.insert(0, 'Speedup', ps4_e_results['Cycles'] / ps4_e_results['Cycles'])\n",
    "    elif mode == 'PTB':\n",
    "        ps4_e_results.insert(0, 'Speedup', ps4_e_results['Cycles'] / ps4_e_results['PTB-Cycles'])\n",
    "    elif mode == 'PS4':\n",
    "        ps4_e_results.insert(0, 'Speedup', ps4_e_results['Cycles'] / ps4_e_results['PS4-Cycles'])\n",
    "        speedup = ps4_e_results['Speedup']\n",
    "    else:\n",
    "        raise ValueError('Invalid mode')\n",
    "    \n",
    "    # 以三个模型分组并绘制柱状图\n",
    "    res = ps4_e_results[['Network', 'Speedup']]\n",
    "    res.sort_values(by='Network', inplace=True)\n",
    "    bottom = np.zeros(3)\n",
    "    plt.bar(index + (idx - 1) * bar_width, res.iloc[:, 1], bar_width, bottom=bottom, label=mode)\n",
    "    bottom += res.iloc[:, 1]\n",
    "    mode_indexes.append(index + (idx - 1) * bar_width)\n",
    "\n",
    "plt.xticks([])\n",
    "plt.legend([\"Baseline\", \"PTB\", \"PS4\"], fontsize=14, loc='upper center', bbox_to_anchor=(0.5, 1.22),\n",
    "                 fancybox=True, shadow=True, ncol=3, labelspacing=1.0, handleheight=1.0, columnspacing=6)\n",
    "\n",
    "dataset_names = sorted(ps4_e_results['Network'].unique())\n",
    "# replace \"CIFAR10SNN\" with \"CIFAR10DVS\" in dataset_names\n",
    "# replace \"ImageNetSNN\" with \"ImageNet\" in dataset_names\n",
    "\n",
    "for i, dataset_name in enumerate(dataset_names):\n",
    "    if dataset_name == 'CIFAR10SNN':\n",
    "        dataset_name = 'CIFAR10DVS'\n",
    "    elif dataset_name == 'ImageNetSNN':\n",
    "        dataset_name = 'ImageNet'\n",
    "    plt.annotate(dataset_name, (index[i], 0), textcoords=\"offset points\", xytext=(0, -15), ha='center', fontsize=14)\n",
    "\n",
    "# plt.axhline(y=1, xmin=0.4, xmax=0.7, color='black', linestyle='--', linewidth=1)\n",
    "plt.axhline(speedup.iloc[1], xmin=0.4, xmax=0.6, color='black', linestyle='--', linewidth=1)\n",
    "plt.annotate(\"\", xy=(0.8, 1.02), xytext=(0.8, 1*speedup.iloc[1]), color=\"#a30b33\", arrowprops=dict(arrowstyle=\"<->\", color=\"#a30b33\", linewidth=2))\n",
    "plt.annotate(f\"{speedup.iloc[1]:.2f}x speedup\\nw.r.t Baseline\", xy=(0.9, 1.2), xytext=(0.9, 0.7*speedup.iloc[1]), color=\"#a30b33\", fontsize=14)\n",
    "\n",
    "plt.ylabel(\"Speedup\")\n",
    "ax.yaxis.set_major_formatter(FuncFormatter(lambda y, _: '{:.0%}'.format(y))) \n",
    "print(speedup)\n",
    "plt.savefig('fig/speedup.pdf', bbox_inches='tight')"
   ]
  },
  {
   "cell_type": "markdown",
   "metadata": {},
   "source": [
    "## Energy Efficiency"
   ]
  },
  {
   "cell_type": "code",
   "execution_count": null,
   "metadata": {},
   "outputs": [],
   "source": [
    "breakdown_dict = {}\n",
    "for mode in ['Baseline', 'PTB', 'PS4']:\n",
    "    breakdown_data = []     # ['core', 'buffer', 'dram', 'popcnt']\n",
    "    for bench in benchmarks.snn_benchlist:\n",
    "        ps4_e_stats = df_to_stats(ps4_e_results.loc[ps4_e_results['Network'] == bench])  # 转换到stats\n",
    "        ps4_breakdown = ps4_e_stats.get_energy_breakdown(ps4_e_sim.get_energy_cost(syn_fn), mode=mode)  # 获得每个功能部分的能耗\n",
    "        total = sum(ps4_breakdown)  # 求和\n",
    "        ps4_breakdown = [x / float(total) for x in ps4_breakdown]  # 计算占比\n",
    "\n",
    "        breakdown_data.append([mode, bench, total] + ps4_breakdown)\n",
    "    breakdown_dict[mode] = breakdown_data\n",
    "\n",
    "breakdown_dict.keys()\n"
   ]
  },
  {
   "cell_type": "code",
   "execution_count": null,
   "metadata": {},
   "outputs": [],
   "source": [
    "fig, ax = plt.subplots(figsize=(8, 3))\n",
    "bar_width = 0.2\n",
    "index = np.arange(3)\n",
    "mode_indexes = []\n",
    "\n",
    "unique_mode = ['Baseline', 'PTB', 'PS4']\n",
    "unique_energy_key = ['core', 'buffer', 'dram', 'popcnt']\n",
    "\n",
    "speedup = []\n",
    "\n",
    "lns = []\n",
    "# mode: Baseline\n",
    "for idx, mode in enumerate(unique_mode):\n",
    "    bottom = np.zeros(3)\n",
    "    # plot total energy for each mode, which normalized to Baseline\n",
    "    plt.bar(index + (idx - 1) * bar_width, np.array(breakdown_dict[mode])[:, 2].astype(float) / np.array(breakdown_dict['Baseline'])[:, 2].astype(float), bar_width, bottom=bottom, label=mode)\n",
    "    if mode == 'PS4':\n",
    "        ee = np.array(breakdown_dict[mode])[:, 2].astype(float) / np.array(breakdown_dict['Baseline'])[:, 2].astype(float)\n",
    "        plt.text(index[0] + (idx - 1) * bar_width, 0.9, f'{ee[0]:.2f}x', ha='center', va='bottom', fontsize=14)\n",
    "        plt.text(index[1] + (idx - 1) * bar_width, 0.9, f'{ee[1]:.2f}x', ha='center', va='bottom', fontsize=14)\n",
    "        plt.text(index[2] + (idx - 1) * bar_width, 0.9, f'{ee[2]:.2f}x', ha='center', va='bottom', fontsize=14)\n",
    "\n",
    "plt.xticks([])\n",
    "plt.legend([\"Baseline\", \"PTB\", \"PS4\"], fontsize=14, loc='upper center', bbox_to_anchor=(0.5, 1.22),\n",
    "                 fancybox=True, shadow=True, ncol=3, labelspacing=1.0, handleheight=1.0, columnspacing=6)\n",
    "\n",
    "dataset_names = sorted(ps4_e_results['Network'].unique())\n",
    "for i, dataset_name in enumerate(dataset_names):\n",
    "    if dataset_name == 'CIFAR10SNN':\n",
    "        dataset_name = 'CIFAR10DVS'\n",
    "    elif dataset_name == 'ImageNetSNN':\n",
    "        dataset_name = 'ImageNet'\n",
    "    plt.annotate(dataset_name, (index[i], 0), textcoords=\"offset points\", xytext=(0, -15), ha='center', fontsize=14)\n",
    "\n",
    "\n",
    "plt.ylabel(\"Energy Efficiency\")\n",
    "ax.yaxis.set_major_formatter(FuncFormatter(lambda y, _: '{:.0%}'.format(y))) \n",
    "plt.savefig('fig/energy_efficiency.pdf', bbox_inches='tight')"
   ]
  },
  {
   "cell_type": "markdown",
   "metadata": {},
   "source": [
    "## Energy Breakdown"
   ]
  },
  {
   "cell_type": "code",
   "execution_count": null,
   "metadata": {},
   "outputs": [],
   "source": [
    "fig, ax = plt.subplots(figsize=(8, 3))\n",
    "bar_width = 0.2\n",
    "index = np.arange(3)\n",
    "mode_indexes = []\n",
    "hatches = ['x', '..', '\\\\', '//', 'o', 'O', '.', 'x']\n",
    "unique_mode = ['Baseline', 'PTB', 'PS4']\n",
    "unique_energy_key = ['core', 'buffer', 'dram', 'popcnt']\n",
    "\n",
    "speedup = []\n",
    "\n",
    "lns = []\n",
    "# mode: Baseline\n",
    "for idx, mode in enumerate(unique_mode):\n",
    "    bottom = np.zeros(3)\n",
    "    print(breakdown_dict[mode])\n",
    "    for idk, unique_key in enumerate(unique_energy_key):\n",
    "        if idx == 0:\n",
    "            lns.append(plt.bar(index + (idx - 1) * bar_width, np.array(breakdown_dict[mode])[:, idk+3].astype(float), bar_width, bottom=bottom, label=unique_key, color=color_bar4[idx], hatch=hatches[idk], edgecolor='black'))\n",
    "        else:\n",
    "            plt.bar(index + (idx - 1) * bar_width, np.array(breakdown_dict[mode])[:, idk+3].astype(float), bar_width, bottom=bottom, color=color_bar4[idx], hatch=hatches[idk], edgecolor='black')\n",
    "        bottom += np.array(breakdown_dict[mode])[:, idk+3].astype(float)\n",
    "\n",
    "        if idk == 0:\n",
    "            mode_indexes.append(\n",
    "                index + (idx - (math.floor(3))/2)*bar_width)\n",
    "\n",
    "plt.xticks([])\n",
    "plt.xticks(list(np.array(mode_indexes).T.flatten()+0.1), unique_mode * 3, rotation=45, fontsize=14)\n",
    "labs = [l.get_label() for l in lns]\n",
    "plt.legend(lns, labs, fontsize=14, loc='upper center', bbox_to_anchor=(0.5, 1.22),\n",
    "                 fancybox=True, shadow=True, ncol=4, labelspacing=1.0, handleheight=1.0, columnspacing=3)\n",
    "\n",
    "\n",
    "dataset_names = sorted(ps4_e_results['Network'].unique())\n",
    "for i, dataset_name in enumerate(dataset_names):\n",
    "    if dataset_name == 'CIFAR10SNN':\n",
    "        dataset_name = 'CIFAR10DVS'\n",
    "    elif dataset_name == 'ImageNetSNN':\n",
    "        dataset_name = 'ImageNet'\n",
    "    plt.annotate(dataset_name, (index[i], 0), textcoords=\"offset points\", xytext=(0, -60), ha='center', fontsize=14)\n",
    "\n",
    "plt.ylabel(\"Energy Efficiency\")\n",
    "ax.yaxis.set_major_formatter(FuncFormatter(lambda y, _: '{:.0%}'.format(y))) \n",
    "plt.savefig('fig/energy_breakdown.pdf', bbox_inches='tight')"
   ]
  },
  {
   "cell_type": "markdown",
   "metadata": {},
   "source": [
    "## TW sensitivity analysis"
   ]
  },
  {
   "cell_type": "code",
   "execution_count": null,
   "metadata": {},
   "outputs": [],
   "source": [
    "df = pd.read_csv('results/ps4-sim-sweep.csv')\n",
    "df.head()"
   ]
  },
  {
   "cell_type": "code",
   "execution_count": null,
   "metadata": {},
   "outputs": [],
   "source": [
    "df.insert(3, 'PS4-Cycles', df['Cycles'] * (1 - df['out_sparsity_util'] + df['Batch size'].apply(lambda x: math.log2(x) / x)))\n",
    "df.insert(6, 'speedup_vs_base', df['Cycles'] / df['PS4-Cycles'])"
   ]
  },
  {
   "cell_type": "code",
   "execution_count": null,
   "metadata": {},
   "outputs": [],
   "source": [
    "df['Network'].unique()"
   ]
  },
  {
   "cell_type": "code",
   "execution_count": null,
   "metadata": {},
   "outputs": [],
   "source": [
    "df_grp = df.groupby(['N', 'M', 'Batch size', 'Network'],as_index=False)\n",
    "df_grp.head()"
   ]
  },
  {
   "cell_type": "code",
   "execution_count": null,
   "metadata": {},
   "outputs": [],
   "source": [
    "dataset = 'DVS128Gesture'\n",
    "df_grp.get_group((128, 2, 8, dataset))"
   ]
  },
  {
   "cell_type": "code",
   "execution_count": null,
   "metadata": {},
   "outputs": [],
   "source": [
    "N = df['N'].unique()\n",
    "M = df['M'].unique()\n",
    "TW = df['Batch size'].unique()\n",
    "# 遍历df groups\n",
    "print(len(list(product(zip(N, M), TW))))\n",
    "failed = 0\n",
    "for (n, m), tw in product(zip(N, M), TW):\n",
    "    try:\n",
    "        series = df_grp.get_group((n, m, tw, dataset))\n",
    "    except:\n",
    "        print(f\"n={n}, m={m}, tw={tw} not found\")\n",
    "        failed += 1\n",
    "print(failed)"
   ]
  },
  {
   "cell_type": "code",
   "execution_count": null,
   "metadata": {},
   "outputs": [],
   "source": [
    "speedup = [df_grp.get_group((128, 2, tw, dataset))['speedup_vs_base'].values[0] for tw in TW]\n",
    "out_sparsity_utils = [df_grp.get_group((128, 2, tw, dataset))['out_sparsity_util'].values[0] for tw in TW]"
   ]
  },
  {
   "cell_type": "code",
   "execution_count": null,
   "metadata": {},
   "outputs": [],
   "source": [
    "speedup"
   ]
  },
  {
   "cell_type": "code",
   "execution_count": null,
   "metadata": {},
   "outputs": [],
   "source": [
    "out_sparsity_utils"
   ]
  },
  {
   "cell_type": "code",
   "execution_count": null,
   "metadata": {},
   "outputs": [],
   "source": [
    "M"
   ]
  },
  {
   "cell_type": "code",
   "execution_count": null,
   "metadata": {},
   "outputs": [],
   "source": [
    "fig, ax = plt.subplots(figsize=(5, 3))\n",
    "bar_width = 0.3\n",
    "bottom = np.zeros(len(TW))\n",
    "index = np.arange(len(TW))\n",
    "ln1 = plt.bar(index, speedup, bar_width, bottom=bottom, label='Speedup', color=color_bar4[2])\n",
    "ax.yaxis.set_major_formatter(FuncFormatter(lambda y, _: '{:.0%}'.format(y))) \n",
    "plt.xlabel('TW', fontsize=14)\n",
    "plt.ylabel('Speedup')\n",
    "ymin, ymax = ax.get_ylim()\n",
    "ax.set_ylim(ymin, 4)\n",
    "ax2 = plt.twinx()\n",
    "ln2 = ax2.plot(index, out_sparsity_utils, label='out_sparsity_util', marker='o', linestyle='-', color=color_bar4[5], markersize=8, linewidth=2)\n",
    "ax2.yaxis.set_major_formatter(FuncFormatter(lambda y, _: '{:.0%}'.format(y))) \n",
    "plt.xticks(index, TW)\n",
    "plt.ylabel('Output Sparsity Util.')\n",
    "ax2.set_ylim(0.8, 1.0)\n",
    "# add legend for ax1 and ax2\n",
    "plt.legend([\"out_sparsity_util\"], fontsize=14, loc='upper center', bbox_to_anchor=(0.3, 1.0),\n",
    "                 fancybox=True, shadow=True, ncol=2, labelspacing=1.0, handleheight=0.8, columnspacing=6)\n",
    "plt.savefig('fig/TW_sensitivity.pdf', bbox_inches='tight')"
   ]
  },
  {
   "cell_type": "code",
   "execution_count": null,
   "metadata": {},
   "outputs": [],
   "source": [
    "# speedup = [df_grp.get_group((32, 32, tw, 'DVS128Gesture'))['speedup_vs_base'].values[0] for tw in TW]\n",
    "speedup = [df_grp.get_group((n, m, 8, dataset))['speedup_vs_base'].values[0] for n, m in zip(N, M)]\n",
    "out_sparsity_utils = [df_grp.get_group((n, m, 8, dataset))['out_sparsity_util'].values[0] for n, m in zip(N, M)]\n"
   ]
  },
  {
   "cell_type": "code",
   "execution_count": null,
   "metadata": {},
   "outputs": [],
   "source": [
    "speedup"
   ]
  },
  {
   "cell_type": "code",
   "execution_count": null,
   "metadata": {},
   "outputs": [],
   "source": [
    "out_sparsity_utils"
   ]
  },
  {
   "cell_type": "code",
   "execution_count": null,
   "metadata": {},
   "outputs": [],
   "source": [
    "fig, ax = plt.subplots(figsize=(5, 3))\n",
    "bar_width = 0.3\n",
    "bottom = np.zeros(len(M))\n",
    "index = np.arange(len(M))\n",
    "ln1 = plt.bar(index, speedup, bar_width, bottom=bottom, label='Speedup', color=color_bar4[2])\n",
    "ax.yaxis.set_major_formatter(FuncFormatter(lambda y, _: '{:.0%}'.format(y))) \n",
    "plt.xlabel('# of column', fontsize=14)\n",
    "plt.ylabel('Speedup')\n",
    "ax2 = plt.twinx()\n",
    "ln2 = ax2.plot(index, out_sparsity_utils, label='out_sparsity_util', marker='o', linestyle='-', color=color_bar4[5], markersize=8, linewidth=2)\n",
    "ax2.yaxis.set_major_formatter(FuncFormatter(lambda y, _: '{:.0%}'.format(y))) \n",
    "plt.xticks(index, M)\n",
    "plt.ylabel('Output Sparsity Util.')\n",
    "ymin, ymax = ax2.get_ylim()\n",
    "ax2.set_ylim(ymin, 1.0)\n",
    "# add legend for ax1 and ax2\n",
    "plt.legend([\"out_sparsity_util\"], fontsize=14, loc='upper center', bbox_to_anchor=(0.72, 1.1),\n",
    "                 fancybox=True, shadow=True, ncol=2, labelspacing=1.0, handleheight=0.8, columnspacing=6)\n",
    "plt.savefig('fig/col_sensitivity.pdf', bbox_inches='tight')"
   ]
  },
  {
   "cell_type": "code",
   "execution_count": null,
   "metadata": {},
   "outputs": [],
   "source": []
  },
  {
   "cell_type": "code",
   "execution_count": null,
   "metadata": {},
   "outputs": [],
   "source": [
    "config_file = 'ps4_e_conf_best.ini'\n",
    "\n",
    "batch_size = 100\n",
    "\n",
    "TW = 48\n",
    "\n",
    "syn_fn = 'systolic_array_synth_snn.csv'\n",
    "\n",
    "# Create simulator object\n",
    "verbose = False\n",
    "ps4_e_sim = Simulator(config_file, verbose)\n",
    "ps4_e_energy_costs = ps4_e_sim.get_energy_cost(syn_fn)\n",
    "# ps4_e_energy_costs = ps4_e_sim.get_energy_cost()\n",
    "print(ps4_e_sim)\n",
    "\n",
    "energy_tuple = ps4_e_energy_costs\n",
    "print('')\n",
    "print('*'*50)\n",
    "print(energy_tuple)\n",
    "\n",
    "ps4_e_sim_sweep_csv = os.path.join(results_dir, 'ps4-sim-sweep.csv')\n",
    "# if os.path.exists(ps4_e_sim_sweep_csv):\n",
    "#     os.remove(ps4_e_sim_sweep_csv)\n",
    "if os.path.exists(ps4_e_sim_sweep_csv):\n",
    "    ps4_e_sim_sweep_df = pandas.read_csv(ps4_e_sim_sweep_csv)\n",
    "else:\n",
    "    ps4_e_sim_sweep_df = pandas.DataFrame(columns=sim_sweep_columns)\n",
    "print('Got BitFusion Eyeriss, Numbers')\n",
    "\n",
    "ps4_e_results = check_pandas_or_run(ps4_e_sim, ps4_e_sim_sweep_df,\n",
    "        ps4_e_sim_sweep_csv, batch_size=TW, list_bench=benchmarks.snn_benchlist)\n",
    "\n",
    "ps4_e_results.insert(2, 'PTB-Cycles', ps4_e_results['Cycles'] * (1 - ps4_e_results['in_sparsity_util']))\n",
    "ps4_e_results.insert(3, 'PS4-Cycles', ps4_e_results['Cycles'] * (1 - ps4_e_results['out_sparsity_util'] + ps4_e_results['Batch size'].apply(lambda x: math.log2(x) / x)))\n",
    "ps4_e_results.insert(4, 'PS4-Spec-Cycles', ps4_e_results['Cycles'] * (ps4_e_results['Batch size'].apply(lambda x: math.log2(x) / x)))\n",
    "ps4_e_results.insert(5, 'PS4-Rec-Cycles', ps4_e_results['Cycles'] * (1 - ps4_e_results['out_sparsity_util']))\n",
    "\n",
    "ps4_e_results = ps4_e_results.groupby('Network',as_index=False).agg(np.sum)\n",
    "ps4_e_results.head()"
   ]
  },
  {
   "cell_type": "code",
   "execution_count": null,
   "metadata": {},
   "outputs": [],
   "source": [
    "ps4_e_results[\"Cycles\"]"
   ]
  },
  {
   "cell_type": "code",
   "execution_count": null,
   "metadata": {},
   "outputs": [],
   "source": [
    "breakdown_dict = {}\n",
    "for mode in ['Baseline', 'PTB', 'PS4']:\n",
    "    breakdown_data = []     # ['core', 'buffer', 'dram', 'popcnt']\n",
    "    for bench in benchmarks.snn_benchlist:\n",
    "        print(f\"{bench}\")\n",
    "        ps4_e_stats = df_to_stats(ps4_e_results.loc[ps4_e_results['Network'] == 'DVS128Gesture'])\n",
    "        ps4_breakdown = ps4_e_stats.get_energy_breakdown(ps4_e_sim.get_energy_cost(syn_fn), mode=mode)\n",
    "        total = sum(ps4_breakdown)\n",
    "        if mode == 'PS4':\n",
    "            print(f\"total energy = {total}\")\n",
    "        ps4_breakdown = [x / float(total) for x in ps4_breakdown]\n",
    "\n",
    "        breakdown_data.append([mode, bench, total] + ps4_breakdown)\n",
    "    breakdown_dict[mode] = breakdown_data\n",
    "\n",
    "breakdown_dict.keys()\n"
   ]
  },
  {
   "cell_type": "code",
   "execution_count": null,
   "metadata": {},
   "outputs": [],
   "source": []
  }
 ],
 "metadata": {
  "kernelspec": {
   "display_name": "base",
   "language": "python",
   "name": "python3"
  },
  "language_info": {
   "codemirror_mode": {
    "name": "ipython",
    "version": 3
   },
   "file_extension": ".py",
   "mimetype": "text/x-python",
   "name": "python",
   "nbconvert_exporter": "python",
   "pygments_lexer": "ipython3",
   "version": "3.10.12"
  }
 },
 "nbformat": 4,
 "nbformat_minor": 2
}
